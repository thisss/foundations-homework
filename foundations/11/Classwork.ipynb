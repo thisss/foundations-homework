{
 "cells": [
  {
   "cell_type": "code",
   "execution_count": 1,
   "metadata": {
    "collapsed": true
   },
   "outputs": [],
   "source": [
    "import pandas as pd"
   ]
  },
  {
   "cell_type": "code",
   "execution_count": 2,
   "metadata": {
    "collapsed": true
   },
   "outputs": [],
   "source": [
    "df = pd.read_csv(\"Civil_List_2014.csv\")"
   ]
  },
  {
   "cell_type": "code",
   "execution_count": 3,
   "metadata": {
    "collapsed": false
   },
   "outputs": [
    {
     "data": {
      "text/html": [
       "<div>\n",
       "<table border=\"1\" class=\"dataframe\">\n",
       "  <thead>\n",
       "    <tr style=\"text-align: right;\">\n",
       "      <th></th>\n",
       "      <th>DPT</th>\n",
       "      <th>NAME</th>\n",
       "      <th>ADDRESS</th>\n",
       "      <th>TTL #</th>\n",
       "      <th>PC</th>\n",
       "      <th>SAL-RATE</th>\n",
       "    </tr>\n",
       "  </thead>\n",
       "  <tbody>\n",
       "    <tr>\n",
       "      <th>0</th>\n",
       "      <td>868</td>\n",
       "      <td>B J  SANDIFORD</td>\n",
       "      <td>DEPARTMENT OF CITYWIDE ADM</td>\n",
       "      <td>12702</td>\n",
       "      <td>X</td>\n",
       "      <td>$5.00</td>\n",
       "    </tr>\n",
       "    <tr>\n",
       "      <th>1</th>\n",
       "      <td>868</td>\n",
       "      <td>C A  WIGFALL</td>\n",
       "      <td>DEPARTMENT OF CITYWIDE ADM</td>\n",
       "      <td>12702</td>\n",
       "      <td>X</td>\n",
       "      <td>$5.00</td>\n",
       "    </tr>\n",
       "    <tr>\n",
       "      <th>2</th>\n",
       "      <td>69</td>\n",
       "      <td>A E A-AWOSOGBA</td>\n",
       "      <td>HRA/DEPARTMENT OF SOCIAL S</td>\n",
       "      <td>52311</td>\n",
       "      <td>A</td>\n",
       "      <td>$51955.00</td>\n",
       "    </tr>\n",
       "    <tr>\n",
       "      <th>3</th>\n",
       "      <td>868</td>\n",
       "      <td>K D AABY</td>\n",
       "      <td>DEPARTMENT OF CITYWIDE ADM</td>\n",
       "      <td>10209</td>\n",
       "      <td>X</td>\n",
       "      <td>$12.00</td>\n",
       "    </tr>\n",
       "    <tr>\n",
       "      <th>4</th>\n",
       "      <td>56</td>\n",
       "      <td>I D AADIL</td>\n",
       "      <td>POLICE DEPARTMENT</td>\n",
       "      <td>71012</td>\n",
       "      <td>A</td>\n",
       "      <td>$46953.00</td>\n",
       "    </tr>\n",
       "    <tr>\n",
       "      <th>5</th>\n",
       "      <td>69</td>\n",
       "      <td>M   AAKIRI</td>\n",
       "      <td>HRA/DEPARTMENT OF SOCIAL S</td>\n",
       "      <td>56056</td>\n",
       "      <td>A</td>\n",
       "      <td>$33000.00</td>\n",
       "    </tr>\n",
       "    <tr>\n",
       "      <th>6</th>\n",
       "      <td>464</td>\n",
       "      <td>A   AALAI</td>\n",
       "      <td>CUNY QUEENSBOROUGH COMMUNI</td>\n",
       "      <td>4607</td>\n",
       "      <td>N</td>\n",
       "      <td>$73.53</td>\n",
       "    </tr>\n",
       "    <tr>\n",
       "      <th>7</th>\n",
       "      <td>998</td>\n",
       "      <td>A V AALEVIK</td>\n",
       "      <td>N.Y.C. TRANSIT AUTHORITY</td>\n",
       "      <td>402</td>\n",
       "      <td>2</td>\n",
       "      <td>$33280.00</td>\n",
       "    </tr>\n",
       "    <tr>\n",
       "      <th>8</th>\n",
       "      <td>998</td>\n",
       "      <td>M   AAMIR</td>\n",
       "      <td>N.Y.C. TRANSIT AUTHORITY</td>\n",
       "      <td>00T07</td>\n",
       "      <td>4</td>\n",
       "      <td>$60878.00</td>\n",
       "    </tr>\n",
       "    <tr>\n",
       "      <th>9</th>\n",
       "      <td>826</td>\n",
       "      <td>M R AARABI</td>\n",
       "      <td>DEPARTMENT OF ENVIRONMENTA</td>\n",
       "      <td>34202</td>\n",
       "      <td>A</td>\n",
       "      <td>$69272.00</td>\n",
       "    </tr>\n",
       "  </tbody>\n",
       "</table>\n",
       "</div>"
      ],
      "text/plain": [
       "   DPT             NAME                        ADDRESS  TTL #    PC        \\\n",
       "0       868  B J  SANDIFORD  DEPARTMENT OF CITYWIDE ADM    12702        X   \n",
       "1       868    C A  WIGFALL  DEPARTMENT OF CITYWIDE ADM    12702        X   \n",
       "2        69  A E A-AWOSOGBA  HRA/DEPARTMENT OF SOCIAL S    52311        A   \n",
       "3       868        K D AABY  DEPARTMENT OF CITYWIDE ADM    10209        X   \n",
       "4        56       I D AADIL           POLICE DEPARTMENT    71012        A   \n",
       "5        69      M   AAKIRI  HRA/DEPARTMENT OF SOCIAL S    56056        A   \n",
       "6       464       A   AALAI  CUNY QUEENSBOROUGH COMMUNI     4607        N   \n",
       "7       998     A V AALEVIK    N.Y.C. TRANSIT AUTHORITY      402        2   \n",
       "8       998       M   AAMIR    N.Y.C. TRANSIT AUTHORITY    00T07        4   \n",
       "9       826      M R AARABI  DEPARTMENT OF ENVIRONMENTA    34202        A   \n",
       "\n",
       "    SAL-RATE  \n",
       "0      $5.00  \n",
       "1      $5.00  \n",
       "2  $51955.00  \n",
       "3     $12.00  \n",
       "4  $46953.00  \n",
       "5  $33000.00  \n",
       "6     $73.53  \n",
       "7  $33280.00  \n",
       "8  $60878.00  \n",
       "9  $69272.00  "
      ]
     },
     "execution_count": 3,
     "metadata": {},
     "output_type": "execute_result"
    }
   ],
   "source": [
    "df.head(10)"
   ]
  },
  {
   "cell_type": "code",
   "execution_count": 5,
   "metadata": {
    "collapsed": false
   },
   "outputs": [
    {
     "data": {
      "text/plain": [
       "count        269838\n",
       "unique        27533\n",
       "top       $76488.00\n",
       "freq          26024\n",
       "Name: SAL-RATE, dtype: object"
      ]
     },
     "execution_count": 5,
     "metadata": {},
     "output_type": "execute_result"
    }
   ],
   "source": [
    "df['SAL-RATE'].describe()"
   ]
  },
  {
   "cell_type": "code",
   "execution_count": 9,
   "metadata": {
    "collapsed": false
   },
   "outputs": [
    {
     "data": {
      "text/plain": [
       "Index(['DPT     ', 'NAME    ', 'ADDRESS ', 'TTL #   ', 'PC      ', 'SAL-RATE'], dtype='object')"
      ]
     },
     "execution_count": 9,
     "metadata": {},
     "output_type": "execute_result"
    }
   ],
   "source": [
    "df.columns"
   ]
  },
  {
   "cell_type": "code",
   "execution_count": 12,
   "metadata": {
    "collapsed": false
   },
   "outputs": [
    {
     "name": "stdout",
     "output_type": "stream",
     "text": [
      "DPT\n",
      "NAME\n",
      "ADDRESS\n",
      "TTL #\n",
      "PC\n",
      "SAL-RATE\n"
     ]
    }
   ],
   "source": [
    "for column in df.columns: \n",
    "    print(column.strip())"
   ]
  },
  {
   "cell_type": "code",
   "execution_count": 14,
   "metadata": {
    "collapsed": false
   },
   "outputs": [],
   "source": [
    "df.columns = [column.strip() for column in df.columns]"
   ]
  },
  {
   "cell_type": "code",
   "execution_count": 15,
   "metadata": {
    "collapsed": false
   },
   "outputs": [
    {
     "data": {
      "text/plain": [
       "Index(['DPT', 'NAME', 'ADDRESS', 'TTL #', 'PC', 'SAL-RATE'], dtype='object')"
      ]
     },
     "execution_count": 15,
     "metadata": {},
     "output_type": "execute_result"
    }
   ],
   "source": [
    "df.columns"
   ]
  },
  {
   "cell_type": "code",
   "execution_count": 16,
   "metadata": {
    "collapsed": false
   },
   "outputs": [
    {
     "data": {
      "text/plain": [
       "A     100521\n",
       "D      54881\n",
       "X      24403\n",
       "4      23259\n",
       "3      19866\n",
       "1      13083\n",
       "K       7635\n",
       "F       6361\n",
       "N       4671\n",
       "U       3409\n",
       "B       2817\n",
       "BW      1766\n",
       "E       1300\n",
       "W       1257\n",
       "G       1085\n",
       "I        730\n",
       "2        721\n",
       "M        708\n",
       "O        536\n",
       "WK       488\n",
       "P        307\n",
       "L         25\n",
       "S          4\n",
       "0          3\n",
       "V          2\n",
       "Name: PC, dtype: int64"
      ]
     },
     "execution_count": 16,
     "metadata": {},
     "output_type": "execute_result"
    }
   ],
   "source": [
    "df['PC'].value_counts()"
   ]
  },
  {
   "cell_type": "code",
   "execution_count": 17,
   "metadata": {
    "collapsed": false
   },
   "outputs": [
    {
     "data": {
      "text/plain": [
       "count        269838\n",
       "unique        27533\n",
       "top       $76488.00\n",
       "freq          26024\n",
       "Name: SAL-RATE, dtype: object"
      ]
     },
     "execution_count": 17,
     "metadata": {},
     "output_type": "execute_result"
    }
   ],
   "source": [
    "df['SAL-RATE'].describe()"
   ]
  },
  {
   "cell_type": "code",
   "execution_count": 28,
   "metadata": {
    "collapsed": false
   },
   "outputs": [],
   "source": [
    "def money_to_float(money_str):\n",
    "    return float(money_str.replace(\"$\", \"\").replace(\",\",\"\"))\n",
    "\n",
    "df['Salary'] = df['SAL-RATE'].apply(money_to_float)"
   ]
  },
  {
   "cell_type": "code",
   "execution_count": 31,
   "metadata": {
    "collapsed": false
   },
   "outputs": [
    {
     "data": {
      "text/plain": [
       "count    269838.000000\n",
       "mean      54143.707486\n",
       "std       32345.656289\n",
       "min           0.500000\n",
       "25%       36899.000000\n",
       "50%       57855.000000\n",
       "75%       76488.000000\n",
       "max      300000.000000\n",
       "Name: Salary, dtype: float64"
      ]
     },
     "execution_count": 31,
     "metadata": {},
     "output_type": "execute_result"
    }
   ],
   "source": [
    "df['Salary'].describe()"
   ]
  },
  {
   "cell_type": "code",
   "execution_count": 32,
   "metadata": {
    "collapsed": true
   },
   "outputs": [],
   "source": [
    "%matplotlib inline"
   ]
  },
  {
   "cell_type": "code",
   "execution_count": 34,
   "metadata": {
    "collapsed": false
   },
   "outputs": [
    {
     "data": {
      "text/plain": [
       "<matplotlib.axes._subplots.AxesSubplot at 0x7f01fb675518>"
      ]
     },
     "execution_count": 34,
     "metadata": {},
     "output_type": "execute_result"
    },
    {
     "data": {
      "image/png": "[encoded data removed]",
      "text/plain": [
       "<matplotlib.figure.Figure at 0x7f01fb67ad30>"
      ]
     },
     "metadata": {},
     "output_type": "display_data"
    }
   ],
   "source": [
    "df['Salary'].hist(bins=100)"
   ]
  },
  {
   "cell_type": "code",
   "execution_count": 35,
   "metadata": {
    "collapsed": false
   },
   "outputs": [
    {
     "data": {
      "text/plain": [
       "N.Y.C. TRANSIT AUTHORITY      56932\n",
       "POLICE DEPARTMENT             51453\n",
       "FIRE DEPARTMENT               15848\n",
       "DEPARTMENT OF CITYWIDE ADM    15739\n",
       "HRA/DEPARTMENT OF SOCIAL S    13676\n",
       "DEPARTMENT OF EDUCATION       11689\n",
       "N.Y.C. HOUSING AUTHORITY      11501\n",
       "DEPARTMENT OF CORRECTION      10188\n",
       "DEPARTMENT OF SANITATION       9666\n",
       "DEPARTMENT OF PARKS & RECR     7261\n",
       "ADMINISTRATION FOR CHILDRE     6033\n",
       "DEPARTMENT OF ENVIRONMENTA     5717\n",
       "DEPARTMENT OF HEALTH AND M     5676\n",
       "DEPARTMENT OF TRANSPORTATI     4589\n",
       "CUNY LAGUARDIA COMMUNITY C     3379\n",
       "CUNY KINGSBOROUGH COMMMUNI     3260\n",
       "CUNY MANHATTAN COMMUNITY C     2974\n",
       "TRIBOROUGH BRIDGE AND TUNN     2254\n",
       "HOUSING PRESERVATION & DEV     2078\n",
       "CUNY QUEENSBOROUGH COMMUNI     2030\n",
       "DEPARTMENT OF HOMELESS SER     1966\n",
       "DEPARTMENT OF FINANCE          1953\n",
       "CUNY BRONX COMMUNITY COLLE     1923\n",
       "LAW DEPARTMENT                 1514\n",
       "DISTRICT ATTORNEY-NEW YORK     1384\n",
       "CUNY HOSTOS COMMUNITY COLL     1295\n",
       "DEPARTMENT OF DESIGN AND C     1193\n",
       "DEPARTMENT OF INFORMATION      1162\n",
       "DEPARTMENT OF BUILDINGS        1111\n",
       "DISTRICT ATTORNEY-KINGS CO     1062\n",
       "                              ...  \n",
       "COMMUNITY BOARD NO.18-BROO        3\n",
       "COMMUNITY BOARD NO.1-QUEEN        3\n",
       "COMMUNITY BOARD NO.14-QUEE        3\n",
       "COMMUNITY BOARD NO.8-BROOK        3\n",
       "COMMUNITY BOARD NO.11-MANH        3\n",
       "COMMUNITY BOARD NO.9-BRONX        3\n",
       "COMMUNITY BOARD NO.10-BROO        3\n",
       "COMMUNITY BOARD NO.7-MANHA        3\n",
       "COMMUNITY BOARD NO.2-BRONX        3\n",
       "COMMUNITY BOARD NO.14-BROO        3\n",
       "COMMUNITY BOARD NO.5-MANHA        3\n",
       "COMMUNITY BOARD NO.4 BRONX        3\n",
       "COMMUNITY BOARD NO.12-BROO        3\n",
       "COMMUNITY BOARD NO.3-QUEEN        3\n",
       "COMMUNITY BOARD NO.7-BRONX        3\n",
       "COMMUNITY BOARD NO.13-QUEE        3\n",
       "COMMUNITY BOARD NO.4-QUEEN        3\n",
       "COMMUNITY BOARD NO.3-RICHM        3\n",
       "COMMUNITY BOARD NO.4-BROOK        3\n",
       "COMMUNITY BOARD NO.1-RICHM        3\n",
       "COMMUNITY BOARD NO.16-BROO        2\n",
       "COMMUNITY BOARD NO.5-BRONX        2\n",
       "COMMUNITY BOARD NO.3-BRONX        2\n",
       "CUNY MEDGAR EVERS COLLEGE         2\n",
       "COMMUNITY BOARD NO.6-BRONX        2\n",
       "COMMUNITY BOARD NO.9-BROOK        2\n",
       "COMMUNITY BOARD NO.9-QUEEN        2\n",
       "COMMUNITY BOARD NO.1 BRONX        2\n",
       "COMMUNITY BOARD NO.15-BROO        2\n",
       "COMMUNITY BOARD NO.6-MANHA        2\n",
       "Name: ADDRESS, dtype: int64"
      ]
     },
     "execution_count": 35,
     "metadata": {},
     "output_type": "execute_result"
    }
   ],
   "source": [
    "df['ADDRESS'].value_counts()"
   ]
  },
  {
   "cell_type": "code",
   "execution_count": 43,
   "metadata": {
    "collapsed": true
   },
   "outputs": [],
   "source": [
    "df_dep = pd.read_csv('departments.csv', dtype='str')"
   ]
  },
  {
   "cell_type": "code",
   "execution_count": 44,
   "metadata": {
    "collapsed": false
   },
   "outputs": [
    {
     "data": {
      "text/html": [
       "<div>\n",
       "<table border=\"1\" class=\"dataframe\">\n",
       "  <thead>\n",
       "    <tr style=\"text-align: right;\">\n",
       "      <th></th>\n",
       "      <th>code</th>\n",
       "      <th>agency</th>\n",
       "      <th>is_mayoral</th>\n",
       "    </tr>\n",
       "  </thead>\n",
       "  <tbody>\n",
       "    <tr>\n",
       "      <th>0</th>\n",
       "      <td>002</td>\n",
       "      <td>OFFICE OF THE MAYOR</td>\n",
       "      <td>N</td>\n",
       "    </tr>\n",
       "    <tr>\n",
       "      <th>1</th>\n",
       "      <td>003</td>\n",
       "      <td>BOARD OF ELECTIONS</td>\n",
       "      <td>Y</td>\n",
       "    </tr>\n",
       "    <tr>\n",
       "      <th>2</th>\n",
       "      <td>004</td>\n",
       "      <td>CAMPAIGN FINANCE BOARD</td>\n",
       "      <td>Y</td>\n",
       "    </tr>\n",
       "    <tr>\n",
       "      <th>3</th>\n",
       "      <td>005</td>\n",
       "      <td>BOARD OF ESTIMATE-SECRETARY</td>\n",
       "      <td>Y</td>\n",
       "    </tr>\n",
       "    <tr>\n",
       "      <th>4</th>\n",
       "      <td>006</td>\n",
       "      <td>MAYOR'S OFFICE OF OPERATIONS</td>\n",
       "      <td>N</td>\n",
       "    </tr>\n",
       "    <tr>\n",
       "      <th>5</th>\n",
       "      <td>007</td>\n",
       "      <td>BOARD OF ESTIMATE FRANCHISES</td>\n",
       "      <td>Y</td>\n",
       "    </tr>\n",
       "    <tr>\n",
       "      <th>6</th>\n",
       "      <td>008</td>\n",
       "      <td>OFFICE OF THE ACTUARY</td>\n",
       "      <td>N</td>\n",
       "    </tr>\n",
       "    <tr>\n",
       "      <th>7</th>\n",
       "      <td>009</td>\n",
       "      <td>NYC EMPLOYEES' RETIREMENT SYSTEM</td>\n",
       "      <td>Y</td>\n",
       "    </tr>\n",
       "    <tr>\n",
       "      <th>8</th>\n",
       "      <td>010</td>\n",
       "      <td>BOROUGH PRESIDENT-MANHATTAN</td>\n",
       "      <td>Y</td>\n",
       "    </tr>\n",
       "    <tr>\n",
       "      <th>9</th>\n",
       "      <td>011</td>\n",
       "      <td>BOROUGH PRESIDENT-BRONX</td>\n",
       "      <td>Y</td>\n",
       "    </tr>\n",
       "  </tbody>\n",
       "</table>\n",
       "</div>"
      ],
      "text/plain": [
       "  code                            agency is_mayoral\n",
       "0  002               OFFICE OF THE MAYOR          N\n",
       "1  003                BOARD OF ELECTIONS          Y\n",
       "2  004            CAMPAIGN FINANCE BOARD          Y\n",
       "3  005       BOARD OF ESTIMATE-SECRETARY          Y\n",
       "4  006      MAYOR'S OFFICE OF OPERATIONS          N\n",
       "5  007      BOARD OF ESTIMATE FRANCHISES          Y\n",
       "6  008             OFFICE OF THE ACTUARY          N\n",
       "7  009  NYC EMPLOYEES' RETIREMENT SYSTEM          Y\n",
       "8  010       BOROUGH PRESIDENT-MANHATTAN          Y\n",
       "9  011           BOROUGH PRESIDENT-BRONX          Y"
      ]
     },
     "execution_count": 44,
     "metadata": {},
     "output_type": "execute_result"
    }
   ],
   "source": [
    "df_dep.head(10)"
   ]
  },
  {
   "cell_type": "code",
   "execution_count": 45,
   "metadata": {
    "collapsed": false
   },
   "outputs": [
    {
     "ename": "TypeError",
     "evalue": "merge() got an unexpected keyword argument 'ritht_on'",
     "output_type": "error",
     "traceback": [
      "\u001b[1;31m---------------------------------------------------------------------------\u001b[0m",
      "\u001b[1;31mTypeError\u001b[0m                                 Traceback (most recent call last)",
      "\u001b[1;32m<ipython-input-45-77b407891bbe>\u001b[0m in \u001b[0;36m<module>\u001b[1;34m()\u001b[0m\n\u001b[1;32m----> 1\u001b[1;33m \u001b[0mdf\u001b[0m\u001b[1;33m.\u001b[0m\u001b[0mmerge\u001b[0m\u001b[1;33m(\u001b[0m\u001b[0mdf_dep\u001b[0m\u001b[1;33m,\u001b[0m \u001b[0mleft_on\u001b[0m\u001b[1;33m=\u001b[0m\u001b[1;34m'DPT'\u001b[0m\u001b[1;33m,\u001b[0m \u001b[0mritht_on\u001b[0m\u001b[1;33m=\u001b[0m\u001b[1;34m'code'\u001b[0m\u001b[1;33m)\u001b[0m\u001b[1;33m\u001b[0m\u001b[0m\n\u001b[0m",
      "\u001b[1;31mTypeError\u001b[0m: merge() got an unexpected keyword argument 'ritht_on'"
     ]
    }
   ],
   "source": [
    "df.merge(df_dep, left_on='DPT', ritht_on='code')"
   ]
  },
  {
   "cell_type": "code",
   "execution_count": 46,
   "metadata": {
    "collapsed": true
   },
   "outputs": [],
   "source": [
    "# Chris Albon für Referenzen zu Python und Pandas"
   ]
  },
  {
   "cell_type": "code",
   "execution_count": null,
   "metadata": {
    "collapsed": true
   },
   "outputs": [],
   "source": []
  }
 ],
 "metadata": {
  "kernelspec": {
   "display_name": "Python 3",
   "language": "python",
   "name": "python3"
  },
  "language_info": {
   "codemirror_mode": {
    "name": "ipython",
    "version": 3
   },
   "file_extension": ".py",
   "mimetype": "text/x-python",
   "name": "python",
   "nbconvert_exporter": "python",
   "pygments_lexer": "ipython3",
   "version": "3.5.1+"
  }
 },
 "nbformat": 4,
 "nbformat_minor": 0
}
