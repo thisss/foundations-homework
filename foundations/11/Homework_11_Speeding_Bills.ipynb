{
 "cells": [
  {
   "cell_type": "markdown",
   "metadata": {},
   "source": [
    "# Homework 11: PARKING TICKETS\n",
    "\n",
    "Data is here: https://www.dropbox.com/s/4cbpwdcd802av1z/11-homework-data.zip?dl=0 [ www.dropbox.com/s/4cbpwdcd802av1z/11-homework-data.zip?dl=0 ]\n",
    "\n",
    "Read this: http://iquantny.tumblr.com/post/144197004989/the-nypd-was-systematically-ticketing-legally\n",
    "\n",
    "And the then we can take a peek at some data on parking. After you've cleaned up the data as instructed below, feel free to browse in other directions than the ones I say. When fixing up the data, you'll probably making a lot of use of date parsing and .apply."
   ]
  },
  {
   "cell_type": "code",
   "execution_count": 8,
   "metadata": {
    "collapsed": true
   },
   "outputs": [],
   "source": [
    "import pandas as pd"
   ]
  },
  {
   "cell_type": "markdown",
   "metadata": {},
   "source": [
    "### I want to make sure my Plate ID is a string. Can't lose the leading zeroes!\n",
    "### don't think anyone's car was built in 0AD. Discard the '0's as NaN.\n",
    "### I want the dates to be dates! Read the read_csv documentation to find out how to make pandas automatically parse dates."
   ]
  },
  {
   "cell_type": "code",
   "execution_count": 11,
   "metadata": {
    "collapsed": false
   },
   "outputs": [
    {
     "name": "stderr",
     "output_type": "stream",
     "text": [
      "/usr/local/lib/python3.5/dist-packages/IPython/core/interactiveshell.py:2723: DtypeWarning: Columns (17,18,20,21,22,23,29,30,31,32,36,38,39) have mixed types. Specify dtype option on import or set low_memory=False.\n",
      "  interactivity=interactivity, compiler=compiler, result=result)\n"
     ]
    }
   ],
   "source": [
    "col_types = { 'Summons Number' : 'int', 'Plate ID': 'str', 'Violation Code': 'int', 'Street Code1': 'int', 'Street Code2': 'int', 'Street Code3': 'int',\n",
    "       'Vehicle Expiration Date': 'str', 'Date First Observed': 'str', 'Violation Time' : 'str' }\n",
    "dateparse = lambda x: pd.datetime.strptime(x, '%m/%d/%Y')\n",
    "\n",
    "df = pd.read_csv('/home/this/Downloads/bills/small_violations.csv', dtype=col_types, na_values=[\"0AD\"], parse_dates=['Issue Date'], date_parser=dateparse)"
   ]
  },
  {
   "cell_type": "code",
   "execution_count": 12,
   "metadata": {
    "collapsed": false
   },
   "outputs": [
    {
     "data": {
      "text/plain": [
       "Index(['Summons Number', 'Plate ID', 'Registration State', 'Plate Type',\n",
       "       'Issue Date', 'Violation Code', 'Vehicle Body Type', 'Vehicle Make',\n",
       "       'Issuing Agency', 'Street Code1', 'Street Code2', 'Street Code3',\n",
       "       'Vehicle Expiration Date', 'Violation Location', 'Violation Precinct',\n",
       "       'Issuer Precinct', 'Issuer Code', 'Issuer Command', 'Issuer Squad',\n",
       "       'Violation Time', 'Time First Observed', 'Violation County',\n",
       "       'Violation In Front Of Or Opposite', 'House Number', 'Street Name',\n",
       "       'Intersecting Street', 'Date First Observed', 'Law Section',\n",
       "       'Sub Division', 'Violation Legal Code', 'Days Parking In Effect    ',\n",
       "       'From Hours In Effect', 'To Hours In Effect', 'Vehicle Color',\n",
       "       'Unregistered Vehicle?', 'Vehicle Year', 'Meter Number',\n",
       "       'Feet From Curb', 'Violation Post Code', 'Violation Description',\n",
       "       'No Standing or Stopping Violation', 'Hydrant Violation',\n",
       "       'Double Parking Violation'],\n",
       "      dtype='object')"
      ]
     },
     "execution_count": 12,
     "metadata": {},
     "output_type": "execute_result"
    }
   ],
   "source": [
    "df.columns"
   ]
  },
  {
   "cell_type": "code",
   "execution_count": 13,
   "metadata": {
    "collapsed": false
   },
   "outputs": [
    {
     "data": {
      "text/html": [
       "<div>\n",
       "<table border=\"1\" class=\"dataframe\">\n",
       "  <thead>\n",
       "    <tr style=\"text-align: right;\">\n",
       "      <th></th>\n",
       "      <th>Summons Number</th>\n",
       "      <th>Plate ID</th>\n",
       "      <th>Registration State</th>\n",
       "      <th>Plate Type</th>\n",
       "      <th>Issue Date</th>\n",
       "      <th>Violation Code</th>\n",
       "      <th>Vehicle Body Type</th>\n",
       "      <th>Vehicle Make</th>\n",
       "      <th>Issuing Agency</th>\n",
       "      <th>Street Code1</th>\n",
       "      <th>...</th>\n",
       "      <th>Vehicle Color</th>\n",
       "      <th>Unregistered Vehicle?</th>\n",
       "      <th>Vehicle Year</th>\n",
       "      <th>Meter Number</th>\n",
       "      <th>Feet From Curb</th>\n",
       "      <th>Violation Post Code</th>\n",
       "      <th>Violation Description</th>\n",
       "      <th>No Standing or Stopping Violation</th>\n",
       "      <th>Hydrant Violation</th>\n",
       "      <th>Double Parking Violation</th>\n",
       "    </tr>\n",
       "  </thead>\n",
       "  <tbody>\n",
       "    <tr>\n",
       "      <th>0</th>\n",
       "      <td>1283294138</td>\n",
       "      <td>GBB9093</td>\n",
       "      <td>NY</td>\n",
       "      <td>PAS</td>\n",
       "      <td>2013-08-04</td>\n",
       "      <td>46</td>\n",
       "      <td>SUBN</td>\n",
       "      <td>AUDI</td>\n",
       "      <td>P</td>\n",
       "      <td>37250</td>\n",
       "      <td>...</td>\n",
       "      <td>GY</td>\n",
       "      <td>0.0</td>\n",
       "      <td>2013</td>\n",
       "      <td>-</td>\n",
       "      <td>0</td>\n",
       "      <td>NaN</td>\n",
       "      <td>NaN</td>\n",
       "      <td>NaN</td>\n",
       "      <td>NaN</td>\n",
       "      <td>NaN</td>\n",
       "    </tr>\n",
       "    <tr>\n",
       "      <th>1</th>\n",
       "      <td>1283294151</td>\n",
       "      <td>62416MB</td>\n",
       "      <td>NY</td>\n",
       "      <td>COM</td>\n",
       "      <td>2013-08-04</td>\n",
       "      <td>46</td>\n",
       "      <td>VAN</td>\n",
       "      <td>FORD</td>\n",
       "      <td>P</td>\n",
       "      <td>37290</td>\n",
       "      <td>...</td>\n",
       "      <td>WH</td>\n",
       "      <td>0.0</td>\n",
       "      <td>2012</td>\n",
       "      <td>-</td>\n",
       "      <td>0</td>\n",
       "      <td>NaN</td>\n",
       "      <td>NaN</td>\n",
       "      <td>NaN</td>\n",
       "      <td>NaN</td>\n",
       "      <td>NaN</td>\n",
       "    </tr>\n",
       "    <tr>\n",
       "      <th>2</th>\n",
       "      <td>1283294163</td>\n",
       "      <td>78755JZ</td>\n",
       "      <td>NY</td>\n",
       "      <td>COM</td>\n",
       "      <td>2013-08-05</td>\n",
       "      <td>46</td>\n",
       "      <td>P-U</td>\n",
       "      <td>CHEVR</td>\n",
       "      <td>P</td>\n",
       "      <td>37030</td>\n",
       "      <td>...</td>\n",
       "      <td>NaN</td>\n",
       "      <td>0.0</td>\n",
       "      <td>0</td>\n",
       "      <td>-</td>\n",
       "      <td>0</td>\n",
       "      <td>NaN</td>\n",
       "      <td>NaN</td>\n",
       "      <td>NaN</td>\n",
       "      <td>NaN</td>\n",
       "      <td>NaN</td>\n",
       "    </tr>\n",
       "    <tr>\n",
       "      <th>3</th>\n",
       "      <td>1283294175</td>\n",
       "      <td>63009MA</td>\n",
       "      <td>NY</td>\n",
       "      <td>COM</td>\n",
       "      <td>2013-08-05</td>\n",
       "      <td>46</td>\n",
       "      <td>VAN</td>\n",
       "      <td>FORD</td>\n",
       "      <td>P</td>\n",
       "      <td>37270</td>\n",
       "      <td>...</td>\n",
       "      <td>WH</td>\n",
       "      <td>0.0</td>\n",
       "      <td>2010</td>\n",
       "      <td>-</td>\n",
       "      <td>0</td>\n",
       "      <td>NaN</td>\n",
       "      <td>NaN</td>\n",
       "      <td>NaN</td>\n",
       "      <td>NaN</td>\n",
       "      <td>NaN</td>\n",
       "    </tr>\n",
       "    <tr>\n",
       "      <th>4</th>\n",
       "      <td>1283294187</td>\n",
       "      <td>91648MC</td>\n",
       "      <td>NY</td>\n",
       "      <td>COM</td>\n",
       "      <td>2013-08-08</td>\n",
       "      <td>41</td>\n",
       "      <td>TRLR</td>\n",
       "      <td>GMC</td>\n",
       "      <td>P</td>\n",
       "      <td>37240</td>\n",
       "      <td>...</td>\n",
       "      <td>BR</td>\n",
       "      <td>0.0</td>\n",
       "      <td>2012</td>\n",
       "      <td>-</td>\n",
       "      <td>0</td>\n",
       "      <td>NaN</td>\n",
       "      <td>NaN</td>\n",
       "      <td>NaN</td>\n",
       "      <td>NaN</td>\n",
       "      <td>NaN</td>\n",
       "    </tr>\n",
       "    <tr>\n",
       "      <th>5</th>\n",
       "      <td>1283294217</td>\n",
       "      <td>T60DAR</td>\n",
       "      <td>NJ</td>\n",
       "      <td>PAS</td>\n",
       "      <td>2013-08-11</td>\n",
       "      <td>14</td>\n",
       "      <td>P-U</td>\n",
       "      <td>DODGE</td>\n",
       "      <td>P</td>\n",
       "      <td>37250</td>\n",
       "      <td>...</td>\n",
       "      <td>RD</td>\n",
       "      <td>0.0</td>\n",
       "      <td>0</td>\n",
       "      <td>-</td>\n",
       "      <td>0</td>\n",
       "      <td>NaN</td>\n",
       "      <td>NaN</td>\n",
       "      <td>NaN</td>\n",
       "      <td>NaN</td>\n",
       "      <td>NaN</td>\n",
       "    </tr>\n",
       "    <tr>\n",
       "      <th>6</th>\n",
       "      <td>1283294229</td>\n",
       "      <td>GCR2838</td>\n",
       "      <td>NY</td>\n",
       "      <td>PAS</td>\n",
       "      <td>2013-08-11</td>\n",
       "      <td>14</td>\n",
       "      <td>VAN</td>\n",
       "      <td>NaN</td>\n",
       "      <td>P</td>\n",
       "      <td>37250</td>\n",
       "      <td>...</td>\n",
       "      <td>GN</td>\n",
       "      <td>0.0</td>\n",
       "      <td>2011</td>\n",
       "      <td>-</td>\n",
       "      <td>0</td>\n",
       "      <td>NaN</td>\n",
       "      <td>NaN</td>\n",
       "      <td>NaN</td>\n",
       "      <td>NaN</td>\n",
       "      <td>NaN</td>\n",
       "    </tr>\n",
       "    <tr>\n",
       "      <th>7</th>\n",
       "      <td>1283983620</td>\n",
       "      <td>XZ764G</td>\n",
       "      <td>NJ</td>\n",
       "      <td>PAS</td>\n",
       "      <td>2013-08-07</td>\n",
       "      <td>24</td>\n",
       "      <td>DELV</td>\n",
       "      <td>FORD</td>\n",
       "      <td>X</td>\n",
       "      <td>63430</td>\n",
       "      <td>...</td>\n",
       "      <td>WHITE</td>\n",
       "      <td>0.0</td>\n",
       "      <td>0</td>\n",
       "      <td>-</td>\n",
       "      <td>0</td>\n",
       "      <td>NaN</td>\n",
       "      <td>NaN</td>\n",
       "      <td>NaN</td>\n",
       "      <td>NaN</td>\n",
       "      <td>NaN</td>\n",
       "    </tr>\n",
       "    <tr>\n",
       "      <th>8</th>\n",
       "      <td>1283983631</td>\n",
       "      <td>GBH9379</td>\n",
       "      <td>NY</td>\n",
       "      <td>PAS</td>\n",
       "      <td>2013-08-07</td>\n",
       "      <td>24</td>\n",
       "      <td>SDN</td>\n",
       "      <td>TOYOT</td>\n",
       "      <td>X</td>\n",
       "      <td>63430</td>\n",
       "      <td>...</td>\n",
       "      <td>WHITE</td>\n",
       "      <td>0.0</td>\n",
       "      <td>2001</td>\n",
       "      <td>-</td>\n",
       "      <td>0</td>\n",
       "      <td>NaN</td>\n",
       "      <td>NaN</td>\n",
       "      <td>NaN</td>\n",
       "      <td>NaN</td>\n",
       "      <td>NaN</td>\n",
       "    </tr>\n",
       "    <tr>\n",
       "      <th>9</th>\n",
       "      <td>1283983667</td>\n",
       "      <td>MCL78B</td>\n",
       "      <td>NJ</td>\n",
       "      <td>PAS</td>\n",
       "      <td>2013-07-18</td>\n",
       "      <td>24</td>\n",
       "      <td>SDN</td>\n",
       "      <td>SUBAR</td>\n",
       "      <td>H</td>\n",
       "      <td>0</td>\n",
       "      <td>...</td>\n",
       "      <td>BLACK</td>\n",
       "      <td>0.0</td>\n",
       "      <td>2005</td>\n",
       "      <td>-</td>\n",
       "      <td>0</td>\n",
       "      <td>NaN</td>\n",
       "      <td>NaN</td>\n",
       "      <td>NaN</td>\n",
       "      <td>NaN</td>\n",
       "      <td>NaN</td>\n",
       "    </tr>\n",
       "    <tr>\n",
       "      <th>10</th>\n",
       "      <td>1283983679</td>\n",
       "      <td>M367CN</td>\n",
       "      <td>NY</td>\n",
       "      <td>PAS</td>\n",
       "      <td>2013-07-18</td>\n",
       "      <td>24</td>\n",
       "      <td>SDN</td>\n",
       "      <td>HYUND</td>\n",
       "      <td>H</td>\n",
       "      <td>0</td>\n",
       "      <td>...</td>\n",
       "      <td>BLUE</td>\n",
       "      <td>0.0</td>\n",
       "      <td>2010</td>\n",
       "      <td>-</td>\n",
       "      <td>0</td>\n",
       "      <td>NaN</td>\n",
       "      <td>NaN</td>\n",
       "      <td>NaN</td>\n",
       "      <td>NaN</td>\n",
       "      <td>NaN</td>\n",
       "    </tr>\n",
       "    <tr>\n",
       "      <th>11</th>\n",
       "      <td>1283983734</td>\n",
       "      <td>GAR6813</td>\n",
       "      <td>NY</td>\n",
       "      <td>PAS</td>\n",
       "      <td>2013-07-18</td>\n",
       "      <td>24</td>\n",
       "      <td>SDN</td>\n",
       "      <td>TOYOT</td>\n",
       "      <td>H</td>\n",
       "      <td>0</td>\n",
       "      <td>...</td>\n",
       "      <td>TAN</td>\n",
       "      <td>0.0</td>\n",
       "      <td>1998</td>\n",
       "      <td>-</td>\n",
       "      <td>0</td>\n",
       "      <td>NaN</td>\n",
       "      <td>NaN</td>\n",
       "      <td>NaN</td>\n",
       "      <td>NaN</td>\n",
       "      <td>NaN</td>\n",
       "    </tr>\n",
       "    <tr>\n",
       "      <th>12</th>\n",
       "      <td>1283983771</td>\n",
       "      <td>GEN8674</td>\n",
       "      <td>NY</td>\n",
       "      <td>PAS</td>\n",
       "      <td>2013-07-31</td>\n",
       "      <td>24</td>\n",
       "      <td>SDN</td>\n",
       "      <td>AUDI</td>\n",
       "      <td>X</td>\n",
       "      <td>0</td>\n",
       "      <td>...</td>\n",
       "      <td>GOLD</td>\n",
       "      <td>0.0</td>\n",
       "      <td>0</td>\n",
       "      <td>-</td>\n",
       "      <td>0</td>\n",
       "      <td>NaN</td>\n",
       "      <td>NaN</td>\n",
       "      <td>NaN</td>\n",
       "      <td>NaN</td>\n",
       "      <td>NaN</td>\n",
       "    </tr>\n",
       "    <tr>\n",
       "      <th>13</th>\n",
       "      <td>1283983825</td>\n",
       "      <td>GAC2703</td>\n",
       "      <td>NY</td>\n",
       "      <td>PAS</td>\n",
       "      <td>2013-08-12</td>\n",
       "      <td>24</td>\n",
       "      <td>SDN</td>\n",
       "      <td>NISSA</td>\n",
       "      <td>X</td>\n",
       "      <td>23230</td>\n",
       "      <td>...</td>\n",
       "      <td>WHITE</td>\n",
       "      <td>0.0</td>\n",
       "      <td>2012</td>\n",
       "      <td>-</td>\n",
       "      <td>0</td>\n",
       "      <td>NaN</td>\n",
       "      <td>NaN</td>\n",
       "      <td>NaN</td>\n",
       "      <td>NaN</td>\n",
       "      <td>NaN</td>\n",
       "    </tr>\n",
       "    <tr>\n",
       "      <th>14</th>\n",
       "      <td>1286036800</td>\n",
       "      <td>40793JY</td>\n",
       "      <td>NY</td>\n",
       "      <td>COM</td>\n",
       "      <td>2013-07-05</td>\n",
       "      <td>14</td>\n",
       "      <td>VAN</td>\n",
       "      <td>CHEVR</td>\n",
       "      <td>P</td>\n",
       "      <td>34190</td>\n",
       "      <td>...</td>\n",
       "      <td>GREEN</td>\n",
       "      <td>0.0</td>\n",
       "      <td>1995</td>\n",
       "      <td>-</td>\n",
       "      <td>0</td>\n",
       "      <td>NaN</td>\n",
       "      <td>NaN</td>\n",
       "      <td>NaN</td>\n",
       "      <td>NaN</td>\n",
       "      <td>NaN</td>\n",
       "    </tr>\n",
       "    <tr>\n",
       "      <th>15</th>\n",
       "      <td>1286123550</td>\n",
       "      <td>GAD1485</td>\n",
       "      <td>NY</td>\n",
       "      <td>PAS</td>\n",
       "      <td>2013-08-12</td>\n",
       "      <td>20</td>\n",
       "      <td>SDN</td>\n",
       "      <td>VOLKS</td>\n",
       "      <td>T</td>\n",
       "      <td>28930</td>\n",
       "      <td>...</td>\n",
       "      <td>WHITE</td>\n",
       "      <td>0.0</td>\n",
       "      <td>2012</td>\n",
       "      <td>-</td>\n",
       "      <td>0</td>\n",
       "      <td>NaN</td>\n",
       "      <td>NaN</td>\n",
       "      <td>NaN</td>\n",
       "      <td>NaN</td>\n",
       "      <td>NaN</td>\n",
       "    </tr>\n",
       "    <tr>\n",
       "      <th>16</th>\n",
       "      <td>1286246398</td>\n",
       "      <td>GFC5338</td>\n",
       "      <td>NY</td>\n",
       "      <td>PAS</td>\n",
       "      <td>2013-07-26</td>\n",
       "      <td>14</td>\n",
       "      <td>SDN</td>\n",
       "      <td>TOYOT</td>\n",
       "      <td>T</td>\n",
       "      <td>0</td>\n",
       "      <td>...</td>\n",
       "      <td>GRAY</td>\n",
       "      <td>0.0</td>\n",
       "      <td>2010</td>\n",
       "      <td>-</td>\n",
       "      <td>0</td>\n",
       "      <td>NaN</td>\n",
       "      <td>NaN</td>\n",
       "      <td>NaN</td>\n",
       "      <td>NaN</td>\n",
       "      <td>NaN</td>\n",
       "    </tr>\n",
       "    <tr>\n",
       "      <th>17</th>\n",
       "      <td>1286246416</td>\n",
       "      <td>815M342</td>\n",
       "      <td>MD</td>\n",
       "      <td>PAS</td>\n",
       "      <td>2013-07-30</td>\n",
       "      <td>20</td>\n",
       "      <td>SUBN</td>\n",
       "      <td>SATUR</td>\n",
       "      <td>T</td>\n",
       "      <td>0</td>\n",
       "      <td>...</td>\n",
       "      <td>GREEN</td>\n",
       "      <td>0.0</td>\n",
       "      <td>0</td>\n",
       "      <td>-</td>\n",
       "      <td>0</td>\n",
       "      <td>NaN</td>\n",
       "      <td>NaN</td>\n",
       "      <td>NaN</td>\n",
       "      <td>NaN</td>\n",
       "      <td>NaN</td>\n",
       "    </tr>\n",
       "    <tr>\n",
       "      <th>18</th>\n",
       "      <td>1286248000</td>\n",
       "      <td>GJA3452</td>\n",
       "      <td>NY</td>\n",
       "      <td>PAS</td>\n",
       "      <td>2013-07-23</td>\n",
       "      <td>14</td>\n",
       "      <td>SDN</td>\n",
       "      <td>KIA</td>\n",
       "      <td>T</td>\n",
       "      <td>73690</td>\n",
       "      <td>...</td>\n",
       "      <td>WH</td>\n",
       "      <td>0.0</td>\n",
       "      <td>2013</td>\n",
       "      <td>-</td>\n",
       "      <td>0</td>\n",
       "      <td>NaN</td>\n",
       "      <td>NaN</td>\n",
       "      <td>NaN</td>\n",
       "      <td>NaN</td>\n",
       "      <td>NaN</td>\n",
       "    </tr>\n",
       "    <tr>\n",
       "      <th>19</th>\n",
       "      <td>1286282330</td>\n",
       "      <td>YZY6476</td>\n",
       "      <td>NC</td>\n",
       "      <td>PAS</td>\n",
       "      <td>2013-07-29</td>\n",
       "      <td>20</td>\n",
       "      <td>SDN</td>\n",
       "      <td>NISSA</td>\n",
       "      <td>T</td>\n",
       "      <td>32030</td>\n",
       "      <td>...</td>\n",
       "      <td>WHITE</td>\n",
       "      <td>0.0</td>\n",
       "      <td>0</td>\n",
       "      <td>-</td>\n",
       "      <td>0</td>\n",
       "      <td>NaN</td>\n",
       "      <td>NaN</td>\n",
       "      <td>NaN</td>\n",
       "      <td>NaN</td>\n",
       "      <td>NaN</td>\n",
       "    </tr>\n",
       "  </tbody>\n",
       "</table>\n",
       "<p>20 rows × 43 columns</p>\n",
       "</div>"
      ],
      "text/plain": [
       "    Summons Number Plate ID Registration State Plate Type Issue Date  \\\n",
       "0       1283294138  GBB9093                 NY        PAS 2013-08-04   \n",
       "1       1283294151  62416MB                 NY        COM 2013-08-04   \n",
       "2       1283294163  78755JZ                 NY        COM 2013-08-05   \n",
       "3       1283294175  63009MA                 NY        COM 2013-08-05   \n",
       "4       1283294187  91648MC                 NY        COM 2013-08-08   \n",
       "5       1283294217   T60DAR                 NJ        PAS 2013-08-11   \n",
       "6       1283294229  GCR2838                 NY        PAS 2013-08-11   \n",
       "7       1283983620   XZ764G                 NJ        PAS 2013-08-07   \n",
       "8       1283983631  GBH9379                 NY        PAS 2013-08-07   \n",
       "9       1283983667   MCL78B                 NJ        PAS 2013-07-18   \n",
       "10      1283983679   M367CN                 NY        PAS 2013-07-18   \n",
       "11      1283983734  GAR6813                 NY        PAS 2013-07-18   \n",
       "12      1283983771  GEN8674                 NY        PAS 2013-07-31   \n",
       "13      1283983825  GAC2703                 NY        PAS 2013-08-12   \n",
       "14      1286036800  40793JY                 NY        COM 2013-07-05   \n",
       "15      1286123550  GAD1485                 NY        PAS 2013-08-12   \n",
       "16      1286246398  GFC5338                 NY        PAS 2013-07-26   \n",
       "17      1286246416  815M342                 MD        PAS 2013-07-30   \n",
       "18      1286248000  GJA3452                 NY        PAS 2013-07-23   \n",
       "19      1286282330  YZY6476                 NC        PAS 2013-07-29   \n",
       "\n",
       "    Violation Code Vehicle Body Type Vehicle Make Issuing Agency  \\\n",
       "0               46              SUBN         AUDI              P   \n",
       "1               46               VAN         FORD              P   \n",
       "2               46               P-U        CHEVR              P   \n",
       "3               46               VAN         FORD              P   \n",
       "4               41              TRLR          GMC              P   \n",
       "5               14               P-U        DODGE              P   \n",
       "6               14               VAN          NaN              P   \n",
       "7               24              DELV         FORD              X   \n",
       "8               24               SDN        TOYOT              X   \n",
       "9               24               SDN        SUBAR              H   \n",
       "10              24               SDN        HYUND              H   \n",
       "11              24               SDN        TOYOT              H   \n",
       "12              24               SDN         AUDI              X   \n",
       "13              24               SDN        NISSA              X   \n",
       "14              14               VAN        CHEVR              P   \n",
       "15              20               SDN        VOLKS              T   \n",
       "16              14               SDN        TOYOT              T   \n",
       "17              20              SUBN        SATUR              T   \n",
       "18              14               SDN          KIA              T   \n",
       "19              20               SDN        NISSA              T   \n",
       "\n",
       "    Street Code1           ...             Vehicle Color  \\\n",
       "0          37250           ...                        GY   \n",
       "1          37290           ...                        WH   \n",
       "2          37030           ...                       NaN   \n",
       "3          37270           ...                        WH   \n",
       "4          37240           ...                        BR   \n",
       "5          37250           ...                        RD   \n",
       "6          37250           ...                        GN   \n",
       "7          63430           ...                     WHITE   \n",
       "8          63430           ...                     WHITE   \n",
       "9              0           ...                     BLACK   \n",
       "10             0           ...                      BLUE   \n",
       "11             0           ...                       TAN   \n",
       "12             0           ...                      GOLD   \n",
       "13         23230           ...                     WHITE   \n",
       "14         34190           ...                     GREEN   \n",
       "15         28930           ...                     WHITE   \n",
       "16             0           ...                      GRAY   \n",
       "17             0           ...                     GREEN   \n",
       "18         73690           ...                        WH   \n",
       "19         32030           ...                     WHITE   \n",
       "\n",
       "    Unregistered Vehicle? Vehicle Year  Meter Number  Feet From Curb  \\\n",
       "0                     0.0         2013             -               0   \n",
       "1                     0.0         2012             -               0   \n",
       "2                     0.0            0             -               0   \n",
       "3                     0.0         2010             -               0   \n",
       "4                     0.0         2012             -               0   \n",
       "5                     0.0            0             -               0   \n",
       "6                     0.0         2011             -               0   \n",
       "7                     0.0            0             -               0   \n",
       "8                     0.0         2001             -               0   \n",
       "9                     0.0         2005             -               0   \n",
       "10                    0.0         2010             -               0   \n",
       "11                    0.0         1998             -               0   \n",
       "12                    0.0            0             -               0   \n",
       "13                    0.0         2012             -               0   \n",
       "14                    0.0         1995             -               0   \n",
       "15                    0.0         2012             -               0   \n",
       "16                    0.0         2010             -               0   \n",
       "17                    0.0            0             -               0   \n",
       "18                    0.0         2013             -               0   \n",
       "19                    0.0            0             -               0   \n",
       "\n",
       "    Violation Post Code  Violation Description  \\\n",
       "0                   NaN                    NaN   \n",
       "1                   NaN                    NaN   \n",
       "2                   NaN                    NaN   \n",
       "3                   NaN                    NaN   \n",
       "4                   NaN                    NaN   \n",
       "5                   NaN                    NaN   \n",
       "6                   NaN                    NaN   \n",
       "7                   NaN                    NaN   \n",
       "8                   NaN                    NaN   \n",
       "9                   NaN                    NaN   \n",
       "10                  NaN                    NaN   \n",
       "11                  NaN                    NaN   \n",
       "12                  NaN                    NaN   \n",
       "13                  NaN                    NaN   \n",
       "14                  NaN                    NaN   \n",
       "15                  NaN                    NaN   \n",
       "16                  NaN                    NaN   \n",
       "17                  NaN                    NaN   \n",
       "18                  NaN                    NaN   \n",
       "19                  NaN                    NaN   \n",
       "\n",
       "   No Standing or Stopping Violation Hydrant Violation  \\\n",
       "0                                NaN               NaN   \n",
       "1                                NaN               NaN   \n",
       "2                                NaN               NaN   \n",
       "3                                NaN               NaN   \n",
       "4                                NaN               NaN   \n",
       "5                                NaN               NaN   \n",
       "6                                NaN               NaN   \n",
       "7                                NaN               NaN   \n",
       "8                                NaN               NaN   \n",
       "9                                NaN               NaN   \n",
       "10                               NaN               NaN   \n",
       "11                               NaN               NaN   \n",
       "12                               NaN               NaN   \n",
       "13                               NaN               NaN   \n",
       "14                               NaN               NaN   \n",
       "15                               NaN               NaN   \n",
       "16                               NaN               NaN   \n",
       "17                               NaN               NaN   \n",
       "18                               NaN               NaN   \n",
       "19                               NaN               NaN   \n",
       "\n",
       "   Double Parking Violation  \n",
       "0                       NaN  \n",
       "1                       NaN  \n",
       "2                       NaN  \n",
       "3                       NaN  \n",
       "4                       NaN  \n",
       "5                       NaN  \n",
       "6                       NaN  \n",
       "7                       NaN  \n",
       "8                       NaN  \n",
       "9                       NaN  \n",
       "10                      NaN  \n",
       "11                      NaN  \n",
       "12                      NaN  \n",
       "13                      NaN  \n",
       "14                      NaN  \n",
       "15                      NaN  \n",
       "16                      NaN  \n",
       "17                      NaN  \n",
       "18                      NaN  \n",
       "19                      NaN  \n",
       "\n",
       "[20 rows x 43 columns]"
      ]
     },
     "execution_count": 13,
     "metadata": {},
     "output_type": "execute_result"
    }
   ],
   "source": [
    "df.head(20)"
   ]
  },
  {
   "cell_type": "markdown",
   "metadata": {},
   "source": [
    "### \"Date first observed\" is a pretty weird column, but it seems like it has a date hiding inside. Using a function with .apply, transform the string (e.g. \"20140324\") into a Python date. Make the 0's show up as NaN."
   ]
  },
  {
   "cell_type": "code",
   "execution_count": 14,
   "metadata": {
    "collapsed": false
   },
   "outputs": [],
   "source": [
    "# Why does this cell only work for the first time I am running it? \n",
    "\n",
    "from datetime import datetime\n",
    "from dateutil.parser import parse\n",
    "\n",
    "def str_to_date(string):\n",
    "    if isinstance(string, str):\n",
    "        if string == '0':\n",
    "            return 'None'\n",
    "        if string == 'NaN':\n",
    "            return 'None'\n",
    "        else: \n",
    "            return datetime.strptime(string, '%Y%m%d')\n",
    "    \n",
    "df['Date First Observed'] = df['Date First Observed'].apply(str_to_date)"
   ]
  },
  {
   "cell_type": "markdown",
   "metadata": {},
   "source": [
    "### \"Violation time\" is... not a time. Make it a time."
   ]
  },
  {
   "cell_type": "code",
   "execution_count": 15,
   "metadata": {
    "collapsed": false
   },
   "outputs": [
    {
     "name": "stdout",
     "output_type": "stream",
     "text": [
      "0    07:52\n",
      "1    12:40\n",
      "2    12:43\n",
      "3    14:32\n",
      "4    12:39\n",
      "5    18:17\n",
      "6    19:41\n",
      "7    04:25\n",
      "8    04:37\n",
      "9    08:39\n",
      "Name: Violation Time, dtype: object\n"
     ]
    }
   ],
   "source": [
    "import re\n",
    "\n",
    "def str_to_time(string):\n",
    "    try:\n",
    "        new_string = str(string)\n",
    "        if re.match(r'00\\d\\dA', new_string): # Change the 00XX values to 12XX.\n",
    "            new_string = re.sub(r'00', '12', new_string)\n",
    "        if 'P' in new_string: \n",
    "            temp_time = new_string[:-1] + 'PM'\n",
    "            time = datetime.strptime(temp_time, '%I%M%p').strftime('%H:%M')\n",
    "            return time\n",
    "        elif 'A' in new_string:\n",
    "            temp_time = new_string[:-1] + 'AM'\n",
    "            time = datetime.strptime(temp_time, '%I%M%p').strftime('%H:%M')\n",
    "            return time\n",
    "    except:\n",
    "        return\n",
    "\n",
    "df['Violation Time'] = df['Violation Time'].apply(str_to_time)\n",
    "print(df['Violation Time'].head(10))"
   ]
  },
  {
   "cell_type": "markdown",
   "metadata": {
    "collapsed": true
   },
   "source": [
    "### There sure are a lot of colors of cars, too bad so many of them are the same. Make \"BLK\" and \"BLACK\", \"WT\" and \"WHITE\", and any other combinations that you notice."
   ]
  },
  {
   "cell_type": "code",
   "execution_count": 16,
   "metadata": {
    "collapsed": false
   },
   "outputs": [
    {
     "data": {
      "text/plain": [
       "WHITE    289797\n",
       "BLACK    178106\n",
       "GRAY     155494\n",
       "BLUE      81636\n",
       "RED       60688\n",
       "GREY      46237\n",
       "BROWN     41438\n",
       "SILVE     34335\n",
       "TAN       22360\n",
       "GREEN     17344\n",
       "Name: Vehicle Color, dtype: int64"
      ]
     },
     "execution_count": 16,
     "metadata": {},
     "output_type": "execute_result"
    }
   ],
   "source": [
    "def abbrev_to_color(abbrev):\n",
    "    # Colors codes from http://industries.ul.com/plastics-and-components/plastics/color-codes-and-abbreviations.\n",
    "    # First ones are own interpretations.\n",
    "    colors = { 'BLK' : 'BLACK', 'WT' : 'WHITE', 'WHT' : 'WHITE', 'GRY' : 'GRAY', 'BR': 'Brown', 'WH' : 'WHITE', 'GR' : 'GRAY', 'AL' : 'Aluminium', 'AM' : 'Amber', 'AO' : 'All opaque', 'AT' : 'All transparent', 'BG' : 'Beige', 'BK' : 'Black', 'BL' : 'Blue', 'BN' : 'Brown', 'BZ' : 'Bronze', 'CH' : 'Charcoal', 'CL' : 'Clear', 'CT' : 'Clear', 'DK' : 'Dark', 'GD' : 'Gold',  'GN' : 'Green', 'GY' : 'Gray', 'GT' : 'Granite', 'IV' : 'Ivory', 'LT' : 'Light', 'NC' : 'Natural', 'OL' : 'Olive', 'OP' : 'Opaque', 'OR' : 'Orange', 'PK' : 'ink', 'RD' : 'Red', 'SM' : 'Smoke', 'TL' : 'Translucent', 'TN' : 'Tan', 'TP' : 'Transparent', 'VT' : 'Violet', 'WT' : 'White', 'YL' : 'Yellow'}\n",
    "    if abbrev in colors: \n",
    "        return colors[abbrev].upper()\n",
    "    else:\n",
    "        return abbrev\n",
    "\n",
    "df['Vehicle Color'] = df['Vehicle Color'].apply(abbrev_to_color)\n",
    "df['Vehicle Color'].value_counts().head(10)"
   ]
  },
  {
   "cell_type": "markdown",
   "metadata": {
    "collapsed": true
   },
   "source": [
    "### Join the data with the Parking Violations Code dataset from the NYC Open Data site."
   ]
  },
  {
   "cell_type": "code",
   "execution_count": 17,
   "metadata": {
    "collapsed": false
   },
   "outputs": [],
   "source": [
    "df_codes = pd.read_csv('/home/this/Downloads/bills/DOF_Parking_Violation_Codes.csv')"
   ]
  },
  {
   "cell_type": "code",
   "execution_count": 18,
   "metadata": {
    "collapsed": false
   },
   "outputs": [
    {
     "data": {
      "text/plain": [
       "'print(\"Type of df\\'s Violation Code:\", type(df[\\'Violation Code\\'][8]))\\nprint(\"Type of df_codes\\' CODE:\", type(df_codes[\\'CODE\\'][8]))\\n\\ndef drop_the_dollar(string):\\n    if hasNumbers(string) == True: \\n        if \\'$\\' in string: \\n            string = string.strip(\\'$\\')\\n        if re.match(r\\'\\\\d+\\\\s?\\\\w+\\', string):\\n            temp_string = re.match(r\\'(\\\\d+)\\\\s?\\\\w*\\', string)\\n            temp_string = int(temp_string)\\n            print(temp_string)\\n            string = temp_string.group(1)\\n        string = int(string)\\n        return string\\n    else:\\n        return \\'None\\'\\n\\ndef hasNumbers(string):\\n    return any(char.isdigit() for char in string)\\n    \\ndf_codes[\\'bill\\'] = df_codes[\\'All Other Areas\\'].apply(drop_the_dollar) \\ndf_codes[\\'code_int\\'] = df_codes[\\'CODE\\'].apply(code_to_int)\\nprint(\"Type of df_codes\\' code_int:\", type(df_codes[\\'code_int\\'][8]))'"
      ]
     },
     "execution_count": 18,
     "metadata": {},
     "output_type": "execute_result"
    }
   ],
   "source": [
    "# That's the work of late last evening. This morning I figured out: \n",
    "# I might correct the values of the small Codes file in less than a minute in my spreadsheet program...\n",
    "'''print(\"Type of df's Violation Code:\", type(df['Violation Code'][8]))\n",
    "print(\"Type of df_codes' CODE:\", type(df_codes['CODE'][8]))\n",
    "\n",
    "def drop_the_dollar(string):\n",
    "    if hasNumbers(string) == True: \n",
    "        if '$' in string: \n",
    "            string = string.strip('$')\n",
    "        if re.match(r'\\d+\\s?\\w+', string):\n",
    "            temp_string = re.match(r'(\\d+)\\s?\\w*', string)\n",
    "            temp_string = int(temp_string)\n",
    "            print(temp_string)\n",
    "            string = temp_string.group(1)\n",
    "        string = int(string)\n",
    "        return string\n",
    "    else:\n",
    "        return 'None'\n",
    "\n",
    "def hasNumbers(string):\n",
    "    return any(char.isdigit() for char in string)\n",
    "    \n",
    "df_codes['bill'] = df_codes['All Other Areas'].apply(drop_the_dollar) \n",
    "df_codes['code_int'] = df_codes['CODE'].apply(code_to_int)\n",
    "print(\"Type of df_codes' code_int:\", type(df_codes['code_int'][8]))'''"
   ]
  },
  {
   "cell_type": "code",
   "execution_count": 19,
   "metadata": {
    "collapsed": false
   },
   "outputs": [
    {
     "name": "stdout",
     "output_type": "stream",
     "text": [
      "<class 'pandas.core.series.Series'>\n"
     ]
    }
   ],
   "source": [
    "# Convert the CODES to Int\n",
    "\n",
    "print(type(df_codes['CODE']))\n",
    "\n",
    "def code_to_int(string):\n",
    "    if re.match(r'\\d+\\-\\d+', string):\n",
    "        string = string[:-3]\n",
    "    return int(string)\n",
    "\n",
    "df_codes['CODE'] = df_codes['CODE'].apply(code_to_int)"
   ]
  },
  {
   "cell_type": "code",
   "execution_count": 20,
   "metadata": {
    "collapsed": false
   },
   "outputs": [
    {
     "data": {
      "text/html": [
       "<div>\n",
       "<table border=\"1\" class=\"dataframe\">\n",
       "  <thead>\n",
       "    <tr style=\"text-align: right;\">\n",
       "      <th></th>\n",
       "      <th>Summons Number</th>\n",
       "      <th>Plate ID</th>\n",
       "      <th>Registration State</th>\n",
       "      <th>Plate Type</th>\n",
       "      <th>Issue Date</th>\n",
       "      <th>Violation Code</th>\n",
       "      <th>Vehicle Body Type</th>\n",
       "      <th>Vehicle Make</th>\n",
       "      <th>Issuing Agency</th>\n",
       "      <th>Street Code1</th>\n",
       "      <th>...</th>\n",
       "      <th>Feet From Curb</th>\n",
       "      <th>Violation Post Code</th>\n",
       "      <th>Violation Description</th>\n",
       "      <th>No Standing or Stopping Violation</th>\n",
       "      <th>Hydrant Violation</th>\n",
       "      <th>Double Parking Violation</th>\n",
       "      <th>CODE</th>\n",
       "      <th>DEFINITION</th>\n",
       "      <th>Manhattan  96th St. &amp; below</th>\n",
       "      <th>All Other Areas</th>\n",
       "    </tr>\n",
       "  </thead>\n",
       "  <tbody>\n",
       "    <tr>\n",
       "      <th>0</th>\n",
       "      <td>1283294138</td>\n",
       "      <td>GBB9093</td>\n",
       "      <td>NY</td>\n",
       "      <td>PAS</td>\n",
       "      <td>2013-08-04</td>\n",
       "      <td>46</td>\n",
       "      <td>SUBN</td>\n",
       "      <td>AUDI</td>\n",
       "      <td>P</td>\n",
       "      <td>37250</td>\n",
       "      <td>...</td>\n",
       "      <td>0</td>\n",
       "      <td>NaN</td>\n",
       "      <td>NaN</td>\n",
       "      <td>NaN</td>\n",
       "      <td>NaN</td>\n",
       "      <td>NaN</td>\n",
       "      <td>46.0</td>\n",
       "      <td>Standing or parking on the roadway side of a v...</td>\n",
       "      <td>115.0</td>\n",
       "      <td>115.0</td>\n",
       "    </tr>\n",
       "    <tr>\n",
       "      <th>1</th>\n",
       "      <td>1283294151</td>\n",
       "      <td>62416MB</td>\n",
       "      <td>NY</td>\n",
       "      <td>COM</td>\n",
       "      <td>2013-08-04</td>\n",
       "      <td>46</td>\n",
       "      <td>VAN</td>\n",
       "      <td>FORD</td>\n",
       "      <td>P</td>\n",
       "      <td>37290</td>\n",
       "      <td>...</td>\n",
       "      <td>0</td>\n",
       "      <td>NaN</td>\n",
       "      <td>NaN</td>\n",
       "      <td>NaN</td>\n",
       "      <td>NaN</td>\n",
       "      <td>NaN</td>\n",
       "      <td>46.0</td>\n",
       "      <td>Standing or parking on the roadway side of a v...</td>\n",
       "      <td>115.0</td>\n",
       "      <td>115.0</td>\n",
       "    </tr>\n",
       "    <tr>\n",
       "      <th>2</th>\n",
       "      <td>1283294163</td>\n",
       "      <td>78755JZ</td>\n",
       "      <td>NY</td>\n",
       "      <td>COM</td>\n",
       "      <td>2013-08-05</td>\n",
       "      <td>46</td>\n",
       "      <td>P-U</td>\n",
       "      <td>CHEVR</td>\n",
       "      <td>P</td>\n",
       "      <td>37030</td>\n",
       "      <td>...</td>\n",
       "      <td>0</td>\n",
       "      <td>NaN</td>\n",
       "      <td>NaN</td>\n",
       "      <td>NaN</td>\n",
       "      <td>NaN</td>\n",
       "      <td>NaN</td>\n",
       "      <td>46.0</td>\n",
       "      <td>Standing or parking on the roadway side of a v...</td>\n",
       "      <td>115.0</td>\n",
       "      <td>115.0</td>\n",
       "    </tr>\n",
       "    <tr>\n",
       "      <th>3</th>\n",
       "      <td>1283294175</td>\n",
       "      <td>63009MA</td>\n",
       "      <td>NY</td>\n",
       "      <td>COM</td>\n",
       "      <td>2013-08-05</td>\n",
       "      <td>46</td>\n",
       "      <td>VAN</td>\n",
       "      <td>FORD</td>\n",
       "      <td>P</td>\n",
       "      <td>37270</td>\n",
       "      <td>...</td>\n",
       "      <td>0</td>\n",
       "      <td>NaN</td>\n",
       "      <td>NaN</td>\n",
       "      <td>NaN</td>\n",
       "      <td>NaN</td>\n",
       "      <td>NaN</td>\n",
       "      <td>46.0</td>\n",
       "      <td>Standing or parking on the roadway side of a v...</td>\n",
       "      <td>115.0</td>\n",
       "      <td>115.0</td>\n",
       "    </tr>\n",
       "    <tr>\n",
       "      <th>4</th>\n",
       "      <td>1283294187</td>\n",
       "      <td>91648MC</td>\n",
       "      <td>NY</td>\n",
       "      <td>COM</td>\n",
       "      <td>2013-08-08</td>\n",
       "      <td>41</td>\n",
       "      <td>TRLR</td>\n",
       "      <td>GMC</td>\n",
       "      <td>P</td>\n",
       "      <td>37240</td>\n",
       "      <td>...</td>\n",
       "      <td>0</td>\n",
       "      <td>NaN</td>\n",
       "      <td>NaN</td>\n",
       "      <td>NaN</td>\n",
       "      <td>NaN</td>\n",
       "      <td>NaN</td>\n",
       "      <td>NaN</td>\n",
       "      <td>NaN</td>\n",
       "      <td>NaN</td>\n",
       "      <td>NaN</td>\n",
       "    </tr>\n",
       "  </tbody>\n",
       "</table>\n",
       "<p>5 rows × 47 columns</p>\n",
       "</div>"
      ],
      "text/plain": [
       "   Summons Number Plate ID Registration State Plate Type Issue Date  \\\n",
       "0      1283294138  GBB9093                 NY        PAS 2013-08-04   \n",
       "1      1283294151  62416MB                 NY        COM 2013-08-04   \n",
       "2      1283294163  78755JZ                 NY        COM 2013-08-05   \n",
       "3      1283294175  63009MA                 NY        COM 2013-08-05   \n",
       "4      1283294187  91648MC                 NY        COM 2013-08-08   \n",
       "\n",
       "   Violation Code Vehicle Body Type Vehicle Make Issuing Agency  Street Code1  \\\n",
       "0              46              SUBN         AUDI              P         37250   \n",
       "1              46               VAN         FORD              P         37290   \n",
       "2              46               P-U        CHEVR              P         37030   \n",
       "3              46               VAN         FORD              P         37270   \n",
       "4              41              TRLR          GMC              P         37240   \n",
       "\n",
       "        ...        Feet From Curb  Violation Post Code Violation Description  \\\n",
       "0       ...                     0                  NaN                   NaN   \n",
       "1       ...                     0                  NaN                   NaN   \n",
       "2       ...                     0                  NaN                   NaN   \n",
       "3       ...                     0                  NaN                   NaN   \n",
       "4       ...                     0                  NaN                   NaN   \n",
       "\n",
       "   No Standing or Stopping Violation  Hydrant Violation  \\\n",
       "0                                NaN                NaN   \n",
       "1                                NaN                NaN   \n",
       "2                                NaN                NaN   \n",
       "3                                NaN                NaN   \n",
       "4                                NaN                NaN   \n",
       "\n",
       "   Double Parking Violation  CODE  \\\n",
       "0                       NaN  46.0   \n",
       "1                       NaN  46.0   \n",
       "2                       NaN  46.0   \n",
       "3                       NaN  46.0   \n",
       "4                       NaN   NaN   \n",
       "\n",
       "                                          DEFINITION  \\\n",
       "0  Standing or parking on the roadway side of a v...   \n",
       "1  Standing or parking on the roadway side of a v...   \n",
       "2  Standing or parking on the roadway side of a v...   \n",
       "3  Standing or parking on the roadway side of a v...   \n",
       "4                                                NaN   \n",
       "\n",
       "  Manhattan  96th St. & below All Other Areas  \n",
       "0                       115.0           115.0  \n",
       "1                       115.0           115.0  \n",
       "2                       115.0           115.0  \n",
       "3                       115.0           115.0  \n",
       "4                         NaN             NaN  \n",
       "\n",
       "[5 rows x 47 columns]"
      ]
     },
     "execution_count": 20,
     "metadata": {},
     "output_type": "execute_result"
    }
   ],
   "source": [
    "# Merge the two data sets. \n",
    "# Get rid of some extra spaces. \n",
    "\n",
    "df_merged = df.merge(df_codes, left_on='Violation Code', right_on='CODE', how='left')\n",
    "[col.strip() for col in df_merged.columns]\n",
    "df_merged.head(5)"
   ]
  },
  {
   "cell_type": "markdown",
   "metadata": {},
   "source": [
    "### How much money did NYC make off of parking violations?"
   ]
  },
  {
   "cell_type": "code",
   "execution_count": 21,
   "metadata": {
    "collapsed": false
   },
   "outputs": [
    {
     "name": "stdout",
     "output_type": "stream",
     "text": [
      "NYC makes about 67830135.0 dollar off of parking violations.\n"
     ]
    }
   ],
   "source": [
    "print(\"NYC makes about\", df_merged['All Other Areas'].sum(), \"dollar off of parking violations.\")"
   ]
  },
  {
   "cell_type": "markdown",
   "metadata": {},
   "source": [
    "### What's the most lucrative kind of parking violation? The most frequent?"
   ]
  },
  {
   "cell_type": "code",
   "execution_count": 22,
   "metadata": {
    "collapsed": false
   },
   "outputs": [
    {
     "data": {
      "text/plain": [
       "CODE  DEFINITION                                                                                                                \n",
       "14.0  General No Standing: Standing or parking where standing is not allowed by sign, street marking or; traffic control device.    10761585.0\n",
       "Name: All Other Areas, dtype: float64"
      ]
     },
     "execution_count": 22,
     "metadata": {},
     "output_type": "execute_result"
    }
   ],
   "source": [
    "# The most lucrative parking violation.\n",
    "\n",
    "df_merged.groupby(['CODE','DEFINITION'])['All Other Areas'].sum().sort_values(ascending=False).head(1)"
   ]
  },
  {
   "cell_type": "code",
   "execution_count": 23,
   "metadata": {
    "collapsed": false
   },
   "outputs": [
    {
     "data": {
      "text/plain": [
       "Street Cleaning: No parking where parking is not allowed by sign, street marking or traffic control device.                                                                                                                                                                                                                                                                                                                                                                                                                                                                                                                                                                                                                                                                           140329\n",
       "General No Standing: Standing or parking where standing is not allowed by sign, street marking or; traffic control device.                                                                                                                                                                                                                                                                                                                                                                                                                                                                                                                                                                                                                                                             93579\n",
       "Muni Meter --\\n(37) Parking in excess of the allowed time\\n(38) Failing to show a receipt or tag in the windshield\\nDrivers get a 5-minute grace period past the expired time on Muni-Meter receipts.                                                                                                                                                                                                                                                                                                                                                                                                                                                                                                                                                                                  75484\n",
       "Vehicles photographed going through a red light at an intersection                                                                                                                                                                                                                                                                                                                                                                                                                                                                                                                                                                                                                                                                                                                     66747\n",
       "Standing or parking on the roadway side of a vehicle stopped, standing or parked at the curb; in other words also known as \"double parking\". However, a person may stand a Commercial Vehicle alongside a vehicle parked at the curb at such locations and during such hours that stopping, standing and parking is allowed when quickly making pickups, deliveries or service calls. This is allowed if there is no parking space or marked loading zone on either side of the street within 100 feet. \"Double parking\" any type of vehicle is not allowed in Midtown Manhattan (the area from 14th Street to 60th Street, between First Avenue and Eighth Avenue inclusive). Midtown double parking is not allowed between 7:00am  – 7:00pm daily except Sundays. (See Code 47.)     56695\n",
       "Name: DEFINITION, dtype: int64"
      ]
     },
     "execution_count": 23,
     "metadata": {},
     "output_type": "execute_result"
    }
   ],
   "source": [
    "# The most frequent violations.\n",
    "\n",
    "df_merged['DEFINITION'].value_counts().head(5)"
   ]
  },
  {
   "cell_type": "markdown",
   "metadata": {},
   "source": [
    "### New Jersey has bad drivers, but does it have bad parkers, too? How much money does NYC make off of all non-New York vehicles?\n"
   ]
  },
  {
   "cell_type": "code",
   "execution_count": 24,
   "metadata": {
    "collapsed": false
   },
   "outputs": [
    {
     "name": "stdout",
     "output_type": "stream",
     "text": [
      "NYC makes 7705885.0 Dollars because the guys from New Jersey ignore -- or don't know -- the parking laws.\n",
      "NYC makes 17412000.0 Dollars because the guys from outside don't respect the locael parking rules.\n"
     ]
    }
   ],
   "source": [
    "nj_bills = df_merged[df_merged['Registration State'] == 'NJ']['All Other Areas'].sum()\n",
    "print(\"NYC makes\", nj_bills, \"Dollars because the guys from New Jersey ignore -- or don't know -- the parking laws.\")\n",
    "\n",
    "nny_bills = df_merged[df_merged['Registration State'] != 'NY']['All Other Areas'].sum()\n",
    "print(\"NYC makes\", nny_bills, \"Dollars because the guys from outside don't respect the locael parking rules.\")\n"
   ]
  },
  {
   "cell_type": "markdown",
   "metadata": {},
   "source": [
    "### Make a chart of the top few.\n"
   ]
  },
  {
   "cell_type": "code",
   "execution_count": 25,
   "metadata": {
    "collapsed": false
   },
   "outputs": [
    {
     "data": {
      "text/plain": [
       "<matplotlib.axes._subplots.AxesSubplot at 0x7f8929ababa8>"
      ]
     },
     "execution_count": 25,
     "metadata": {},
     "output_type": "execute_result"
    },
    {
     "data": {
      "image/png": "[encoded data removed]",
      "text/plain": [
       "<matplotlib.figure.Figure at 0x7f893521f2e8>"
      ]
     },
     "metadata": {},
     "output_type": "display_data"
    }
   ],
   "source": [
    "import matplotlib.pyplot as plt\n",
    "%matplotlib inline\n",
    "plt.style.use('seaborn-muted')\n",
    "\n",
    "top_bill_payer = df_merged[df_merged['Registration State'] != 'NY'].groupby(['Registration State'])['All Other Areas'].sum().sort_values(ascending=False).head(10)\n",
    "top_bill_payer.plot(kind='bar')"
   ]
  },
  {
   "cell_type": "markdown",
   "metadata": {},
   "source": [
    "### What time of day do people usually get their tickets? You can break the day up into several blocks - for example 12am-6am, 6am-12pm, 12pm-6pm, 6pm-12am.\n"
   ]
  },
  {
   "cell_type": "code",
   "execution_count": 26,
   "metadata": {
    "collapsed": false
   },
   "outputs": [
    {
     "name": "stdout",
     "output_type": "stream",
     "text": [
      "Night: 53314 counts.\n",
      "Morning: 434008 counts.\n",
      "Afternoon 420483 counts.\n",
      "Evening: 91768 counts.\n"
     ]
    }
   ],
   "source": [
    "night = df_merged[(df_merged['Violation Time'] >= '00:00') & (df['Violation Time'] < '06:00')]\n",
    "morning = df_merged[(df_merged['Violation Time'] >= '06:00') & (df['Violation Time'] < '12:00')]\n",
    "afternoon = df_merged[(df_merged['Violation Time'] >= '12:00') & (df['Violation Time'] < '18:00')]\n",
    "evening = df_merged[(df_merged['Violation Time'] >= '18:00') & (df['Violation Time'] < '24:00')]\n",
    "\n",
    "print(\"Night:\", night['Summons Number'].count(), \"counts.\", )\n",
    "print(\"Morning:\", morning['Summons Number'].count(), \"counts.\")\n",
    "print(\"Afternoon\", afternoon['Summons Number'].count(), \"counts.\")\n",
    "print(\"Evening:\", evening['Summons Number'].count(), \"counts.\")"
   ]
  },
  {
   "cell_type": "markdown",
   "metadata": {},
   "source": [
    "### What's the average ticket cost in NYC?"
   ]
  },
  {
   "cell_type": "code",
   "execution_count": 27,
   "metadata": {
    "collapsed": false
   },
   "outputs": [
    {
     "name": "stdout",
     "output_type": "stream",
     "text": [
      "The average of the fines in the catalogue is 86.4634146341.\n",
      "The average costs per ticket is 77.7546623474.\n"
     ]
    }
   ],
   "source": [
    "mean_fines = str(df_codes['All Other Areas'].mean())\n",
    "mean_tickets = str(df_merged['All Other Areas'].mean())\n",
    "\n",
    "print(\"The average of the fines in the catalogue is\", mean_fines + '.')\n",
    "print(\"The average costs per ticket is\", mean_tickets + '.')\n"
   ]
  },
  {
   "cell_type": "markdown",
   "metadata": {},
   "source": [
    "### Make a graph of the number of tickets per day."
   ]
  },
  {
   "cell_type": "code",
   "execution_count": 28,
   "metadata": {
    "collapsed": false
   },
   "outputs": [
    {
     "data": {
      "text/plain": [
       "<matplotlib.axes._subplots.AxesSubplot at 0x7f89013bf908>"
      ]
     },
     "execution_count": 28,
     "metadata": {},
     "output_type": "execute_result"
    },
    {
     "data": {
      "image/png": "[encoded data removed]",
      "text/plain": [
       "<matplotlib.figure.Figure at 0x7f89013473c8>"
      ]
     },
     "metadata": {},
     "output_type": "display_data"
    }
   ],
   "source": [
    "df_merged['Issue Date'].groupby(df_merged['Issue Date']).count().plot()"
   ]
  },
  {
   "cell_type": "markdown",
   "metadata": {},
   "source": [
    "### Make a graph of the amount of revenue collected per day."
   ]
  },
  {
   "cell_type": "code",
   "execution_count": 29,
   "metadata": {
    "collapsed": false
   },
   "outputs": [
    {
     "data": {
      "text/plain": [
       "([], <a list of 0 Text xticklabel objects>)"
      ]
     },
     "execution_count": 29,
     "metadata": {},
     "output_type": "execute_result"
    },
    {
     "data": {
      "image/png": "[encoded data removed]",
      "text/plain": [
       "<matplotlib.figure.Figure at 0x7f88f5b98ef0>"
      ]
     },
     "metadata": {},
     "output_type": "display_data"
    }
   ],
   "source": [
    "df_merged.groupby('Issue Date')['All Other Areas'].sum().plot(kind='bar')\n",
    "plt.xlabel('Dates')\n",
    "plt.ylabel('Amount in Dollar')\n",
    "plt.xticks([])"
   ]
  },
  {
   "cell_type": "markdown",
   "metadata": {},
   "source": [
    "### Manually construct a dataframe out of https://dmv.ny.gov/statistic/2015licinforce-web.pdf (only NYC boroughts - bronx, queens, manhattan, staten island, brooklyn), having columns for borough name, abbreviation, and number of licensed drivers."
   ]
  },
  {
   "cell_type": "code",
   "execution_count": 57,
   "metadata": {
    "collapsed": false
   },
   "outputs": [],
   "source": [
    "df_licences = pd.read_csv('driverlicenses.csv')\n",
    "df_licences.head(10)\n",
    "\n",
    "# bronx = BRONX\n",
    "# queens = QUEENS\n",
    "# manhattan = YORK\n",
    "# staten island = RICHMOND\n",
    "# brooklyn = KINGS\n",
    "\n",
    "df_ny_borough = df_licences[(df_licences['County'] == 'BRONX') | \\\n",
    "                  (df_licences['County'] == 'QUEENS') | \\\n",
    "                  (df_licences['County'] == 'KINGS') | \\\n",
    "                  (df_licences['County'] == 'YORK') | \\\n",
    "                  (df_licences['County'] == 'RICHMOND')]"
   ]
  },
  {
   "cell_type": "code",
   "execution_count": 70,
   "metadata": {
    "collapsed": false
   },
   "outputs": [
    {
     "data": {
      "text/html": [
       "<div>\n",
       "<table border=\"1\" class=\"dataframe\">\n",
       "  <thead>\n",
       "    <tr style=\"text-align: right;\">\n",
       "      <th></th>\n",
       "      <th>County</th>\n",
       "      <th>Male</th>\n",
       "      <th>Female</th>\n",
       "      <th>Total</th>\n",
       "      <th>Abbreviation</th>\n",
       "    </tr>\n",
       "  </thead>\n",
       "  <tbody>\n",
       "    <tr>\n",
       "      <th>57</th>\n",
       "      <td>BRONX</td>\n",
       "      <td>259845</td>\n",
       "      <td>197002</td>\n",
       "      <td>456847</td>\n",
       "      <td>BRONX</td>\n",
       "    </tr>\n",
       "    <tr>\n",
       "      <th>58</th>\n",
       "      <td>KINGS</td>\n",
       "      <td>555917</td>\n",
       "      <td>427852</td>\n",
       "      <td>983769NEW</td>\n",
       "      <td>RICHMOND</td>\n",
       "    </tr>\n",
       "  </tbody>\n",
       "</table>\n",
       "</div>"
      ],
      "text/plain": [
       "   County    Male  Female      Total Abbreviation\n",
       "57  BRONX  259845  197002     456847        BRONX\n",
       "58  KINGS  555917  427852  983769NEW     RICHMOND"
      ]
     },
     "execution_count": 70,
     "metadata": {},
     "output_type": "execute_result"
    }
   ],
   "source": [
    "df_ny_borough.head(2)"
   ]
  },
  {
   "cell_type": "code",
   "execution_count": 75,
   "metadata": {
    "collapsed": false
   },
   "outputs": [
    {
     "ename": "ValueError",
     "evalue": "The truth value of a Series is ambiguous. Use a.empty, a.bool(), a.item(), a.any() or a.all().",
     "output_type": "error",
     "traceback": [
      "\u001b[1;31m---------------------------------------------------------------------------\u001b[0m",
      "\u001b[1;31mValueError\u001b[0m                                Traceback (most recent call last)",
      "\u001b[1;32m<ipython-input-75-bc5e3aac2795>\u001b[0m in \u001b[0;36m<module>\u001b[1;34m()\u001b[0m\n\u001b[0;32m      1\u001b[0m \u001b[0mborough_dict\u001b[0m \u001b[1;33m=\u001b[0m \u001b[1;33m{\u001b[0m \u001b[1;34m'BRONX'\u001b[0m \u001b[1;33m:\u001b[0m \u001b[1;34m'BX'\u001b[0m\u001b[1;33m,\u001b[0m \u001b[1;34m'QUEENS'\u001b[0m \u001b[1;33m:\u001b[0m \u001b[1;34m'Q'\u001b[0m\u001b[1;33m,\u001b[0m \u001b[1;34m'YORK'\u001b[0m\u001b[1;33m:\u001b[0m \u001b[1;34m'NY'\u001b[0m\u001b[1;33m,\u001b[0m \u001b[1;34m'RICHMOND'\u001b[0m \u001b[1;33m:\u001b[0m \u001b[1;34m'R'\u001b[0m\u001b[1;33m,\u001b[0m \u001b[1;34m'KINGS'\u001b[0m \u001b[1;33m:\u001b[0m \u001b[1;34m'K'\u001b[0m\u001b[1;33m}\u001b[0m\u001b[1;33m\u001b[0m\u001b[0m\n\u001b[0;32m      2\u001b[0m \u001b[1;32mfor\u001b[0m \u001b[0mborough\u001b[0m \u001b[1;32min\u001b[0m \u001b[0mborough_dict\u001b[0m\u001b[1;33m:\u001b[0m\u001b[1;33m\u001b[0m\u001b[0m\n\u001b[1;32m----> 3\u001b[1;33m     \u001b[1;32mif\u001b[0m \u001b[0mborough\u001b[0m \u001b[1;33m==\u001b[0m \u001b[0mdf_ny_borough\u001b[0m\u001b[1;33m[\u001b[0m\u001b[1;34m'County'\u001b[0m\u001b[1;33m]\u001b[0m\u001b[1;33m:\u001b[0m\u001b[1;33m\u001b[0m\u001b[0m\n\u001b[0m\u001b[0;32m      4\u001b[0m         \u001b[0mprint\u001b[0m\u001b[1;33m(\u001b[0m\u001b[0mborough\u001b[0m\u001b[1;33m)\u001b[0m\u001b[1;33m\u001b[0m\u001b[0m\n\u001b[0;32m      5\u001b[0m         \u001b[0mprint\u001b[0m\u001b[1;33m(\u001b[0m\u001b[1;34m\"Yeah\"\u001b[0m\u001b[1;33m)\u001b[0m\u001b[1;33m\u001b[0m\u001b[0m\n",
      "\u001b[1;32m/usr/local/lib/python3.5/dist-packages/pandas/core/generic.py\u001b[0m in \u001b[0;36m__nonzero__\u001b[1;34m(self)\u001b[0m\n\u001b[0;32m    890\u001b[0m         raise ValueError(\"The truth value of a {0} is ambiguous. \"\n\u001b[0;32m    891\u001b[0m                          \u001b[1;34m\"Use a.empty, a.bool(), a.item(), a.any() or a.all().\"\u001b[0m\u001b[1;33m\u001b[0m\u001b[0m\n\u001b[1;32m--> 892\u001b[1;33m                          .format(self.__class__.__name__))\n\u001b[0m\u001b[0;32m    893\u001b[0m \u001b[1;33m\u001b[0m\u001b[0m\n\u001b[0;32m    894\u001b[0m     \u001b[0m__bool__\u001b[0m \u001b[1;33m=\u001b[0m \u001b[0m__nonzero__\u001b[0m\u001b[1;33m\u001b[0m\u001b[0m\n",
      "\u001b[1;31mValueError\u001b[0m: The truth value of a Series is ambiguous. Use a.empty, a.bool(), a.item(), a.any() or a.all()."
     ]
    }
   ],
   "source": [
    "borough_dict = { 'BRONX' : 'BX', 'QUEENS' : 'Q', 'YORK': 'NY', 'RICHMOND' : 'R', 'KINGS' : 'K'}\n",
    "\n",
    "def insert_abbrev(abbrev):\n",
    "    \n",
    "    \n",
    "    return\n",
    "\n",
    "for borough in borough_dict:\n",
    "    df_ny_borough['Abbreviations'].apply(insert_abbrev)\n",
    "\n",
    "'''for borough in borough_dict: \n",
    "    if borough == df_ny_borough['County']:\n",
    "        print(borough)\n",
    "        print(\"Yeah\")\n",
    "\n",
    "''''''for borough in borough_dict:\n",
    "    print(borough_dict[borough])'''"
   ]
  },
  {
   "cell_type": "code",
   "execution_count": 73,
   "metadata": {
    "collapsed": false
   },
   "outputs": [
    {
     "data": {
      "text/html": [
       "<div>\n",
       "<table border=\"1\" class=\"dataframe\">\n",
       "  <thead>\n",
       "    <tr style=\"text-align: right;\">\n",
       "      <th></th>\n",
       "      <th>County</th>\n",
       "      <th>Male</th>\n",
       "      <th>Female</th>\n",
       "      <th>Total</th>\n",
       "      <th>Abbreviation</th>\n",
       "    </tr>\n",
       "  </thead>\n",
       "  <tbody>\n",
       "    <tr>\n",
       "      <th>57</th>\n",
       "      <td>BRONX</td>\n",
       "      <td>259845</td>\n",
       "      <td>197002</td>\n",
       "      <td>456847</td>\n",
       "      <td>BRONX</td>\n",
       "    </tr>\n",
       "    <tr>\n",
       "      <th>58</th>\n",
       "      <td>KINGS</td>\n",
       "      <td>555917</td>\n",
       "      <td>427852</td>\n",
       "      <td>983769NEW</td>\n",
       "      <td>RICHMOND</td>\n",
       "    </tr>\n",
       "    <tr>\n",
       "      <th>59</th>\n",
       "      <td>YORK</td>\n",
       "      <td>399606</td>\n",
       "      <td>348977</td>\n",
       "      <td>748583</td>\n",
       "      <td>YORK</td>\n",
       "    </tr>\n",
       "    <tr>\n",
       "      <th>60</th>\n",
       "      <td>QUEENS</td>\n",
       "      <td>631912</td>\n",
       "      <td>502152</td>\n",
       "      <td>1134064</td>\n",
       "      <td>KINGS</td>\n",
       "    </tr>\n",
       "    <tr>\n",
       "      <th>61</th>\n",
       "      <td>RICHMOND</td>\n",
       "      <td>156339</td>\n",
       "      <td>147911</td>\n",
       "      <td>304250</td>\n",
       "      <td>QUEENS</td>\n",
       "    </tr>\n",
       "  </tbody>\n",
       "</table>\n",
       "</div>"
      ],
      "text/plain": [
       "      County    Male  Female      Total Abbreviation\n",
       "57     BRONX  259845  197002     456847        BRONX\n",
       "58     KINGS  555917  427852  983769NEW     RICHMOND\n",
       "59      YORK  399606  348977     748583         YORK\n",
       "60    QUEENS  631912  502152    1134064        KINGS\n",
       "61  RICHMOND  156339  147911     304250       QUEENS"
      ]
     },
     "execution_count": 73,
     "metadata": {},
     "output_type": "execute_result"
    }
   ],
   "source": [
    "df_ny_borough"
   ]
  },
  {
   "cell_type": "markdown",
   "metadata": {},
   "source": [
    "### What's the parking-ticket-$-per-licensed-driver in each borough of NYC? Do this with pandas and the dataframe you just made, not with your head!"
   ]
  },
  {
   "cell_type": "code",
   "execution_count": null,
   "metadata": {
    "collapsed": true
   },
   "outputs": [],
   "source": []
  }
 ],
 "metadata": {
  "kernelspec": {
   "display_name": "Python 3",
   "language": "python",
   "name": "python3"
  },
  "language_info": {
   "codemirror_mode": {
    "name": "ipython",
    "version": 3
   },
   "file_extension": ".py",
   "mimetype": "text/x-python",
   "name": "python",
   "nbconvert_exporter": "python",
   "pygments_lexer": "ipython3",
   "version": "3.5.1+"
  }
 },
 "nbformat": 4,
 "nbformat_minor": 0
}
