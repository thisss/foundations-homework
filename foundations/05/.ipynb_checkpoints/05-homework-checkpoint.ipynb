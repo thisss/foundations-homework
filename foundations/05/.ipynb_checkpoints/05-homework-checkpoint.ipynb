{
 "cells": [
  {
   "cell_type": "code",
   "execution_count": null,
   "metadata": {
    "collapsed": true
   },
   "outputs": [],
   "source": []
  },
  {
   "cell_type": "markdown",
   "metadata": {},
   "source": []
  },
  {
   "cell_type": "markdown",
   "metadata": {},
   "source": [
    "## SPOTIFY\n",
    "\n",
    "1) With \"Lil Wayne\" and \"Lil Kim\" there are a lot of \"Lil\" musicians. Do a search and print a list of 50 that are playable in the USA (or the country of your choice), along with their popularity score."
   ]
  },
  {
   "cell_type": "code",
   "execution_count": 2,
   "metadata": {
    "collapsed": true
   },
   "outputs": [],
   "source": [
    "import requests"
   ]
  },
  {
   "cell_type": "code",
   "execution_count": 54,
   "metadata": {
    "collapsed": false,
    "scrolled": false
   },
   "outputs": [
    {
     "name": "stdout",
     "output_type": "stream",
     "text": [
      "Lil Wayne (86)\n",
      "Lil Yachty (72)\n",
      "Lil Uzi Vert (72)\n",
      "Lil Dicky (68)\n",
      "Boosie Badazz (67)\n",
      "Lil Jon (72)\n",
      "King Lil G (61)\n",
      "Lil Durk (60)\n",
      "Lil Jon & The East Side Boyz (60)\n",
      "Lil Bibby (54)\n",
      "G Herbo (53)\n",
      "Lil Rob (50)\n",
      "Lil Reese (50)\n",
      "Lil Keke (48)\n",
      "Bow Wow (57)\n",
      "Lil Scrappy (49)\n",
      "Lil Wyte (50)\n",
      "Lil Blood (45)\n",
      "Lil Snupe (45)\n",
      "Lil Mama (45)\n",
      "Lil B (44)\n",
      "Lil' Kim (62)\n",
      "Lil Cuete (40)\n",
      "Lil Phat (39)\n",
      "Lil Debbie (43)\n",
      "Lil Twist (39)\n",
      "Lil Trill (37)\n",
      "Lil Twon (38)\n",
      "Lil AJ (37)\n",
      "Lil Lonnie (36)\n",
      "Lil Goofy (35)\n",
      "Mr. Lil One (36)\n",
      "Lil Haiti (36)\n",
      "Lil Flash (38)\n",
      "Lil Kesh (39)\n",
      "Lil Cray (35)\n",
      "Lil Rue (34)\n",
      "Lil Silva (43)\n",
      "Lil Eddie (41)\n",
      "Lil Boom (34)\n",
      "Lil Yase (33)\n",
      "Lil Wayne, DJ Drama (35)\n",
      "Lil Suzy (34)\n",
      "Lil Mouse (34)\n",
      "Lil C (33)\n",
      "Lil Rick (39)\n",
      "Lil E (34)\n",
      "Lil June (32)\n",
      "Lil Fate (34)\n",
      "Lil' Flip (49)\n"
     ]
    }
   ],
   "source": [
    "response = requests.get('https://api.spotify.com/v1/search?query=lil&type=artist&country=US&limit=50')\n",
    "data = response.json()\n",
    "lils = data['artists']['items']\n",
    "counter = 0\n",
    "for artist in lils:\n",
    "    print(lils[counter]['name'], \"(\" + str(lils[counter]['popularity']) + \")\")\n",
    "    counter = counter + 1"
   ]
  },
  {
   "cell_type": "markdown",
   "metadata": {},
   "source": [
    "2) What genres are most represented in the search results? Edit your previous printout to also display a list of their genres in the format \"GENRE_1, GENRE_2, GENRE_3\". If there are no genres, print \"No genres listed\". Tip: \"how to join a list Python\" might be a helpful search"
   ]
  },
  {
   "cell_type": "code",
   "execution_count": 55,
   "metadata": {
    "collapsed": false
   },
   "outputs": [
    {
     "name": "stdout",
     "output_type": "stream",
     "text": [
      "Artist: Lil Wayne\n",
      "Popularity: 86\n",
      "Genres: dirty south rap, pop rap, southern hip hop, trap music\n",
      "\n",
      "Artist: Lil Yachty\n",
      "Popularity: 72\n",
      "No genres listed \n",
      "\n",
      "Artist: Lil Uzi Vert\n",
      "Popularity: 72\n",
      "No genres listed \n",
      "\n",
      "Artist: Lil Dicky\n",
      "Popularity: 68\n",
      "No genres listed \n",
      "\n",
      "Artist: Boosie Badazz\n",
      "Popularity: 67\n",
      "No genres listed \n",
      "\n",
      "Artist: Lil Jon\n",
      "Popularity: 72\n",
      "Genres: crunk, dirty south rap, southern hip hop\n",
      "\n",
      "Artist: King Lil G\n",
      "Popularity: 61\n",
      "No genres listed \n",
      "\n",
      "Artist: Lil Durk\n",
      "Popularity: 60\n",
      "No genres listed \n",
      "\n",
      "Artist: Lil Jon & The East Side Boyz\n",
      "Popularity: 60\n",
      "No genres listed \n",
      "\n",
      "Artist: Lil Bibby\n",
      "Popularity: 54\n",
      "No genres listed \n",
      "\n",
      "Artist: G Herbo\n",
      "Popularity: 53\n",
      "No genres listed \n",
      "\n",
      "Artist: Lil Rob\n",
      "Popularity: 50\n",
      "Genres: chicano rap, latin hip hop\n",
      "\n",
      "Artist: Lil Reese\n",
      "Popularity: 50\n",
      "No genres listed \n",
      "\n",
      "Artist: Lil Keke\n",
      "Popularity: 48\n",
      "No genres listed \n",
      "\n",
      "Artist: Bow Wow\n",
      "Popularity: 57\n",
      "Genres: hip pop, pop rap\n",
      "\n",
      "Artist: Lil Scrappy\n",
      "Popularity: 49\n",
      "Genres: crunk, dirty south rap, southern hip hop, trap music\n",
      "\n",
      "Artist: Lil Wyte\n",
      "Popularity: 50\n",
      "Genres: juggalo\n",
      "\n",
      "Artist: Lil Blood\n",
      "Popularity: 45\n",
      "No genres listed \n",
      "\n",
      "Artist: Lil Snupe\n",
      "Popularity: 45\n",
      "No genres listed \n",
      "\n",
      "Artist: Lil Mama\n",
      "Popularity: 45\n",
      "Genres: hip pop\n",
      "\n",
      "Artist: Lil B\n",
      "Popularity: 44\n",
      "No genres listed \n",
      "\n",
      "Artist: Lil' Kim\n",
      "Popularity: 62\n",
      "Genres: hip pop\n",
      "\n",
      "Artist: Lil Cuete\n",
      "Popularity: 40\n",
      "Genres: chicano rap\n",
      "\n",
      "Artist: Lil Phat\n",
      "Popularity: 39\n",
      "No genres listed \n",
      "\n",
      "Artist: Lil Debbie\n",
      "Popularity: 43\n",
      "No genres listed \n",
      "\n",
      "Artist: Lil Twist\n",
      "Popularity: 39\n",
      "Genres: jerk\n",
      "\n",
      "Artist: Lil Trill\n",
      "Popularity: 37\n",
      "Genres: deep trap\n",
      "\n",
      "Artist: Lil Twon\n",
      "Popularity: 38\n",
      "No genres listed \n",
      "\n",
      "Artist: Lil AJ\n",
      "Popularity: 37\n",
      "No genres listed \n",
      "\n",
      "Artist: Lil Lonnie\n",
      "Popularity: 36\n",
      "No genres listed \n",
      "\n",
      "Artist: Lil Goofy\n",
      "Popularity: 35\n",
      "No genres listed \n",
      "\n",
      "Artist: Mr. Lil One\n",
      "Popularity: 36\n",
      "Genres: chicano rap\n",
      "\n",
      "Artist: Lil Haiti\n",
      "Popularity: 36\n",
      "No genres listed \n",
      "\n",
      "Artist: Lil Flash\n",
      "Popularity: 38\n",
      "No genres listed \n",
      "\n",
      "Artist: Lil Kesh\n",
      "Popularity: 39\n",
      "No genres listed \n",
      "\n",
      "Artist: Lil Cray\n",
      "Popularity: 35\n",
      "No genres listed \n",
      "\n",
      "Artist: Lil Rue\n",
      "Popularity: 34\n",
      "No genres listed \n",
      "\n",
      "Artist: Lil Silva\n",
      "Popularity: 43\n",
      "No genres listed \n",
      "\n",
      "Artist: Lil Eddie\n",
      "Popularity: 41\n",
      "No genres listed \n",
      "\n",
      "Artist: Lil Boom\n",
      "Popularity: 34\n",
      "No genres listed \n",
      "\n",
      "Artist: Lil Yase\n",
      "Popularity: 33\n",
      "No genres listed \n",
      "\n",
      "Artist: Lil Wayne, DJ Drama\n",
      "Popularity: 35\n",
      "No genres listed \n",
      "\n",
      "Artist: Lil Suzy\n",
      "Popularity: 34\n",
      "Genres: freestyle\n",
      "\n",
      "Artist: Lil Mouse\n",
      "Popularity: 34\n",
      "No genres listed \n",
      "\n",
      "Artist: Lil C\n",
      "Popularity: 33\n",
      "No genres listed \n",
      "\n",
      "Artist: Lil Rick\n",
      "Popularity: 39\n",
      "Genres: soca\n",
      "\n",
      "Artist: Lil E\n",
      "Popularity: 34\n",
      "No genres listed \n",
      "\n",
      "Artist: Lil June\n",
      "Popularity: 32\n",
      "No genres listed \n",
      "\n",
      "Artist: Lil Fate\n",
      "Popularity: 34\n",
      "No genres listed \n",
      "\n",
      "Artist: Lil' Flip\n",
      "Popularity: 49\n",
      "Genres: crunk, dirty south rap\n",
      "\n"
     ]
    }
   ],
   "source": [
    "counter1 = 0\n",
    "for artist in lils:\n",
    "    print(\"Artist:\", lils[counter1]['name'])\n",
    "    print(\"Popularity:\", lils[counter1]['popularity'])\n",
    "    if (lils[counter1]['genres']) == []:\n",
    "        print(\"No genres listed \\n\")\n",
    "    else:\n",
    "        print(\"Genres:\", ', '.join(lils[counter1]['genres']) + \"\\n\")\n",
    "    counter1 = counter1 + 1"
   ]
  },
  {
   "cell_type": "markdown",
   "metadata": {},
   "source": [
    "3) Use a for loop to determine who BESIDES Lil Wayne has the highest popularity rating. Is it the same artist who has the largest number of followers?"
   ]
  },
  {
   "cell_type": "code",
   "execution_count": 207,
   "metadata": {
    "collapsed": false
   },
   "outputs": [
    {
     "name": "stdout",
     "output_type": "stream",
     "text": [
      "Lil' Kim has the highest popularity: the score is 62. Congratulation. But be aware: The public opinion might change quickly. And so might Spotify's algorithms.\n",
      "Lil' Kim has the most follower: 70156. Congratulation. But be aware: Follower won't follow you wherever you go.\n",
      "Lil' Kim is at the same time the artist with the highest popularity and the most follower.\n"
     ]
    }
   ],
   "source": [
    "almost_as_pop_lil = lils\n",
    "del almost_as_pop_lil[0]\n",
    "\n",
    "counter = 0\n",
    "highest = almost_as_pop_lil[0]\n",
    "\n",
    "for artist in almost_as_pop_lil:\n",
    "    if almost_as_pop_lil[counter]['popularity'] > highest['popularity']:\n",
    "        highest = almost_as_pop_lil[counter]\n",
    "    counter = counter + 1\n",
    "print(highest['name'], \"has the highest popularity:\", \"the score is\", str(highest['popularity']) + \". Congratulation. But be aware: The public opinion might change quickly. And so might Spotify's algorithms.\")\n",
    "counter = 0\n",
    "most_follower = almost_as_pop_lil[0]\n",
    "\n",
    "for artist1 in almost_as_pop_lil:\n",
    "    if almost_as_pop_lil[counter]['followers']['total'] > most_follower['followers']['total']:\n",
    "        most_follower = almost_as_pop_lil[counter]\n",
    "    counter = counter + 1\n",
    "print(most_follower['name'], \"has the most follower:\", str(most_follower['followers']['total']) + \". Congratulation. But be aware: Follower won't follow you wherever you go.\")\n",
    "\n",
    "if highest == most_follower:\n",
    "    print(highest['name'], \"is at the same time the artist with the highest popularity and the most follower.\")\n",
    "else: \n",
    "    print(\"The most popular is not necessary the most followed.\")"
   ]
  },
  {
   "cell_type": "markdown",
   "metadata": {},
   "source": [
    "4) Print a list of Lil's that are more popular than Lil' Kim."
   ]
  },
  {
   "cell_type": "code",
   "execution_count": 57,
   "metadata": {
    "collapsed": false
   },
   "outputs": [
    {
     "name": "stdout",
     "output_type": "stream",
     "text": [
      "Lil Wayne, Lil Yachty, Lil Uzi Vert, Lil Dicky, Boosie Badazz and Lil Jon are more popular than Lil' Kim.\n"
     ]
    }
   ],
   "source": [
    "counter = 0\n",
    "pop_list = []\n",
    "for artist in lils:\n",
    "    if lils[counter]['popularity'] > lils[21]['popularity']:\n",
    "        pop_list.append(lils[counter]['name'])\n",
    "    counter = counter + 1\n",
    "print(\", \".join(pop_list[0:-1]), \"and\", pop_list[-1], \"are more popular than Lil' Kim.\")"
   ]
  },
  {
   "cell_type": "markdown",
   "metadata": {},
   "source": [
    "5) Pick two of your favorite Lils to fight it out, and use their IDs to print out their top tracks.\n",
    "Tip: You're going to be making two separate requests, be sure you DO NOT save them into the same variable."
   ]
  },
  {
   "cell_type": "code",
   "execution_count": 58,
   "metadata": {
    "collapsed": false
   },
   "outputs": [
    {
     "name": "stdout",
     "output_type": "stream",
     "text": [
      "Lil Durk and Lil Twon are climbing into the ring. Who will win?\n",
      "Well, it's Lil Durk . Her popularity score ranges at 60 while Lil Twon has just a popularity of 38 .\n",
      "\n",
      "\n",
      "The top tracks of Lil Durk are:\n",
      "65 My Beyoncé\n",
      "63 Like Me\n",
      "53 Decline\n",
      "51 Dis Ain't What U Want\n",
      "51 Tryna' Tryna'\n",
      "48 WYDTM\n",
      "47 500 Homicides\n",
      "46 What Your Life Like\n",
      "45 Higher\n",
      "45 Lord Don't Make Me Do It\n",
      "\n",
      "\n",
      "The top tracks of Lil Twon are:\n",
      "54 Bruh\n",
      "21 Bruh Remix (feat. Futuristic & Wes Walker)\n"
     ]
    }
   ],
   "source": [
    "fighting_lil1 = lils[7]\n",
    "fighting_lil2 = lils[27]\n",
    "\n",
    "print(fighting_lil1['name'], \"and\", fighting_lil2['name'], \"are climbing into the ring. Who will win?\")\n",
    "\n",
    "if fighting_lil1['popularity'] > fighting_lil2['popularity']:\n",
    "    print(\"Well, it's\", fighting_lil1['name'], \". Her popularity score ranges at\", fighting_lil1['popularity'], \"while\", fighting_lil2['name'], \"has just a popularity of\", fighting_lil2['popularity'], \".\")\n",
    "else:\n",
    "    print(\"Well, it's\", fighting_lil2['name'], \". Her popularity score ranges at\", fighting_lil2['popularity'], \"while\", lil1['name'], \"has just a popularity of\", lil1['popularity'], \".\")\n",
    "\n",
    "response1 = requests.get(\"https://api.spotify.com/v1/artists/\" + fighting_lil1['id'] + \"/top-tracks?country=US\")\n",
    "data1 = response1.json()\n",
    "tracks_fighting_lil1 = data1['tracks']\n",
    "\n",
    "counter = 0\n",
    "print(\"\\n\")\n",
    "print(\"The top tracks of\", fighting_lil1['name'], \"are:\")\n",
    "for track in tracks_fighting_lil1:\n",
    "    print(tracks_fighting_lil1[counter]['popularity'], tracks_fighting_lil1[counter]['name'])\n",
    "    counter = counter + 1\n",
    "\n",
    "response1 = requests.get(\"https://api.spotify.com/v1/artists/\" + fighting_lil2['id'] + \"/top-tracks?country=US\")\n",
    "data1 = response1.json()\n",
    "tracks_fighting_lil2 = data1['tracks']\n",
    "\n",
    "counter = 0\n",
    "print(\"\\n\")\n",
    "print(\"The top tracks of\", fighting_lil2['name'], \"are:\")\n",
    "for track in tracks_fighting_lil2:\n",
    "    print(tracks_fighting_lil2[counter]['popularity'], tracks_fighting_lil2[counter]['name'])\n",
    "    counter = counter + 1"
   ]
  },
  {
   "cell_type": "markdown",
   "metadata": {},
   "source": [
    "6) Will the world explode if a musicians swears? Get an average popularity for their explicit songs vs. their non-explicit songs. How many minutes of explicit songs do they have? Non-explicit?"
   ]
  },
  {
   "cell_type": "code",
   "execution_count": 67,
   "metadata": {
    "collapsed": false
   },
   "outputs": [
    {
     "name": "stdout",
     "output_type": "stream",
     "text": [
      "Popularity of Lil Durk's explicit songs: [65, 63, 53, 51, 51, 48, 47, 46, 45, 45]\n",
      "Popularity of Lil Durk's non explicit songs: []\n",
      "Average popularity explicit: 51.4\n",
      "I can't calculate an average because there are no non explicit songs by Lil Durk.\n",
      "\n",
      "\n",
      "Popularity of Lil Twon's explicit songs: [54, 21]\n",
      "Popularity of Lil Twon's non explicit songs: []\n",
      "Average popularity explicit: 37.5\n",
      "I can't calculate an average because there are no non explicit songs by Lil Twon.\n"
     ]
    }
   ],
   "source": [
    "response3 = requests.get(\"https://api.spotify.com/v1/artists/\" + fighting_lil1['id'] + \"/top-tracks?country=US\")\n",
    "data3 = response3.json()\n",
    "tracks3 = data3['tracks']\n",
    "\n",
    "counter = 0\n",
    "explizitcounter = 0\n",
    "explicit_list = []\n",
    "non_explicit_list = []\n",
    "\n",
    "for track in tracks3:\n",
    "    if tracks3[counter]['explicit'] == True:\n",
    "        explicit_list.append(tracks3[counter]['popularity'])\n",
    "        counter = counter + 1\n",
    "    else:\n",
    "        not_explicit_list.append(tracks3[counter]['popularity'])\n",
    "        counter = counter + 1\n",
    "print(\"Popularity of\", fighting_lil1['name'] + \"'s explicit songs:\", explicit_list)\n",
    "print(\"Popularity of\", fighting_lil1['name'] + \"'s non explicit songs:\", non_explicit_list)\n",
    "if explicit_list == []:\n",
    "    print(\"I can't calculate an average because there are no explicit songs by\", fighting_lil1['name'] + \".\")\n",
    "else:\n",
    "    print(\"Average popularity explicit:\", sum(explicit_list) / len(explicit_list))\n",
    "if non_explicit_list == []:\n",
    "    print(\"I can't calculate an average because there are no non explicit songs by\", fighting_lil1['name'] + \".\")\n",
    "else: \n",
    "    print(\"Average popularity non explicit\", sum(non_explicit_list) / len(non_explicit_list))\n",
    "print(\"\\n\")\n",
    "    \n",
    "response3 = requests.get(\"https://api.spotify.com/v1/artists/\" + fighting_lil2['id'] + \"/top-tracks?country=US\")\n",
    "data3 = response3.json()\n",
    "tracks3 = data3['tracks']\n",
    "\n",
    "counter = 0\n",
    "explicit_list = []\n",
    "non_explicit_list = []\n",
    "for track in tracks3:\n",
    "    if tracks3[counter]['explicit'] == True:\n",
    "        explicit_list.append(tracks3[counter]['popularity'])\n",
    "        counter = counter + 1\n",
    "    else:\n",
    "        not_explicit_list.append(tracks3[counter]['popularity'])\n",
    "        counter = counter + 1\n",
    "print(\"Popularity of\", fighting_lil2['name'] + \"'s explicit songs:\", explicit_list)\n",
    "print(\"Popularity of\", fighting_lil2['name'] + \"'s non explicit songs:\", non_explicit_list)\n",
    "if explicit_list == []:\n",
    "    print(\"I can't calculate an average because there are no explicit songs by\", fighting_lil2['name'], \".\")\n",
    "else:\n",
    "    print(\"Average popularity explicit:\", sum(explicit_list) / len(explicit_list))\n",
    "if non_explicit_list == []:\n",
    "    print(\"I can't calculate an average because there are no non explicit songs by\", fighting_lil2['name'] + \".\")\n",
    "else: \n",
    "    print(\"Average popularity non explicit\", sum(non_explicit_list) / len(non_explicit_list))"
   ]
  },
  {
   "cell_type": "markdown",
   "metadata": {},
   "source": [
    "7) Since we're talking about Lils, what about Biggies? How many total \"Biggie\" artists are there? How many total \"Lil\"s? If you made 1 request every 5 seconds, how long would it take to download information on all the Lils vs the Biggies?"
   ]
  },
  {
   "cell_type": "code",
   "execution_count": 170,
   "metadata": {
    "collapsed": false
   },
   "outputs": [
    {
     "name": "stdout",
     "output_type": "stream",
     "text": [
      "There are 49 Biggies.\n",
      "It would take a little more than 0 seconds to download all of them. \n",
      "\n",
      "There are 4501 Lils.\n",
      "It would take a liitle more than 445 seconds to download all of them.\n",
      "\n"
     ]
    }
   ],
   "source": [
    "response4 = requests.get('https://api.spotify.com/v1/search?query=biggie&type=artist&country=US&limit=50')\n",
    "data4 = response4.json()\n",
    "biggies = data4['artists']['items']\n",
    "count_biggies = data4['artists']['total'] \n",
    "time_biggies = round(count_biggies / 50 * 5 - 5)\n",
    "print(\"There are\", count_biggies, \"Biggies.\")\n",
    "print(\"It would take a little more than\", time_biggies, \"seconds to download all of them. \\n\")\n",
    "\n",
    "response4 = requests.get('https://api.spotify.com/v1/search?query=lil&type=artist&country=US&limit=50')\n",
    "data4 = response4.json()\n",
    "count_lils = data4['artists']['total'] \n",
    "time_lils= round(count_lils / 50 * 5 - 5)\n",
    "print(\"There are\", count_lils, \"Lils.\")\n",
    "print(\"It would take a little more than\", time_lils, \"seconds to download all of them.\\n\")\n"
   ]
  },
  {
   "cell_type": "markdown",
   "metadata": {},
   "source": [
    "8) Out of the top 50 \"Lil\"s and the top 50 \"Biggie\"s, who is more popular on average?"
   ]
  },
  {
   "cell_type": "code",
   "execution_count": 178,
   "metadata": {
    "collapsed": false
   },
   "outputs": [
    {
     "name": "stdout",
     "output_type": "stream",
     "text": [
      "The Notorious B.I.G. is the most popular of the first 50 Biggies.\n"
     ]
    }
   ],
   "source": [
    "counter= 0\n",
    "pop_biggie = biggies[0]\n",
    "for biggie in biggies: \n",
    "    if biggies[counter]['popularity'] > pop_biggie['popularity']:\n",
    "        pop_biggie = biggies[counter]\n",
    "    counter = counter + 1\n",
    "print(pop_biggie['name'], \"is the most popular of the first 50 Biggies.\")\n",
    "\n",
    "ounter= 0\n",
    "pop_lil = lils[0]\n",
    "for biggie in biggies: \n",
    "    if biggies[counter]['popularity'] > pop_biggie['popularity']:\n",
    "        pop_biggie = biggies[counter]\n",
    "    counter = counter + 1\n",
    "print(pop_biggie['name'], \"is the most popular of the first 50 Biggies.\")\n"
   ]
  },
  {
   "cell_type": "markdown",
   "metadata": {
    "collapsed": true
   },
   "source": [
    "## New York Times"
   ]
  },
  {
   "cell_type": "markdown",
   "metadata": {},
   "source": [
    "All API's: http://developer.nytimes.com/\n",
    "Article search API: http://developer.nytimes.com/article_search_v2.json\n",
    "Best-seller API: http://developer.nytimes.com/books_api.json#/Documentation\n",
    "Test/build queries: http://developer.nytimes.com/\n",
    "\n",
    "Tip: Remember to include your API key in all requests! And their interactive web thing is pretty bad. You'll need to register for the API key.\n",
    "\n",
    "1) What books topped the Hardcover Fiction NYT best-sellers list on Mother's Day in 2009 and 2010? How about Father's Day?"
   ]
  },
  {
   "cell_type": "code",
   "execution_count": 20,
   "metadata": {
    "collapsed": false
   },
   "outputs": [],
   "source": [
    "response = requests.get('https://api.nytimes.com/svc/books/v3/lists/2010-05-09/HardCover-fiction.json?api-key=a5e7abd5dfc94cda82d2529598c9abf3') \n",
    "bestseller09_full = response.json()\n",
    "bestseller09 = bestseller09_full['results']['books']\n",
    "\n",
    "response = requests.get('https://api.nytimes.com/svc/books/v3/lists/2010-06-20/HardCover-fiction.json?api-key=a5e7abd5dfc94cda82d2529598c9abf3') \n",
    "bestseller10_full = response.json()\n",
    "bestseller10 = bestseller10_full['results']['books']"
   ]
  },
  {
   "cell_type": "code",
   "execution_count": 22,
   "metadata": {
    "collapsed": false
   },
   "outputs": [
    {
     "name": "stdout",
     "output_type": "stream",
     "text": [
      "Topselling Hardcover Fiction on Mother's Day 2009\n",
      "1 DELIVER US FROM EVIL by David Baldacci\n",
      "2 THE HELP by Kathryn Stockett\n",
      "3 THE DOUBLE COMFORT SAFARI CLUB by Alexander McCall Smith\n",
      "4 THIS BODY OF DEATH by Elizabeth George\n",
      "5 LUCID INTERVALS by Stuart Woods\n",
      "6 THE SHADOW OF YOUR SMILE by Mary Higgins Clark\n",
      "7 BURNING LAMP by Amanda Quick\n",
      "8 EVERY LAST ONE by Anna Quindlen\n",
      "9 EIGHT DAYS TO LIVE by Iris Johansen\n",
      "10 CHANGES by Jim Butcher\n",
      "11 CAUGHT by Harlan Coben\n",
      "12 HOUSE RULES by Jodi Picoult\n",
      "13 MATTERHORN by Karl Marlantes\n",
      "14 THE WALK by Richard Paul Evans\n",
      "15 DECEPTION by Jonathan Kellerman\n",
      "16 BEATRICE AND VIRGIL by Yann Martel\n",
      "17 WRECKED by Carol Higgins Clark\n",
      "18 SILVER BORNE by Patricia Briggs\n",
      "19 ABRAHAM LINCOLN: VAMPIRE HUNTER by Seth Grahame-Smith\n",
      "20 A RIVER IN THE SKY by Elizabeth Peters\n",
      "\n",
      "Topselling Hardcover Fiction on Father's Day 2010\n",
      "1 THE GIRL WHO KICKED THE HORNET’S NEST by Stieg Larsson\n",
      "2 BULLET by Laurell K Hamilton\n",
      "3 THE SPY by Clive Cussler and Justin Scott\n",
      "4 THE HELP by Kathryn Stockett\n",
      "5 DEAD IN THE FAMILY by Charlaine Harris\n",
      "6 61 HOURS by Lee Child\n",
      "7 THE BURNING WIRE by Jeffery Deaver\n",
      "8 STORM PREY by John Sandford\n",
      "9 THE BOURNE OBJECTIVE by Eric Van Lustbader\n",
      "10 INNOCENT by Scott Turow\n",
      "11 HEART OF THE MATTER by Emily Giffin\n",
      "12 THE 9TH JUDGMENT by James Patterson and Maxine Paetro\n",
      "13 BLOCKADE BILLY by Stephen King\n",
      "14 ALLIES by Christie Golden\n",
      "15 THE RULE OF NINE by Steve Martini\n",
      "16 FEVER DREAM by Lincoln Child and Douglas Preston\n",
      "17 DELIVER US FROM EVIL by David Baldacci\n",
      "18 MATTERHORN by Karl Marlantes\n",
      "19 THE PARTICULAR SADNESS OF LEMON CAKE by Aimee Bender\n",
      "20 DANGEROUS by Diana Palmer\n"
     ]
    }
   ],
   "source": [
    "counter = 0\n",
    "print(\"Topselling Hardcover Fiction on Mother's Day 2009\")\n",
    "for book in bestseller09: \n",
    "    print(bestseller09[counter]['rank'], bestseller09[counter]['title'], \"by\", bestseller09[counter]['author'])\n",
    "    counter = counter + 1\n",
    "    \n",
    "counter = 0\n",
    "print(\"\\nTopselling Hardcover Fiction on Father's Day 2010\")\n",
    "for book in bestseller10: \n",
    "    print(bestseller10[counter]['rank'], bestseller10[counter]['title'], \"by\", bestseller10[counter]['author'])\n",
    "    counter = counter + 1"
   ]
  },
  {
   "cell_type": "markdown",
   "metadata": {
    "collapsed": false
   },
   "source": [
    "2) What are all the different book categories the NYT ranked in June 6, 2009? How about June 6, 2015?"
   ]
  },
  {
   "cell_type": "code",
   "execution_count": 47,
   "metadata": {
    "collapsed": false
   },
   "outputs": [],
   "source": [
    "response = requests.get('https://api.nytimes.com/svc/books/v3/lists/2009-06-06/HardCover-fiction.json?api-key=a5e7abd5dfc94cda82d2529598c9abf3') \n",
    "categories09_full = response.json()\n",
    "categories09 = categories09_full['results']['books']\n",
    "response = requests.get('https://api.nytimes.com/svc/books/v3/lists/2015-06-06/HardCover-fiction.json?api-key=a5e7abd5dfc94cda82d2529598c9abf3') \n",
    "categories15_full = response.json()\n",
    "categories15 = categories15_full['results']['books']"
   ]
  },
  {
   "cell_type": "code",
   "execution_count": 52,
   "metadata": {
    "collapsed": false
   },
   "outputs": [
    {
     "name": "stdout",
     "output_type": "stream",
     "text": [
      "\n",
      "Categories 2009\n",
      "[{'amazon_product_url': 'http://www.amazon.com/The-Girl-Train-A-Novel-ebook/dp/B00L9B7IKE?tag=thenewyorktim-20', 'contributor': 'by Paula Hawkins', 'rank': 1, 'price': 0, 'author': 'Paula Hawkins', 'first_chapter_link': '', 'contributor_note': '', 'article_chapter_link': '', 'asterisk': 0, 'description': 'A psychological thriller set in the environs of London.', 'book_image_height': 193, 'primary_isbn13': '9781594633669', 'isbns': [{'isbn10': '1594633665', 'isbn13': '9781594633669'}, {'isbn10': '0698185390', 'isbn13': '9780698185395'}, {'isbn10': '1410477762', 'isbn13': '9781410477767'}, {'isbn10': '0857522329', 'isbn13': '9780857522320'}, {'isbn10': '1448171687', 'isbn13': '9781448171682'}, {'isbn10': '1594634122', 'isbn13': '9781594634123'}, {'isbn10': '038568231X', 'isbn13': '9780385682312'}], 'publisher': 'Riverhead', 'sunday_review_link': 'http://www.nytimes.com/2015/02/01/books/review/the-girl-on-the-train-by-paula-hawkins.html', 'weeks_on_list': 19, 'rank_last_week': 1, 'book_image': 'https://s1.nyt.com/du/books/images/9781594633669.jpg', 'age_group': '', 'title': 'THE GIRL ON THE TRAIN', 'primary_isbn10': '1594633665', 'book_image_width': 128, 'book_review_link': 'http://www.nytimes.com/2015/01/05/books/the-girl-on-the-train-by-paula-hawkins.html', 'dagger': 0}, {'amazon_product_url': 'http://www.amazon.com/All-Light-We-Cannot-See/dp/1476746583?tag=thenewyorktim-20', 'contributor': 'by Anthony Doerr', 'rank': 2, 'price': 0, 'author': 'Anthony Doerr', 'first_chapter_link': '', 'contributor_note': '', 'article_chapter_link': '', 'asterisk': 0, 'description': 'The lives of a blind French girl and a gadget-obsessed German boy before and during World War II; the winner of the 2015 Pulitzer Prize. \\xa0', 'book_image_height': 192, 'primary_isbn13': '9781476746586', 'isbns': [{'isbn10': '1476746583', 'isbn13': '9781476746586'}, {'isbn10': '1410470229', 'isbn13': '9781410470225'}, {'isbn10': '1476746591', 'isbn13': '9781476746593'}, {'isbn10': '1501122835', 'isbn13': '9781501122835'}, {'isbn10': '0007548699', 'isbn13': '9780007548699'}], 'publisher': 'Scribner', 'sunday_review_link': 'http://www.nytimes.com/2014/05/11/books/review/all-the-light-we-cannot-see-by-anthony-doerr.html', 'weeks_on_list': 55, 'rank_last_week': 2, 'book_image': 'https://s1.nyt.com/du/books/images/9781476746586.jpg', 'age_group': '', 'title': 'ALL THE LIGHT WE CANNOT SEE', 'primary_isbn10': '1476746583', 'book_image_width': 128, 'book_review_link': '', 'dagger': 0}, {'amazon_product_url': 'http://www.amazon.com/Seveneves-A-Novel-Neal-Stephenson-ebook/dp/B00LZWV8JO?tag=thenewyorktim-20', 'contributor': 'by Neal Stephenson', 'rank': 3, 'price': 0, 'author': 'Neal Stephenson', 'first_chapter_link': '', 'contributor_note': '', 'article_chapter_link': '', 'asterisk': 0, 'description': 'Five thousand years after a small number of survivors of the moon’s explosion took refuge on an international space station, their descendants contemplate a return to Earth.', 'book_image_height': 500, 'primary_isbn13': '9780062190376', 'isbns': [{'isbn10': '0062190377', 'isbn13': '9780062190376'}, {'isbn10': '0062190415', 'isbn13': '9780062190413'}, {'isbn10': '0062334514', 'isbn13': '9780062334510'}], 'publisher': 'Morrow/HarperCollins', 'sunday_review_link': 'http://www.nytimes.com/2015/05/31/books/review/seveneves-by-neal-stephenson.html', 'weeks_on_list': 1, 'rank_last_week': 0, 'book_image': 'https://s1.nyt.com/du/books/images/9780062190413.jpg', 'age_group': '', 'title': 'SEVENEVES', 'primary_isbn10': '0062190377', 'book_image_width': 333, 'book_review_link': '', 'dagger': 0}, {'amazon_product_url': 'http://www.amazon.com/Memory-Amos-Decker-David-Baldacci-ebook/dp/B00N7TDP8K?tag=thenewyorktim-20', 'contributor': 'by David Baldacci', 'rank': 4, 'price': 0, 'author': 'David Baldacci', 'first_chapter_link': '', 'contributor_note': '', 'article_chapter_link': '', 'asterisk': 0, 'description': \"A police detective uses his extraordinary memory when tackling the case of his family's murder.\", 'book_image_height': 500, 'primary_isbn13': '9781455559824', 'isbns': [{'isbn10': '1455559822', 'isbn13': '9781455559824'}, {'isbn10': '1455589489', 'isbn13': '9781455589487'}, {'isbn10': '1455586382', 'isbn13': '9781455586387'}, {'isbn10': '1455559814', 'isbn13': '9781455559817'}, {'isbn10': '1455559806', 'isbn13': '9781455559800'}], 'publisher': 'Grand Central', 'sunday_review_link': '', 'weeks_on_list': 5, 'rank_last_week': 4, 'book_image': 'https://s1.nyt.com/du/books/images/9781455586387.jpg', 'age_group': '', 'title': 'MEMORY MAN', 'primary_isbn10': '1455559822', 'book_image_width': 337, 'book_review_link': '', 'dagger': 0}, {'amazon_product_url': 'http://www.amazon.com/14th-Deadly-Womens-Murder-Club/dp/031640702X?tag=thenewyorktim-20', 'contributor': 'by James Patterson and Maxine Paetro', 'rank': 5, 'price': 0, 'author': 'James Patterson and Maxine Paetro', 'first_chapter_link': '', 'contributor_note': '', 'article_chapter_link': '', 'asterisk': 0, 'description': \"A video of a shocking crime surfaces, casting suspicion on a San Francisco detective's colleagues.\", 'book_image_height': 500, 'primary_isbn13': '9780316407021', 'isbns': [{'isbn10': '031640702X', 'isbn13': '9780316407021'}, {'isbn10': '031640876X', 'isbn13': '9780316408769'}, {'isbn10': '1455584991', 'isbn13': '9781455584994'}, {'isbn10': '1455584983', 'isbn13': '9781455584987'}], 'publisher': 'Little, Brown', 'sunday_review_link': '', 'weeks_on_list': 3, 'rank_last_week': 3, 'book_image': 'https://s1.nyt.com/du/books/images/9780316407021.jpg', 'age_group': '', 'title': '14TH DEADLY SIN', 'primary_isbn10': '031640702X', 'book_image_width': 322, 'book_review_link': '', 'dagger': 0}, {'amazon_product_url': 'http://www.amazon.com/Beach-Town-Mary-Kay-Andrews/dp/1250065933?tag=thenewyorktim-20', 'contributor': 'by Mary Kay Andrews', 'rank': 6, 'price': 0, 'author': 'Mary Kay Andrews', 'first_chapter_link': '', 'contributor_note': '', 'article_chapter_link': '', 'asterisk': 0, 'description': 'Complications arise when a Hollywood location scout tries to arrange a shoot in a Florida Gulf Coast town.', 'book_image_height': 500, 'primary_isbn13': '9781250065933', 'isbns': [{'isbn10': '1250065933', 'isbn13': '9781250065933'}, {'isbn10': '1250077230', 'isbn13': '9781250077233'}, {'isbn10': '1466872918', 'isbn13': '9781466872912'}], 'publisher': \"St. Martin's\", 'sunday_review_link': '', 'weeks_on_list': 1, 'rank_last_week': 0, 'book_image': 'https://s1.nyt.com/du/books/images/9781250065933.jpg', 'age_group': '', 'title': 'BEACH TOWN', 'primary_isbn10': '1250065933', 'book_image_width': 329, 'book_review_link': '', 'dagger': 0}, {'amazon_product_url': 'http://www.amazon.com/Gathering-Prey-John-Sandford/dp/0399168796?tag=thenewyorktim-20', 'contributor': 'by John Sandford', 'rank': 7, 'price': 0, 'author': 'John Sandford', 'first_chapter_link': '', 'contributor_note': '', 'article_chapter_link': '', 'asterisk': 0, 'description': 'Lucas Davenport is on the trail of killers who have targeted a group of vagabonds called the Travelers.', 'book_image_height': 500, 'primary_isbn13': '9780399168796', 'isbns': [{'isbn10': '0399168796', 'isbn13': '9780399168796'}, {'isbn10': '0425278859', 'isbn13': '9780425278857'}], 'publisher': 'Putnam', 'sunday_review_link': '', 'weeks_on_list': 4, 'rank_last_week': 6, 'book_image': 'https://s1.nyt.com/du/books/images/9780399168796.jpg', 'age_group': '', 'title': 'GATHERING PREY', 'primary_isbn10': '0399168796', 'book_image_width': 328, 'book_review_link': '', 'dagger': 0}, {'amazon_product_url': 'http://www.amazon.com/The-Nightingale-Kristin-Hannah/dp/0312577222?tag=thenewyorktim-20', 'contributor': 'by Kristin Hannah', 'rank': 8, 'price': 0, 'author': 'Kristin Hannah', 'first_chapter_link': '', 'contributor_note': '', 'article_chapter_link': '', 'asterisk': 0, 'description': 'Two sisters in World War II France: one struggling to survive in the countryside, the other joining the Resistance in Paris.', 'book_image_height': 195, 'primary_isbn13': '9780312577223', 'isbns': [{'isbn10': '0312577222', 'isbn13': '9780312577223'}, {'isbn10': '1466850604', 'isbn13': '9781466850606'}, {'isbn10': '1628995017', 'isbn13': '9781628995015'}, {'isbn10': '1250080401', 'isbn13': '9781250080400'}], 'publisher': \"St. Martin's\", 'sunday_review_link': '', 'weeks_on_list': 16, 'rank_last_week': 9, 'book_image': 'https://s1.nyt.com/du/books/images/9781466850606.jpg', 'age_group': '', 'title': 'THE NIGHTINGALE', 'primary_isbn10': '0312577222', 'book_image_width': 128, 'book_review_link': '', 'dagger': 0}, {'amazon_product_url': 'http://www.amazon.com/The-Scarlet-Gospels-Clive-Barker/dp/1250055806?tag=thenewyorktim-20', 'contributor': 'by Clive Barker', 'rank': 9, 'price': 0, 'author': 'Clive Barker', 'first_chapter_link': '', 'contributor_note': '', 'article_chapter_link': '', 'asterisk': 0, 'description': 'Harry D’Amour, the detective of the supernatural from Barker’s Books of Blood, faces off against Pinhead, the sadistic Cenobite from the Hellraiser series.', 'book_image_height': 500, 'primary_isbn13': '9781250055804', 'isbns': [{'isbn10': '1250055806', 'isbn13': '9781250055804'}], 'publisher': \"St. Martin's\", 'sunday_review_link': '', 'weeks_on_list': 1, 'rank_last_week': 0, 'book_image': 'https://s1.nyt.com/du/books/images/9781250055804.jpg', 'age_group': '', 'title': 'THE SCARLET GOSPELS', 'primary_isbn10': '1250055806', 'book_image_width': 329, 'book_review_link': '', 'dagger': 0}, {'amazon_product_url': 'http://www.amazon.com/Robert-Parkers-Kickback-Spenser-Book-ebook/dp/B00O2BS3IO?tag=thenewyorktim-20', 'contributor': 'by Ace Atkins', 'rank': 10, 'price': 0, 'author': 'Ace Atkins', 'first_chapter_link': '', 'contributor_note': '', 'article_chapter_link': '', 'asterisk': 0, 'description': 'Spenser defends a high school student wrongly accused of terrorism and sentenced to a brutal bootcamp; a continuation of the series by Parker, who died in 2010.', 'book_image_height': 500, 'primary_isbn13': '9780399170843', 'isbns': [{'isbn10': '0399170847', 'isbn13': '9780399170843'}, {'isbn10': '0425278875', 'isbn13': '9780425278871'}], 'publisher': 'Putnam', 'sunday_review_link': '', 'weeks_on_list': 1, 'rank_last_week': 0, 'book_image': 'https://s1.nyt.com/du/books/images/9780698161214.jpg', 'age_group': '', 'title': \"ROBERT B. PARKER'S KICKBACK\", 'primary_isbn10': '0399170847', 'book_image_width': 330, 'book_review_link': '', 'dagger': 0}, {'amazon_product_url': 'http://www.amazon.com/The-Forgotten-Room-A-Novel-ebook/dp/B00N6PCYVE?tag=thenewyorktim-20', 'contributor': 'by Lincoln Child', 'rank': 11, 'price': 0, 'author': 'Lincoln Child', 'first_chapter_link': '', 'contributor_note': '', 'article_chapter_link': '', 'asterisk': 0, 'description': 'Probing a death, the “enigmatologist” Jeremy Logan discovers a hidden room at a Newport estate where a dangerous experiment took place.', 'book_image_height': 500, 'primary_isbn13': '9780385531405', 'isbns': [{'isbn10': '0385531400', 'isbn13': '9780385531405'}, {'isbn10': '0385531419', 'isbn13': '9780385531412'}], 'publisher': 'Doubleday', 'sunday_review_link': '', 'weeks_on_list': 2, 'rank_last_week': 8, 'book_image': 'https://s1.nyt.com/du/books/images/9780385531412.jpg', 'age_group': '', 'title': 'THE FORGOTTEN ROOM', 'primary_isbn10': '0385531400', 'book_image_width': 329, 'book_review_link': '', 'dagger': 0}, {'amazon_product_url': 'http://www.amazon.com/Luckiest-Girl-Alive-A-Novel-ebook/dp/B00LD1OITO?tag=thenewyorktim-20', 'contributor': 'by Jessica Knoll', 'rank': 12, 'price': 0, 'author': 'Jessica Knoll', 'first_chapter_link': '', 'contributor_note': '', 'article_chapter_link': '', 'asterisk': 0, 'description': 'The life of a cutthroat and successful New York magazine writer is shaken when secrets from her past are revealed.', 'book_image_height': 500, 'primary_isbn13': '9781476789637', 'isbns': [{'isbn10': '1476789630', 'isbn13': '9781476789637'}, {'isbn10': '1476789657', 'isbn13': '9781476789651'}, {'isbn10': '1476789649', 'isbn13': '9781476789644'}], 'publisher': 'Simon & Schuster', 'sunday_review_link': '', 'weeks_on_list': 2, 'rank_last_week': 12, 'book_image': 'https://s1.nyt.com/du/books/images/9781476789651.jpg', 'age_group': '', 'title': 'LUCKIEST GIRL ALIVE', 'primary_isbn10': '1476789630', 'book_image_width': 331, 'book_review_link': '', 'dagger': 0}, {'amazon_product_url': 'http://www.amazon.com/Dry-Bones-Longmire-Mystery-Mysteries/dp/0525426930?tag=thenewyorktim-20', 'contributor': 'by Craig Johnson', 'rank': 13, 'price': 0, 'author': 'Craig Johnson', 'first_chapter_link': '', 'contributor_note': '', 'article_chapter_link': '', 'asterisk': 0, 'description': 'Sheriff Walt Longmire investigates the death of a Cheyenne rancher on whose property a valuable dinosaur skeleton was found. T', 'book_image_height': 500, 'primary_isbn13': '9780525426936', 'isbns': [{'isbn10': '0525426930', 'isbn13': '9780525426936'}, {'isbn10': '0698157516', 'isbn13': '9780698157514'}], 'publisher': 'Viking', 'sunday_review_link': '', 'weeks_on_list': 2, 'rank_last_week': 5, 'book_image': 'https://s1.nyt.com/du/books/images/9780525426936.jpg', 'age_group': '', 'title': 'DRY BONES', 'primary_isbn10': '0525426930', 'book_image_width': 331, 'book_review_link': '', 'dagger': 0}, {'amazon_product_url': 'http://www.amazon.com/God-Help-Child-A-novel/dp/0307594173?tag=thenewyorktim-20', 'contributor': 'by Toni Morrison', 'rank': 14, 'price': 0, 'author': 'Toni Morrison', 'first_chapter_link': '', 'contributor_note': '', 'article_chapter_link': '', 'asterisk': 0, 'description': 'Her mother’s rejection shapes the life of a dark-skinned woman who is successful in business but personally unhappy.', 'book_image_height': 500, 'primary_isbn13': '9780307594174', 'isbns': [{'isbn10': '0307594173', 'isbn13': '9780307594174'}, {'isbn10': '0385353170', 'isbn13': '9780385353175'}, {'isbn10': '0307740927', 'isbn13': '9780307740922'}], 'publisher': 'Knopf', 'sunday_review_link': 'http://www.nytimes.com/2015/04/19/books/review/toni-morrisons-god-help-the-child.html', 'weeks_on_list': 5, 'rank_last_week': 11, 'book_image': 'https://s1.nyt.com/du/books/images/9780307594174.jpg', 'age_group': '', 'title': 'GOD HELP THE CHILD', 'primary_isbn10': '0307594173', 'book_image_width': 338, 'book_review_link': '', 'dagger': 0}, {'amazon_product_url': 'http://www.amazon.com/The-Bone-Tree-Novel-Penn-ebook/dp/B00M70YWKK?tag=thenewyorktim-20', 'contributor': 'by Greg Iles', 'rank': 15, 'price': 0, 'author': 'Greg Iles', 'first_chapter_link': '', 'contributor_note': '', 'article_chapter_link': '', 'asterisk': 0, 'description': 'In the second book of a trilogy, following “Natchez Burning,” the prosecutor Penn Cage comes up against the K.K.K.', 'book_image_height': 500, 'primary_isbn13': '9780062311115', 'isbns': [{'isbn10': '0062311115', 'isbn13': '9780062311115'}, {'isbn10': '006231114X', 'isbn13': '9780062311146'}, {'isbn10': '0062370057', 'isbn13': '9780062370051'}, {'isbn10': '0062311131', 'isbn13': '9780062311139'}], 'publisher': 'Morrow/HarperCollins', 'sunday_review_link': '', 'weeks_on_list': 5, 'rank_last_week': 10, 'book_image': 'https://s1.nyt.com/du/books/images/9780062311146.jpg', 'age_group': '', 'title': 'THE BONE TREE', 'primary_isbn10': '0062311115', 'book_image_width': 331, 'book_review_link': '', 'dagger': 0}, {'amazon_product_url': 'http://www.amazon.com/A-God-Ruins-Novel-ebook/dp/B00NERQQXG?tag=thenewyorktim-20', 'contributor': 'by Kate Atkinson', 'rank': 16, 'price': 0, 'author': 'Kate Atkinson', 'first_chapter_link': '', 'contributor_note': '', 'article_chapter_link': '', 'asterisk': 0, 'description': 'Postwar Britain as seen through the members of a well-to-do family.', 'book_image_height': 500, 'primary_isbn13': '9780316176538', 'isbns': [{'isbn10': '0316176532', 'isbn13': '9780316176538'}, {'isbn10': '031634155X', 'isbn13': '9780316341554'}], 'publisher': 'Little, Brown', 'sunday_review_link': 'http://www.nytimes.com/2015/05/10/books/review/kate-atkinsons-a-god-in-ruins.html', 'weeks_on_list': 0, 'rank_last_week': 0, 'book_image': 'https://s1.nyt.com/du/books/images/9780316341554.jpg', 'age_group': '', 'title': 'A GOD IN RUINS', 'primary_isbn10': '0316176532', 'book_image_width': 323, 'book_review_link': '', 'dagger': 0}, {'amazon_product_url': 'http://www.amazon.com/At-Waters-Edge-A-Novel/dp/0385523238?tag=thenewyorktim-20', 'contributor': 'by Sara Gruen', 'rank': 17, 'price': 0, 'author': 'Sara Gruen', 'first_chapter_link': '', 'contributor_note': '', 'article_chapter_link': '', 'asterisk': 0, 'description': 'In the course of a search for the Loch Ness monster, a Philadelphia socialite uncovers secrets about her husband.', 'book_image_height': 500, 'primary_isbn13': '9780385523233', 'isbns': [{'isbn10': '0385523238', 'isbn13': '9780385523233'}, {'isbn10': '0812997891', 'isbn13': '9780812997897'}, {'isbn10': '0804194815', 'isbn13': '9780804194815'}, {'isbn10': '0385523246', 'isbn13': '9780385523240'}], 'publisher': 'Spiegel & Grau', 'sunday_review_link': '', 'weeks_on_list': 0, 'rank_last_week': 0, 'book_image': 'https://s1.nyt.com/du/books/images/9780385523233.jpg', 'age_group': '', 'title': \"AT THE WATER'S EDGE\", 'primary_isbn10': '0385523238', 'book_image_width': 329, 'book_review_link': '', 'dagger': 0}, {'amazon_product_url': 'http://www.amazon.com/The-Liar-Nora-Roberts-ebook/dp/B00O2BKKZS?tag=thenewyorktim-20', 'contributor': 'by Nora Roberts', 'rank': 18, 'price': 0, 'author': 'Nora Roberts', 'first_chapter_link': '', 'contributor_note': '', 'article_chapter_link': '', 'asterisk': 0, 'description': 'After her husband’s death, a woman returns to her hometown, only to discover that her husband was a fraud who implicated her in his deceptions.', 'book_image_height': 500, 'primary_isbn13': '9780399170867', 'isbns': [{'isbn10': '0399170863', 'isbn13': '9780399170867'}, {'isbn10': '0399175865', 'isbn13': '9780399175862'}, {'isbn10': '1101989750', 'isbn13': '9781101989753'}, {'isbn10': '0425279154', 'isbn13': '9780425279151'}], 'publisher': 'Putnam', 'sunday_review_link': '', 'weeks_on_list': 0, 'rank_last_week': 0, 'book_image': 'https://s1.nyt.com/du/books/images/9780698161351.jpg', 'age_group': '', 'title': 'THE LIAR', 'primary_isbn10': '0399170863', 'book_image_width': 331, 'book_review_link': '', 'dagger': 0}, {'amazon_product_url': 'http://www.amazon.com/Rock-Wings-Leaphorn-Chee-Mysteries/dp/0062270516?tag=thenewyorktim-20', 'contributor': 'by Anne Hillerman', 'rank': 19, 'price': 0, 'author': 'Anne Hillerman', 'first_chapter_link': '', 'contributor_note': '', 'article_chapter_link': '', 'asterisk': 0, 'description': \"Husband-and-wife police officers Chee and Bernie have their hands full with a woman's disappearance and new threats to Navajo lands.\", 'book_image_height': 500, 'primary_isbn13': '9780062270511', 'isbns': [{'isbn10': '0062270516', 'isbn13': '9780062270511'}, {'isbn10': '0062270532', 'isbn13': '9780062270535'}, {'isbn10': '0062270524', 'isbn13': '9780062270528'}, {'isbn10': '0062393243', 'isbn13': '9780062393241'}], 'publisher': 'Harper/HarperCollins', 'sunday_review_link': '', 'weeks_on_list': 0, 'rank_last_week': 0, 'book_image': 'https://s1.nyt.com/du/books/images/9780062270511.jpg', 'age_group': '', 'title': 'ROCK WITH WINGS', 'primary_isbn10': '0062270516', 'book_image_width': 331, 'book_review_link': '', 'dagger': 0}, {'amazon_product_url': 'http://www.amazon.com/Spool-Blue-Thread-novel-ebook/dp/B00MSS0WVY?tag=thenewyorktim-20', 'contributor': 'by Anne Tyler', 'rank': 20, 'price': 0, 'author': 'Anne Tyler', 'first_chapter_link': '', 'contributor_note': '', 'article_chapter_link': '', 'asterisk': 0, 'description': 'Four generations of a family are drawn to a house in the Baltimore suburbs.', 'book_image_height': 191, 'primary_isbn13': '9781101874271', 'isbns': [{'isbn10': '1101874279', 'isbn13': '9781101874271'}, {'isbn10': '0804194726', 'isbn13': '9780804194723'}, {'isbn10': '1101874287', 'isbn13': '9781101874288'}, {'isbn10': '0553394398', 'isbn13': '9780553394399'}], 'publisher': 'Knopf', 'sunday_review_link': 'http://www.nytimes.com/2015/02/15/books/review/a-spool-of-blue-thread-by-anne-tyler.html', 'weeks_on_list': 0, 'rank_last_week': 0, 'book_image': 'https://s1.nyt.com/du/books/images/9781101874288.jpg', 'age_group': '', 'title': 'A SPOOL OF BLUE THREAD', 'primary_isbn10': '1101874279', 'book_image_width': 128, 'book_review_link': 'http://www.nytimes.com/2015/02/06/books/anne-tylers-20th-novel-a-spool-of-blue-thread.html', 'dagger': 0}]\n"
     ]
    },
    {
     "ename": "KeyError",
     "evalue": "'category'",
     "output_type": "error",
     "traceback": [
      "\u001b[1;31m---------------------------------------------------------------------------\u001b[0m",
      "\u001b[1;31mKeyError\u001b[0m                                  Traceback (most recent call last)",
      "\u001b[1;32m<ipython-input-52-dc98a2edc11f>\u001b[0m in \u001b[0;36m<module>\u001b[1;34m()\u001b[0m\n\u001b[0;32m      3\u001b[0m \u001b[0mprint\u001b[0m\u001b[1;33m(\u001b[0m\u001b[0mcategories15\u001b[0m\u001b[1;33m)\u001b[0m\u001b[1;33m\u001b[0m\u001b[0m\n\u001b[0;32m      4\u001b[0m \u001b[1;32mfor\u001b[0m \u001b[0mbook\u001b[0m \u001b[1;32min\u001b[0m \u001b[0mcategories09\u001b[0m\u001b[1;33m:\u001b[0m\u001b[1;33m\u001b[0m\u001b[0m\n\u001b[1;32m----> 5\u001b[1;33m     \u001b[0mprint\u001b[0m\u001b[1;33m(\u001b[0m\u001b[0mcategories09\u001b[0m\u001b[1;33m[\u001b[0m\u001b[0mcounter\u001b[0m\u001b[1;33m]\u001b[0m\u001b[1;33m[\u001b[0m\u001b[1;34m'category'\u001b[0m\u001b[1;33m]\u001b[0m\u001b[1;33m,\u001b[0m \u001b[0mcategories09\u001b[0m\u001b[1;33m[\u001b[0m\u001b[0mcounter\u001b[0m\u001b[1;33m]\u001b[0m\u001b[1;33m[\u001b[0m\u001b[1;34m'title'\u001b[0m\u001b[1;33m]\u001b[0m\u001b[1;33m,\u001b[0m \u001b[1;34m\"by\"\u001b[0m\u001b[1;33m,\u001b[0m \u001b[0mcategories09\u001b[0m\u001b[1;33m[\u001b[0m\u001b[0mcounter\u001b[0m\u001b[1;33m]\u001b[0m\u001b[1;33m[\u001b[0m\u001b[1;34m'author'\u001b[0m\u001b[1;33m]\u001b[0m\u001b[1;33m)\u001b[0m\u001b[1;33m\u001b[0m\u001b[0m\n\u001b[0m\u001b[0;32m      6\u001b[0m     \u001b[0mcounter\u001b[0m \u001b[1;33m=\u001b[0m \u001b[0mcounter\u001b[0m \u001b[1;33m+\u001b[0m \u001b[1;36m1\u001b[0m\u001b[1;33m\u001b[0m\u001b[0m\n",
      "\u001b[1;31mKeyError\u001b[0m: 'category'"
     ]
    }
   ],
   "source": [
    "counter = 0\n",
    "print(\"\\nCategories 2009\")\n",
    "print(categories15)\n",
    "for book in categories09: \n",
    "    print(categories09[counter]['category'], categories09[counter]['title'], \"by\", categories09[counter]['author'])\n",
    "    counter = counter + 1"
   ]
  },
  {
   "cell_type": "markdown",
   "metadata": {},
   "source": [
    "\n",
    "## MORE SPOTIFY!\n",
    "\n",
    "LIL' GRAPHICS\n",
    "\n",
    "Use Excel, Illustrator or something like https://infogr.am/ to make a graphic about the Lil's, or the Lil's vs. the Biggies. Just a simple bar graph of their various popularities sounds good to me.\n",
    "\n",
    "SEARCH ENGINE\n",
    "\n",
    "Make a non-IPython Notebook that automates browsing for top tracks\n",
    "Prompts for an artist\n",
    "you put it in, displays the results, asks which one you want (numbered)\n",
    "you enter a number\n",
    "It displays their top tracks, then their MOST popular album and their least popular album. if they only have one album it says that they only have one album."
   ]
  },
  {
   "cell_type": "code",
   "execution_count": 28,
   "metadata": {
    "collapsed": false
   },
   "outputs": [
    {
     "ename": "SyntaxError",
     "evalue": "invalid syntax (<ipython-input-28-27c86d1be375>, line 3)",
     "output_type": "error",
     "traceback": [
      "\u001b[1;36m  File \u001b[1;32m\"<ipython-input-28-27c86d1be375>\"\u001b[1;36m, line \u001b[1;32m3\u001b[0m\n\u001b[1;33m    Tip: Add \"Libya\" to your search to make sure (-ish) you're talking about the right guy.\u001b[0m\n\u001b[1;37m       ^\u001b[0m\n\u001b[1;31mSyntaxError\u001b[0m\u001b[1;31m:\u001b[0m invalid syntax\n"
     ]
    }
   ],
   "source": [
    "3) Muammar Gaddafi's name can be transliterated many many ways. His last name is often a source of a million and one versions - Gadafi, Gaddafi, Kadafi, and Qaddafi to name a few. How many times has the New York Times referred to him by each of those names?\n",
    "\n",
    "Tip: Add \"Libya\" to your search to make sure (-ish) you're talking about the right guy.\n",
    "\n",
    "4) What's the title of the first story to mention the word 'hipster' in 1995? What's the first paragraph?\n",
    "\n",
    "5) How many times was gay marriage mentioned in the NYT between 1950-1959, 1960-1969, 1970-1978, 1980-1989, 1990-2099, 2000-2009, and 2010-present?\n",
    "\n",
    "Tip: You'll want to put quotes around the search term so it isn't just looking for \"gay\" and \"marriage\" in the same article.\n",
    "\n",
    "Tip: Write code to find the number of mentions between Jan 1, 1950 and Dec 31, 1959.\n",
    "\n",
    "6) What section talks about motorcycles the most?\n",
    "\n",
    "Tip: You'll be using facets\n",
    "\n",
    "7) How many of the last 20 movies reviewed by the NYT were Critics' Picks? How about the last 40? The last 60?\n",
    "\n",
    "Tip: You really don't want to do this 3 separate times (1-20, 21-40 and 41-60) and add them together. What if, perhaps, you were able to figure out how to combine two lists? Then you could have a 1-20 list, a 1-40 list, and a 1-60 list, and then just run similar code for each of them.\n",
    "\n",
    "8) Out of the last 40 movie reviews from the NYT, which critic has written the most reviews?"
   ]
  }
 ],
 "metadata": {
  "kernelspec": {
   "display_name": "Python 3",
   "language": "python",
   "name": "python3"
  },
  "language_info": {
   "codemirror_mode": {
    "name": "ipython",
    "version": 3
   },
   "file_extension": ".py",
   "mimetype": "text/x-python",
   "name": "python",
   "nbconvert_exporter": "python",
   "pygments_lexer": "ipython3",
   "version": "3.5.1+"
  }
 },
 "nbformat": 4,
 "nbformat_minor": 0
}
