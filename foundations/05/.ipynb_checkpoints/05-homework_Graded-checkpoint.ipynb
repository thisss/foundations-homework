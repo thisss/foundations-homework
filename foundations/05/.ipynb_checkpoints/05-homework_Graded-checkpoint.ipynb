{
 "cells": [
  {
   "cell_type": "markdown",
   "metadata": {},
   "source": [
    "## SPOTIFY\n",
    "\n",
    "1) With \"Lil Wayne\" and \"Lil Kim\" there are a lot of \"Lil\" musicians. Do a search and print a list of 50 that are playable in the USA (or the country of your choice), along with their popularity score."
   ]
  },
  {
   "cell_type": "markdown",
   "metadata": {},
   "source": [
    "Graded = 16/16"
   ]
  },
  {
   "cell_type": "code",
   "execution_count": 1,
   "metadata": {
    "collapsed": true
   },
   "outputs": [],
   "source": [
    "import requests"
   ]
  },
  {
   "cell_type": "code",
   "execution_count": 2,
   "metadata": {
    "collapsed": false,
    "scrolled": false
   },
   "outputs": [
    {
     "name": "stdout",
     "output_type": "stream",
     "text": [
      "Lil Wayne (86)\n",
      "Lil Yachty (74)\n",
      "Lil Uzi Vert (74)\n",
      "Lil Dicky (69)\n",
      "Boosie Badazz (67)\n",
      "Lil Jon (72)\n",
      "King Lil G (61)\n",
      "Lil Durk (60)\n",
      "Lil Jon & The East Side Boyz (60)\n",
      "Lil Bibby (54)\n",
      "G Herbo (53)\n",
      "Lil Rob (50)\n",
      "Lil Reese (50)\n",
      "Lil Scrappy (50)\n",
      "Bow Wow (57)\n",
      "Lil Keke (48)\n",
      "Lil Wyte (50)\n",
      "Lil Blood (46)\n",
      "Lil Snupe (45)\n",
      "Lil Mama (45)\n",
      "Lil Boom (46)\n",
      "Lil B (44)\n",
      "Lil' Kim (62)\n",
      "Lil Cuete (40)\n",
      "Lil Phat (40)\n",
      "Lil Debbie (43)\n",
      "Lil Twist (40)\n",
      "Lil Trill (37)\n",
      "Lil Goofy (36)\n",
      "Lil Lonnie (37)\n",
      "Lil AJ (37)\n",
      "Lil Haiti (38)\n",
      "Lil Cray (36)\n",
      "Lil Twon (36)\n",
      "Mr. Lil One (36)\n",
      "Lil Mouse (35)\n",
      "Lil Silva (43)\n",
      "Lil Yase (34)\n",
      "Lil Flash (38)\n",
      "Lil Suzy (34)\n",
      "Lil Eddie (41)\n",
      "Lil Rue (34)\n",
      "Lil Kesh (39)\n",
      "Lil Wayne, DJ Drama (35)\n",
      "Lil C (33)\n",
      "Lil Rick (39)\n",
      "Lil E (35)\n",
      "Lil June (32)\n",
      "Lil Fate (34)\n",
      "Lil' Flip (50)\n"
     ]
    }
   ],
   "source": [
    "response = requests.get('https://api.spotify.com/v1/search?query=lil&type=artist&country=US&limit=50')\n",
    "data = response.json()\n",
    "lils = data['artists']['items']\n",
    "for artist in lils:\n",
    "    print(artist['name'], \"(\" + str(artist['popularity']) + \")\")"
   ]
  },
  {
   "cell_type": "markdown",
   "metadata": {},
   "source": [
    "2) What genres are most represented in the search results? Edit your previous printout to also display a list of their genres in the format \"GENRE_1, GENRE_2, GENRE_3\". If there are no genres, print \"No genres listed\". Tip: \"how to join a list Python\" might be a helpful search"
   ]
  },
  {
   "cell_type": "code",
   "execution_count": 3,
   "metadata": {
    "collapsed": false
   },
   "outputs": [
    {
     "name": "stdout",
     "output_type": "stream",
     "text": [
      "Artist: Lil Wayne\n",
      "Popularity: 86\n",
      "Genres: dirty south rap, pop rap, southern hip hop, trap music\n",
      "\n",
      "Artist: Lil Yachty\n",
      "Popularity: 74\n",
      "No genres listed \n",
      "\n",
      "Artist: Lil Uzi Vert\n",
      "Popularity: 74\n",
      "No genres listed \n",
      "\n",
      "Artist: Lil Dicky\n",
      "Popularity: 69\n",
      "No genres listed \n",
      "\n",
      "Artist: Boosie Badazz\n",
      "Popularity: 67\n",
      "No genres listed \n",
      "\n",
      "Artist: Lil Jon\n",
      "Popularity: 72\n",
      "Genres: crunk, dirty south rap, southern hip hop\n",
      "\n",
      "Artist: King Lil G\n",
      "Popularity: 61\n",
      "No genres listed \n",
      "\n",
      "Artist: Lil Durk\n",
      "Popularity: 60\n",
      "No genres listed \n",
      "\n",
      "Artist: Lil Jon & The East Side Boyz\n",
      "Popularity: 60\n",
      "No genres listed \n",
      "\n",
      "Artist: Lil Bibby\n",
      "Popularity: 54\n",
      "No genres listed \n",
      "\n",
      "Artist: G Herbo\n",
      "Popularity: 53\n",
      "No genres listed \n",
      "\n",
      "Artist: Lil Rob\n",
      "Popularity: 50\n",
      "Genres: chicano rap, latin hip hop\n",
      "\n",
      "Artist: Lil Reese\n",
      "Popularity: 50\n",
      "No genres listed \n",
      "\n",
      "Artist: Lil Scrappy\n",
      "Popularity: 50\n",
      "Genres: crunk, dirty south rap, southern hip hop, trap music\n",
      "\n",
      "Artist: Bow Wow\n",
      "Popularity: 57\n",
      "Genres: hip pop, pop rap\n",
      "\n",
      "Artist: Lil Keke\n",
      "Popularity: 48\n",
      "No genres listed \n",
      "\n",
      "Artist: Lil Wyte\n",
      "Popularity: 50\n",
      "Genres: juggalo\n",
      "\n",
      "Artist: Lil Blood\n",
      "Popularity: 46\n",
      "No genres listed \n",
      "\n",
      "Artist: Lil Snupe\n",
      "Popularity: 45\n",
      "No genres listed \n",
      "\n",
      "Artist: Lil Mama\n",
      "Popularity: 45\n",
      "Genres: hip pop\n",
      "\n",
      "Artist: Lil Boom\n",
      "Popularity: 46\n",
      "No genres listed \n",
      "\n",
      "Artist: Lil B\n",
      "Popularity: 44\n",
      "No genres listed \n",
      "\n",
      "Artist: Lil' Kim\n",
      "Popularity: 62\n",
      "Genres: hip pop\n",
      "\n",
      "Artist: Lil Cuete\n",
      "Popularity: 40\n",
      "Genres: chicano rap\n",
      "\n",
      "Artist: Lil Phat\n",
      "Popularity: 40\n",
      "No genres listed \n",
      "\n",
      "Artist: Lil Debbie\n",
      "Popularity: 43\n",
      "No genres listed \n",
      "\n",
      "Artist: Lil Twist\n",
      "Popularity: 40\n",
      "Genres: jerk\n",
      "\n",
      "Artist: Lil Trill\n",
      "Popularity: 37\n",
      "Genres: deep trap\n",
      "\n",
      "Artist: Lil Goofy\n",
      "Popularity: 36\n",
      "No genres listed \n",
      "\n",
      "Artist: Lil Lonnie\n",
      "Popularity: 37\n",
      "No genres listed \n",
      "\n",
      "Artist: Lil AJ\n",
      "Popularity: 37\n",
      "No genres listed \n",
      "\n",
      "Artist: Lil Haiti\n",
      "Popularity: 38\n",
      "No genres listed \n",
      "\n",
      "Artist: Lil Cray\n",
      "Popularity: 36\n",
      "No genres listed \n",
      "\n",
      "Artist: Lil Twon\n",
      "Popularity: 36\n",
      "No genres listed \n",
      "\n",
      "Artist: Mr. Lil One\n",
      "Popularity: 36\n",
      "Genres: chicano rap\n",
      "\n",
      "Artist: Lil Mouse\n",
      "Popularity: 35\n",
      "No genres listed \n",
      "\n",
      "Artist: Lil Silva\n",
      "Popularity: 43\n",
      "No genres listed \n",
      "\n",
      "Artist: Lil Yase\n",
      "Popularity: 34\n",
      "No genres listed \n",
      "\n",
      "Artist: Lil Flash\n",
      "Popularity: 38\n",
      "No genres listed \n",
      "\n",
      "Artist: Lil Suzy\n",
      "Popularity: 34\n",
      "Genres: freestyle\n",
      "\n",
      "Artist: Lil Eddie\n",
      "Popularity: 41\n",
      "No genres listed \n",
      "\n",
      "Artist: Lil Rue\n",
      "Popularity: 34\n",
      "No genres listed \n",
      "\n",
      "Artist: Lil Kesh\n",
      "Popularity: 39\n",
      "No genres listed \n",
      "\n",
      "Artist: Lil Wayne, DJ Drama\n",
      "Popularity: 35\n",
      "No genres listed \n",
      "\n",
      "Artist: Lil C\n",
      "Popularity: 33\n",
      "No genres listed \n",
      "\n",
      "Artist: Lil Rick\n",
      "Popularity: 39\n",
      "Genres: soca\n",
      "\n",
      "Artist: Lil E\n",
      "Popularity: 35\n",
      "No genres listed \n",
      "\n",
      "Artist: Lil June\n",
      "Popularity: 32\n",
      "No genres listed \n",
      "\n",
      "Artist: Lil Fate\n",
      "Popularity: 34\n",
      "No genres listed \n",
      "\n",
      "Artist: Lil' Flip\n",
      "Popularity: 50\n",
      "Genres: crunk, dirty south rap\n",
      "\n"
     ]
    }
   ],
   "source": [
    "for artist in lils:\n",
    "    print(\"Artist:\", artist['name'])\n",
    "    print(\"Popularity:\", artist['popularity'])\n",
    "    if (artist['genres']) == []:\n",
    "        print(\"No genres listed \\n\")\n",
    "    else:\n",
    "        print(\"Genres:\", ', '.join(artist['genres']) + \"\\n\")"
   ]
  },
  {
   "cell_type": "markdown",
   "metadata": {},
   "source": [
    "3) Use a for loop to determine who BESIDES Lil Wayne has the highest popularity rating. Is it the same artist who has the largest number of followers?"
   ]
  },
  {
   "cell_type": "code",
   "execution_count": 4,
   "metadata": {
    "collapsed": false
   },
   "outputs": [
    {
     "name": "stdout",
     "output_type": "stream",
     "text": [
      "Lil Yachty has -- besides Lil Wayne -- the highest popularity: the score is 74. Congratulation. But be aware: The public opinion might change quickly. And so might Spotify's algorithms.\n",
      "The most popular is not necessary the most followed. Lil Jon has the most follower: 257156. Congratulation. But be aware: Follower won't follow you wherever you go.\n"
     ]
    }
   ],
   "source": [
    "highest = lils[1]\n",
    "\n",
    "for artist in lils:\n",
    "    if artist['popularity'] > highest['popularity'] and artist['name'] != \"Lil Wayne\":\n",
    "        highest = artist\n",
    "print(highest['name'], \"has -- besides Lil Wayne -- the highest popularity:\", \"the score is\", str(highest['popularity']) + \". Congratulation. But be aware: The public opinion might change quickly. And so might Spotify's algorithms.\")\n",
    "\n",
    "follower = lils[1]\n",
    "\n",
    "for artist in lils:\n",
    "      if artist['followers']['total'] > follower['followers']['total'] and artist['name'] != \"Lil Wayne\":\n",
    "        follower = artist\n",
    "if follower == highest:\n",
    "    print(follower['name'], \"is at the same time the artist with the second highest popularity and the second most follower.\")\n",
    "else: \n",
    "    print(\"The most popular is not necessary the most followed.\", follower['name'], \"has the most follower:\", str(follower['followers']['total']) + \". Congratulation. But be aware: Follower won't follow you wherever you go.\")"
   ]
  },
  {
   "cell_type": "markdown",
   "metadata": {},
   "source": [
    "4) Print a list of Lil's that are more popular than Lil' Kim."
   ]
  },
  {
   "cell_type": "code",
   "execution_count": 5,
   "metadata": {
    "collapsed": false
   },
   "outputs": [
    {
     "name": "stdout",
     "output_type": "stream",
     "text": [
      "['Lil Wayne', 'Lil Yachty', 'Lil Uzi Vert', 'Lil Dicky', 'Boosie Badazz', 'Lil Jon', 'King Lil G', 'Lil Durk', 'Lil Jon & The East Side Boyz', 'Lil Bibby', 'G Herbo', 'Lil Rob', 'Lil Reese', 'Lil Scrappy', 'Bow Wow', 'Lil Keke', 'Lil Wyte', 'Lil Blood', 'Lil Snupe', 'Lil Mama', 'Lil Boom', \"Lil' Kim\", \"Lil' Flip\"] \n",
      "\n",
      "Lil Wayne, Lil Yachty, Lil Uzi Vert, Lil Dicky, Boosie Badazz, Lil Jon, King Lil G, Lil Durk, Lil Jon & The East Side Boyz, Lil Bibby, G Herbo, Lil Rob, Lil Reese, Lil Scrappy, Bow Wow, Lil Keke, Lil Wyte, Lil Blood, Lil Snupe, Lil Mama, Lil Boom, Lil' Kim and Lil' Flip are more popular than Lil' Kim.\n"
     ]
    }
   ],
   "source": [
    "pop_list = []\n",
    "for artist in lils:\n",
    "    if artist['popularity'] > lils[21]['popularity']:\n",
    "        pop_list.append(artist['name'])\n",
    "print(pop_list, \"\\n\")\n",
    "print(\", \".join(pop_list[0:-1]), \"and\", pop_list[-1], \"are more popular than Lil' Kim.\")"
   ]
  },
  {
   "cell_type": "markdown",
   "metadata": {},
   "source": [
    "5) Pick two of your favorite Lils to fight it out, and use their IDs to print out their top tracks.\n",
    "Tip: You're going to be making two separate requests, be sure you DO NOT save them into the same variable."
   ]
  },
  {
   "cell_type": "code",
   "execution_count": 6,
   "metadata": {
    "collapsed": false
   },
   "outputs": [
    {
     "name": "stdout",
     "output_type": "stream",
     "text": [
      "Lil Durk and Lil Trill are climbing into the ring. Who will win?\n",
      "Well, it's Lil Durk . The popularity score ranges at 60 while Lil Trill has just a popularity of 37.\n",
      "\n",
      "\n",
      "The top tracks of Lil Durk are:\n",
      "64 My Beyoncé\n",
      "62 Like Me\n",
      "52 Decline\n",
      "51 Dis Ain't What U Want\n",
      "50 Tryna' Tryna'\n",
      "47 WYDTM\n",
      "46 She Just Wanna\n",
      "46 500 Homicides\n",
      "45 What Your Life Like\n",
      "45 Higher\n",
      "\n",
      "\n",
      "The top tracks of Lil Trill are:\n",
      "44 Show Da World (feat. Kiara)\n",
      "35 Ducked Off - feat. Shell and Lil' Phat [Explicit Album Version]\n",
      "29 Rubbin On My Head - Remix [Feat. Lil Boosie and Lil Trill - Explicit Album Version]\n",
      "29 Count My Money Backwards - feat. Webbie [Explicit Album Version]\n",
      "28 Turn The Beat Up (Mouse feat. Lil' Trill, Foxx, Lil' Phat and Webbie)\n",
      "25 Do It Bigger - Explicit Album Version\n",
      "24 Do It Then\n",
      "24 Where Would I Be\n",
      "23 Memories\n",
      "23 Lay Me Down\n"
     ]
    }
   ],
   "source": [
    "fighting_lil1 = lils[7]\n",
    "fighting_lil2 = lils[27]\n",
    "\n",
    "print(fighting_lil1['name'], \"and\", fighting_lil2['name'], \"are climbing into the ring. Who will win?\")\n",
    "\n",
    "if fighting_lil1['popularity'] > fighting_lil2['popularity']:\n",
    "    print(\"Well, it's\", fighting_lil1['name'], \". The popularity score ranges at\", str(fighting_lil1['popularity']), \"while\", fighting_lil2['name'], \"has just a popularity of\", str(fighting_lil2['popularity']) + \".\")\n",
    "else:\n",
    "    print(\"Well, it's\", fighting_lil2['name'] + \". The popularity score ranges at\", str(fighting_lil2['popularity']), \"while\", lil1['name'], \"has just a popularity of\", str(lil1['popularity']) + \".\")\n",
    "\n",
    "response1 = requests.get(\"https://api.spotify.com/v1/artists/\" + fighting_lil1['id'] + \"/top-tracks?country=US\")\n",
    "data1 = response1.json()\n",
    "tracks_fighting_lil1 = data1['tracks']\n",
    "\n",
    "print(\"\\n\")\n",
    "print(\"The top tracks of\", fighting_lil1['name'], \"are:\")\n",
    "for track in tracks_fighting_lil1:\n",
    "    print(track['popularity'], track['name'])\n",
    "\n",
    "response1 = requests.get(\"https://api.spotify.com/v1/artists/\" + fighting_lil2['id'] + \"/top-tracks?country=US\")\n",
    "data1 = response1.json()\n",
    "tracks_fighting_lil2 = data1['tracks']\n",
    "\n",
    "counter = 0\n",
    "print(\"\\n\")\n",
    "print(\"The top tracks of\", fighting_lil2['name'], \"are:\")\n",
    "for track in tracks_fighting_lil2:\n",
    "    print(track['popularity'], track['name'])\n",
    "    counter = counter + 1"
   ]
  },
  {
   "cell_type": "markdown",
   "metadata": {},
   "source": [
    "6) Will the world explode if a musicians swears? Get an average popularity for their explicit songs vs. their non-explicit songs. How many minutes of explicit songs do they have? Non-explicit?"
   ]
  },
  {
   "cell_type": "code",
   "execution_count": 7,
   "metadata": {
    "collapsed": false
   },
   "outputs": [
    {
     "name": "stdout",
     "output_type": "stream",
     "text": [
      "Popularity of Lil Durk's explicit songs: [64, 62, 52, 51, 50, 47, 46, 46, 45, 45]\n",
      "Popularity of Lil Durk's non explicit songs: []\n",
      "Average popularity explicit: 50.8\n",
      "I can't calculate an average because there are no non explicit songs by Lil Durk.\n",
      "\n",
      "\n",
      "Popularity of Lil Trill's explicit songs: [44, 35, 29, 29, 28, 25, 24, 24, 23, 23]\n",
      "Popularity of Lil Trill's non explicit songs: []\n",
      "Average popularity explicit: 28.4\n",
      "I can't calculate an average because there are no non explicit songs by Lil Trill.\n"
     ]
    }
   ],
   "source": [
    "response3 = requests.get(\"https://api.spotify.com/v1/artists/\" + fighting_lil1['id'] + \"/top-tracks?country=US\")\n",
    "data3 = response3.json()\n",
    "tracks3 = data3['tracks']\n",
    "\n",
    "explizitcounter = 0\n",
    "explicit_list = []\n",
    "non_explicit_list = []\n",
    "\n",
    "for track in tracks3:\n",
    "    if track['explicit'] == True:\n",
    "        explicit_list.append(track['popularity'])\n",
    "    else:\n",
    "        not_explicit_list.append(tracks['popularity'])\n",
    "print(\"Popularity of\", fighting_lil1['name'] + \"'s explicit songs:\", explicit_list)\n",
    "print(\"Popularity of\", fighting_lil1['name'] + \"'s non explicit songs:\", non_explicit_list)\n",
    "if explicit_list == []:\n",
    "    print(\"I can't calculate an average because there are no explicit songs by\", fighting_lil1['name'] + \".\")\n",
    "else:\n",
    "    print(\"Average popularity explicit:\", sum(explicit_list) / len(explicit_list))\n",
    "if non_explicit_list == []:\n",
    "    print(\"I can't calculate an average because there are no non explicit songs by\", fighting_lil1['name'] + \".\")\n",
    "else: \n",
    "    print(\"Average popularity non explicit\", sum(non_explicit_list) / len(non_explicit_list))\n",
    "print(\"\\n\")\n",
    "    \n",
    "response3 = requests.get(\"https://api.spotify.com/v1/artists/\" + fighting_lil2['id'] + \"/top-tracks?country=US\")\n",
    "data3 = response3.json()\n",
    "tracks3 = data3['tracks']\n",
    "\n",
    "explicit_list = []\n",
    "non_explicit_list = []\n",
    "for track in tracks3:\n",
    "    if track['explicit'] == True:\n",
    "        explicit_list.append(track['popularity'])\n",
    "    else:\n",
    "        not_explicit_list.append(track['popularity'])\n",
    "        \n",
    "print(\"Popularity of\", fighting_lil2['name'] + \"'s explicit songs:\", explicit_list)\n",
    "print(\"Popularity of\", fighting_lil2['name'] + \"'s non explicit songs:\", non_explicit_list)\n",
    "if explicit_list == []:\n",
    "    print(\"I can't calculate an average because there are no explicit songs by\", fighting_lil2['name'], \".\")\n",
    "else:\n",
    "    print(\"Average popularity explicit:\", sum(explicit_list) / len(explicit_list))\n",
    "if non_explicit_list == []:\n",
    "    print(\"I can't calculate an average because there are no non explicit songs by\", fighting_lil2['name'] + \".\")\n",
    "else: \n",
    "    print(\"Average popularity non explicit\", sum(non_explicit_list) / len(non_explicit_list))"
   ]
  },
  {
   "cell_type": "markdown",
   "metadata": {},
   "source": [
    "7) Since we're talking about Lils, what about Biggies? How many total \"Biggie\" artists are there? How many total \"Lil\"s? If you made 1 request every 5 seconds, how long would it take to download information on all the Lils vs the Biggies?"
   ]
  },
  {
   "cell_type": "code",
   "execution_count": 8,
   "metadata": {
    "collapsed": false
   },
   "outputs": [
    {
     "name": "stdout",
     "output_type": "stream",
     "text": [
      "There are 50 Biggies.\n",
      "It would take a little more than 0 seconds to download all of them. \n",
      "\n",
      "There are 4526 Lils.\n",
      "It would take a little more than 448 seconds to download all of them.\n",
      "\n"
     ]
    }
   ],
   "source": [
    "response4 = requests.get('https://api.spotify.com/v1/search?query=biggie&type=artist&country=US&limit=50')\n",
    "data4 = response4.json()\n",
    "biggies = data4['artists']['items']\n",
    "count_biggies = data4['artists']['total'] \n",
    "time_biggies = round(count_biggies / 50 * 5 - 5)\n",
    "print(\"There are\", count_biggies, \"Biggies.\")\n",
    "print(\"It would take a little more than\", time_biggies, \"seconds to download all of them. \\n\")\n",
    "\n",
    "response4 = requests.get('https://api.spotify.com/v1/search?query=lil&type=artist&country=US&limit=50')\n",
    "data4 = response4.json()\n",
    "count_lils = data4['artists']['total'] \n",
    "time_lils= round(count_lils / 50 * 5 - 5)\n",
    "print(\"There are\", count_lils, \"Lils.\")\n",
    "print(\"It would take a little more than\", time_lils, \"seconds to download all of them.\\n\")\n"
   ]
  },
  {
   "cell_type": "markdown",
   "metadata": {},
   "source": [
    "8) Out of the top 50 \"Lil\"s and the top 50 \"Biggie\"s, who is more popular on average?"
   ]
  },
  {
   "cell_type": "code",
   "execution_count": 9,
   "metadata": {
    "collapsed": false
   },
   "outputs": [
    {
     "name": "stdout",
     "output_type": "stream",
     "text": [
      "The Notorious B.I.G. is the most popular of the first 50 Biggies.\n",
      "Lil Wayne is the most popular of the first 50 Lils.\n"
     ]
    }
   ],
   "source": [
    "pop_biggie = biggies[0]\n",
    "for biggie in biggies: \n",
    "    if biggie['popularity'] > pop_biggie['popularity']:\n",
    "        pop_biggie = biggie\n",
    "print(pop_biggie['name'], \"is the most popular of the first 50 Biggies.\")\n",
    "\n",
    "pop_lil = lils[0]\n",
    "for lil in lils: \n",
    "    if lil['popularity'] > pop_lil['popularity']:\n",
    "        pop_lil = lil\n",
    "print(pop_lil['name'], \"is the most popular of the first 50 Lils.\")\n"
   ]
  },
  {
   "cell_type": "markdown",
   "metadata": {
    "collapsed": true
   },
   "source": [
    "## New York Times"
   ]
  },
  {
   "cell_type": "markdown",
   "metadata": {},
   "source": [
    "All API's: http://developer.nytimes.com/\n",
    "Article search API: http://developer.nytimes.com/article_search_v2.json\n",
    "Best-seller API: http://developer.nytimes.com/books_api.json#/Documentation\n",
    "Test/build queries: http://developer.nytimes.com/\n",
    "\n",
    "Tip: Remember to include your API key in all requests! And their interactive web thing is pretty bad. You'll need to register for the API key.\n",
    "\n",
    "1) What books topped the Hardcover Fiction NYT best-sellers list on Mother's Day in 2009 and 2010? How about Father's Day?"
   ]
  },
  {
   "cell_type": "code",
   "execution_count": 10,
   "metadata": {
    "collapsed": false
   },
   "outputs": [],
   "source": [
    "response = requests.get('https://api.nytimes.com/svc/books/v3/lists/2010-05-09/HardCover-fiction.json?api-key=a5e7abd5dfc94cda82d2529598c9abf3') \n",
    "bestseller09_full = response.json()\n",
    "bestseller09 = bestseller09_full['results']['books']\n",
    "\n",
    "response = requests.get('https://api.nytimes.com/svc/books/v3/lists/2010-06-20/HardCover-fiction.json?api-key=a5e7abd5dfc94cda82d2529598c9abf3') \n",
    "bestseller10_full = response.json()\n",
    "bestseller10 = bestseller10_full['results']['books']"
   ]
  },
  {
   "cell_type": "code",
   "execution_count": 11,
   "metadata": {
    "collapsed": false
   },
   "outputs": [
    {
     "name": "stdout",
     "output_type": "stream",
     "text": [
      "Topselling Hardcover Fiction on Mother's Day 2009\n",
      "1 DELIVER US FROM EVIL by David Baldacci\n",
      "2 THE HELP by Kathryn Stockett\n",
      "3 THE DOUBLE COMFORT SAFARI CLUB by Alexander McCall Smith\n",
      "4 THIS BODY OF DEATH by Elizabeth George\n",
      "5 LUCID INTERVALS by Stuart Woods\n",
      "6 THE SHADOW OF YOUR SMILE by Mary Higgins Clark\n",
      "7 BURNING LAMP by Amanda Quick\n",
      "8 EVERY LAST ONE by Anna Quindlen\n",
      "9 EIGHT DAYS TO LIVE by Iris Johansen\n",
      "10 CHANGES by Jim Butcher\n",
      "11 CAUGHT by Harlan Coben\n",
      "12 HOUSE RULES by Jodi Picoult\n",
      "13 MATTERHORN by Karl Marlantes\n",
      "14 THE WALK by Richard Paul Evans\n",
      "15 DECEPTION by Jonathan Kellerman\n",
      "16 BEATRICE AND VIRGIL by Yann Martel\n",
      "17 WRECKED by Carol Higgins Clark\n",
      "18 SILVER BORNE by Patricia Briggs\n",
      "19 ABRAHAM LINCOLN: VAMPIRE HUNTER by Seth Grahame-Smith\n",
      "20 A RIVER IN THE SKY by Elizabeth Peters\n",
      "\n",
      "Topselling Hardcover Fiction on Father's Day 2010\n",
      "1 THE GIRL WHO KICKED THE HORNET’S NEST by Stieg Larsson\n",
      "2 BULLET by Laurell K Hamilton\n",
      "3 THE SPY by Clive Cussler and Justin Scott\n",
      "4 THE HELP by Kathryn Stockett\n",
      "5 DEAD IN THE FAMILY by Charlaine Harris\n",
      "6 61 HOURS by Lee Child\n",
      "7 THE BURNING WIRE by Jeffery Deaver\n",
      "8 STORM PREY by John Sandford\n",
      "9 THE BOURNE OBJECTIVE by Eric Van Lustbader\n",
      "10 INNOCENT by Scott Turow\n",
      "11 HEART OF THE MATTER by Emily Giffin\n",
      "12 THE 9TH JUDGMENT by James Patterson and Maxine Paetro\n",
      "13 BLOCKADE BILLY by Stephen King\n",
      "14 ALLIES by Christie Golden\n",
      "15 THE RULE OF NINE by Steve Martini\n",
      "16 FEVER DREAM by Lincoln Child and Douglas Preston\n",
      "17 DELIVER US FROM EVIL by David Baldacci\n",
      "18 MATTERHORN by Karl Marlantes\n",
      "19 THE PARTICULAR SADNESS OF LEMON CAKE by Aimee Bender\n",
      "20 DANGEROUS by Diana Palmer\n"
     ]
    }
   ],
   "source": [
    "print(\"Topselling Hardcover Fiction on Mother's Day 2009\")\n",
    "for book in bestseller09: \n",
    "    print(book['rank'], book['title'], \"by\", book['author'])\n",
    "    \n",
    "print(\"\\nTopselling Hardcover Fiction on Father's Day 2010\")\n",
    "for book in bestseller10: \n",
    "    print(book['rank'], book['title'], \"by\", book['author'])"
   ]
  },
  {
   "cell_type": "markdown",
   "metadata": {
    "collapsed": false
   },
   "source": [
    "2) What are all the different book categories the NYT ranked in June 6, 2009? How about June 6, 2015?"
   ]
  },
  {
   "cell_type": "code",
   "execution_count": 12,
   "metadata": {
    "collapsed": false
   },
   "outputs": [],
   "source": [
    "response = requests.get('https://api.nytimes.com/svc/books/v3/lists/overview.json?api-key=a5e7abd5dfc94cda82d2529598c9abf3&published_date=2009-06-06') \n",
    "nameslist_full1 = response.json()\n",
    "nameslist1 = nameslist_full1['results']['lists']\n",
    "\n",
    "response = requests.get('https://api.nytimes.com/svc/books/v3/lists/overview.json?api-key=a5e7abd5dfc94cda82d2529598c9abf3&published_date=2015-06-06') \n",
    "nameslist_full2 = response.json()\n",
    "nameslist2 = nameslist_full2['results']['lists']"
   ]
  },
  {
   "cell_type": "code",
   "execution_count": 13,
   "metadata": {
    "collapsed": false
   },
   "outputs": [
    {
     "name": "stdout",
     "output_type": "stream",
     "text": [
      "The categories of the bestsellers on June 6, 2009:\n",
      "Chapter Books, Hardcover Advice, Hardcover Fiction, Hardcover Graphic Books, Hardcover Nonfiction, Manga, Mass Market Paperback, Paperback Advice, Paperback Books, Paperback Graphic Books, Paperback Nonfiction, Picture Books, Series Books, Trade Fiction Paperback\n",
      "\n",
      "\n",
      "The categories of the bestsellers on June 6, 2015:\n",
      "Advice How-To and Miscellaneous, Animals, Business Books, Celebrities, Childrens Middle Grade, Combined Print and E-Book Fiction, Combined Print and E-Book Nonfiction, Crime and Punishment, Culture, E-Book Fiction, E-Book Nonfiction, Education, Espionage, Expeditions Disasters and Adventures, Family, Fashion Manners and Customs, Food and Fitness, Games and Activities, Hardcover Fiction, Hardcover Graphic Books, Hardcover Nonfiction, Hardcover Political Books, Health, Humor, Indigenous Americans, Manga, Mass Market Paperback, Paperback Graphic Books, Paperback Nonfiction, Picture Books, Race and Civil Rights, Relationships, Religion Spirituality and Faith, Science, Series Books, Sports, Trade Fiction Paperback, Travel, Young Adult\n"
     ]
    }
   ],
   "source": [
    "categories1 = []\n",
    "for book in nameslist1:\n",
    "    categories1.append(book['list_name'])\n",
    "nameslistfinal1 = (sorted(set(categories1)))\n",
    "print(\"The categories of the bestsellers on June 6, 2009:\\n\" + \", \".join(nameslistfinal1))\n",
    "\n",
    "print(\"\\n\")\n",
    "categories2 = []\n",
    "for book in nameslist2:\n",
    "    categories2.append(book['list_name'])\n",
    "nameslistfinal2 = (sorted(set(categories2)))\n",
    "print(\"The categories of the bestsellers on June 6, 2015:\\n\" + \", \".join(nameslistfinal2))"
   ]
  },
  {
   "cell_type": "markdown",
   "metadata": {},
   "source": [
    "3) Muammar Gaddafi's name can be transliterated many, many ways. His last name is often a source of a million and one versions - Gadafi, Gaddafi, Kadafi, and Qaddafi to name a few. How many times has the New York Times referred to him by each of those names? Tip: Add \"Libya\" to your search to make sure (-ish) you're talking about the right guy."
   ]
  },
  {
   "cell_type": "code",
   "execution_count": 14,
   "metadata": {
    "collapsed": false
   },
   "outputs": [
    {
     "name": "stdout",
     "output_type": "stream",
     "text": [
      "Gadafi: 0\n",
      "Gaddafi: 1069\n",
      "Kadafi: 3\n",
      "Qaddafi: 5309\n"
     ]
    }
   ],
   "source": [
    "muhammars = [\"Gadafi\", \"Gaddafi\", \"Kadafi\", \"Qaddafi\"] \n",
    "\n",
    "for muha in muhammars:\n",
    "    response = requests.get('https://api.nytimes.com/svc/search/v2/articlesearch.json?api-key=a5e7abd5dfc94cda82d2529598c9abf3&q=' + muha + '&fq=libya') \n",
    "    article_query = response.json()\n",
    "    print(muha + \":\", article_query['response']['meta']['hits'])"
   ]
  },
  {
   "cell_type": "markdown",
   "metadata": {
    "collapsed": false
   },
   "source": [
    "4) What's the title of the first story to mention the word 'hipster' in 1995? What's the first paragraph?"
   ]
  },
  {
   "cell_type": "code",
   "execution_count": 15,
   "metadata": {
    "collapsed": false
   },
   "outputs": [],
   "source": [
    "response = requests.get('https://api.nytimes.com/svc/search/v2/articlesearch.json?api-key=a5e7abd5dfc94cda82d2529598c9abf3&q=hipster&begin_date=19950101&end_date=19951231&sort=oldest') \n",
    "hipster = response.json()"
   ]
  },
  {
   "cell_type": "code",
   "execution_count": 16,
   "metadata": {
    "collapsed": false
   },
   "outputs": [
    {
     "name": "stdout",
     "output_type": "stream",
     "text": [
      "SOUND\n",
      "SURFACING\n",
      "Portable record players with built-in speakers, from the 1960's, are the latest points on hipster score cards. In some cases, they are the only way to listen to many of the old LP or 45-r.p.m. recordings still around but not released on cassette or CD. Usually available in white plastic or metal, they can be found in flea markets and secondhand stores. One style has the arm cast in the shape of a cobra. (Don Hogan Charles/The New York Times)\n"
     ]
    }
   ],
   "source": [
    "first_hipster = hipster['response']['docs'][0]\n",
    "print(str(first_hipster['headline']['main']) + \"\\n\" + first_hipster['headline']['kicker'] + \"\\n\" + str(first_hipster['lead_paragraph']))"
   ]
  },
  {
   "cell_type": "markdown",
   "metadata": {},
   "source": [
    "5) How many times was gay marriage mentioned in the NYT between 1950-1959, 1960-1969, 1970-1978, 1980-1989, 1990-2099, 2000-2009, and 2010-present?\n",
    "Tip: You'll want to put quotes around the search term so it isn't just looking for \"gay\" and \"marriage\" in the same article. Tip: Write code to find the number of mentions between Jan 1, 1950 and Dec 31, 1959."
   ]
  },
  {
   "cell_type": "code",
   "execution_count": 36,
   "metadata": {
    "collapsed": false
   },
   "outputs": [
    {
     "name": "stdout",
     "output_type": "stream",
     "text": [
      "https://api.nytimes.com/svc/search/v2/articlesearch.json?api-key=a5e7abd5dfc94cda82d2529598c9abf3&q=gay marriage&begin_date=20000101&end_date=20091231\n",
      "https://api.nytimes.com/svc/search/v2/articlesearch.json?api-key=a5e7abd5dfc94cda82d2529598c9abf3&q=gay marriage&begin_date=19600101&end_date=19691231\n",
      "https://api.nytimes.com/svc/search/v2/articlesearch.json?api-key=a5e7abd5dfc94cda82d2529598c9abf3&q=gay marriage&begin_date=19700101&end_date=19781231\n",
      "https://api.nytimes.com/svc/search/v2/articlesearch.json?api-key=a5e7abd5dfc94cda82d2529598c9abf3&q=gay marriage&begin_date=20100101&end_date=20161231\n",
      "https://api.nytimes.com/svc/search/v2/articlesearch.json?api-key=a5e7abd5dfc94cda82d2529598c9abf3&q=gay marriage&begin_date=19900101&end_date=19991231\n",
      "https://api.nytimes.com/svc/search/v2/articlesearch.json?api-key=a5e7abd5dfc94cda82d2529598c9abf3&q=gay marriage&begin_date=19500101&end_date=19591231\n",
      "https://api.nytimes.com/svc/search/v2/articlesearch.json?api-key=a5e7abd5dfc94cda82d2529598c9abf3&q=gay marriage&begin_date=19800101&end_date=19891231\n"
     ]
    }
   ],
   "source": [
    "dates = {'1950' : ['1950', '1959'], \"1960\" : [\"1960\", \"1969\"], \"1970\" : [\"1970\", \"1978\"], \"1980\": [\"1980\", \"1989\"], \"1990\": [\"1990\", \"1999\"], \"2000\": [\"2000\", \"2009\"], \"2010\" : [\"2010\", \"2016\"]}\n",
    "gaymarriage = {}\n",
    "for date in dates:\n",
    "    response = requests.get('https://api.nytimes.com/svc/search/v2/articlesearch.json?api-key=a5e7abd5dfc94cda82d2529598c9abf3&q=gay marriage&begin_date=' + dates[date][0] + '0101&end_date=' + dates[date][1] + '1231') \n",
    "    print('https://api.nytimes.com/svc/search/v2/articlesearch.json?api-key=a5e7abd5dfc94cda82d2529598c9abf3&q=gay marriage&begin_date=' + dates[date][0] + '0101&end_date=' + dates[date][1] + '1231')\n",
    "    gaymarriage[date] = response.json()"
   ]
  },
  {
   "cell_type": "code",
   "execution_count": 35,
   "metadata": {
    "collapsed": false
   },
   "outputs": [
    {
     "name": "stdout",
     "output_type": "stream",
     "text": [
      "1950 -- 1959: 556 mentions of \"gay marriage\"\n",
      "1960 -- 1969: 485 mentions of \"gay marriage\"\n",
      "1970 -- 1978: 408 mentions of \"gay marriage\"\n",
      "1980 -- 1989: 368 mentions of \"gay marriage\"\n",
      "1990 -- 1999: 1110 mentions of \"gay marriage\"\n",
      "2000 -- 2009: 4861 mentions of \"gay marriage\"\n",
      "2010 -- 2016: 8901 mentions of \"gay marriage\"\n"
     ]
    }
   ],
   "source": [
    "for decade in range(len(dates)):\n",
    "    print(dates[str(1950 + decade * 10)][0], \"--\", dates[str(1950 + decade * 10)][1] +  \":\", gaymarriage[str(1950 + decade * 10)]['response']['meta']['hits'], \"mentions of \\\"gay marriage\\\"\")\n"
   ]
  },
  {
   "cell_type": "code",
   "execution_count": null,
   "metadata": {
    "collapsed": false
   },
   "outputs": [],
   "source": []
  },
  {
   "cell_type": "markdown",
   "metadata": {},
   "source": [
    "6) What section talks about motorcycles the most? \n",
    "Tip: You'll be using facets"
   ]
  },
  {
   "cell_type": "code",
   "execution_count": 19,
   "metadata": {
    "collapsed": true
   },
   "outputs": [],
   "source": [
    "response = requests.get('https://api.nytimes.com/svc/search/v2/articlesearch.json?api-key=a5e7abd5dfc94cda82d2529598c9abf3&q=motorcycle&facet_field=section_name&facet_filter=true') \n",
    "motorcycles = response.json()"
   ]
  },
  {
   "cell_type": "code",
   "execution_count": 20,
   "metadata": {
    "collapsed": false
   },
   "outputs": [
    {
     "name": "stdout",
     "output_type": "stream",
     "text": [
      "World: 1807 articles\n",
      "U.S.: 1296 articles\n",
      "Sports: 1140 articles\n",
      "New York and Region: 1025 articles\n",
      "Arts: 929 articles\n"
     ]
    }
   ],
   "source": [
    "section_cycles = motorcycles['response']['facets']['section_name']['terms']\n",
    "for section in section_cycles:\n",
    "    print(section['term'] + \":\", str(section['count']), \"articles\")"
   ]
  },
  {
   "cell_type": "markdown",
   "metadata": {},
   "source": [
    "7) How many of the last 20 movies reviewed by the NYT were Critics' Picks? How about the last 40? The last 60?\n",
    "\n",
    "Tip: You really don't want to do this 3 separate times (1-20, 21-40 and 41-60) and add them together. What if, perhaps, you were able to figure out how to combine two lists? Then you could have a 1-20 list, a 1-40 list, and a 1-60 list, and then just run similar code for each of them."
   ]
  },
  {
   "cell_type": "code",
   "execution_count": 21,
   "metadata": {
    "collapsed": false
   },
   "outputs": [],
   "source": [
    "for i in range(3):\n",
    "    response = requests.get('https://api.nytimes.com/svc/movies/v2/reviews/search.json?api-key=a5e7abd5dfc94cda82d2529598c9abf3&publication-date=2016-01-01;2016-06-20&offset=' + str(i))\n",
    "    if i == 0:\n",
    "        list0_full = response.json()\n",
    "        list0 = list0_full['results']\n",
    "    elif i == 1:\n",
    "        list1_full = response.json()\n",
    "        list1 = list1_full['results']\n",
    "    elif i == 2:\n",
    "        list2_full = response.json()\n",
    "        list2 = list2_full['results']"
   ]
  },
  {
   "cell_type": "code",
   "execution_count": 22,
   "metadata": {
    "collapsed": false
   },
   "outputs": [
    {
     "name": "stdout",
     "output_type": "stream",
     "text": [
      "8 of the last 20 movies were Critics' Picks.\n",
      "16 of the last 40 movies were Critics' Picks.\n",
      "24 of the last 60 movies were Critics' Picks.\n"
     ]
    }
   ],
   "source": [
    "pickcounter = 0\n",
    "\n",
    "for movie in list0:\n",
    "    if movie['critics_pick'] == 1:\n",
    "        pickcounter += 1\n",
    "print(pickcounter, \"of the last\", len(list0), \"movies were Critics' Picks.\")\n",
    "\n",
    "for movie1 in list1:\n",
    "    if movie1['critics_pick'] == 1:\n",
    "        pickcounter += 1\n",
    "print(pickcounter, \"of the last\", len(list0 + list1), \"movies were Critics' Picks.\")\n",
    "\n",
    "for movie2 in list2:\n",
    "    if movie2['critics_pick'] == 1:\n",
    "        pickcounter += 1\n",
    "print(pickcounter, \"of the last\", len(list0 + list1 + list2), \"movies were Critics' Picks.\")"
   ]
  },
  {
   "cell_type": "markdown",
   "metadata": {},
   "source": [
    "8) Out of the last 40 movie reviews from the NYT, which critic has written the most reviews?"
   ]
  },
  {
   "cell_type": "code",
   "execution_count": 23,
   "metadata": {
    "collapsed": false
   },
   "outputs": [
    {
     "name": "stdout",
     "output_type": "stream",
     "text": [
      "A. O. SCOTT has written the most reviews.\n"
     ]
    }
   ],
   "source": [
    "authors = []\n",
    "for author in list1:\n",
    "    authors.append(author['byline'])\n",
    "print(max(set(authors), key=authors.count), \"has written the most reviews.\")"
   ]
  },
  {
   "cell_type": "markdown",
   "metadata": {},
   "source": [
    "\n",
    "## MORE SPOTIFY!\n",
    "\n",
    "LIL' GRAPHICS\n",
    "\n",
    "Use Excel, Illustrator or something like https://infogr.am/ to make a graphic about the Lil's, or the Lil's vs. the Biggies. Just a simple bar graph of their various popularities sounds good to me."
   ]
  },
  {
   "cell_type": "code",
   "execution_count": 24,
   "metadata": {
    "collapsed": false
   },
   "outputs": [
    {
     "name": "stdout",
     "output_type": "stream",
     "text": [
      "Here's a nicely formated output to paste into Libre Office Calc (and probably other spreadsheet applications):\n",
      "\n",
      "Lil Wayne , 86\n",
      "Lil Yachty , 74\n",
      "Lil Uzi Vert , 74\n",
      "Lil Dicky , 69\n",
      "Boosie Badazz , 67\n",
      "Lil Jon , 72\n",
      "King Lil G , 61\n",
      "Lil Durk , 60\n",
      "Lil Jon & The East Side Boyz , 60\n",
      "Lil Bibby , 54\n",
      "G Herbo , 53\n",
      "Lil Rob , 50\n",
      "Lil Reese , 50\n",
      "Lil Scrappy , 50\n",
      "Bow Wow , 57\n",
      "Lil Keke , 48\n",
      "Lil Wyte , 50\n",
      "Lil Blood , 46\n",
      "Lil Snupe , 45\n",
      "Lil Mama , 45\n",
      "Lil Boom , 46\n",
      "Lil B , 44\n",
      "Lil' Kim , 62\n",
      "Lil Cuete , 40\n",
      "Lil Phat , 40\n",
      "Lil Debbie , 43\n",
      "Lil Twist , 40\n",
      "Lil Trill , 37\n",
      "Lil Goofy , 36\n",
      "Lil Lonnie , 37\n",
      "Lil AJ , 37\n",
      "Lil Haiti , 38\n",
      "Lil Cray , 36\n",
      "Lil Twon , 36\n",
      "Mr. Lil One , 36\n",
      "Lil Mouse , 35\n",
      "Lil Silva , 43\n",
      "Lil Yase , 34\n",
      "Lil Flash , 38\n",
      "Lil Suzy , 34\n",
      "Lil Eddie , 41\n",
      "Lil Rue , 34\n",
      "Lil Kesh , 39\n",
      "Lil Wayne, DJ Drama , 35\n",
      "Lil C , 33\n",
      "Lil Rick , 39\n",
      "Lil E , 35\n",
      "Lil June , 32\n",
      "Lil Fate , 34\n",
      "Lil' Flip , 50\n"
     ]
    }
   ],
   "source": [
    "lils_export = []\n",
    "biggies_export = []\n",
    "\n",
    "print(\"Here's a nicely formated output to paste into Libre Office Calc (and probably other spreadsheet applications):\\n\")\n",
    "for lil in lils: \n",
    "    print(lil['name'] , \",\" , lil['popularity'])"
   ]
  },
  {
   "cell_type": "markdown",
   "metadata": {},
   "source": [
    "![title](lils.png)"
   ]
  },
  {
   "cell_type": "markdown",
   "metadata": {},
   "source": [
    "SEARCH ENGINE\n",
    "\n",
    "Make a non-IPython Notebook that automates browsing for top tracks\n",
    "Prompts for an artist\n",
    "you put it in, displays the results, asks which one you want (numbered)\n",
    "you enter a number\n",
    "It displays their top tracks, then their MOST popular album and their least popular album. if they only have one album it says that they only have one album."
   ]
  },
  {
   "cell_type": "markdown",
   "metadata": {},
   "source": [
    "Take a look at artist.py in the same directory. "
   ]
  }
 ],
 "metadata": {
  "kernelspec": {
   "display_name": "Python 3",
   "language": "python",
   "name": "python3"
  },
  "language_info": {
   "codemirror_mode": {
    "name": "ipython",
    "version": 3
   },
   "file_extension": ".py",
   "mimetype": "text/x-python",
   "name": "python",
   "nbconvert_exporter": "python",
   "pygments_lexer": "ipython3",
   "version": "3.5.1"
  }
 },
 "nbformat": 4,
 "nbformat_minor": 0
}
