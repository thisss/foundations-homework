{
 "cells": [
  {
   "cell_type": "markdown",
   "metadata": {},
   "source": [
    "# Hotel nights in Bern, Switzerland"
   ]
  },
  {
   "cell_type": "markdown",
   "metadata": {},
   "source": [
    "Switzerland's national department of statistics publishes some [data about tourism](https://www.pxweb.bfs.admin.ch/default.aspx?px_language=de). I would like to look at the information about the overnight stays in in and around of the city of Bern. \n",
    "\n",
    "I first downloaded [a first dataset](https://www.pxweb.bfs.admin.ch/DownloadFile.aspx?file=px-x-1003020000_103). It was too complicated to work with, though, since there are too many dimensions. Therefor I went back and got a simpler version not containing detail information about the exact region and just listening the the nights (without the arrivals). Later I had to go back again: I couldn't sum the values easily since the values were not in a row but in a line. And I first had to exclude the rows with the year and the month. I finally got the final version of the raw data. \n",
    "\n",
    "I was first working on it in the spreadsheet program since I had to do some changes to the year/ month column. \n",
    "\n",
    "Since the file was encoded in ISO-8859 I had to convert it to UTF8 using the following linux command: iconv -f ISO-8859-1 tourism_bern.csv -t UTF8 -o tourism_bern_UTF8.csv. I then did some manual cleaning of the data in the spreadsheet program before loading it into Pandas. "
   ]
  },
  {
   "cell_type": "code",
   "execution_count": 2,
   "metadata": {
    "collapsed": true
   },
   "outputs": [],
   "source": [
    "import pandas as pd\n",
    "import matplotlib.pyplot as plt\n",
    "%matplotlib inline"
   ]
  },
  {
   "cell_type": "markdown",
   "metadata": {},
   "source": [
    "## Open your dataset up using pandas in a Jupyter notebook"
   ]
  },
  {
   "cell_type": "code",
   "execution_count": 3,
   "metadata": {
    "collapsed": false,
    "scrolled": true
   },
   "outputs": [],
   "source": [
    "df = pd.read_csv(\"tourism_bern_UTF8.csv\", sep=\";\", header=0)"
   ]
  },
  {
   "cell_type": "markdown",
   "metadata": {},
   "source": [
    "## Do a .head() to get a feel for your data"
   ]
  },
  {
   "cell_type": "code",
   "execution_count": 4,
   "metadata": {
    "collapsed": false
   },
   "outputs": [
    {
     "data": {
      "text/html": [
       "<div>\n",
       "<table border=\"1\" class=\"dataframe\">\n",
       "  <thead>\n",
       "    <tr style=\"text-align: right;\">\n",
       "      <th></th>\n",
       "      <th>Herkunftsland</th>\n",
       "      <th>2005-01</th>\n",
       "      <th>2005-02</th>\n",
       "      <th>2005-03</th>\n",
       "      <th>2005-04</th>\n",
       "      <th>2005-05</th>\n",
       "      <th>2005-06</th>\n",
       "      <th>2005-07</th>\n",
       "      <th>2005-08</th>\n",
       "      <th>2005-09</th>\n",
       "      <th>...</th>\n",
       "      <th>2015-07</th>\n",
       "      <th>2015-08</th>\n",
       "      <th>2015-09</th>\n",
       "      <th>2015-10</th>\n",
       "      <th>2015-11</th>\n",
       "      <th>2015-12</th>\n",
       "      <th>2016-01</th>\n",
       "      <th>2016-02</th>\n",
       "      <th>2016-03</th>\n",
       "      <th>2016-04</th>\n",
       "    </tr>\n",
       "  </thead>\n",
       "  <tbody>\n",
       "    <tr>\n",
       "      <th>0</th>\n",
       "      <td>Schweiz</td>\n",
       "      <td>31656.0</td>\n",
       "      <td>29053.0</td>\n",
       "      <td>34611.0</td>\n",
       "      <td>38476.0</td>\n",
       "      <td>40227.0</td>\n",
       "      <td>43511.0</td>\n",
       "      <td>37236.0</td>\n",
       "      <td>45161.0</td>\n",
       "      <td>47092.0</td>\n",
       "      <td>...</td>\n",
       "      <td>41334.0</td>\n",
       "      <td>47883.0</td>\n",
       "      <td>48506.0</td>\n",
       "      <td>47865.0</td>\n",
       "      <td>45621.0</td>\n",
       "      <td>36398.0</td>\n",
       "      <td>32109.0</td>\n",
       "      <td>35313.0</td>\n",
       "      <td>39971.0</td>\n",
       "      <td>41498.0</td>\n",
       "    </tr>\n",
       "    <tr>\n",
       "      <th>1</th>\n",
       "      <td>Baltische Staaten</td>\n",
       "      <td>68.0</td>\n",
       "      <td>34.0</td>\n",
       "      <td>42.0</td>\n",
       "      <td>82.0</td>\n",
       "      <td>72.0</td>\n",
       "      <td>118.0</td>\n",
       "      <td>48.0</td>\n",
       "      <td>113.0</td>\n",
       "      <td>75.0</td>\n",
       "      <td>...</td>\n",
       "      <td>NaN</td>\n",
       "      <td>NaN</td>\n",
       "      <td>NaN</td>\n",
       "      <td>NaN</td>\n",
       "      <td>NaN</td>\n",
       "      <td>NaN</td>\n",
       "      <td>NaN</td>\n",
       "      <td>NaN</td>\n",
       "      <td>NaN</td>\n",
       "      <td>NaN</td>\n",
       "    </tr>\n",
       "    <tr>\n",
       "      <th>2</th>\n",
       "      <td>Deutschland</td>\n",
       "      <td>8884.0</td>\n",
       "      <td>9102.0</td>\n",
       "      <td>10493.0</td>\n",
       "      <td>11352.0</td>\n",
       "      <td>12262.0</td>\n",
       "      <td>13971.0</td>\n",
       "      <td>14522.0</td>\n",
       "      <td>17403.0</td>\n",
       "      <td>14759.0</td>\n",
       "      <td>...</td>\n",
       "      <td>10641.0</td>\n",
       "      <td>12812.0</td>\n",
       "      <td>12333.0</td>\n",
       "      <td>12083.0</td>\n",
       "      <td>11426.0</td>\n",
       "      <td>8115.0</td>\n",
       "      <td>8043.0</td>\n",
       "      <td>9505.0</td>\n",
       "      <td>10878.0</td>\n",
       "      <td>9919.0</td>\n",
       "    </tr>\n",
       "    <tr>\n",
       "      <th>3</th>\n",
       "      <td>Frankreich</td>\n",
       "      <td>2001.0</td>\n",
       "      <td>1903.0</td>\n",
       "      <td>2034.0</td>\n",
       "      <td>2327.0</td>\n",
       "      <td>2026.0</td>\n",
       "      <td>2478.0</td>\n",
       "      <td>2503.0</td>\n",
       "      <td>3029.0</td>\n",
       "      <td>2179.0</td>\n",
       "      <td>...</td>\n",
       "      <td>2549.0</td>\n",
       "      <td>2399.0</td>\n",
       "      <td>1597.0</td>\n",
       "      <td>2136.0</td>\n",
       "      <td>1746.0</td>\n",
       "      <td>1892.0</td>\n",
       "      <td>1509.0</td>\n",
       "      <td>2049.0</td>\n",
       "      <td>1903.0</td>\n",
       "      <td>1863.0</td>\n",
       "    </tr>\n",
       "    <tr>\n",
       "      <th>4</th>\n",
       "      <td>Italien</td>\n",
       "      <td>1389.0</td>\n",
       "      <td>1146.0</td>\n",
       "      <td>1361.0</td>\n",
       "      <td>1779.0</td>\n",
       "      <td>1496.0</td>\n",
       "      <td>1857.0</td>\n",
       "      <td>1880.0</td>\n",
       "      <td>3220.0</td>\n",
       "      <td>2146.0</td>\n",
       "      <td>...</td>\n",
       "      <td>2306.0</td>\n",
       "      <td>3352.0</td>\n",
       "      <td>1632.0</td>\n",
       "      <td>1869.0</td>\n",
       "      <td>2320.0</td>\n",
       "      <td>3439.0</td>\n",
       "      <td>2418.0</td>\n",
       "      <td>1851.0</td>\n",
       "      <td>2126.0</td>\n",
       "      <td>2000.0</td>\n",
       "    </tr>\n",
       "  </tbody>\n",
       "</table>\n",
       "<p>5 rows × 137 columns</p>\n",
       "</div>"
      ],
      "text/plain": [
       "       Herkunftsland  2005-01  2005-02  2005-03  2005-04  2005-05  2005-06  \\\n",
       "0            Schweiz  31656.0  29053.0  34611.0  38476.0  40227.0  43511.0   \n",
       "1  Baltische Staaten     68.0     34.0     42.0     82.0     72.0    118.0   \n",
       "2        Deutschland   8884.0   9102.0  10493.0  11352.0  12262.0  13971.0   \n",
       "3         Frankreich   2001.0   1903.0   2034.0   2327.0   2026.0   2478.0   \n",
       "4            Italien   1389.0   1146.0   1361.0   1779.0   1496.0   1857.0   \n",
       "\n",
       "   2005-07  2005-08  2005-09   ...     2015-07  2015-08  2015-09  2015-10  \\\n",
       "0  37236.0  45161.0  47092.0   ...     41334.0  47883.0  48506.0  47865.0   \n",
       "1     48.0    113.0     75.0   ...         NaN      NaN      NaN      NaN   \n",
       "2  14522.0  17403.0  14759.0   ...     10641.0  12812.0  12333.0  12083.0   \n",
       "3   2503.0   3029.0   2179.0   ...      2549.0   2399.0   1597.0   2136.0   \n",
       "4   1880.0   3220.0   2146.0   ...      2306.0   3352.0   1632.0   1869.0   \n",
       "\n",
       "   2015-11  2015-12  2016-01  2016-02  2016-03  2016-04  \n",
       "0  45621.0  36398.0  32109.0  35313.0  39971.0  41498.0  \n",
       "1      NaN      NaN      NaN      NaN      NaN      NaN  \n",
       "2  11426.0   8115.0   8043.0   9505.0  10878.0   9919.0  \n",
       "3   1746.0   1892.0   1509.0   2049.0   1903.0   1863.0  \n",
       "4   2320.0   3439.0   2418.0   1851.0   2126.0   2000.0  \n",
       "\n",
       "[5 rows x 137 columns]"
      ]
     },
     "execution_count": 4,
     "metadata": {},
     "output_type": "execute_result"
    }
   ],
   "source": [
    "df.head()"
   ]
  },
  {
   "cell_type": "markdown",
   "metadata": {},
   "source": [
    "## Write down 12 questions to ask your data, or 12 things to hunt for in the data."
   ]
  },
  {
   "cell_type": "markdown",
   "metadata": {},
   "source": [
    "#### 12 Questions\n",
    "- How many nights did all tourists together book in hotels in the canton of Bern in the last month?\n",
    "- How does the last month compare to the corresponding month of the previous year -- and to the corresponding month of the previous 10 years?\n",
    "- In what month of what year took the maximum of tourists an overnight stop in Bern? \n",
    "- What was the worst month in the recent history of Bern's hotels?\n",
    "- From what five countries are coming the least persons?\n",
    "- The Swiss spent the most nights in Bern's hotels. People from what other five other countries the are most important for the hotels?\n",
    "- How many nights per year did guests from the US spend in Bern's hotels? \n",
    "- A change in Switzerland's money policies did lead to a strong revaluation of the Swiss Franc in January 2015. Did less tourists sleep in Hotels after this date? \n",
    "- The parlament meets normally four times a year: in March, June, September and November. Are the hotels in this time more busy?\n",
    "- Bern war one of the host cities during the soccer europe cup 2008. Did the hotels have in June 2008 more guest than usually in this month?\n",
    "\n",
    "\n",
    "\n",
    "\n",
    "- Make a histogram comparing the number of booked nights for the last five years.\n",
    "- The Swiss spent the most nights in Bern's hotels. What country is the next to follow?\n",
    "- A change in Switzerland's money policies did lead to a massive revaluation of the Swiss Franc in January 2015. Did less foreign tourists sleep in Hotels after? \n",
    "- Did the percentage of people from Switzerland increase after January 2015?\n",
    "- What nations are avoiding Switzerland since January 2015 the most?\n",
    "- In what month are the most and the least tourists around? \n",
    "- The parlament meets normally in XY, XY and XY. Are the hotels in this time more busy?\n",
    "- Bern war one of the host cities during the soccer europe cup 2008. Did the hotels more guest than usually in this time?\n",
    "- How many nights are selling the hotels in Bern per day in average? How many are they selling in high season in summer and winter?\n",
    "- For what nation does the statistic show the biggest increase or decrease between 2010 and 2015?\n",
    "- What's the percentage of the tourists coming from countries where German is not a official language? \n",
    "\n",
    "#### 3 graphics\n"
   ]
  },
  {
   "cell_type": "markdown",
   "metadata": {},
   "source": [
    "### How many nights did all tourists together book in hotels in and around Bern in the last month?"
   ]
  },
  {
   "cell_type": "markdown",
   "metadata": {},
   "source": [
    "Actually, the last month is not available yet. Let's stick to April then. But first, we'll have to do some more housekeeping: We need to get rid of the three points in all cells without data. I tried it with df.replace(\"...\",\"\") but didn't suceed. Therefore I went back to the spreadsheet and did a quick replaced of the caracters there. I also merged the two date fields of every column into one. "
   ]
  },
  {
   "cell_type": "code",
   "execution_count": 5,
   "metadata": {
    "collapsed": false
   },
   "outputs": [
    {
     "name": "stdout",
     "output_type": "stream",
     "text": [
      "In April 2016, Bern's hotels did sell 77111 overnight stays.\n"
     ]
    }
   ],
   "source": [
    "april_2016 = df[['Herkunftsland', '2016-04']]\n",
    "print(\"In April 2016, Bern's hotels did sell\", int(april_2016['2016-04'].sum()), \"overnight stays.\")"
   ]
  },
  {
   "cell_type": "markdown",
   "metadata": {},
   "source": [
    "### How does the last month compare to the corresponding month of the previous year -- and to the corresponding month of the previous 10 years?"
   ]
  },
  {
   "cell_type": "code",
   "execution_count": 6,
   "metadata": {
    "collapsed": false,
    "scrolled": true
   },
   "outputs": [
    {
     "name": "stdout",
     "output_type": "stream",
     "text": [
      "In April 1015, Bern's hotels did sell 77316 overnight stays.\n",
      "The year 2015 was better than 2016. The hotels sold 205 more nights.\n"
     ]
    }
   ],
   "source": [
    "print(\"In April 1015, Bern's hotels did sell\", int(df['2015-04'].sum()), \"overnight stays.\")\n",
    "if df['2016-04'].sum() > df['2015-04'].sum(): \n",
    "    print(\"The year 2016 was a better year for the Hotels than 2015. They did sell\", df['2016-04'].sum() - df['2015-04'].sum(), \"more nights.\")\n",
    "else:\n",
    "    print(\"The year 2015 was better than 2016. The hotels sold\", int(df['2015-04'].sum() - df['2016-04'].sum()), \"more nights.\")"
   ]
  },
  {
   "cell_type": "code",
   "execution_count": 7,
   "metadata": {
    "collapsed": false
   },
   "outputs": [
    {
     "name": "stdout",
     "output_type": "stream",
     "text": [
      "2005-04    72034.0\n",
      "2006-04    72446.0\n",
      "2007-04    74710.0\n",
      "2008-04    81299.0\n",
      "2009-04    78156.0\n",
      "2010-04    75449.0\n",
      "2011-04    75099.0\n",
      "2012-04    76908.0\n",
      "2013-04    84002.0\n",
      "2014-04    78514.0\n",
      "2015-04    77316.0\n",
      "2016-04    77111.0\n",
      "dtype: float64\n",
      "\n",
      "count       12.000000\n",
      "mean     76920.333333\n",
      "std       3409.158663\n",
      "min      72034.000000\n",
      "25%      75001.750000\n",
      "50%      77009.500000\n",
      "75%      78245.500000\n",
      "max      84002.000000\n",
      "dtype: float64\n"
     ]
    }
   ],
   "source": [
    "import re\n",
    "columns = df.columns.values[1:]\n",
    "aprils = [column for column in columns if re.search(r'\\d{4}-\\d4', column)]\n",
    "print(df[aprils].sum())\n",
    "print(\"\\n\" + str(df[aprils].sum().describe()))"
   ]
  },
  {
   "cell_type": "markdown",
   "metadata": {},
   "source": [
    "### In what month of what year took the maximum of tourists an overnight stop in Bern? "
   ]
  },
  {
   "cell_type": "code",
   "execution_count": 8,
   "metadata": {
    "collapsed": false
   },
   "outputs": [
    {
     "name": "stdout",
     "output_type": "stream",
     "text": [
      "The best month in the recent history of Berne's hotels was 2014-08 with 119267 booked nights.\n"
     ]
    }
   ],
   "source": [
    "month_list = df.columns[1:]\n",
    "best_month = month_list[0]\n",
    "\n",
    "for month in month_list:\n",
    "    if df[month].sum() > df[best_month].sum():\n",
    "        best_month = month\n",
    "print(\"The best month in the recent history of Berne's hotels was\", best_month, \"with\", int(df[best_month].sum()), \"booked nights.\")"
   ]
  },
  {
   "cell_type": "markdown",
   "metadata": {},
   "source": [
    "### What was the worst month in the recent history of Bern's hotels?"
   ]
  },
  {
   "cell_type": "code",
   "execution_count": 8,
   "metadata": {
    "collapsed": false
   },
   "outputs": [
    {
     "name": "stdout",
     "output_type": "stream",
     "text": [
      "The worst month in the recent history of Berne's hotels was 2005-02 with 53205 booked nights.\n"
     ]
    }
   ],
   "source": [
    "month_list = df.columns[1:]\n",
    "worst_month = month_list[0]\n",
    "\n",
    "for month in month_list:\n",
    "    if df[month].sum() < df[worst_month].sum():\n",
    "        worst_month = month\n",
    "print(\"The worst month in the recent history of Berne's hotels was\", worst_month, \"with\", int(df[worst_month].sum()), \"booked nights.\")"
   ]
  },
  {
   "cell_type": "markdown",
   "metadata": {},
   "source": [
    "### From what five countries are coming the least persons?\n",
    "I am filling in a new column named \"total\" that contains the sums of the previous columns. "
   ]
  },
  {
   "cell_type": "code",
   "execution_count": 9,
   "metadata": {
    "collapsed": false
   },
   "outputs": [
    {
     "data": {
      "text/html": [
       "<div>\n",
       "<table border=\"1\" class=\"dataframe\">\n",
       "  <thead>\n",
       "    <tr style=\"text-align: right;\">\n",
       "      <th></th>\n",
       "      <th>Herkunftsland</th>\n",
       "      <th>Total</th>\n",
       "    </tr>\n",
       "  </thead>\n",
       "  <tbody>\n",
       "    <tr>\n",
       "      <th>41</th>\n",
       "      <td>Bahrain</td>\n",
       "      <td>766.0</td>\n",
       "    </tr>\n",
       "    <tr>\n",
       "      <th>26</th>\n",
       "      <td>Malta</td>\n",
       "      <td>977.0</td>\n",
       "    </tr>\n",
       "    <tr>\n",
       "      <th>27</th>\n",
       "      <td>Zypern</td>\n",
       "      <td>1314.0</td>\n",
       "    </tr>\n",
       "    <tr>\n",
       "      <th>59</th>\n",
       "      <td>Oman</td>\n",
       "      <td>1325.0</td>\n",
       "    </tr>\n",
       "    <tr>\n",
       "      <th>65</th>\n",
       "      <td>Litauen</td>\n",
       "      <td>2031.0</td>\n",
       "    </tr>\n",
       "  </tbody>\n",
       "</table>\n",
       "</div>"
      ],
      "text/plain": [
       "   Herkunftsland   Total\n",
       "41       Bahrain   766.0\n",
       "26         Malta   977.0\n",
       "27        Zypern  1314.0\n",
       "59          Oman  1325.0\n",
       "65       Litauen  2031.0"
      ]
     },
     "execution_count": 9,
     "metadata": {},
     "output_type": "execute_result"
    }
   ],
   "source": [
    "total = 0\n",
    "df['Total'] = total # Resetting in order to be able to rerun the code without getting wrong values.\n",
    "df['Total'] = df.sum(axis=1)\n",
    "df.head(2)\n",
    "\n",
    "df[['Herkunftsland', 'Total']].sort_values(by='Total', ascending=True).head(5)\n"
   ]
  },
  {
   "cell_type": "markdown",
   "metadata": {},
   "source": [
    "### The Swiss spent the most nights in Bern's hotels. People from what other five other countries the are most important for the hotels?"
   ]
  },
  {
   "cell_type": "code",
   "execution_count": 55,
   "metadata": {
    "collapsed": false
   },
   "outputs": [
    {
     "data": {
      "text/html": [
       "<div>\n",
       "<table border=\"1\" class=\"dataframe\">\n",
       "  <thead>\n",
       "    <tr style=\"text-align: right;\">\n",
       "      <th></th>\n",
       "      <th>Herkunftsland</th>\n",
       "      <th>Total</th>\n",
       "    </tr>\n",
       "  </thead>\n",
       "  <tbody>\n",
       "    <tr>\n",
       "      <th>2</th>\n",
       "      <td>Deutschland</td>\n",
       "      <td>1771343.0</td>\n",
       "    </tr>\n",
       "    <tr>\n",
       "      <th>29</th>\n",
       "      <td>Vereinigte Staaten von Amerika</td>\n",
       "      <td>426445.0</td>\n",
       "    </tr>\n",
       "    <tr>\n",
       "      <th>3</th>\n",
       "      <td>Frankreich</td>\n",
       "      <td>297146.0</td>\n",
       "    </tr>\n",
       "    <tr>\n",
       "      <th>4</th>\n",
       "      <td>Italien</td>\n",
       "      <td>296995.0</td>\n",
       "    </tr>\n",
       "    <tr>\n",
       "      <th>6</th>\n",
       "      <td>Vereinigtes Königreich</td>\n",
       "      <td>286842.0</td>\n",
       "    </tr>\n",
       "  </tbody>\n",
       "</table>\n",
       "</div>"
      ],
      "text/plain": [
       "                     Herkunftsland      Total\n",
       "2                      Deutschland  1771343.0\n",
       "29  Vereinigte Staaten von Amerika   426445.0\n",
       "3                       Frankreich   297146.0\n",
       "4                          Italien   296995.0\n",
       "6           Vereinigtes Königreich   286842.0"
      ]
     },
     "execution_count": 55,
     "metadata": {},
     "output_type": "execute_result"
    }
   ],
   "source": [
    "df[['Herkunftsland', 'Total']].where(df['Herkunftsland'] != 'Schweiz').sort_values(by='Total', ascending=False).head(5)"
   ]
  },
  {
   "cell_type": "markdown",
   "metadata": {},
   "source": [
    "### How many nights per year did guests from the US spend in Bern's hotels? "
   ]
  },
  {
   "cell_type": "code",
   "execution_count": 55,
   "metadata": {
    "collapsed": false
   },
   "outputs": [
    {
     "data": {
      "text/html": [
       "<div>\n",
       "<table border=\"1\" class=\"dataframe\">\n",
       "  <thead>\n",
       "    <tr style=\"text-align: right;\">\n",
       "      <th></th>\n",
       "      <th>nights</th>\n",
       "    </tr>\n",
       "  </thead>\n",
       "  <tbody>\n",
       "    <tr>\n",
       "      <th>2005</th>\n",
       "      <td>39009</td>\n",
       "    </tr>\n",
       "    <tr>\n",
       "      <th>2006</th>\n",
       "      <td>40596</td>\n",
       "    </tr>\n",
       "    <tr>\n",
       "      <th>2007</th>\n",
       "      <td>40863</td>\n",
       "    </tr>\n",
       "    <tr>\n",
       "      <th>2008</th>\n",
       "      <td>39206</td>\n",
       "    </tr>\n",
       "    <tr>\n",
       "      <th>2009</th>\n",
       "      <td>35370</td>\n",
       "    </tr>\n",
       "    <tr>\n",
       "      <th>2010</th>\n",
       "      <td>36435</td>\n",
       "    </tr>\n",
       "    <tr>\n",
       "      <th>2011</th>\n",
       "      <td>32023</td>\n",
       "    </tr>\n",
       "    <tr>\n",
       "      <th>2012</th>\n",
       "      <td>34456</td>\n",
       "    </tr>\n",
       "    <tr>\n",
       "      <th>2013</th>\n",
       "      <td>35811</td>\n",
       "    </tr>\n",
       "    <tr>\n",
       "      <th>2014</th>\n",
       "      <td>38259</td>\n",
       "    </tr>\n",
       "    <tr>\n",
       "      <th>2015</th>\n",
       "      <td>44627</td>\n",
       "    </tr>\n",
       "  </tbody>\n",
       "</table>\n",
       "</div>"
      ],
      "text/plain": [
       "      nights\n",
       "2005   39009\n",
       "2006   40596\n",
       "2007   40863\n",
       "2008   39206\n",
       "2009   35370\n",
       "2010   36435\n",
       "2011   32023\n",
       "2012   34456\n",
       "2013   35811\n",
       "2014   38259\n",
       "2015   44627"
      ]
     },
     "execution_count": 55,
     "metadata": {},
     "output_type": "execute_result"
    }
   ],
   "source": [
    "us_tourists = df[df['Herkunftsland'] == 'Vereinigte Staaten von Amerika']\n",
    "years = [2005, 2006, 2007, 2008, 2009, 2010, 2011, 2012, 2013, 2014, 2015]\n",
    "months = ['01','02', '03', '04', '05','06', '07', '08', '09', '10','11', '12']\n",
    "us = {}\n",
    "for year in years:\n",
    "    total = 0\n",
    "    for month in months:\n",
    "        total = total + int(us_tourists[str(year)+'-'+month])\n",
    "    us[str(year)] = total\n",
    "df_us = (pd.DataFrame(us, index=['nights'])).T\n",
    "df_us"
   ]
  },
  {
   "cell_type": "markdown",
   "metadata": {},
   "source": [
    "### A change in Switzerland's money policies did lead to a strong revaluation of the Swiss Franc in January 2015. Did less tourists sleep in Hotels after this date? "
   ]
  },
  {
   "cell_type": "code",
   "execution_count": 57,
   "metadata": {
    "collapsed": false
   },
   "outputs": [
    {
     "name": "stdout",
     "output_type": "stream",
     "text": [
      "Average of the months before the revaluation of the Swiss Franc in 2015: 83012.0 nights.\n",
      "Average of the months after the revaluation of the Swiss Franc in 2015: 82324.0 nights.\n",
      "After the revaluation, the average of nights per month is 688.0 less. That's a minus of 0.828312980879 percent.\n",
      "\n",
      "Before the Swiss Franc climbed to new heights:\n",
      "\n",
      "2005-01     59720.0\n",
      "2005-02     53205.0\n",
      "2005-03     63670.0\n",
      "2005-04     72034.0\n",
      "2005-05     77095.0\n",
      "2005-06     86944.0\n",
      "2005-07     84420.0\n",
      "2005-08    101128.0\n",
      "2005-09     90311.0\n",
      "2005-10     87006.0\n",
      "2005-11     76516.0\n",
      "2005-12     57607.0\n",
      "2006-01     55401.0\n",
      "2006-02     56961.0\n",
      "2006-03     74208.0\n",
      "2006-04     72446.0\n",
      "2006-05     88208.0\n",
      "2006-06     91488.0\n",
      "2006-07     91110.0\n",
      "2006-08     99946.0\n",
      "2006-09     95179.0\n",
      "2006-10     89475.0\n",
      "2006-11     76118.0\n",
      "2006-12     64950.0\n",
      "2007-01     59618.0\n",
      "2007-02     59540.0\n",
      "2007-03     70691.0\n",
      "2007-04     74710.0\n",
      "2007-05     84640.0\n",
      "2007-06     95403.0\n",
      "             ...   \n",
      "2012-07     95399.0\n",
      "2012-08    107061.0\n",
      "2012-09     98001.0\n",
      "2012-10     89865.0\n",
      "2012-11     83638.0\n",
      "2012-12     67032.0\n",
      "2013-01     62316.0\n",
      "2013-02     62586.0\n",
      "2013-03     74997.0\n",
      "2013-04     84002.0\n",
      "2013-05     94178.0\n",
      "2013-06    105194.0\n",
      "2013-07    102653.0\n",
      "2013-08    116002.0\n",
      "2013-09     99344.0\n",
      "2013-10     95810.0\n",
      "2013-11     86462.0\n",
      "2013-12     64104.0\n",
      "2014-01     64471.0\n",
      "2014-02     58561.0\n",
      "2014-03     81199.0\n",
      "2014-04     78514.0\n",
      "2014-05     99813.0\n",
      "2014-06     96880.0\n",
      "2014-07     99582.0\n",
      "2014-08    119267.0\n",
      "2014-09    101967.0\n",
      "2014-10     98169.0\n",
      "2014-11     82616.0\n",
      "2014-12     70711.0\n",
      "dtype: float64\n",
      "\n",
      "After the Swiss Franc climbed to new heights:\n",
      "\n",
      "2015-01     67154.0\n",
      "2015-02     63581.0\n",
      "2015-03     80243.0\n",
      "2015-04     77316.0\n",
      "2015-05     88058.0\n",
      "2015-06     98048.0\n",
      "2015-07    105755.0\n",
      "2015-08    113594.0\n",
      "2015-09     99362.0\n",
      "2015-10     93348.0\n",
      "2015-11     82163.0\n",
      "2015-12     67974.0\n",
      "2016-01     59857.0\n",
      "2016-02     68512.0\n",
      "2016-03     75116.0\n",
      "2016-04     77111.0\n",
      "dtype: float64\n"
     ]
    }
   ],
   "source": [
    "change_year = 2015\n",
    "month_before = []\n",
    "month_after = []\n",
    "\n",
    "for month in month_list: \n",
    "    tempmonth = int(\"\".join(re.findall(r'(\\d{4})-\\d{2}', month)))\n",
    "    if tempmonth < change_year:\n",
    "        month_before.append(month)\n",
    "    elif tempmonth >= change_year:\n",
    "        month_after.append(month)\n",
    "\n",
    "sum_before = 0\n",
    "sum_after = 0\n",
    "\n",
    "for month in month_before:\n",
    "    sum_before = sum_before + df[month].sum()\n",
    "\n",
    "for month in month_after:     \n",
    "    sum_after = sum_after + df[month].sum()\n",
    "\n",
    "average_before = sum_before / len(month_before)\n",
    "average_after = sum_after / len(month_after)\n",
    "\n",
    "print(\"Average of the months before the revaluation of the Swiss Franc in 2015:\", round(average_before), \"nights.\")\n",
    "print(\"Average of the months after the revaluation of the Swiss Franc in 2015:\", round(average_after), \"nights.\")\n",
    "print(\"After the revaluation, the average of nights per month is\", round(average_before - average_after), \"less. That's a minus of\", 100 - (100 * average_after / average_before), \"percent.\")\n",
    "\n",
    "print(\"\\nBefore the Swiss Franc climbed to new heights:\\n\")\n",
    "print(df[month_before].sum())\n",
    "\n",
    "print(\"\\nAfter the Swiss Franc climbed to new heights:\\n\")\n",
    "print(df[month_after].sum())"
   ]
  },
  {
   "cell_type": "markdown",
   "metadata": {},
   "source": [
    "### The parlament meets normally four times a year: in March, June, September and November. Are the hotels in this time more busy?\n",
    "In order to find out, we are comparing the month with session to the previous month (without session). "
   ]
  },
  {
   "cell_type": "code",
   "execution_count": 174,
   "metadata": {
    "collapsed": false
   },
   "outputs": [
    {
     "name": "stdout",
     "output_type": "stream",
     "text": [
      "-----\n",
      "Spring 2005: 63670 / Previous month: 53205 / Difference: 10465\n",
      "Summer 2005: 86944 / Previous month: 77095 / Difference: 9849\n",
      "Fall 2005: 90311 / Previous month: 101128 / Difference: -10817\n",
      "Winter 2005: 76516 / Previous month: 87006 / Difference: -10490\n",
      "-----\n",
      "Spring 2006: 74208 / Previous month: 56961 / Difference: 17247\n",
      "Summer 2006: 91488 / Previous month: 88208 / Difference: 3280\n",
      "Fall 2006: 95179 / Previous month: 99946 / Difference: -4767\n",
      "Winter 2006: 76118 / Previous month: 89475 / Difference: -13357\n",
      "-----\n",
      "Spring 2007: 70691 / Previous month: 59540 / Difference: 11151\n",
      "Summer 2007: 95403 / Previous month: 84640 / Difference: 10763\n",
      "Fall 2007: 95651 / Previous month: 107040 / Difference: -11389\n",
      "Winter 2007: 80985 / Previous month: 90195 / Difference: -9210\n",
      "-----\n",
      "Spring 2008: 73271 / Previous month: 65139 / Difference: 8132\n",
      "Summer 2008: 88997 / Previous month: 93288 / Difference: -4291\n",
      "Fall 2008: 96425 / Previous month: 107683 / Difference: -11258\n",
      "Winter 2008: 79830 / Previous month: 90482 / Difference: -10652\n",
      "-----\n",
      "Spring 2009: 76766 / Previous month: 57246 / Difference: 19520\n",
      "Summer 2009: 91276 / Previous month: 98156 / Difference: -6880\n",
      "Fall 2009: 92914 / Previous month: 108122 / Difference: -15208\n",
      "Winter 2009: 78401 / Previous month: 86270 / Difference: -7869\n",
      "-----\n",
      "Spring 2010: 72320 / Previous month: 59520 / Difference: 12800\n",
      "Summer 2010: 96180 / Previous month: 87220 / Difference: 8960\n",
      "Fall 2010: 99120 / Previous month: 110195 / Difference: -11075\n",
      "Winter 2010: 82780 / Previous month: 89218 / Difference: -6438\n",
      "-----\n",
      "Spring 2011: 77273 / Previous month: 62221 / Difference: 15052\n",
      "Summer 2011: 97779 / Previous month: 93923 / Difference: 3856\n",
      "Fall 2011: 101924 / Previous month: 106695 / Difference: -4771\n",
      "Winter 2011: 76389 / Previous month: 93984 / Difference: -17595\n",
      "-----\n",
      "Spring 2012: 76463 / Previous month: 68500 / Difference: 7963\n",
      "Summer 2012: 98185 / Previous month: 92933 / Difference: 5252\n",
      "Fall 2012: 98001 / Previous month: 107061 / Difference: -9060\n",
      "Winter 2012: 83638 / Previous month: 89865 / Difference: -6227\n",
      "-----\n",
      "Spring 2013: 74997 / Previous month: 62586 / Difference: 12411\n",
      "Summer 2013: 105194 / Previous month: 94178 / Difference: 11016\n",
      "Fall 2013: 99344 / Previous month: 116002 / Difference: -16658\n",
      "Winter 2013: 86462 / Previous month: 95810 / Difference: -9348\n",
      "-----\n",
      "Spring 2014: 81199 / Previous month: 58561 / Difference: 22638\n",
      "Summer 2014: 96880 / Previous month: 99813 / Difference: -2933\n",
      "Fall 2014: 101967 / Previous month: 119267 / Difference: -17300\n",
      "Winter 2014: 82616 / Previous month: 98169 / Difference: -15553\n",
      "-----\n",
      "Spring 2015: 80243 / Previous month: 63581 / Difference: 16662\n",
      "Summer 2015: 98048 / Previous month: 88058 / Difference: 9990\n",
      "Fall 2015: 99362 / Previous month: 113594 / Difference: -14232\n",
      "Winter 2015: 82163 / Previous month: 93348 / Difference: -11185\n"
     ]
    }
   ],
   "source": [
    "years = range(2005,2016)\n",
    "sessions = { 'Spring' : '03', 'Summer' : '06', 'Fall' : '09', 'Winter' : '11'}\n",
    "previous_sessions = ['02', '05', '08', '10']\n",
    "\n",
    "\n",
    "for year in years:\n",
    "    print(\"-----\")\n",
    "    print(\"Spring\", str(year) + \":\", int(df[str(year) + '-03'].sum()), \"/ Previous month:\", int(df[str(year) + '-02'].sum()), \"/ Difference:\", int(df[str(year) + '-03'].sum()) - int(df[str(year) + '-02'].sum()))\n",
    "    print(\"Summer\", str(year) + \":\", int(df[str(year) + '-06'].sum()), \"/ Previous month:\", int(df[str(year) + '-05'].sum()), \"/ Difference:\", int(df[str(year) + '-06'].sum()) - int(df[str(year) + '-05'].sum()))\n",
    "    print(\"Fall\", str(year) + \":\", int(df[str(year) + '-09'].sum()), \"/ Previous month:\", int(df[str(year) + '-08'].sum()), \"/ Difference:\", int(df[str(year) + '-09'].sum()) - int(df[str(year) + '-08'].sum()))\n",
    "    print(\"Winter\", str(year) + \":\", int(df[str(year) + '-11'].sum()), \"/ Previous month:\", int(df[str(year) + '-10'].sum()), \"/ Difference:\", int(df[str(year) + '-11'].sum()) - int(df[str(year) + '-10'].sum()))"
   ]
  },
  {
   "cell_type": "markdown",
   "metadata": {},
   "source": [
    "### Bern war one of the host cities during the soccer europe cup 2008. Did the hotels have in June 2008 more guest than usually in this month?"
   ]
  },
  {
   "cell_type": "code",
   "execution_count": 181,
   "metadata": {
    "collapsed": false
   },
   "outputs": [
    {
     "name": "stdout",
     "output_type": "stream",
     "text": [
      "June 2005 86944\n",
      "June 2006 91488\n",
      "June 2007 95403\n",
      "June 2008 88997\n",
      "June 2009 91276\n",
      "June 2010 96180\n",
      "June 2011 97779\n",
      "June 2012 98185\n",
      "June 2013 105194\n",
      "June 2014 96880\n",
      "June 2015 98048\n"
     ]
    }
   ],
   "source": [
    "for year in years: \n",
    "    print(\"June\", year, int(df[str(year) + '-06'].sum()))"
   ]
  },
  {
   "cell_type": "markdown",
   "metadata": {},
   "source": [
    "No, the hotels didn't benefit at all. One reason might be: The dutch were mainly plaing in Bern. And the dutch fans love to camp out."
   ]
  },
  {
   "cell_type": "markdown",
   "metadata": {},
   "source": [
    "### In what months normally are the most and the least tourists around? "
   ]
  },
  {
   "cell_type": "code",
   "execution_count": 100,
   "metadata": {
    "collapsed": false
   },
   "outputs": [
    {
     "name": "stdout",
     "output_type": "stream",
     "text": [
      "59720.0\n",
      "59720.0\n",
      "59720.0\n",
      "59720.0\n",
      "59720.0\n",
      "59720.0\n",
      "59720.0\n",
      "59720.0\n",
      "59720.0\n",
      "59720.0\n",
      "59720.0\n",
      "December\n",
      "55401.0\n",
      "55401.0\n",
      "55401.0\n",
      "55401.0\n",
      "55401.0\n",
      "55401.0\n",
      "55401.0\n",
      "55401.0\n",
      "55401.0\n",
      "55401.0\n",
      "55401.0\n",
      "December\n",
      "59618.0\n",
      "59618.0\n",
      "59618.0\n",
      "59618.0\n",
      "59618.0\n",
      "59618.0\n",
      "59618.0\n",
      "59618.0\n",
      "59618.0\n",
      "59618.0\n",
      "59618.0\n",
      "December\n",
      "63806.0\n",
      "63806.0\n",
      "63806.0\n",
      "63806.0\n",
      "63806.0\n",
      "63806.0\n",
      "63806.0\n",
      "63806.0\n",
      "63806.0\n",
      "63806.0\n",
      "63806.0\n",
      "December\n",
      "62810.0\n",
      "62810.0\n",
      "62810.0\n",
      "62810.0\n",
      "62810.0\n",
      "62810.0\n",
      "62810.0\n",
      "62810.0\n",
      "62810.0\n",
      "62810.0\n",
      "62810.0\n",
      "December\n",
      "55585.0\n",
      "55585.0\n",
      "55585.0\n",
      "55585.0\n",
      "55585.0\n",
      "55585.0\n",
      "55585.0\n",
      "55585.0\n",
      "55585.0\n",
      "55585.0\n",
      "55585.0\n",
      "December\n",
      "67377.0\n",
      "67377.0\n",
      "67377.0\n",
      "67377.0\n",
      "67377.0\n",
      "67377.0\n",
      "67377.0\n",
      "67377.0\n",
      "67377.0\n",
      "67377.0\n",
      "67377.0\n",
      "December\n",
      "58202.0\n",
      "58202.0\n",
      "58202.0\n",
      "58202.0\n",
      "58202.0\n",
      "58202.0\n",
      "58202.0\n",
      "58202.0\n",
      "58202.0\n",
      "58202.0\n",
      "58202.0\n",
      "December\n",
      "62316.0\n",
      "62316.0\n",
      "62316.0\n",
      "62316.0\n",
      "62316.0\n",
      "62316.0\n",
      "62316.0\n",
      "62316.0\n",
      "62316.0\n",
      "62316.0\n",
      "62316.0\n",
      "December\n",
      "64471.0\n",
      "64471.0\n",
      "64471.0\n",
      "64471.0\n",
      "64471.0\n",
      "64471.0\n",
      "64471.0\n",
      "64471.0\n",
      "64471.0\n",
      "64471.0\n",
      "64471.0\n",
      "December\n",
      "67154.0\n",
      "67154.0\n",
      "67154.0\n",
      "67154.0\n",
      "67154.0\n",
      "67154.0\n",
      "67154.0\n",
      "67154.0\n",
      "67154.0\n",
      "67154.0\n",
      "67154.0\n",
      "December\n"
     ]
    },
    {
     "data": {
      "text/plain": [
       "'\\nfor year in years:\\n    january.append(df[str(year) + \\'-01\\'].sum())\\n    february.append(df[str(year) + \\'-02\\'].sum())\\n    march.append(df[str(year) + \\'-03\\'].sum())\\n    april.append(df[str(year) + \\'-04\\'].sum())\\n    may.append(df[str(year) + \\'-05\\'].sum())\\n    june.append(df[str(year) + \\'-06\\'].sum())\\n    july.append(df[str(year) + \\'-07\\'].sum())\\n    august.append(df[str(year) + \\'-08\\'].sum())\\n    september.append(df[str(year) + \\'-09\\'].sum())\\n    october.append(df[str(year) + \\'-10\\'].sum())\\n    november.append(df[str(year) + \\'-11\\'].sum())\\n    december.append(df[str(year) + \\'-12\\'].sum())\\n    \\n\\nmonth_dict = { \"January\" : january , \"February\" : february, \"March\" : march, \"April\" : april, \"May\" : may, \"June\" : june , \"July\" : july, \"August\" : august, \"September\" : september, \"October\" : october, \"November\" : november, \"December\" : december }\\nmonth_average = {}\\n\\nfor month in month_list: \\n    print(month + \":\", int(numpy.mean(month_dict[month])))\\n    month_average[month] = numpy.mean(month_dict[month])'"
      ]
     },
     "execution_count": 100,
     "metadata": {},
     "output_type": "execute_result"
    }
   ],
   "source": [
    "import numpy\n",
    "\n",
    "month_list = ['January', 'February', 'March', 'April', 'May', 'June', 'July', 'August', 'September', 'November', 'December']\n",
    "\n",
    "for month in month_list:\n",
    "    month = []\n",
    "    \n",
    "for year in years:\n",
    "    for month in month_list:\n",
    "        print(df[str(year) + '-01'].sum())\n",
    "    print(month)\n",
    "'''\n",
    "for year in years:\n",
    "    january.append(df[str(year) + '-01'].sum())\n",
    "    february.append(df[str(year) + '-02'].sum())\n",
    "    march.append(df[str(year) + '-03'].sum())\n",
    "    april.append(df[str(year) + '-04'].sum())\n",
    "    may.append(df[str(year) + '-05'].sum())\n",
    "    june.append(df[str(year) + '-06'].sum())\n",
    "    july.append(df[str(year) + '-07'].sum())\n",
    "    august.append(df[str(year) + '-08'].sum())\n",
    "    september.append(df[str(year) + '-09'].sum())\n",
    "    october.append(df[str(year) + '-10'].sum())\n",
    "    november.append(df[str(year) + '-11'].sum())\n",
    "    december.append(df[str(year) + '-12'].sum())\n",
    "    \n",
    "\n",
    "month_dict = { \"January\" : january , \"February\" : february, \"March\" : march, \"April\" : april, \"May\" : may, \"June\" : june , \"July\" : july, \"August\" : august, \"September\" : september, \"October\" : october, \"November\" : november, \"December\" : december }\n",
    "month_average = {}\n",
    "\n",
    "for month in month_list: \n",
    "    print(month + \":\", int(numpy.mean(month_dict[month])))\n",
    "    month_average[month] = numpy.mean(month_dict[month])'''"
   ]
  },
  {
   "cell_type": "markdown",
   "metadata": {},
   "source": [
    "### How many nights are selling the hotels in Bern per day in average? How many are they selling in high season in summer and winter?"
   ]
  },
  {
   "cell_type": "code",
   "execution_count": null,
   "metadata": {
    "collapsed": true
   },
   "outputs": [],
   "source": []
  },
  {
   "cell_type": "markdown",
   "metadata": {},
   "source": [
    "### How many percent of all nights are booked by Swiss people? "
   ]
  },
  {
   "cell_type": "code",
   "execution_count": 119,
   "metadata": {
    "collapsed": false
   },
   "outputs": [
    {
     "data": {
      "text/plain": [
       "{'2005-01': 31656.0,\n",
       " '2005-02': 29053.0,\n",
       " '2005-03': 34611.0,\n",
       " '2005-04': 38476.0,\n",
       " '2005-05': 40227.0,\n",
       " '2005-06': 43511.0,\n",
       " '2005-07': 37236.0,\n",
       " '2005-08': 45161.0,\n",
       " '2005-09': 47092.0,\n",
       " '2005-10': 43124.0,\n",
       " '2005-11': 41529.0,\n",
       " '2005-12': 30566.0,\n",
       " '2006-01': 27917.0,\n",
       " '2006-02': 28694.0,\n",
       " '2006-03': 36931.0,\n",
       " '2006-04': 35003.0,\n",
       " '2006-05': 43089.0,\n",
       " '2006-06': 45884.0,\n",
       " '2006-07': 38685.0,\n",
       " '2006-08': 43563.0,\n",
       " '2006-09': 44706.0,\n",
       " '2006-10': 42911.0,\n",
       " '2006-11': 41236.0,\n",
       " '2006-12': 33551.0,\n",
       " '2007-01': 31115.0,\n",
       " '2007-02': 29124.0,\n",
       " '2007-03': 34875.0,\n",
       " '2007-04': 34418.0,\n",
       " '2007-05': 39821.0,\n",
       " '2007-06': 46765.0,\n",
       " '2007-07': 37600.0,\n",
       " '2007-08': 43300.0,\n",
       " '2007-09': 45262.0,\n",
       " '2007-10': 43584.0,\n",
       " '2007-11': 42654.0,\n",
       " '2007-12': 32751.0,\n",
       " '2008-01': 30212.0,\n",
       " '2008-02': 32639.0,\n",
       " '2008-03': 34856.0,\n",
       " '2008-04': 40506.0,\n",
       " '2008-05': 45991.0,\n",
       " '2008-06': 38755.0,\n",
       " '2008-07': 39323.0,\n",
       " '2008-08': 44687.0,\n",
       " '2008-09': 44875.0,\n",
       " '2008-10': 47218.0,\n",
       " '2008-11': 43973.0,\n",
       " '2008-12': 32637.0,\n",
       " '2009-01': 33971.0,\n",
       " '2009-02': 29854.0,\n",
       " '2009-03': 41067.0,\n",
       " '2009-04': 39775.0,\n",
       " '2009-05': 50111.0,\n",
       " '2009-06': 48859.0,\n",
       " '2009-07': 41875.0,\n",
       " '2009-08': 49333.0,\n",
       " '2009-09': 48860.0,\n",
       " '2009-10': 46948.0,\n",
       " '2009-11': 44061.0,\n",
       " '2009-12': 36199.0,\n",
       " '2010-01': 30986.0,\n",
       " '2010-02': 32522.0,\n",
       " '2010-03': 39335.0,\n",
       " '2010-04': 38116.0,\n",
       " '2010-05': 45287.0,\n",
       " '2010-06': 49503.0,\n",
       " '2010-07': 45598.0,\n",
       " '2010-08': 49756.0,\n",
       " '2010-09': 51648.0,\n",
       " '2010-10': 48883.0,\n",
       " '2010-11': 48467.0,\n",
       " '2010-12': 38180.0,\n",
       " '2011-01': 37981.0,\n",
       " '2011-02': 35146.0,\n",
       " '2011-03': 43081.0,\n",
       " '2011-04': 40213.0,\n",
       " '2011-05': 48061.0,\n",
       " '2011-06': 51200.0,\n",
       " '2011-07': 48191.0,\n",
       " '2011-08': 52094.0,\n",
       " '2011-09': 55309.0,\n",
       " '2011-10': 52539.0,\n",
       " '2011-11': 45100.0,\n",
       " '2011-12': 36108.0,\n",
       " '2012-01': 32224.0,\n",
       " '2012-02': 37829.0,\n",
       " '2012-03': 42800.0,\n",
       " '2012-04': 40386.0,\n",
       " '2012-05': 49410.0,\n",
       " '2012-06': 52434.0,\n",
       " '2012-07': 44652.0,\n",
       " '2012-08': 50121.0,\n",
       " '2012-09': 48302.0,\n",
       " '2012-10': 49341.0,\n",
       " '2012-11': 49647.0,\n",
       " '2012-12': 36824.0,\n",
       " '2013-01': 35613.0,\n",
       " '2013-02': 33522.0,\n",
       " '2013-03': 38966.0,\n",
       " '2013-04': 41903.0,\n",
       " '2013-05': 48954.0,\n",
       " '2013-06': 57333.0,\n",
       " '2013-07': 46376.0,\n",
       " '2013-08': 55636.0,\n",
       " '2013-09': 51807.0,\n",
       " '2013-10': 53140.0,\n",
       " '2013-11': 50831.0,\n",
       " '2013-12': 33261.0,\n",
       " '2014-01': 33800.0,\n",
       " '2014-02': 31678.0,\n",
       " '2014-03': 45804.0,\n",
       " '2014-04': 37755.0,\n",
       " '2014-05': 54041.0,\n",
       " '2014-06': 48640.0,\n",
       " '2014-07': 42217.0,\n",
       " '2014-08': 51786.0,\n",
       " '2014-09': 54833.0,\n",
       " '2014-10': 50880.0,\n",
       " '2014-11': 49156.0,\n",
       " '2014-12': 35652.0,\n",
       " '2015-01': 36872.0,\n",
       " '2015-02': 32650.0,\n",
       " '2015-03': 42340.0,\n",
       " '2015-04': 38008.0,\n",
       " '2015-05': 43346.0,\n",
       " '2015-06': 50123.0,\n",
       " '2015-07': 41334.0,\n",
       " '2015-08': 47883.0,\n",
       " '2015-09': 48506.0,\n",
       " '2015-10': 47865.0,\n",
       " '2015-11': 45621.0,\n",
       " '2015-12': 36398.0,\n",
       " '2016-01': 32109.0,\n",
       " '2016-02': 35313.0,\n",
       " '2016-03': 39971.0,\n",
       " '2016-04': 41498.0,\n",
       " 'Herkunftsland': 'Schweiz',\n",
       " 'Total': 5712961.0}"
      ]
     },
     "execution_count": 119,
     "metadata": {},
     "output_type": "execute_result"
    }
   ],
   "source": [
    "countries = ['Schweiz', 'Deutschland', 'Vereinigte Staaten von Amerika', 'Frankreich', 'Italien', 'Vereinigtes Königreich']\n",
    "\n",
    "swiss_tourists = df[df['Herkunftsland'] == 'Schweiz']\n",
    "df_swiss = pd.DataFrame(swiss_tourists).T\n",
    "swiss_dict = df_swiss.to_dict()\n",
    "swiss_dict[0]\n",
    "\n",
    "#total_ch = df['Total'].where[df['Herkunftsland'] == 'Schweiz']\n",
    "#total_ch\n",
    "# df.where(df['Herkunftsland'] == 'Schweiz').T.sum('Total')"
   ]
  },
  {
   "cell_type": "markdown",
   "metadata": {},
   "source": [
    "## Make three charts with your dataset"
   ]
  },
  {
   "cell_type": "markdown",
   "metadata": {},
   "source": [
    "## From what foreign countries are coming most of the tourists?"
   ]
  },
  {
   "cell_type": "code",
   "execution_count": 22,
   "metadata": {
    "collapsed": false
   },
   "outputs": [
    {
     "data": {
      "text/plain": [
       "<matplotlib.axes._subplots.AxesSubplot at 0x7f7492e9e908>"
      ]
     },
     "execution_count": 22,
     "metadata": {},
     "output_type": "execute_result"
    },
    {
     "data": {
      "image/png": "[encoded data removed]",
      "text/plain": [
       "<matplotlib.figure.Figure at 0x7f7492ea5390>"
      ]
     },
     "metadata": {},
     "output_type": "display_data"
    }
   ],
   "source": [
    "by_nation = df[['Herkunftsland', 'Total']].where(df['Herkunftsland'] != 'Schweiz').sort_values(by='Total', ascending=False).head(10)\n",
    "by_nation.plot(kind='barh', x='Herkunftsland', y='Total')"
   ]
  },
  {
   "cell_type": "markdown",
   "metadata": {},
   "source": [
    "## How many US tourists slept in Bern's hotels? "
   ]
  },
  {
   "cell_type": "code",
   "execution_count": 54,
   "metadata": {
    "collapsed": false,
    "scrolled": true
   },
   "outputs": [
    {
     "data": {
      "text/plain": [
       "<matplotlib.axes._subplots.AxesSubplot at 0x7f7492520e10>"
      ]
     },
     "execution_count": 54,
     "metadata": {},
     "output_type": "execute_result"
    },
    {
     "data": {
      "image/png": "[encoded data removed]",
      "text/plain": [
       "<matplotlib.figure.Figure at 0x7f74924d8ef0>"
      ]
     },
     "metadata": {},
     "output_type": "display_data"
    }
   ],
   "source": [
    "df_us.plot()"
   ]
  },
  {
   "cell_type": "markdown",
   "metadata": {},
   "source": [
    "### Make a histogram comparing the number of booked nights."
   ]
  },
  {
   "cell_type": "code",
   "execution_count": 11,
   "metadata": {
    "collapsed": false
   },
   "outputs": [
    {
     "ename": "SyntaxError",
     "evalue": "invalid syntax (<ipython-input-11-97ec4d4789b7>, line 3)",
     "output_type": "error",
     "traceback": [
      "\u001b[1;36m  File \u001b[1;32m\"<ipython-input-11-97ec4d4789b7>\"\u001b[1;36m, line \u001b[1;32m3\u001b[0m\n\u001b[1;33m    if re.search(r'\\d{4}-\\d4', column)]\u001b[0m\n\u001b[1;37m                                      ^\u001b[0m\n\u001b[1;31mSyntaxError\u001b[0m\u001b[1;31m:\u001b[0m invalid syntax\n"
     ]
    }
   ],
   "source": [
    "columns = df.columns.values[1:]\n",
    "for i in columns:\n",
    "    if re.search(r'\\d{4}-\\d4', column)]\n",
    "print(df[aprils].sum())\n",
    "print(\"\\n\" + str(df[aprils].sum().describe()))"
   ]
  },
  {
   "cell_type": "markdown",
   "metadata": {},
   "source": [
    "### Make a horizontal bar chart comparing all the origin of Berne's guests."
   ]
  },
  {
   "cell_type": "code",
   "execution_count": 15,
   "metadata": {
    "collapsed": false
   },
   "outputs": [
    {
     "ename": "KeyError",
     "evalue": "\"[ 'SchweizBaltische StaatenDeutschlandFrankreichItalienÖsterreichVereinigtes KönigreichIrlandNiederlandeBelgienLuxemburgDänemarkSchwedenNorwegenFinnlandSpanienPortugalGriechenlandTürkeiÜbriges EuropaLiechtensteinIslandPolenUngarnWeissrusslandBulgarienMaltaZypernChileVereinigte Staaten von AmerikaKanadaMexikoBrasilienArgentinienZentralamerika, KaribikÜbriges SüdamerikaÜbriges Zentralamerika, KaribikAegyptenÜbriges NordafrikaSüdafrika, RepublikÜbriges AfrikaBahrainIsraelIndienJapanÜbriges Süd- und OstasienKatarKuwaitAustralienAustralien, Neuseeland, OzeanienChinaGolf-StaatenHongkongIndonesienKorea, RepublikMalaysiaPhilippinenNeuseeland, OzeanienSingapurOmanTaiwanThailandÜbriges WestasienEstlandLettlandLitauenSaudi ArabienVereinigte Arabische EmirateSerbien und MontenegroKroatienRumänienRusslandSlovakeiSlowenienTschechische RepublikUkraineSerbien'\\n 59720.0 53205.0 63670.0 72034.0 77095.0 86944.0 84420.0 101128.0 90311.0\\n 87006.0 76516.0 57607.0 55401.0 56961.0 74208.0 72446.0 88208.0 91488.0\\n 91110.0 99946.0 95179.0 89475.0 76118.0 64950.0 59618.0 59540.0 70691.0\\n 74710.0 84640.0 95403.0 98345.0 107040.0 95651.0 90195.0 80985.0 66014.0\\n 63806.0 65139.0 73271.0 81299.0 93288.0 88997.0 95011.0 107683.0 96425.0\\n 90482.0 79830.0 64195.0 62810.0 57246.0 76766.0 78156.0 98156.0 91276.0\\n 93385.0 108122.0 92914.0 86270.0 78401.0 66688.0 55585.0 59520.0 72320.0\\n 75449.0 87220.0 96180.0 96388.0 110195.0 99120.0 89218.0 82780.0 66801.0\\n 67377.0 62221.0 77273.0 75099.0 93923.0 97779.0 105535.0 106695.0 101924.0\\n 93984.0 76389.0 63298.0 58202.0 68500.0 76463.0 76908.0 92933.0 98185.0\\n 95399.0 107061.0 98001.0 89865.0 83638.0 67032.0 62316.0 62586.0 74997.0\\n 84002.0 94178.0 105194.0 102653.0 116002.0 99344.0 95810.0 86462.0 64104.0\\n 64471.0 58561.0 81199.0 78514.0 99813.0 96880.0 99582.0 119267.0 101967.0\\n 98169.0 82616.0 70711.0 67154.0 63581.0 80243.0 77316.0 88058.0 98048.0\\n 105755.0 113594.0 99362.0 93348.0 82163.0 67974.0 59857.0 68512.0 75116.0\\n 77111.0 11278644.0] not in index\"",
     "output_type": "error",
     "traceback": [
      "\u001b[1;31m---------------------------------------------------------------------------\u001b[0m",
      "\u001b[1;31mKeyError\u001b[0m                                  Traceback (most recent call last)",
      "\u001b[1;32m<ipython-input-15-8148e05cd28b>\u001b[0m in \u001b[0;36m<module>\u001b[1;34m()\u001b[0m\n\u001b[1;32m----> 1\u001b[1;33m \u001b[0mdf\u001b[0m\u001b[1;33m.\u001b[0m\u001b[0mplot\u001b[0m\u001b[1;33m(\u001b[0m\u001b[0mkind\u001b[0m\u001b[1;33m=\u001b[0m\u001b[1;34m'barh'\u001b[0m\u001b[1;33m,\u001b[0m \u001b[0mx\u001b[0m\u001b[1;33m=\u001b[0m\u001b[1;34m'Herkunftsland'\u001b[0m\u001b[1;33m,\u001b[0m \u001b[0my\u001b[0m\u001b[1;33m=\u001b[0m\u001b[0msummen\u001b[0m\u001b[1;33m)\u001b[0m\u001b[1;33m\u001b[0m\u001b[0m\n\u001b[0m",
      "\u001b[1;32m/usr/local/lib/python3.5/dist-packages/pandas/tools/plotting.py\u001b[0m in \u001b[0;36m__call__\u001b[1;34m(self, x, y, kind, ax, subplots, sharex, sharey, layout, figsize, use_index, title, grid, legend, style, logx, logy, loglog, xticks, yticks, xlim, ylim, rot, fontsize, colormap, table, yerr, xerr, secondary_y, sort_columns, **kwds)\u001b[0m\n\u001b[0;32m   3738\u001b[0m                           \u001b[0mfontsize\u001b[0m\u001b[1;33m=\u001b[0m\u001b[0mfontsize\u001b[0m\u001b[1;33m,\u001b[0m \u001b[0mcolormap\u001b[0m\u001b[1;33m=\u001b[0m\u001b[0mcolormap\u001b[0m\u001b[1;33m,\u001b[0m \u001b[0mtable\u001b[0m\u001b[1;33m=\u001b[0m\u001b[0mtable\u001b[0m\u001b[1;33m,\u001b[0m\u001b[1;33m\u001b[0m\u001b[0m\n\u001b[0;32m   3739\u001b[0m                           \u001b[0myerr\u001b[0m\u001b[1;33m=\u001b[0m\u001b[0myerr\u001b[0m\u001b[1;33m,\u001b[0m \u001b[0mxerr\u001b[0m\u001b[1;33m=\u001b[0m\u001b[0mxerr\u001b[0m\u001b[1;33m,\u001b[0m \u001b[0msecondary_y\u001b[0m\u001b[1;33m=\u001b[0m\u001b[0msecondary_y\u001b[0m\u001b[1;33m,\u001b[0m\u001b[1;33m\u001b[0m\u001b[0m\n\u001b[1;32m-> 3740\u001b[1;33m                           sort_columns=sort_columns, **kwds)\n\u001b[0m\u001b[0;32m   3741\u001b[0m     \u001b[0m__call__\u001b[0m\u001b[1;33m.\u001b[0m\u001b[0m__doc__\u001b[0m \u001b[1;33m=\u001b[0m \u001b[0mplot_frame\u001b[0m\u001b[1;33m.\u001b[0m\u001b[0m__doc__\u001b[0m\u001b[1;33m\u001b[0m\u001b[0m\n\u001b[0;32m   3742\u001b[0m \u001b[1;33m\u001b[0m\u001b[0m\n",
      "\u001b[1;32m/usr/local/lib/python3.5/dist-packages/pandas/tools/plotting.py\u001b[0m in \u001b[0;36mplot_frame\u001b[1;34m(data, x, y, kind, ax, subplots, sharex, sharey, layout, figsize, use_index, title, grid, legend, style, logx, logy, loglog, xticks, yticks, xlim, ylim, rot, fontsize, colormap, table, yerr, xerr, secondary_y, sort_columns, **kwds)\u001b[0m\n\u001b[0;32m   2612\u001b[0m                  \u001b[0myerr\u001b[0m\u001b[1;33m=\u001b[0m\u001b[0myerr\u001b[0m\u001b[1;33m,\u001b[0m \u001b[0mxerr\u001b[0m\u001b[1;33m=\u001b[0m\u001b[0mxerr\u001b[0m\u001b[1;33m,\u001b[0m\u001b[1;33m\u001b[0m\u001b[0m\n\u001b[0;32m   2613\u001b[0m                  \u001b[0msecondary_y\u001b[0m\u001b[1;33m=\u001b[0m\u001b[0msecondary_y\u001b[0m\u001b[1;33m,\u001b[0m \u001b[0msort_columns\u001b[0m\u001b[1;33m=\u001b[0m\u001b[0msort_columns\u001b[0m\u001b[1;33m,\u001b[0m\u001b[1;33m\u001b[0m\u001b[0m\n\u001b[1;32m-> 2614\u001b[1;33m                  **kwds)\n\u001b[0m\u001b[0;32m   2615\u001b[0m \u001b[1;33m\u001b[0m\u001b[0m\n\u001b[0;32m   2616\u001b[0m \u001b[1;33m\u001b[0m\u001b[0m\n",
      "\u001b[1;32m/usr/local/lib/python3.5/dist-packages/pandas/tools/plotting.py\u001b[0m in \u001b[0;36m_plot\u001b[1;34m(data, x, y, subplots, ax, kind, **kwds)\u001b[0m\n\u001b[0;32m   2425\u001b[0m                     \u001b[0my\u001b[0m \u001b[1;33m=\u001b[0m \u001b[0mdata\u001b[0m\u001b[1;33m.\u001b[0m\u001b[0mcolumns\u001b[0m\u001b[1;33m[\u001b[0m\u001b[0my\u001b[0m\u001b[1;33m]\u001b[0m\u001b[1;33m\u001b[0m\u001b[0m\n\u001b[0;32m   2426\u001b[0m                 \u001b[0mlabel\u001b[0m \u001b[1;33m=\u001b[0m \u001b[0mkwds\u001b[0m\u001b[1;33m[\u001b[0m\u001b[1;34m'label'\u001b[0m\u001b[1;33m]\u001b[0m \u001b[1;32mif\u001b[0m \u001b[1;34m'label'\u001b[0m \u001b[1;32min\u001b[0m \u001b[0mkwds\u001b[0m \u001b[1;32melse\u001b[0m \u001b[0my\u001b[0m\u001b[1;33m\u001b[0m\u001b[0m\n\u001b[1;32m-> 2427\u001b[1;33m                 \u001b[0mseries\u001b[0m \u001b[1;33m=\u001b[0m \u001b[0mdata\u001b[0m\u001b[1;33m[\u001b[0m\u001b[0my\u001b[0m\u001b[1;33m]\u001b[0m\u001b[1;33m.\u001b[0m\u001b[0mcopy\u001b[0m\u001b[1;33m(\u001b[0m\u001b[1;33m)\u001b[0m  \u001b[1;31m# Don't modify\u001b[0m\u001b[1;33m\u001b[0m\u001b[0m\n\u001b[0m\u001b[0;32m   2428\u001b[0m                 \u001b[0mseries\u001b[0m\u001b[1;33m.\u001b[0m\u001b[0mname\u001b[0m \u001b[1;33m=\u001b[0m \u001b[0mlabel\u001b[0m\u001b[1;33m\u001b[0m\u001b[0m\n\u001b[0;32m   2429\u001b[0m \u001b[1;33m\u001b[0m\u001b[0m\n",
      "\u001b[1;32m/usr/local/lib/python3.5/dist-packages/pandas/core/frame.py\u001b[0m in \u001b[0;36m__getitem__\u001b[1;34m(self, key)\u001b[0m\n\u001b[0;32m   1989\u001b[0m         \u001b[1;32mif\u001b[0m \u001b[0misinstance\u001b[0m\u001b[1;33m(\u001b[0m\u001b[0mkey\u001b[0m\u001b[1;33m,\u001b[0m \u001b[1;33m(\u001b[0m\u001b[0mSeries\u001b[0m\u001b[1;33m,\u001b[0m \u001b[0mnp\u001b[0m\u001b[1;33m.\u001b[0m\u001b[0mndarray\u001b[0m\u001b[1;33m,\u001b[0m \u001b[0mIndex\u001b[0m\u001b[1;33m,\u001b[0m \u001b[0mlist\u001b[0m\u001b[1;33m)\u001b[0m\u001b[1;33m)\u001b[0m\u001b[1;33m:\u001b[0m\u001b[1;33m\u001b[0m\u001b[0m\n\u001b[0;32m   1990\u001b[0m             \u001b[1;31m# either boolean or fancy integer index\u001b[0m\u001b[1;33m\u001b[0m\u001b[1;33m\u001b[0m\u001b[0m\n\u001b[1;32m-> 1991\u001b[1;33m             \u001b[1;32mreturn\u001b[0m \u001b[0mself\u001b[0m\u001b[1;33m.\u001b[0m\u001b[0m_getitem_array\u001b[0m\u001b[1;33m(\u001b[0m\u001b[0mkey\u001b[0m\u001b[1;33m)\u001b[0m\u001b[1;33m\u001b[0m\u001b[0m\n\u001b[0m\u001b[0;32m   1992\u001b[0m         \u001b[1;32melif\u001b[0m \u001b[0misinstance\u001b[0m\u001b[1;33m(\u001b[0m\u001b[0mkey\u001b[0m\u001b[1;33m,\u001b[0m \u001b[0mDataFrame\u001b[0m\u001b[1;33m)\u001b[0m\u001b[1;33m:\u001b[0m\u001b[1;33m\u001b[0m\u001b[0m\n\u001b[0;32m   1993\u001b[0m             \u001b[1;32mreturn\u001b[0m \u001b[0mself\u001b[0m\u001b[1;33m.\u001b[0m\u001b[0m_getitem_frame\u001b[0m\u001b[1;33m(\u001b[0m\u001b[0mkey\u001b[0m\u001b[1;33m)\u001b[0m\u001b[1;33m\u001b[0m\u001b[0m\n",
      "\u001b[1;32m/usr/local/lib/python3.5/dist-packages/pandas/core/frame.py\u001b[0m in \u001b[0;36m_getitem_array\u001b[1;34m(self, key)\u001b[0m\n\u001b[0;32m   2033\u001b[0m             \u001b[1;32mreturn\u001b[0m \u001b[0mself\u001b[0m\u001b[1;33m.\u001b[0m\u001b[0mtake\u001b[0m\u001b[1;33m(\u001b[0m\u001b[0mindexer\u001b[0m\u001b[1;33m,\u001b[0m \u001b[0maxis\u001b[0m\u001b[1;33m=\u001b[0m\u001b[1;36m0\u001b[0m\u001b[1;33m,\u001b[0m \u001b[0mconvert\u001b[0m\u001b[1;33m=\u001b[0m\u001b[1;32mFalse\u001b[0m\u001b[1;33m)\u001b[0m\u001b[1;33m\u001b[0m\u001b[0m\n\u001b[0;32m   2034\u001b[0m         \u001b[1;32melse\u001b[0m\u001b[1;33m:\u001b[0m\u001b[1;33m\u001b[0m\u001b[0m\n\u001b[1;32m-> 2035\u001b[1;33m             \u001b[0mindexer\u001b[0m \u001b[1;33m=\u001b[0m \u001b[0mself\u001b[0m\u001b[1;33m.\u001b[0m\u001b[0mix\u001b[0m\u001b[1;33m.\u001b[0m\u001b[0m_convert_to_indexer\u001b[0m\u001b[1;33m(\u001b[0m\u001b[0mkey\u001b[0m\u001b[1;33m,\u001b[0m \u001b[0maxis\u001b[0m\u001b[1;33m=\u001b[0m\u001b[1;36m1\u001b[0m\u001b[1;33m)\u001b[0m\u001b[1;33m\u001b[0m\u001b[0m\n\u001b[0m\u001b[0;32m   2036\u001b[0m             \u001b[1;32mreturn\u001b[0m \u001b[0mself\u001b[0m\u001b[1;33m.\u001b[0m\u001b[0mtake\u001b[0m\u001b[1;33m(\u001b[0m\u001b[0mindexer\u001b[0m\u001b[1;33m,\u001b[0m \u001b[0maxis\u001b[0m\u001b[1;33m=\u001b[0m\u001b[1;36m1\u001b[0m\u001b[1;33m,\u001b[0m \u001b[0mconvert\u001b[0m\u001b[1;33m=\u001b[0m\u001b[1;32mTrue\u001b[0m\u001b[1;33m)\u001b[0m\u001b[1;33m\u001b[0m\u001b[0m\n\u001b[0;32m   2037\u001b[0m \u001b[1;33m\u001b[0m\u001b[0m\n",
      "\u001b[1;32m/usr/local/lib/python3.5/dist-packages/pandas/core/indexing.py\u001b[0m in \u001b[0;36m_convert_to_indexer\u001b[1;34m(self, obj, axis, is_setter)\u001b[0m\n\u001b[0;32m   1212\u001b[0m                 \u001b[0mmask\u001b[0m \u001b[1;33m=\u001b[0m \u001b[0mcheck\u001b[0m \u001b[1;33m==\u001b[0m \u001b[1;33m-\u001b[0m\u001b[1;36m1\u001b[0m\u001b[1;33m\u001b[0m\u001b[0m\n\u001b[0;32m   1213\u001b[0m                 \u001b[1;32mif\u001b[0m \u001b[0mmask\u001b[0m\u001b[1;33m.\u001b[0m\u001b[0many\u001b[0m\u001b[1;33m(\u001b[0m\u001b[1;33m)\u001b[0m\u001b[1;33m:\u001b[0m\u001b[1;33m\u001b[0m\u001b[0m\n\u001b[1;32m-> 1214\u001b[1;33m                     \u001b[1;32mraise\u001b[0m \u001b[0mKeyError\u001b[0m\u001b[1;33m(\u001b[0m\u001b[1;34m'%s not in index'\u001b[0m \u001b[1;33m%\u001b[0m \u001b[0mobjarr\u001b[0m\u001b[1;33m[\u001b[0m\u001b[0mmask\u001b[0m\u001b[1;33m]\u001b[0m\u001b[1;33m)\u001b[0m\u001b[1;33m\u001b[0m\u001b[0m\n\u001b[0m\u001b[0;32m   1215\u001b[0m \u001b[1;33m\u001b[0m\u001b[0m\n\u001b[0;32m   1216\u001b[0m                 \u001b[1;32mreturn\u001b[0m \u001b[0m_values_from_object\u001b[0m\u001b[1;33m(\u001b[0m\u001b[0mindexer\u001b[0m\u001b[1;33m)\u001b[0m\u001b[1;33m\u001b[0m\u001b[0m\n",
      "\u001b[1;31mKeyError\u001b[0m: \"[ 'SchweizBaltische StaatenDeutschlandFrankreichItalienÖsterreichVereinigtes KönigreichIrlandNiederlandeBelgienLuxemburgDänemarkSchwedenNorwegenFinnlandSpanienPortugalGriechenlandTürkeiÜbriges EuropaLiechtensteinIslandPolenUngarnWeissrusslandBulgarienMaltaZypernChileVereinigte Staaten von AmerikaKanadaMexikoBrasilienArgentinienZentralamerika, KaribikÜbriges SüdamerikaÜbriges Zentralamerika, KaribikAegyptenÜbriges NordafrikaSüdafrika, RepublikÜbriges AfrikaBahrainIsraelIndienJapanÜbriges Süd- und OstasienKatarKuwaitAustralienAustralien, Neuseeland, OzeanienChinaGolf-StaatenHongkongIndonesienKorea, RepublikMalaysiaPhilippinenNeuseeland, OzeanienSingapurOmanTaiwanThailandÜbriges WestasienEstlandLettlandLitauenSaudi ArabienVereinigte Arabische EmirateSerbien und MontenegroKroatienRumänienRusslandSlovakeiSlowenienTschechische RepublikUkraineSerbien'\\n 59720.0 53205.0 63670.0 72034.0 77095.0 86944.0 84420.0 101128.0 90311.0\\n 87006.0 76516.0 57607.0 55401.0 56961.0 74208.0 72446.0 88208.0 91488.0\\n 91110.0 99946.0 95179.0 89475.0 76118.0 64950.0 59618.0 59540.0 70691.0\\n 74710.0 84640.0 95403.0 98345.0 107040.0 95651.0 90195.0 80985.0 66014.0\\n 63806.0 65139.0 73271.0 81299.0 93288.0 88997.0 95011.0 107683.0 96425.0\\n 90482.0 79830.0 64195.0 62810.0 57246.0 76766.0 78156.0 98156.0 91276.0\\n 93385.0 108122.0 92914.0 86270.0 78401.0 66688.0 55585.0 59520.0 72320.0\\n 75449.0 87220.0 96180.0 96388.0 110195.0 99120.0 89218.0 82780.0 66801.0\\n 67377.0 62221.0 77273.0 75099.0 93923.0 97779.0 105535.0 106695.0 101924.0\\n 93984.0 76389.0 63298.0 58202.0 68500.0 76463.0 76908.0 92933.0 98185.0\\n 95399.0 107061.0 98001.0 89865.0 83638.0 67032.0 62316.0 62586.0 74997.0\\n 84002.0 94178.0 105194.0 102653.0 116002.0 99344.0 95810.0 86462.0 64104.0\\n 64471.0 58561.0 81199.0 78514.0 99813.0 96880.0 99582.0 119267.0 101967.0\\n 98169.0 82616.0 70711.0 67154.0 63581.0 80243.0 77316.0 88058.0 98048.0\\n 105755.0 113594.0 99362.0 93348.0 82163.0 67974.0 59857.0 68512.0 75116.0\\n 77111.0 11278644.0] not in index\""
     ]
    }
   ],
   "source": [
    "df.plot(kind='barh', x='Herkunftsland', y=summen)"
   ]
  },
  {
   "cell_type": "markdown",
   "metadata": {},
   "source": [
    "### Make a timeline for all nations showing how many nights their folks spent in Bern."
   ]
  },
  {
   "cell_type": "code",
   "execution_count": null,
   "metadata": {
    "collapsed": false
   },
   "outputs": [],
   "source": [
    "all_sums = df.sum()"
   ]
  },
  {
   "cell_type": "code",
   "execution_count": 39,
   "metadata": {
    "collapsed": false
   },
   "outputs": [
    {
     "ename": "SyntaxError",
     "evalue": "invalid syntax (<ipython-input-39-5999d45d9766>, line 1)",
     "output_type": "error",
     "traceback": [
      "\u001b[1;36m  File \u001b[1;32m\"<ipython-input-39-5999d45d9766>\"\u001b[1;36m, line \u001b[1;32m1\u001b[0m\n\u001b[1;33m    df.plot(kind='bar', x=month_list y=df.sum())\u001b[0m\n\u001b[1;37m                                     ^\u001b[0m\n\u001b[1;31mSyntaxError\u001b[0m\u001b[1;31m:\u001b[0m invalid syntax\n"
     ]
    }
   ],
   "source": [
    "\n",
    "df.plot(kind='bar', x=month_list y=df.sum())"
   ]
  }
 ],
 "metadata": {
  "kernelspec": {
   "display_name": "Python 3",
   "language": "python",
   "name": "python3"
  },
  "language_info": {
   "codemirror_mode": {
    "name": "ipython",
    "version": 3
   },
   "file_extension": ".py",
   "mimetype": "text/x-python",
   "name": "python",
   "nbconvert_exporter": "python",
   "pygments_lexer": "ipython3",
   "version": "3.5.1+"
  }
 },
 "nbformat": 4,
 "nbformat_minor": 0
}
