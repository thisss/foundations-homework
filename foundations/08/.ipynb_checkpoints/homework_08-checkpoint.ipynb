{
 "cells": [
  {
   "cell_type": "markdown",
   "metadata": {},
   "source": [
    "# Hotel nights in Bern, Switzerland"
   ]
  },
  {
   "cell_type": "markdown",
   "metadata": {},
   "source": [
    "Switzerland's national department of statistics publishes some [data about tourism](https://www.pxweb.bfs.admin.ch/default.aspx?px_language=de). I would like to look at the data about how many night were booked in hotels in and around the city Bern. \n",
    "\n",
    "I first downloaded [this dataset](https://www.pxweb.bfs.admin.ch/Table.aspx?layout=tableViewLayout2&px_tableid=px-x-1003020000_103%5cpx-x-1003020000_103.px&px_language=de&px_type=PX&px_db=px-x-1003020000_103&rxid=c38fb400-2d9f-4e7e-92eb-ef0d87d20b55). It was too complicated to work with, since there are too many dimensions. Therefor I went back and got a [simpler version](https://www.pxweb.bfs.admin.ch/Table.aspx?layout=tableViewLayout2&px_tableid=px-x-1003020000_103%5cpx-x-1003020000_103.px&px_language=de&px_type=PX&px_db=px-x-1003020000_103&rxid=4cced84d-5b26-476b-816c-f9519ff680ff) of the dataset that just lists the nights without the arrival and is restricted to one area. Later I had to go back again: I couldn't sum the values easily since the values were not in a row but in a line. And I first had to exclude the rows with the year and the month. I finally got the [this version](https://www.pxweb.bfs.admin.ch/Table.aspx?layout=tableViewLayout2&px_tableid=px-x-1003020000_103%5cpx-x-1003020000_103.px&px_language=de&px_type=PX&px_db=px-x-1003020000_103&rxid=b392530a-0bae-4841-8f7e-4cf528ec1cee) of the raw data. \n",
    "\n",
    "Since the file was encoded in ISO-8859 I had to convert it to UTF8 using the following linux command: iconv -f ISO-8859-1 tourism_bern.csv -t UTF8 -o tourism_bern_UTF8.csv. I then did some cleaning of the data in the spreadsheet before loading into Pandas. "
   ]
  },
  {
   "cell_type": "code",
   "execution_count": 1,
   "metadata": {
    "collapsed": true
   },
   "outputs": [],
   "source": [
    "import pandas as pd\n",
    "import matplotlib.pyplot as plt\n",
    "%matplotlib inline"
   ]
  },
  {
   "cell_type": "markdown",
   "metadata": {},
   "source": [
    "## Open your dataset up using pandas in a Jupyter notebook"
   ]
  },
  {
   "cell_type": "code",
   "execution_count": 2,
   "metadata": {
    "collapsed": false,
    "scrolled": true
   },
   "outputs": [],
   "source": [
    "df = pd.read_csv(\"tourism_bern_UTF8.csv\", sep=\";\", header=0)"
   ]
  },
  {
   "cell_type": "markdown",
   "metadata": {},
   "source": [
    "## Do a .head() to get a feel for your data"
   ]
  },
  {
   "cell_type": "code",
   "execution_count": 3,
   "metadata": {
    "collapsed": false
   },
   "outputs": [
    {
     "data": {
      "text/html": [
       "<div>\n",
       "<table border=\"1\" class=\"dataframe\">\n",
       "  <thead>\n",
       "    <tr style=\"text-align: right;\">\n",
       "      <th></th>\n",
       "      <th>Herkunftsland</th>\n",
       "      <th>2005-01</th>\n",
       "      <th>2005-02</th>\n",
       "      <th>2005-03</th>\n",
       "      <th>2005-04</th>\n",
       "      <th>2005-05</th>\n",
       "      <th>2005-06</th>\n",
       "      <th>2005-07</th>\n",
       "      <th>2005-08</th>\n",
       "      <th>2005-09</th>\n",
       "      <th>...</th>\n",
       "      <th>2015-07</th>\n",
       "      <th>2015-08</th>\n",
       "      <th>2015-09</th>\n",
       "      <th>2015-10</th>\n",
       "      <th>2015-11</th>\n",
       "      <th>2015-12</th>\n",
       "      <th>2016-01</th>\n",
       "      <th>2016-02</th>\n",
       "      <th>2016-03</th>\n",
       "      <th>2016-04</th>\n",
       "    </tr>\n",
       "  </thead>\n",
       "  <tbody>\n",
       "    <tr>\n",
       "      <th>0</th>\n",
       "      <td>Schweiz</td>\n",
       "      <td>31656.0</td>\n",
       "      <td>29053.0</td>\n",
       "      <td>34611.0</td>\n",
       "      <td>38476.0</td>\n",
       "      <td>40227.0</td>\n",
       "      <td>43511.0</td>\n",
       "      <td>37236.0</td>\n",
       "      <td>45161.0</td>\n",
       "      <td>47092.0</td>\n",
       "      <td>...</td>\n",
       "      <td>41334.0</td>\n",
       "      <td>47883.0</td>\n",
       "      <td>48506.0</td>\n",
       "      <td>47865.0</td>\n",
       "      <td>45621.0</td>\n",
       "      <td>36398.0</td>\n",
       "      <td>32109.0</td>\n",
       "      <td>35313.0</td>\n",
       "      <td>39971.0</td>\n",
       "      <td>41498.0</td>\n",
       "    </tr>\n",
       "    <tr>\n",
       "      <th>1</th>\n",
       "      <td>Baltische Staaten</td>\n",
       "      <td>68.0</td>\n",
       "      <td>34.0</td>\n",
       "      <td>42.0</td>\n",
       "      <td>82.0</td>\n",
       "      <td>72.0</td>\n",
       "      <td>118.0</td>\n",
       "      <td>48.0</td>\n",
       "      <td>113.0</td>\n",
       "      <td>75.0</td>\n",
       "      <td>...</td>\n",
       "      <td>NaN</td>\n",
       "      <td>NaN</td>\n",
       "      <td>NaN</td>\n",
       "      <td>NaN</td>\n",
       "      <td>NaN</td>\n",
       "      <td>NaN</td>\n",
       "      <td>NaN</td>\n",
       "      <td>NaN</td>\n",
       "      <td>NaN</td>\n",
       "      <td>NaN</td>\n",
       "    </tr>\n",
       "    <tr>\n",
       "      <th>2</th>\n",
       "      <td>Deutschland</td>\n",
       "      <td>8884.0</td>\n",
       "      <td>9102.0</td>\n",
       "      <td>10493.0</td>\n",
       "      <td>11352.0</td>\n",
       "      <td>12262.0</td>\n",
       "      <td>13971.0</td>\n",
       "      <td>14522.0</td>\n",
       "      <td>17403.0</td>\n",
       "      <td>14759.0</td>\n",
       "      <td>...</td>\n",
       "      <td>10641.0</td>\n",
       "      <td>12812.0</td>\n",
       "      <td>12333.0</td>\n",
       "      <td>12083.0</td>\n",
       "      <td>11426.0</td>\n",
       "      <td>8115.0</td>\n",
       "      <td>8043.0</td>\n",
       "      <td>9505.0</td>\n",
       "      <td>10878.0</td>\n",
       "      <td>9919.0</td>\n",
       "    </tr>\n",
       "    <tr>\n",
       "      <th>3</th>\n",
       "      <td>Frankreich</td>\n",
       "      <td>2001.0</td>\n",
       "      <td>1903.0</td>\n",
       "      <td>2034.0</td>\n",
       "      <td>2327.0</td>\n",
       "      <td>2026.0</td>\n",
       "      <td>2478.0</td>\n",
       "      <td>2503.0</td>\n",
       "      <td>3029.0</td>\n",
       "      <td>2179.0</td>\n",
       "      <td>...</td>\n",
       "      <td>2549.0</td>\n",
       "      <td>2399.0</td>\n",
       "      <td>1597.0</td>\n",
       "      <td>2136.0</td>\n",
       "      <td>1746.0</td>\n",
       "      <td>1892.0</td>\n",
       "      <td>1509.0</td>\n",
       "      <td>2049.0</td>\n",
       "      <td>1903.0</td>\n",
       "      <td>1863.0</td>\n",
       "    </tr>\n",
       "    <tr>\n",
       "      <th>4</th>\n",
       "      <td>Italien</td>\n",
       "      <td>1389.0</td>\n",
       "      <td>1146.0</td>\n",
       "      <td>1361.0</td>\n",
       "      <td>1779.0</td>\n",
       "      <td>1496.0</td>\n",
       "      <td>1857.0</td>\n",
       "      <td>1880.0</td>\n",
       "      <td>3220.0</td>\n",
       "      <td>2146.0</td>\n",
       "      <td>...</td>\n",
       "      <td>2306.0</td>\n",
       "      <td>3352.0</td>\n",
       "      <td>1632.0</td>\n",
       "      <td>1869.0</td>\n",
       "      <td>2320.0</td>\n",
       "      <td>3439.0</td>\n",
       "      <td>2418.0</td>\n",
       "      <td>1851.0</td>\n",
       "      <td>2126.0</td>\n",
       "      <td>2000.0</td>\n",
       "    </tr>\n",
       "  </tbody>\n",
       "</table>\n",
       "<p>5 rows × 137 columns</p>\n",
       "</div>"
      ],
      "text/plain": [
       "       Herkunftsland  2005-01  2005-02  2005-03  2005-04  2005-05  2005-06  \\\n",
       "0            Schweiz  31656.0  29053.0  34611.0  38476.0  40227.0  43511.0   \n",
       "1  Baltische Staaten     68.0     34.0     42.0     82.0     72.0    118.0   \n",
       "2        Deutschland   8884.0   9102.0  10493.0  11352.0  12262.0  13971.0   \n",
       "3         Frankreich   2001.0   1903.0   2034.0   2327.0   2026.0   2478.0   \n",
       "4            Italien   1389.0   1146.0   1361.0   1779.0   1496.0   1857.0   \n",
       "\n",
       "   2005-07  2005-08  2005-09   ...     2015-07  2015-08  2015-09  2015-10  \\\n",
       "0  37236.0  45161.0  47092.0   ...     41334.0  47883.0  48506.0  47865.0   \n",
       "1     48.0    113.0     75.0   ...         NaN      NaN      NaN      NaN   \n",
       "2  14522.0  17403.0  14759.0   ...     10641.0  12812.0  12333.0  12083.0   \n",
       "3   2503.0   3029.0   2179.0   ...      2549.0   2399.0   1597.0   2136.0   \n",
       "4   1880.0   3220.0   2146.0   ...      2306.0   3352.0   1632.0   1869.0   \n",
       "\n",
       "   2015-11  2015-12  2016-01  2016-02  2016-03  2016-04  \n",
       "0  45621.0  36398.0  32109.0  35313.0  39971.0  41498.0  \n",
       "1      NaN      NaN      NaN      NaN      NaN      NaN  \n",
       "2  11426.0   8115.0   8043.0   9505.0  10878.0   9919.0  \n",
       "3   1746.0   1892.0   1509.0   2049.0   1903.0   1863.0  \n",
       "4   2320.0   3439.0   2418.0   1851.0   2126.0   2000.0  \n",
       "\n",
       "[5 rows x 137 columns]"
      ]
     },
     "execution_count": 3,
     "metadata": {},
     "output_type": "execute_result"
    }
   ],
   "source": [
    "df.head()"
   ]
  },
  {
   "cell_type": "markdown",
   "metadata": {},
   "source": [
    "## Write down 12 questions to ask your data, or 12 things to hunt for in the data."
   ]
  },
  {
   "cell_type": "markdown",
   "metadata": {},
   "source": [
    "- How many nights did all tourists together book in hotels in the canton of Bern in the last month?\n",
    "- Compare the last month to the corresponding month of the previous year.\n",
    "- Make a histogram comparing the number of booked nights for the last five years.\n",
    "- The Swiss spent the most nights in Bern's hotels. What country is the next to follow?\n",
    "- A change in Switzerland's money policies did lead to a massive revaluation of the Swiss Franc in January 2015. Did less foreign tourists sleep in Hotels after? \n",
    "- Did the percentage of people from Switzerland increase after January 2015?\n",
    "- What nations are avoiding Switzerland since January 2015 the most?\n",
    "- In what month are the most and the least tourists around? \n",
    "- The parlament meets normally in XY, XY and XY. Are the hotels in this time more busy?\n",
    "- Bern war one of the host cities during the soccer europe cup 2008. Did the hotels more guest than usually in this time?\n",
    "- How many nights are selling the hotels in Bern per day in average? How many are they selling in high season in summer and winter?\n",
    "- For what nation does the statistic show the biggest increase or decrease between 2010 and 2015?\n",
    "- What's the percentage of the tourists coming from countries where German is not a official language? \n"
   ]
  },
  {
   "cell_type": "markdown",
   "metadata": {},
   "source": [
    "### How many nights did all tourists together book in hotels in the canton of Bern in the last month?"
   ]
  },
  {
   "cell_type": "markdown",
   "metadata": {},
   "source": [
    "Actually, the last month is not available yet. Let's stick to April then. But first, we'll have to do some housekeeping: We need to get rid of the three points in all cells without data. I tried it with df.replace(\"...\",\"\") but didn't suceed. Therefore I went back to the spreadsheet and did a quick replaced of the caracters there. I also merged the two date fields of every column into one. "
   ]
  },
  {
   "cell_type": "code",
   "execution_count": 4,
   "metadata": {
    "collapsed": false
   },
   "outputs": [
    {
     "name": "stdout",
     "output_type": "stream",
     "text": [
      "In April 2016, Bern's hotels did sell 77111 overnight stays.\n"
     ]
    }
   ],
   "source": [
    "april_2016 = df[['Herkunftsland', '2016-04']]\n",
    "print(\"In April 2016, Bern's hotels did sell\", int(april_2016['2016-04'].sum()), \"overnight stays.\")"
   ]
  },
  {
   "cell_type": "markdown",
   "metadata": {},
   "source": [
    "### Compare the last month to the corresponding month of the previous year."
   ]
  },
  {
   "cell_type": "code",
   "execution_count": 5,
   "metadata": {
    "collapsed": false
   },
   "outputs": [
    {
     "name": "stdout",
     "output_type": "stream",
     "text": [
      "In April 1015, Bern's hotels did sell 77316 overnight stays.\n",
      "The year 2015 was better than 2016. The hotels sold 205 more nights.\n"
     ]
    }
   ],
   "source": [
    "print(\"In April 1015, Bern's hotels did sell\", int(df['2015-04'].sum()), \"overnight stays.\")\n",
    "if df['2016-04'].sum() > df['2015-04'].sum(): \n",
    "    print(\"The year 2016 was a better year for the Hotels than 2015. They did sell\", df['2016-04'].sum() - df['2015-04'].sum(), \"more nights.\")\n",
    "else:\n",
    "    print(\"The year 2015 was better than 2016. The hotels sold\", int(df['2015-04'].sum() - df['2016-04'].sum()), \"more nights.\")"
   ]
  },
  {
   "cell_type": "markdown",
   "metadata": {},
   "source": [
    "### When took most tourists an overnight stop in Bern? "
   ]
  },
  {
   "cell_type": "code",
   "execution_count": 6,
   "metadata": {
    "collapsed": false
   },
   "outputs": [
    {
     "name": "stdout",
     "output_type": "stream",
     "text": [
      "The best month in the recent history of Berne's hotels was 2014-08 with 119267 booked nights.\n"
     ]
    }
   ],
   "source": [
    "month_list = df.columns[1:]\n",
    "best_month = month_list[0]\n",
    "\n",
    "for month in month_list:\n",
    "    if df[month].sum() > df[best_month].sum():\n",
    "        best_month = month\n",
    "print(\"The best month in the recent history of Berne's hotels was\", best_month, \"with\", int(df[best_month].sum()), \"booked nights.\")"
   ]
  },
  {
   "cell_type": "markdown",
   "metadata": {},
   "source": [
    "### What was the worst month in the recent history of Bern's hotels?"
   ]
  },
  {
   "cell_type": "code",
   "execution_count": 7,
   "metadata": {
    "collapsed": false
   },
   "outputs": [
    {
     "name": "stdout",
     "output_type": "stream",
     "text": [
      "The worst month in the recent history of Berne's hotels was 2016-04 with 77111 booked nights.\n"
     ]
    }
   ],
   "source": [
    "month_list = df.columns[1:]\n",
    "worst_month = month_list[0]\n",
    "\n",
    "for month in month_list:\n",
    "    if df[month].sum() < df[best_month].sum():\n",
    "        worst_month = month\n",
    "print(\"The worst month in the recent history of Berne's hotels was\", worst_month, \"with\", int(df[worst_month].sum()), \"booked nights.\")"
   ]
  },
  {
   "cell_type": "markdown",
   "metadata": {},
   "source": [
    "### From what five countries are coming the least person?\n",
    "I am filling in a new column named \"total\" that contains the sums of the previous columns. "
   ]
  },
  {
   "cell_type": "code",
   "execution_count": 8,
   "metadata": {
    "collapsed": false
   },
   "outputs": [
    {
     "data": {
      "text/html": [
       "<div>\n",
       "<table border=\"1\" class=\"dataframe\">\n",
       "  <thead>\n",
       "    <tr style=\"text-align: right;\">\n",
       "      <th></th>\n",
       "      <th>Herkunftsland</th>\n",
       "      <th>Total</th>\n",
       "    </tr>\n",
       "  </thead>\n",
       "  <tbody>\n",
       "    <tr>\n",
       "      <th>41</th>\n",
       "      <td>Bahrain</td>\n",
       "      <td>766.0</td>\n",
       "    </tr>\n",
       "    <tr>\n",
       "      <th>26</th>\n",
       "      <td>Malta</td>\n",
       "      <td>977.0</td>\n",
       "    </tr>\n",
       "    <tr>\n",
       "      <th>27</th>\n",
       "      <td>Zypern</td>\n",
       "      <td>1314.0</td>\n",
       "    </tr>\n",
       "    <tr>\n",
       "      <th>59</th>\n",
       "      <td>Oman</td>\n",
       "      <td>1325.0</td>\n",
       "    </tr>\n",
       "    <tr>\n",
       "      <th>65</th>\n",
       "      <td>Litauen</td>\n",
       "      <td>2031.0</td>\n",
       "    </tr>\n",
       "  </tbody>\n",
       "</table>\n",
       "</div>"
      ],
      "text/plain": [
       "   Herkunftsland   Total\n",
       "41       Bahrain   766.0\n",
       "26         Malta   977.0\n",
       "27        Zypern  1314.0\n",
       "59          Oman  1325.0\n",
       "65       Litauen  2031.0"
      ]
     },
     "execution_count": 8,
     "metadata": {},
     "output_type": "execute_result"
    }
   ],
   "source": [
    "total = 0\n",
    "df['Total'] = total # Resetting in order to be able to rerun the code without getting wrong values.\n",
    "total = df.sum(axis=1)\n",
    "df['Total'] = total\n",
    "df.head(2)\n",
    "\n",
    "df[['Herkunftsland', 'Total']].sort_values(by='Total').head(5)\n"
   ]
  },
  {
   "cell_type": "markdown",
   "metadata": {},
   "source": [
    "### The Swiss spent the most nights in Bern's hotels. People from what five other countries the are most important for the hotels?"
   ]
  },
  {
   "cell_type": "code",
   "execution_count": 9,
   "metadata": {
    "collapsed": false
   },
   "outputs": [
    {
     "data": {
      "text/html": [
       "<div>\n",
       "<table border=\"1\" class=\"dataframe\">\n",
       "  <thead>\n",
       "    <tr style=\"text-align: right;\">\n",
       "      <th></th>\n",
       "      <th>Herkunftsland</th>\n",
       "      <th>Total</th>\n",
       "    </tr>\n",
       "  </thead>\n",
       "  <tbody>\n",
       "    <tr>\n",
       "      <th>2</th>\n",
       "      <td>Deutschland</td>\n",
       "      <td>1771343.0</td>\n",
       "    </tr>\n",
       "    <tr>\n",
       "      <th>29</th>\n",
       "      <td>Vereinigte Staaten von Amerika</td>\n",
       "      <td>426445.0</td>\n",
       "    </tr>\n",
       "    <tr>\n",
       "      <th>3</th>\n",
       "      <td>Frankreich</td>\n",
       "      <td>297146.0</td>\n",
       "    </tr>\n",
       "    <tr>\n",
       "      <th>4</th>\n",
       "      <td>Italien</td>\n",
       "      <td>296995.0</td>\n",
       "    </tr>\n",
       "    <tr>\n",
       "      <th>6</th>\n",
       "      <td>Vereinigtes Königreich</td>\n",
       "      <td>286842.0</td>\n",
       "    </tr>\n",
       "  </tbody>\n",
       "</table>\n",
       "</div>"
      ],
      "text/plain": [
       "                     Herkunftsland      Total\n",
       "2                      Deutschland  1771343.0\n",
       "29  Vereinigte Staaten von Amerika   426445.0\n",
       "3                       Frankreich   297146.0\n",
       "4                          Italien   296995.0\n",
       "6           Vereinigtes Königreich   286842.0"
      ]
     },
     "execution_count": 9,
     "metadata": {},
     "output_type": "execute_result"
    }
   ],
   "source": [
    "df[['Herkunftsland', 'Total']].where(df['Herkunftsland'] != 'Schweiz').sort_values(by='Total', ascending=False).head(5)"
   ]
  },
  {
   "cell_type": "markdown",
   "metadata": {},
   "source": [
    "### How many nights per year did guests from the US spend in Bern's hotels? "
   ]
  },
  {
   "cell_type": "code",
   "execution_count": 10,
   "metadata": {
    "collapsed": false
   },
   "outputs": [
    {
     "name": "stdout",
     "output_type": "stream",
     "text": [
      "In the year 2005 there were 39009 overnight stays of US citizens.\n",
      "In the year 2006 there were 40596 overnight stays of US citizens.\n",
      "In the year 2007 there were 40863 overnight stays of US citizens.\n",
      "In the year 2008 there were 39206 overnight stays of US citizens.\n",
      "In the year 2009 there were 35370 overnight stays of US citizens.\n",
      "In the year 2010 there were 36435 overnight stays of US citizens.\n",
      "In the year 2011 there were 32023 overnight stays of US citizens.\n",
      "In the year 2012 there were 34456 overnight stays of US citizens.\n",
      "In the year 2013 there were 35811 overnight stays of US citizens.\n",
      "In the year 2014 there were 38259 overnight stays of US citizens.\n",
      "In the year 2015 there were 44627 overnight stays of US citizens.\n"
     ]
    }
   ],
   "source": [
    "us_tourists = df[df['Herkunftsland'] == 'Vereinigte Staaten von Amerika']\n",
    "years = [2005, 2006, 2007, 2008, 2009, 2010, 2011, 2012, 2013, 2014, 2015]\n",
    "months = ['01','02', '03', '04', '05','06', '07', '08', '09', '10','11', '12']\n",
    "us = {}\n",
    "for year in years:\n",
    "    total = 0\n",
    "    for month in months:\n",
    "        total = total + int(us_tourists[str(year)+'-'+month])\n",
    "    us[year] = total\n",
    "    print(\"In the year\", year, \"there were\", total, \"overnight stays of US citizens.\")"
   ]
  },
  {
   "cell_type": "markdown",
   "metadata": {},
   "source": [
    "### A change in Switzerland's money policies did lead to a strong revaluation of the Swiss Franc in January 2015. Did less foreign tourists sleep in Hotels after? "
   ]
  },
  {
   "cell_type": "code",
   "execution_count": 11,
   "metadata": {
    "collapsed": false
   },
   "outputs": [
    {
     "data": {
      "text/html": [
       "<div>\n",
       "<table border=\"1\" class=\"dataframe\">\n",
       "  <thead>\n",
       "    <tr style=\"text-align: right;\">\n",
       "      <th></th>\n",
       "      <th>Herkunftsland</th>\n",
       "      <th>Total</th>\n",
       "    </tr>\n",
       "  </thead>\n",
       "  <tbody>\n",
       "    <tr>\n",
       "      <th>2</th>\n",
       "      <td>Deutschland</td>\n",
       "      <td>1771343.0</td>\n",
       "    </tr>\n",
       "    <tr>\n",
       "      <th>29</th>\n",
       "      <td>Vereinigte Staaten von Amerika</td>\n",
       "      <td>426445.0</td>\n",
       "    </tr>\n",
       "    <tr>\n",
       "      <th>3</th>\n",
       "      <td>Frankreich</td>\n",
       "      <td>297146.0</td>\n",
       "    </tr>\n",
       "    <tr>\n",
       "      <th>4</th>\n",
       "      <td>Italien</td>\n",
       "      <td>296995.0</td>\n",
       "    </tr>\n",
       "    <tr>\n",
       "      <th>6</th>\n",
       "      <td>Vereinigtes Königreich</td>\n",
       "      <td>286842.0</td>\n",
       "    </tr>\n",
       "  </tbody>\n",
       "</table>\n",
       "</div>"
      ],
      "text/plain": [
       "                     Herkunftsland      Total\n",
       "2                      Deutschland  1771343.0\n",
       "29  Vereinigte Staaten von Amerika   426445.0\n",
       "3                       Frankreich   297146.0\n",
       "4                          Italien   296995.0\n",
       "6           Vereinigtes Königreich   286842.0"
      ]
     },
     "execution_count": 11,
     "metadata": {},
     "output_type": "execute_result"
    }
   ],
   "source": [
    "df[['Herkunftsland', 'Total']].where(df['Herkunftsland'] != 'Schweiz').sort_values(by='Total', ascending=False).head(5)"
   ]
  },
  {
   "cell_type": "markdown",
   "metadata": {},
   "source": [
    "### Did the percentage of people from Switzerland increase after January 2015?"
   ]
  },
  {
   "cell_type": "markdown",
   "metadata": {},
   "source": [
    "### What nations are avoiding Switzerland since January 2015 the most?"
   ]
  },
  {
   "cell_type": "markdown",
   "metadata": {},
   "source": [
    "### The parlament meets normally in XY, XY and XY. Are the hotels in this time more busy?\n"
   ]
  },
  {
   "cell_type": "markdown",
   "metadata": {},
   "source": [
    "### Bern war one of the host cities during the soccer europe cup 2008. Did the hotels more guest than usually in this time?"
   ]
  },
  {
   "cell_type": "markdown",
   "metadata": {},
   "source": [
    "### In what month are the most and the least tourists around? "
   ]
  },
  {
   "cell_type": "markdown",
   "metadata": {},
   "source": [
    "### How many nights are selling the hotels in Bern per day in average? How many are they selling in high season in summer and winter?"
   ]
  },
  {
   "cell_type": "markdown",
   "metadata": {},
   "source": [
    "### For what nation does the statistic show the biggest increase or decrease between 2005 and 2015?"
   ]
  },
  {
   "cell_type": "code",
   "execution_count": 19,
   "metadata": {
    "collapsed": false
   },
   "outputs": [
    {
     "data": {
      "text/plain": [
       "60709"
      ]
     },
     "execution_count": 19,
     "metadata": {},
     "output_type": "execute_result"
    }
   ],
   "source": [
    "sum_ch = int(df[df['Herkunftsland'] == 'Schweiz']['2005-01']) + int(df[df['Herkunftsland'] == 'Schweiz']['2005-02'])\n",
    "sum_ch"
   ]
  },
  {
   "cell_type": "markdown",
   "metadata": {},
   "source": [
    "### What's the percentage of the tourists coming from countries where German is not a official language?"
   ]
  },
  {
   "cell_type": "markdown",
   "metadata": {},
   "source": [
    "## Make three charts with your dataset"
   ]
  },
  {
   "cell_type": "markdown",
   "metadata": {},
   "source": [
    "### Make a histogram comparing the number of booked nights."
   ]
  },
  {
   "cell_type": "code",
   "execution_count": null,
   "metadata": {
    "collapsed": false
   },
   "outputs": [],
   "source": [
    "summen = df.sum()"
   ]
  },
  {
   "cell_type": "markdown",
   "metadata": {},
   "source": [
    "### Make a horizontal bar chart comparing all the origin of Berne's guests."
   ]
  },
  {
   "cell_type": "code",
   "execution_count": null,
   "metadata": {
    "collapsed": false
   },
   "outputs": [],
   "source": [
    "df.plot(kind='barh', x='Herkunftsland', y=summen)"
   ]
  },
  {
   "cell_type": "markdown",
   "metadata": {},
   "source": [
    "### Make a timeline for all nations showing how many nights their folks spent in Bern."
   ]
  },
  {
   "cell_type": "code",
   "execution_count": null,
   "metadata": {
    "collapsed": false
   },
   "outputs": [],
   "source": [
    "all_sums = df.sum()"
   ]
  },
  {
   "cell_type": "code",
   "execution_count": null,
   "metadata": {
    "collapsed": true
   },
   "outputs": [],
   "source": []
  }
 ],
 "metadata": {
  "kernelspec": {
   "display_name": "Python 3",
   "language": "python",
   "name": "python3"
  },
  "language_info": {
   "codemirror_mode": {
    "name": "ipython",
    "version": 3
   },
   "file_extension": ".py",
   "mimetype": "text/x-python",
   "name": "python",
   "nbconvert_exporter": "python",
   "pygments_lexer": "ipython3",
   "version": "3.5.1+"
  }
 },
 "nbformat": 4,
 "nbformat_minor": 0
}
