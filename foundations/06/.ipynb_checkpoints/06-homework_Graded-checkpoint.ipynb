{
 "cells": [
  {
   "cell_type": "markdown",
   "metadata": {},
   "source": [
    "## Homework 06"
   ]
  },
  {
   "cell_type": "markdown",
   "metadata": {},
   "source": [
    "Graded = 7/7"
   ]
  },
  {
   "cell_type": "markdown",
   "metadata": {},
   "source": [
    "You'll be using the Dark Sky Forecast API from Forecast.io, available at https://developer.forecast.io. It's a pretty simple API, but be sure to read the documentation!\n",
    "\n",
    "1) Make a request from the Forecast.io API for where you were born (or lived, or want to visit!).\n",
    "Tip 1: Once you've imported the JSON into a variable, check the timezone's name to make sure it seems like it got the right part of the world!\n",
    "Tip 2: How is north vs. south and east vs. west latitude/longitude represented? Is it the normal North/South/East/West?"
   ]
  },
  {
   "cell_type": "code",
   "execution_count": 1,
   "metadata": {
    "collapsed": true
   },
   "outputs": [],
   "source": [
    "import requests\n",
    "import datetime"
   ]
  },
  {
   "cell_type": "code",
   "execution_count": 2,
   "metadata": {
    "collapsed": false
   },
   "outputs": [],
   "source": [
    "lat_bern = \"46.95358\"\n",
    "lon_bern = \"7.43653\"\n",
    "response = requests.get('https://api.forecast.io/forecast/cb31c6739ae1c7377aa0c3bbc1aa9b30/' + lat_bern + ',' + lon_bern)\n",
    "data = response.json()\n",
    "forecast = data['hourly']['data']"
   ]
  },
  {
   "cell_type": "code",
   "execution_count": 3,
   "metadata": {
    "collapsed": false
   },
   "outputs": [
    {
     "name": "stdout",
     "output_type": "stream",
     "text": [
      "Rainy or sunny? Here's the weather forecast for Bern (CH) for the next 24 hours:\n",
      "\n",
      "08:00: Drizzle. 60.65 °F or 15.92 °C\n",
      "09:00: Light Rain. 60.7 °F or 15.94 °C\n",
      "10:00: Light Rain. 61.1 °F or 16.17 °C\n",
      "11:00: Light Rain. 60.93 °F or 16.07 °C\n",
      "12:00: Light Rain. 59.95 °F or 15.53 °C\n",
      "13:00: Light Rain. 58.11 °F or 14.51 °C\n",
      "14:00: Light Rain. 55.64 °F or 13.13 °C\n",
      "15:00: Light Rain. 52.24 °F or 11.24 °C\n",
      "16:00: Light Rain. 49.19 °F or 9.55 °C\n",
      "17:00: Light Rain. 47.24 °F or 8.47 °C\n",
      "18:00: Light Rain. 46.61 °F or 8.12 °C\n",
      "19:00: Light Rain. 46.81 °F or 8.23 °C\n",
      "20:00: Light Rain. 47.44 °F or 8.58 °C\n",
      "21:00: Light Rain. 47.85 °F or 8.81 °C\n",
      "22:00: Light Rain. 47.97 °F or 8.87 °C\n",
      "23:00: Drizzle. 47.71 °F or 8.73 °C\n",
      "00:00: Drizzle. 47.94 °F or 8.86 °C\n",
      "01:00: Mostly Cloudy. 48.66 °F or 9.26 °C\n",
      "02:00: Mostly Cloudy. 50.19 °F or 10.11 °C\n",
      "03:00: Mostly Cloudy. 51 °F or 10.56 °C\n",
      "04:00: Drizzle. 52.35 °F or 11.31 °C\n",
      "05:00: Drizzle. 54.56 °F or 12.53 °C\n",
      "06:00: Drizzle. 57.58 °F or 14.21 °C\n",
      "07:00: Light Rain. 60.57 °F or 15.87 °C\n",
      "08:00: Light Rain. 62.6 °F or 17.0 °C\n",
      "09:00: Light Rain. 63.15 °F or 17.31 °C\n",
      "10:00: Light Rain. 62.77 °F or 17.09 °C\n",
      "11:00: Light Rain. 61.62 °F or 16.46 °C\n",
      "12:00: Light Rain. 60.15 °F or 15.64 °C\n",
      "13:00: Light Rain. 58.25 °F or 14.58 °C\n",
      "14:00: Light Rain. 55.66 °F or 13.14 °C\n",
      "15:00: Drizzle. 51.8 °F or 11.0 °C\n",
      "16:00: Drizzle. 48.13 °F or 8.96 °C\n",
      "17:00: Clear. 45.48 °F or 7.49 °C\n",
      "18:00: Clear. 44.39 °F or 6.88 °C\n",
      "19:00: Clear. 44.33 °F or 6.85 °C\n",
      "20:00: Clear. 44.81 °F or 7.12 °C\n",
      "21:00: Clear. 44.91 °F or 7.17 °C\n",
      "22:00: Clear. 44.68 °F or 7.04 °C\n",
      "23:00: Clear. 45.15 °F or 7.31 °C\n",
      "00:00: Clear. 46.78 °F or 8.21 °C\n",
      "01:00: Clear. 48.24 °F or 9.02 °C\n",
      "02:00: Clear. 50.95 °F or 10.53 °C\n",
      "03:00: Clear. 52.87 °F or 11.59 °C\n",
      "04:00: Clear. 55.21 °F or 12.89 °C\n",
      "05:00: Clear. 58.15 °F or 14.53 °C\n",
      "06:00: Clear. 61.49 °F or 16.38 °C\n",
      "07:00: Clear. 64.84 °F or 18.24 °C\n",
      "08:00: Clear. 67.77 °F or 19.87 °C\n"
     ]
    }
   ],
   "source": [
    "print(\"Rainy or sunny? Here's the weather forecast for Bern (CH) for the next 24 hours:\\n\")\n",
    "\n",
    "counter = 0\n",
    "for hour in forecast: \n",
    "    readable_hour = datetime.datetime.fromtimestamp(int(forecast[counter]['time'])).strftime('%H:%M')\n",
    "    print(readable_hour + \":\", forecast[counter]['summary'] + \".\", forecast[counter]['temperature'], \"°F\", \"or\", round((forecast[counter]['temperature'] - 32) * 5 / 9,2), \"°C\")\n",
    "    counter = counter + 1"
   ]
  },
  {
   "cell_type": "markdown",
   "metadata": {},
   "source": [
    "2) What's the current wind speed? How much warmer does it feel than it actually is?"
   ]
  },
  {
   "cell_type": "code",
   "execution_count": 4,
   "metadata": {
    "collapsed": false
   },
   "outputs": [
    {
     "name": "stdout",
     "output_type": "stream",
     "text": [
      "The current wind speed is: 5.78 Miles per hour.\n",
      "It feels 0.0 warmer as it actually is.\n"
     ]
    }
   ],
   "source": [
    "print(\"The current wind speed is:\", forecast[0]['windSpeed'], \"Miles per hour.\")\n",
    "print(\"It feels\", str(forecast[0]['temperature'] - forecast[0]['apparentTemperature']), \"warmer as it actually is.\")"
   ]
  },
  {
   "cell_type": "markdown",
   "metadata": {},
   "source": [
    "3) The first daily forecast is the forecast for today. For the place you decided on up above, how much of the moon is currently visible?"
   ]
  },
  {
   "cell_type": "code",
   "execution_count": 5,
   "metadata": {
    "collapsed": false,
    "scrolled": false
   },
   "outputs": [
    {
     "name": "stdout",
     "output_type": "stream",
     "text": [
      "Currently, there are 43 % of the moon visible.\n"
     ]
    }
   ],
   "source": [
    "daily_forecast = data['daily']['data']\n",
    "print(\"Currently, there are\", int(daily_forecast[0]['moonPhase'] * 100), \"% of the moon visible.\")"
   ]
  },
  {
   "cell_type": "markdown",
   "metadata": {},
   "source": [
    "4) What's the difference between the high and low temperatures for today?"
   ]
  },
  {
   "cell_type": "code",
   "execution_count": 6,
   "metadata": {
    "collapsed": false
   },
   "outputs": [
    {
     "name": "stdout",
     "output_type": "stream",
     "text": [
      "Today's highest temperature is 61.1 and the lowest 42.4 ° F. The difference is: 18.700000000000003 °F.\n"
     ]
    }
   ],
   "source": [
    "print(\"Today's highest temperature is\", daily_forecast[0]['temperatureMax'], \"and the lowest\", daily_forecast[0]['temperatureMin'], \"° F. The difference is:\", daily_forecast[0]['temperatureMax'] - daily_forecast[0]['temperatureMin'], \"°F.\")"
   ]
  },
  {
   "cell_type": "markdown",
   "metadata": {},
   "source": [
    "5) Loop through the daily forecast, printing out the next week's worth of predictions. I'd like to know the high temperature for each day, and whether it's hot, warm, or cold, based on what temperatures you think are hot, warm or cold."
   ]
  },
  {
   "cell_type": "code",
   "execution_count": 7,
   "metadata": {
    "collapsed": false
   },
   "outputs": [
    {
     "name": "stdout",
     "output_type": "stream",
     "text": [
      "\n",
      "Monday: 61.1 °F (16.17 °C).\n",
      "That's chilly for summertime. You might want to book a trip to Italy or further.\n",
      "\n",
      "Tuesday: 63.15 °F (17.31 °C).\n",
      "That's chilly for summertime. You might want to book a trip to Italy or further.\n",
      "\n",
      "Wednesday: 70.83 °F (21.57 °C).\n",
      "That's warm. You might want to leave the jacket at home.\n",
      "\n",
      "Thursday: 72.07 °F (22.26 °C).\n",
      "That's warm. You might want to leave the jacket at home.\n",
      "\n",
      "Friday: 79.31 °F (26.28 °C).\n",
      "That's warm -- and very nice. Go for a swim in the river Aare.\n",
      "\n",
      "Saturday: 83.05 °F (28.36 °C).\n",
      "That's warm -- and very nice. Go for a swim in the river Aare.\n",
      "\n",
      "Sunday: 82.63 °F (28.13 °C).\n",
      "That's warm -- and very nice. Go for a swim in the river Aare.\n",
      "\n",
      "Monday: 81.36 °F (27.42 °C).\n",
      "That's warm -- and very nice. Go for a swim in the river Aare.\n"
     ]
    }
   ],
   "source": [
    "cold = 18 * 9 / 5 + 32\n",
    "warm = 25 * 9 / 5 + 32\n",
    "hot = 32 * 9 / 5 + 32\n",
    "now = datetime.datetime.now()\n",
    "weekdays = {\"0\" : \"Monday\", \"1\" : \"Tuesday\", \"2\" : \"Wednesday\", \"3\" : \"Thursday\", \"4\" : \"Friday\", \"5\" : \"Saturday\", \"6\" : \"Sunday\", \"7\" : \"Monday\"}\n",
    "\n",
    "counter = 0\n",
    "for i in daily_forecast:\n",
    "    print(\"\\n\" + weekdays[str(counter)] + \":\", str(daily_forecast[counter]['temperatureMax']), \"°F\", \"(\" + str(round((daily_forecast[counter]['temperatureMax'] - 32) * 5 / 9,2)), \"°C).\")\n",
    "    if daily_forecast[counter]['temperatureMax'] < cold:\n",
    "        print(\"That's chilly for summertime. You might want to book a trip to Italy or further.\")\n",
    "    elif daily_forecast[counter]['temperatureMax'] < warm:\n",
    "        print(\"That's warm. You might want to leave the jacket at home.\")\n",
    "    elif daily_forecast[counter]['temperatureMax'] < hot:\n",
    "        print(\"That's warm -- and very nice. Go for a swim in the river Aare.\")\n",
    "    else:\n",
    "        print(\"That's really hot. Spend day and night in the river. And think about the positive aspects of global warming.\")\n",
    "    counter = counter + 1"
   ]
  },
  {
   "cell_type": "markdown",
   "metadata": {},
   "source": [
    "6) What's the weather looking like for the rest of today in Miami, Florida? I'd like to know the temperature for every hour, and if it's going to have cloud cover of more than 0.5 say \"{temperature} and cloudy\" instead of just the temperature."
   ]
  },
  {
   "cell_type": "code",
   "execution_count": 8,
   "metadata": {
    "collapsed": true
   },
   "outputs": [],
   "source": [
    "lat_florida = \"30.455\"\n",
    "lon_florida = \"-84.253333\"\n",
    "response = requests.get('https://api.forecast.io/forecast/cb31c6739ae1c7377aa0c3bbc1aa9b30/' + lat_florida + ',' + lon_florida)\n",
    "data_florida = response.json()\n",
    "forecast_florida = data_florida['hourly']['data']"
   ]
  },
  {
   "cell_type": "code",
   "execution_count": 9,
   "metadata": {
    "collapsed": false
   },
   "outputs": [
    {
     "name": "stdout",
     "output_type": "stream",
     "text": [
      "08:00: 73.05 °F (22.81 °C) and cloudy.\n",
      "09:00: 75.89 °F (24.38 °C) and cloudy.\n",
      "10:00: 78.26 °F (25.7 °C) and cloudy.\n",
      "11:00: 80.84 °F (27.13 °C) and cloudy.\n",
      "12:00: 82.33 °F (27.96 °C) and cloudy.\n",
      "13:00: 83.27 °F (28.48 °C) and cloudy.\n",
      "14:00: 83.18 °F (28.43 °C) and cloudy.\n",
      "15:00: 84.43 °F (29.13 °C) and cloudy.\n",
      "16:00: 84.74 °F (29.3 °C) and cloudy.\n",
      "17:00: 84.03 °F (28.91 °C) and cloudy.\n",
      "18:00: 82.83 °F (28.24 °C) and cloudy.\n",
      "19:00: 81.34 °F (27.41 °C) and cloudy.\n",
      "20:00: 80.17 °F (26.76 °C) and cloudy.\n",
      "21:00: 78.88 °F (26.04 °C) and cloudy.\n",
      "22:00: 77.61 °F (25.34 °C) and cloudy.\n",
      "23:00: 76.91 °F (24.95 °C) and cloudy.\n",
      "00:00: 76.01 °F (24.45 °C) and cloudy.\n"
     ]
    }
   ],
   "source": [
    "# Anpassen: Bloss für den Rest des Tages...\n",
    "\n",
    "counter = 0\n",
    "for hour in forecast_florida: \n",
    "    readable_hour = datetime.datetime.fromtimestamp(int(forecast_florida[counter]['time'])).strftime('%H:%M')\n",
    "    if int(readable_hour[:2]) == 1:\n",
    "        break\n",
    "    if forecast_florida[counter]['cloudCover'] > 0.5:\n",
    "        print(readable_hour + \":\", str(forecast_florida[counter]['temperature']), \"°F\",  \"(\" + str(round((forecast_florida[counter]['temperature'] - 32) * 5 / 9,2)), \"°C)\", \"and cloudy.\")\n",
    "    else:\n",
    "        print(readable_hour + \":\", forecast_florida[counter]['temperature'], \"°F\", \"(\" + str(round((forecast_florida[counter]['temperature'] - 32) * 5 / 9,2)), \"°C)\")\n",
    "    counter = counter + 1"
   ]
  },
  {
   "cell_type": "markdown",
   "metadata": {},
   "source": [
    "7) What was the temperature in Central Park on Christmas Day, 1980? How about 1990? 2000?\n",
    "\n",
    "Tip: You'll need to use UNIX time, which is the number of seconds since January 1, 1970. Google can help you convert a normal date!\n",
    "Tip: You'll want to use Forecast.io's \"time machine\" API at https://developer.forecast.io/docs/v2\n"
   ]
  },
  {
   "cell_type": "code",
   "execution_count": 10,
   "metadata": {
    "collapsed": false
   },
   "outputs": [
    {
     "name": "stdout",
     "output_type": "stream",
     "text": [
      "The temperature on January 1, 1980 in Central Park, New York:\n",
      "\n",
      "00:00: 31.12 °F (-0.49 °C).\n",
      "01:00: 36.3 °F (2.39 °C).\n",
      "02:00: 30.88 °F (-0.62 °C).\n",
      "03:00: 29.23 °F (-1.54 °C).\n",
      "04:00: 34.54 °F (1.41 °C).\n",
      "05:00: 29.06 °F (-1.63 °C).\n",
      "06:00: 29.06 °F (-1.63 °C).\n",
      "07:00: 33.58 °F (0.88 °C).\n",
      "08:00: 29.23 °F (-1.54 °C).\n",
      "09:00: 34.24 °F (1.24 °C).\n",
      "10:00: 36.51 °F (2.51 °C).\n",
      "11:00: 43 °F (6.11 °C).\n",
      "12:00: 43.6 °F (6.44 °C).\n",
      "13:00: 43.98 °F (6.66 °C).\n",
      "14:00: 44.31 °F (6.84 °C).\n",
      "15:00: 43.55 °F (6.42 °C).\n",
      "16:00: 43.57 °F (6.43 °C).\n",
      "17:00: 40.95 °F (4.97 °C).\n",
      "18:00: 35.42 °F (1.9 °C).\n",
      "19:00: 39.27 °F (4.04 °C).\n",
      "20:00: 32.66 °F (0.37 °C).\n",
      "21:00: 31.96 °F (-0.02 °C).\n",
      "22:00: 38.04 °F (3.36 °C).\n",
      "23:00: 31.66 °F (-0.19 °C).\n"
     ]
    }
   ],
   "source": [
    "lat_centralpark = \"40.7821\"\n",
    "lon_centralpark = \"-73.9682\"\n",
    "exactdate = \"1980-01-01T12:00:00-0400\"\n",
    "response = requests.get('https://api.forecast.io/forecast/cb31c6739ae1c7377aa0c3bbc1aa9b30/' + lat_centralpark + ',' + lon_centralpark + ',' + exactdate)\n",
    "data_ny = response.json()\n",
    "\n",
    "ny_1980 = data_ny['hourly']['data']\n",
    "\n",
    "counter = 0\n",
    "print(\"The temperature on January 1, 1980 in Central Park, New York:\\n\")\n",
    "for i in ny_1980:\n",
    "    readable_hour = datetime.datetime.fromtimestamp(int(ny_1980[counter]['time'])).strftime('%H:%M')\n",
    "    print(str(readable_hour) + \":\", str(ny_1980[counter]['temperature']), \"°F\",  \"(\" + str(round((ny_1980[counter]['temperature'] - 32) * 5 / 9,2)), \"°C).\")\n",
    "    counter = counter + 1"
   ]
  },
  {
   "cell_type": "code",
   "execution_count": 11,
   "metadata": {
    "collapsed": false
   },
   "outputs": [
    {
     "name": "stdout",
     "output_type": "stream",
     "text": [
      "The temperature on January 1, 1990 in Central Park, New York:\n",
      "\n",
      "00:00: 51.01 °F (10.56 °C).\n",
      "01:00: 49.5 °F (9.72 °C).\n",
      "02:00: 48.81 °F (9.34 °C).\n",
      "03:00: 49.11 °F (9.51 °C).\n",
      "04:00: 48.56 °F (9.2 °C).\n",
      "05:00: 48.31 °F (9.06 °C).\n",
      "06:00: 45.5 °F (7.5 °C).\n",
      "07:00: 42.83 °F (6.02 °C).\n",
      "08:00: 42.44 °F (5.8 °C).\n",
      "09:00: 41.54 °F (5.3 °C).\n",
      "10:00: 40.6 °F (4.78 °C).\n",
      "11:00: 40.4 °F (4.67 °C).\n",
      "12:00: 39.7 °F (4.28 °C).\n",
      "13:00: 39.84 °F (4.36 °C).\n",
      "14:00: 41.25 °F (5.14 °C).\n",
      "15:00: 40.45 °F (4.69 °C).\n",
      "16:00: 38.45 °F (3.58 °C).\n",
      "17:00: 36.8 °F (2.67 °C).\n",
      "18:00: 35.29 °F (1.83 °C).\n",
      "19:00: 33.95 °F (1.08 °C).\n",
      "20:00: 33.14 °F (0.63 °C).\n",
      "21:00: 32.74 °F (0.41 °C).\n",
      "22:00: 31.3 °F (-0.39 °C).\n",
      "23:00: 31.05 °F (-0.53 °C).\n"
     ]
    }
   ],
   "source": [
    "lat_centralpark = \"40.7821\"\n",
    "lon_centralpark = \"-73.9682\"\n",
    "exactdate = \"1990-01-01T12:00:00-0400\"\n",
    "response = requests.get('https://api.forecast.io/forecast/cb31c6739ae1c7377aa0c3bbc1aa9b30/' + lat_centralpark + ',' + lon_centralpark + ',' + exactdate)\n",
    "data_ny = response.json()\n",
    "\n",
    "ny_1990 = data_ny['hourly']['data']\n",
    "\n",
    "counter = 0\n",
    "print(\"The temperature on January 1, 1990 in Central Park, New York:\\n\")\n",
    "for i in ny_1980:\n",
    "    readable_hour = datetime.datetime.fromtimestamp(int(ny_1990[counter]['time'])).strftime('%H:%M')\n",
    "    print(str(readable_hour) + \":\", str(ny_1990[counter]['temperature']), \"°F\",  \"(\" + str(round((ny_1990[counter]['temperature'] - 32) * 5 / 9,2)), \"°C).\")\n",
    "    counter = counter + 1"
   ]
  },
  {
   "cell_type": "code",
   "execution_count": 12,
   "metadata": {
    "collapsed": false
   },
   "outputs": [
    {
     "name": "stdout",
     "output_type": "stream",
     "text": [
      "The temperature on January 1, 1980 in Central Park, New York:\n",
      "\n",
      "00:00: 25.12 °F (-3.82 °C).\n",
      "01:00: 26.52 °F (-3.04 °C).\n",
      "02:00: 25.12 °F (-3.82 °C).\n",
      "03:00: 24.91 °F (-3.94 °C).\n",
      "04:00: 24.79 °F (-4.01 °C).\n",
      "05:00: 24.91 °F (-3.94 °C).\n",
      "06:00: 26.29 °F (-3.17 °C).\n",
      "07:00: 26.29 °F (-3.17 °C).\n",
      "08:00: 29.97 °F (-1.13 °C).\n",
      "09:00: 32.87 °F (0.48 °C).\n",
      "10:00: 40.11 °F (4.51 °C).\n",
      "11:00: 45.62 °F (7.57 °C).\n",
      "12:00: 49.63 °F (9.79 °C).\n",
      "13:00: 49.01 °F (9.45 °C).\n",
      "14:00: 49.46 °F (9.7 °C).\n",
      "15:00: 46.07 °F (7.82 °C).\n",
      "16:00: 45.73 °F (7.63 °C).\n",
      "17:00: 45.23 °F (7.35 °C).\n",
      "18:00: 45.01 °F (7.23 °C).\n",
      "19:00: 53.31 °F (11.84 °C).\n",
      "20:00: 41.94 °F (5.52 °C).\n",
      "21:00: 41.94 °F (5.52 °C).\n",
      "22:00: 42.93 °F (6.07 °C).\n",
      "23:00: 42.89 °F (6.05 °C).\n"
     ]
    }
   ],
   "source": [
    "lat_centralpark = \"40.7821\"\n",
    "lon_centralpark = \"-73.9682\"\n",
    "exactdate = \"2000-01-01T12:00:00-0400\"\n",
    "response = requests.get('https://api.forecast.io/forecast/cb31c6739ae1c7377aa0c3bbc1aa9b30/' + lat_centralpark + ',' + lon_centralpark + ',' + exactdate)\n",
    "data_ny = response.json()\n",
    "\n",
    "ny_2000 = data_ny['hourly']['data']\n",
    "\n",
    "counter = 0\n",
    "print(\"The temperature on January 1, 1980 in Central Park, New York:\\n\")\n",
    "for i in ny_2000:\n",
    "    readable_hour = datetime.datetime.fromtimestamp(int(ny_2000[counter]['time'])).strftime('%H:%M')\n",
    "    print(str(readable_hour) + \":\", str(ny_2000[counter]['temperature']), \"°F\",  \"(\" + str(round((ny_2000[counter]['temperature'] - 32) * 5 / 9,2)), \"°C).\")\n",
    "    counter = counter + 1"
   ]
  },
  {
   "cell_type": "code",
   "execution_count": null,
   "metadata": {
    "collapsed": true
   },
   "outputs": [],
   "source": []
  },
  {
   "cell_type": "code",
   "execution_count": null,
   "metadata": {
    "collapsed": true
   },
   "outputs": [],
   "source": []
  }
 ],
 "metadata": {
  "kernelspec": {
   "display_name": "Python 3",
   "language": "python",
   "name": "python3"
  },
  "language_info": {
   "codemirror_mode": {
    "name": "ipython",
    "version": 3
   },
   "file_extension": ".py",
   "mimetype": "text/x-python",
   "name": "python",
   "nbconvert_exporter": "python",
   "pygments_lexer": "ipython3",
   "version": "3.5.1"
  }
 },
 "nbformat": 4,
 "nbformat_minor": 0
}
