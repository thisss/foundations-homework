{
 "cells": [
  {
   "cell_type": "markdown",
   "metadata": {},
   "source": [
    "## Homework 06"
   ]
  },
  {
   "cell_type": "markdown",
   "metadata": {},
   "source": [
    "You'll be using the Dark Sky Forecast API from Forecast.io, available at https://developer.forecast.io. It's a pretty simple API, but be sure to read the documentation!\n",
    "\n",
    "1) Make a request from the Forecast.io API for where you were born (or lived, or want to visit!).\n",
    "Tip 1: Once you've imported the JSON into a variable, check the timezone's name to make sure it seems like it got the right part of the world!\n",
    "Tip 2: How is north vs. south and east vs. west latitude/longitude represented? Is it the normal North/South/East/West?"
   ]
  },
  {
   "cell_type": "code",
   "execution_count": 1,
   "metadata": {
    "collapsed": true
   },
   "outputs": [],
   "source": [
    "import requests\n",
    "import datetime"
   ]
  },
  {
   "cell_type": "code",
   "execution_count": 24,
   "metadata": {
    "collapsed": false
   },
   "outputs": [],
   "source": [
    "lat_bern = \"46.95358\"\n",
    "lon_bern = \"7.43653\"\n",
    "response = requests.get('https://api.forecast.io/forecast/cb31c6739ae1c7377aa0c3bbc1aa9b30/' + lat_bern + ',' + lon_bern)\n",
    "data = response.json()\n",
    "forecast = data['hourly']['data']"
   ]
  },
  {
   "cell_type": "code",
   "execution_count": 67,
   "metadata": {
    "collapsed": false
   },
   "outputs": [
    {
     "name": "stdout",
     "output_type": "stream",
     "text": [
      "Rainy or sunny? Here's the weather forecast for Bern (CH) for the next 24 hours:\n",
      "\n",
      "14:00: Light Rain. 59.17 °F or 15.09 °C\n",
      "15:00: Light Rain. 57.4 °F or 14.11 °C\n",
      "16:00: Light Rain. 54.9 °F or 12.72 °C\n",
      "17:00: Light Rain. 52.84 °F or 11.58 °C\n",
      "18:00: Light Rain. 52.04 °F or 11.13 °C\n",
      "19:00: Light Rain. 52.43 °F or 11.35 °C\n",
      "20:00: Light Rain. 52.86 °F or 11.59 °C\n",
      "21:00: Light Rain. 53.46 °F or 11.92 °C\n",
      "22:00: Light Rain. 53.98 °F or 12.21 °C\n",
      "23:00: Light Rain. 53.79 °F or 12.11 °C\n",
      "00:00: Light Rain. 53.53 °F or 11.96 °C\n",
      "01:00: Light Rain. 53.49 °F or 11.94 °C\n",
      "02:00: Light Rain. 53.74 °F or 12.08 °C\n",
      "03:00: Light Rain. 54.5 °F or 12.5 °C\n",
      "04:00: Light Rain. 56.04 °F or 13.36 °C\n",
      "05:00: Light Rain. 58.21 °F or 14.56 °C\n",
      "06:00: Light Rain. 60.77 °F or 15.98 °C\n",
      "07:00: Light Rain. 63.32 °F or 17.4 °C\n",
      "08:00: Light Rain. 65.34 °F or 18.52 °C\n",
      "09:00: Light Rain. 66.63 °F or 19.24 °C\n",
      "10:00: Drizzle. 67.09 °F or 19.49 °C\n",
      "11:00: Drizzle. 66.89 °F or 19.38 °C\n",
      "12:00: Drizzle. 65.66 °F or 18.7 °C\n",
      "13:00: Clear. 63.5 °F or 17.5 °C\n",
      "14:00: Clear. 60.33 °F or 15.74 °C\n",
      "15:00: Clear. 56.48 °F or 13.6 °C\n",
      "16:00: Clear. 52.47 °F or 11.37 °C\n",
      "17:00: Clear. 49.41 °F or 9.67 °C\n",
      "18:00: Clear. 47.86 °F or 8.81 °C\n",
      "19:00: Clear. 47.46 °F or 8.59 °C\n",
      "20:00: Clear. 47.87 °F or 8.82 °C\n",
      "21:00: Clear. 48.76 °F or 9.31 °C\n",
      "22:00: Clear. 49.33 °F or 9.63 °C\n",
      "23:00: Clear. 49.43 °F or 9.68 °C\n",
      "00:00: Clear. 49.94 °F or 9.97 °C\n",
      "01:00: Clear. 51.08 °F or 10.6 °C\n",
      "02:00: Clear. 52.87 °F or 11.59 °C\n",
      "03:00: Clear. 55.05 °F or 12.81 °C\n",
      "04:00: Clear. 57.7 °F or 14.28 °C\n",
      "05:00: Clear. 60.79 °F or 15.99 °C\n",
      "06:00: Clear. 64.25 °F or 17.92 °C\n",
      "07:00: Clear. 67.73 °F or 19.85 °C\n",
      "08:00: Clear. 70.69 °F or 21.49 °C\n",
      "09:00: Clear. 72.06 °F or 22.26 °C\n",
      "10:00: Clear. 72.5 °F or 22.5 °C\n",
      "11:00: Clear. 72.05 °F or 22.25 °C\n",
      "12:00: Partly Cloudy. 70.5 °F or 21.39 °C\n",
      "13:00: Partly Cloudy. 67.8 °F or 19.89 °C\n",
      "14:00: Partly Cloudy. 64.12 °F or 17.84 °C\n"
     ]
    }
   ],
   "source": [
    "print(\"Rainy or sunny? Here's the weather forecast for Bern (CH) for the next 24 hours:\\n\")\n",
    "\n",
    "counter = 0\n",
    "for hour in forecast: \n",
    "    readable_hour = datetime.datetime.fromtimestamp(int(forecast[counter]['time'])).strftime('%H:%M')\n",
    "    print(readable_hour + \":\", forecast[counter]['summary'] + \".\", forecast[counter]['temperature'], \"°F\", \"or\", round((forecast[counter]['temperature'] - 32) * 5 / 9,2), \"°C\")\n",
    "    counter = counter + 1"
   ]
  },
  {
   "cell_type": "markdown",
   "metadata": {},
   "source": [
    "2) What's the current wind speed? How much warmer does it feel than it actually is?"
   ]
  },
  {
   "cell_type": "code",
   "execution_count": 84,
   "metadata": {
    "collapsed": false
   },
   "outputs": [
    {
     "name": "stdout",
     "output_type": "stream",
     "text": [
      "The current wind speed is: 4.3 Miles per hour.\n",
      "It feels 0.0 warmer as it actually is.\n"
     ]
    }
   ],
   "source": [
    "print(\"The current wind speed is:\", forecast[0]['windSpeed'], \"Miles per hour.\")\n",
    "print(\"It feels\", str(forecast[0]['temperature'] - forecast[0]['apparentTemperature']), \"warmer as it actually is.\")"
   ]
  },
  {
   "cell_type": "markdown",
   "metadata": {},
   "source": [
    "3) The first daily forecast is the forecast for today. For the place you decided on up above, how much of the moon is currently visible?"
   ]
  },
  {
   "cell_type": "code",
   "execution_count": 100,
   "metadata": {
    "collapsed": false,
    "scrolled": false
   },
   "outputs": [
    {
     "name": "stdout",
     "output_type": "stream",
     "text": [
      "Currently, there are 12 % of the moon visible.\n"
     ]
    }
   ],
   "source": [
    "daily_forecast = data['daily']['data']\n",
    "print(\"Currently, there are\", int(daily_forecast[0]['moonPhase'] * 100), \"% of the moon visible.\")"
   ]
  },
  {
   "cell_type": "markdown",
   "metadata": {},
   "source": [
    "4) What's the difference between the high and low temperatures for today?"
   ]
  },
  {
   "cell_type": "code",
   "execution_count": 106,
   "metadata": {
    "collapsed": false
   },
   "outputs": [
    {
     "name": "stdout",
     "output_type": "stream",
     "text": [
      "Today's highest temperature is 66.72 and the lowest 49.29 ° F. The difference is: 17.43 °F.\n"
     ]
    }
   ],
   "source": [
    "print(\"Today's highest temperature is\", daily_forecast[0]['temperatureMax'], \"and the lowest\", daily_forecast[0]['temperatureMin'], \"° F. The difference is:\", daily_forecast[0]['temperatureMax'] - daily_forecast[0]['temperatureMin'], \"°F.\")"
   ]
  },
  {
   "cell_type": "markdown",
   "metadata": {},
   "source": [
    "5) Loop through the daily forecast, printing out the next week's worth of predictions. I'd like to know the high temperature for each day, and whether it's hot, warm, or cold, based on what temperatures you think are hot, warm or cold."
   ]
  },
  {
   "cell_type": "code",
   "execution_count": 171,
   "metadata": {
    "collapsed": false
   },
   "outputs": [
    {
     "name": "stdout",
     "output_type": "stream",
     "text": [
      "\n",
      "0: 66.72 °F (19.29 °C).\n",
      "That's warm. You might want to leave the jacket at home.\n",
      "\n",
      "1: 67.09 °F (19.49 °C).\n",
      "That's warm. You might want to leave the jacket at home.\n",
      "\n",
      "2: 72.5 °F (22.5 °C).\n",
      "That's warm. You might want to leave the jacket at home.\n",
      "\n",
      "3: 67.23 °F (19.57 °C).\n",
      "That's warm. You might want to leave the jacket at home.\n",
      "\n",
      "4: 64.45 °F (18.03 °C).\n",
      "That's warm. You might want to leave the jacket at home.\n",
      "\n",
      "5: 65.2 °F (18.44 °C).\n",
      "That's warm. You might want to leave the jacket at home.\n",
      "\n",
      "6: 65.94 °F (18.86 °C).\n",
      "That's warm. You might want to leave the jacket at home.\n",
      "\n",
      "7: 61.95 °F (16.64 °C).\n",
      "That's chilly for summertime. You might want to book a trip to Italy or further.\n"
     ]
    }
   ],
   "source": [
    "cold = 18 * 9 / 5 + 32\n",
    "warm = 25 * 9 / 5 + 32\n",
    "hot = 32 * 9 / 5 + 32\n",
    "now = datetime.datetime.now()\n",
    "\n",
    "counter = 0\n",
    "for i in daily_forecast:\n",
    "    print(\"\\n\" + str(counter) + \":\", str(daily_forecast[counter]['temperatureMax']), \"°F\", \"(\" + str(round((daily_forecast[counter]['temperatureMax'] - 32) * 5 / 9,2)), \"°C).\")\n",
    "    if daily_forecast[counter]['temperatureMax'] < cold:\n",
    "        print(\"That's chilly for summertime. You might want to book a trip to Italy or further.\")\n",
    "    elif daily_forecast[counter]['temperatureMax'] < warm:\n",
    "        print(\"That's warm. You might want to leave the jacket at home.\")\n",
    "    elif daily_forecast[counter]['temperatureMax'] < hot:\n",
    "        print(\"That's warm -- and very nice. Go for a swim in the river Aare.\")\n",
    "    else:\n",
    "        print(\"That's really hot. Spend day and night in the river. And think about the positive aspects of global warming.\")\n",
    "    counter = counter + 1"
   ]
  },
  {
   "cell_type": "markdown",
   "metadata": {},
   "source": [
    "6) What's the weather looking like for the rest of today in Miami, Florida? I'd like to know the temperature for every hour, and if it's going to have cloud cover of more than 0.5 say \"{temperature} and cloudy\" instead of just the temperature."
   ]
  },
  {
   "cell_type": "code",
   "execution_count": 138,
   "metadata": {
    "collapsed": true
   },
   "outputs": [],
   "source": [
    "lat_florida = \"30.455\"\n",
    "lon_florida = \"-84.253333\"\n",
    "response = requests.get('https://api.forecast.io/forecast/cb31c6739ae1c7377aa0c3bbc1aa9b30/' + lat_florida + ',' + lon_florida)\n",
    "data_florida = response.json()\n",
    "forecast_florida = data_florida['hourly']['data']"
   ]
  },
  {
   "cell_type": "code",
   "execution_count": 153,
   "metadata": {
    "collapsed": false
   },
   "outputs": [
    {
     "name": "stdout",
     "output_type": "stream",
     "text": [
      "16:00: 93.74 °F (34.3 °C)\n",
      "17:00: 94.85 °F (34.92 °C) and cloudy.\n",
      "18:00: 94.04 °F (34.47 °C) and cloudy.\n",
      "19:00: 92.65 °F (33.69 °C) and cloudy.\n",
      "20:00: 90.22 °F (32.34 °C) and cloudy.\n",
      "21:00: 86.82 °F (30.46 °C) and cloudy.\n",
      "22:00: 83.01 °F (28.34 °C) and cloudy.\n",
      "23:00: 80.28 °F (26.82 °C) and cloudy.\n",
      "00:00: 78.44 °F (25.8 °C) and cloudy.\n",
      "01:00: 77.01 °F (25.01 °C) and cloudy.\n",
      "02:00: 75.31 °F (24.06 °C) and cloudy.\n",
      "03:00: 73.64 °F (23.13 °C) and cloudy.\n",
      "04:00: 71.85 °F (22.14 °C) and cloudy.\n",
      "05:00: 70.66 °F (21.48 °C)\n",
      "06:00: 69.95 °F (21.08 °C)\n",
      "07:00: 70.76 °F (21.53 °C) and cloudy.\n",
      "08:00: 73.26 °F (22.92 °C) and cloudy.\n",
      "09:00: 77.68 °F (25.38 °C) and cloudy.\n",
      "10:00: 82.5 °F (28.06 °C)\n",
      "11:00: 86.1 °F (30.06 °C)\n",
      "12:00: 89.43 °F (31.91 °C)\n",
      "13:00: 91.88 °F (33.27 °C)\n",
      "14:00: 95.11 °F (35.06 °C)\n",
      "15:00: 96.7 °F (35.94 °C)\n",
      "16:00: 95.28 °F (35.16 °C)\n",
      "17:00: 94.18 °F (34.54 °C)\n",
      "18:00: 92.21 °F (33.45 °C)\n",
      "19:00: 89.46 °F (31.92 °C)\n",
      "20:00: 87.18 °F (30.66 °C)\n",
      "21:00: 84.59 °F (29.22 °C)\n",
      "22:00: 81.68 °F (27.6 °C)\n",
      "23:00: 79.28 °F (26.27 °C)\n",
      "00:00: 77.87 °F (25.48 °C)\n",
      "01:00: 76.92 °F (24.96 °C)\n",
      "02:00: 75.93 °F (24.41 °C)\n",
      "03:00: 74.68 °F (23.71 °C)\n",
      "04:00: 73.47 °F (23.04 °C)\n",
      "05:00: 72.75 °F (22.64 °C)\n",
      "06:00: 73.29 °F (22.94 °C)\n",
      "07:00: 74.33 °F (23.52 °C)\n",
      "08:00: 75.93 °F (24.41 °C)\n",
      "09:00: 78.64 °F (25.91 °C)\n",
      "10:00: 81.88 °F (27.71 °C)\n",
      "11:00: 84.77 °F (29.32 °C)\n",
      "12:00: 87.14 °F (30.63 °C)\n",
      "13:00: 89.38 °F (31.88 °C)\n",
      "14:00: 91.16 °F (32.87 °C)\n",
      "15:00: 92.16 °F (33.42 °C)\n",
      "16:00: 91.76 °F (33.2 °C)\n"
     ]
    }
   ],
   "source": [
    "counter = 0\n",
    "for hour in forecast_florida: \n",
    "    readable_hour = datetime.datetime.fromtimestamp(int(forecast_florida[counter]['time'])).strftime('%H:%M')\n",
    "    if forecast_florida[counter]['cloudCover'] > 0.5:\n",
    "        print(readable_hour + \":\", str(forecast_florida[counter]['temperature']), \"°F\",  \"(\" + str(round((forecast_florida[counter]['temperature'] - 32) * 5 / 9,2)), \"°C)\", \"and cloudy.\")\n",
    "    else:\n",
    "        print(readable_hour + \":\", forecast_florida[counter]['temperature'], \"°F\", \"(\" + str(round((forecast_florida[counter]['temperature'] - 32) * 5 / 9,2)), \"°C)\")\n",
    "    counter = counter + 1"
   ]
  },
  {
   "cell_type": "markdown",
   "metadata": {},
   "source": [
    "7) What was the temperature in Central Park on Christmas Day, 1980? How about 1990? 2000?\n",
    "\n",
    "Tip: You'll need to use UNIX time, which is the number of seconds since January 1, 1970. Google can help you convert a normal date!\n",
    "Tip: You'll want to use Forecast.io's \"time machine\" API at https://developer.forecast.io/docs/v2\n"
   ]
  },
  {
   "cell_type": "code",
   "execution_count": 168,
   "metadata": {
    "collapsed": false
   },
   "outputs": [
    {
     "name": "stdout",
     "output_type": "stream",
     "text": [
      "The temperature on January 1, 1980 in Central Park, New York:\n",
      "\n",
      "00:00: 31.12 °F (-0.49 °C).\n",
      "01:00: 36.3 °F (2.39 °C).\n",
      "02:00: 30.88 °F (-0.62 °C).\n",
      "03:00: 29.23 °F (-1.54 °C).\n",
      "04:00: 34.54 °F (1.41 °C).\n",
      "05:00: 29.06 °F (-1.63 °C).\n",
      "06:00: 29.06 °F (-1.63 °C).\n",
      "07:00: 33.58 °F (0.88 °C).\n",
      "08:00: 29.23 °F (-1.54 °C).\n",
      "09:00: 34.24 °F (1.24 °C).\n",
      "10:00: 36.51 °F (2.51 °C).\n",
      "11:00: 43 °F (6.11 °C).\n",
      "12:00: 43.6 °F (6.44 °C).\n",
      "13:00: 43.98 °F (6.66 °C).\n",
      "14:00: 44.31 °F (6.84 °C).\n",
      "15:00: 43.55 °F (6.42 °C).\n",
      "16:00: 43.57 °F (6.43 °C).\n",
      "17:00: 40.95 °F (4.97 °C).\n",
      "18:00: 35.42 °F (1.9 °C).\n",
      "19:00: 39.27 °F (4.04 °C).\n",
      "20:00: 32.66 °F (0.37 °C).\n",
      "21:00: 31.96 °F (-0.02 °C).\n",
      "22:00: 38.04 °F (3.36 °C).\n",
      "23:00: 31.66 °F (-0.19 °C).\n"
     ]
    }
   ],
   "source": [
    "lat_centralpark = \"40.7821\"\n",
    "lon_centralpark = \"-73.9682\"\n",
    "exactdate = \"1980-01-01T12:00:00-0400\"\n",
    "response = requests.get('https://api.forecast.io/forecast/cb31c6739ae1c7377aa0c3bbc1aa9b30/' + lat_centralpark + ',' + lon_centralpark + ',' + exactdate)\n",
    "data_ny = response.json()\n",
    "\n",
    "ny_1980 = data_ny['hourly']['data']\n",
    "\n",
    "counter = 0\n",
    "print(\"The temperature on January 1, 1980 in Central Park, New York:\\n\")\n",
    "for i in ny_1980:\n",
    "    readable_hour = datetime.datetime.fromtimestamp(int(ny_1980[counter]['time'])).strftime('%H:%M')\n",
    "    print(str(readable_hour) + \":\", str(ny_1980[counter]['temperature']), \"°F\",  \"(\" + str(round((ny_1980[counter]['temperature'] - 32) * 5 / 9,2)), \"°C).\")\n",
    "    counter = counter + 1"
   ]
  },
  {
   "cell_type": "code",
   "execution_count": 169,
   "metadata": {
    "collapsed": false
   },
   "outputs": [
    {
     "name": "stdout",
     "output_type": "stream",
     "text": [
      "The temperature on January 1, 1990 in Central Park, New York:\n",
      "\n",
      "00:00: 51.01 °F (10.56 °C).\n",
      "01:00: 49.5 °F (9.72 °C).\n",
      "02:00: 48.81 °F (9.34 °C).\n",
      "03:00: 49.11 °F (9.51 °C).\n",
      "04:00: 48.56 °F (9.2 °C).\n",
      "05:00: 48.31 °F (9.06 °C).\n",
      "06:00: 45.5 °F (7.5 °C).\n",
      "07:00: 42.83 °F (6.02 °C).\n",
      "08:00: 42.44 °F (5.8 °C).\n",
      "09:00: 41.54 °F (5.3 °C).\n",
      "10:00: 40.6 °F (4.78 °C).\n",
      "11:00: 40.4 °F (4.67 °C).\n",
      "12:00: 39.7 °F (4.28 °C).\n",
      "13:00: 39.84 °F (4.36 °C).\n",
      "14:00: 41.25 °F (5.14 °C).\n",
      "15:00: 40.45 °F (4.69 °C).\n",
      "16:00: 38.45 °F (3.58 °C).\n",
      "17:00: 36.8 °F (2.67 °C).\n",
      "18:00: 35.29 °F (1.83 °C).\n",
      "19:00: 33.95 °F (1.08 °C).\n",
      "20:00: 33.14 °F (0.63 °C).\n",
      "21:00: 32.74 °F (0.41 °C).\n",
      "22:00: 31.3 °F (-0.39 °C).\n",
      "23:00: 31.05 °F (-0.53 °C).\n"
     ]
    }
   ],
   "source": [
    "lat_centralpark = \"40.7821\"\n",
    "lon_centralpark = \"-73.9682\"\n",
    "exactdate = \"1990-01-01T12:00:00-0400\"\n",
    "response = requests.get('https://api.forecast.io/forecast/cb31c6739ae1c7377aa0c3bbc1aa9b30/' + lat_centralpark + ',' + lon_centralpark + ',' + exactdate)\n",
    "data_ny = response.json()\n",
    "\n",
    "ny_1990 = data_ny['hourly']['data']\n",
    "\n",
    "counter = 0\n",
    "print(\"The temperature on January 1, 1990 in Central Park, New York:\\n\")\n",
    "for i in ny_1980:\n",
    "    readable_hour = datetime.datetime.fromtimestamp(int(ny_1990[counter]['time'])).strftime('%H:%M')\n",
    "    print(str(readable_hour) + \":\", str(ny_1990[counter]['temperature']), \"°F\",  \"(\" + str(round((ny_1990[counter]['temperature'] - 32) * 5 / 9,2)), \"°C).\")\n",
    "    counter = counter + 1"
   ]
  },
  {
   "cell_type": "code",
   "execution_count": 170,
   "metadata": {
    "collapsed": false
   },
   "outputs": [
    {
     "name": "stdout",
     "output_type": "stream",
     "text": [
      "The temperature on January 1, 1980 in Central Park, New York:\n",
      "\n",
      "00:00: 25.12 °F (-3.82 °C).\n",
      "01:00: 26.52 °F (-3.04 °C).\n",
      "02:00: 25.12 °F (-3.82 °C).\n",
      "03:00: 24.91 °F (-3.94 °C).\n",
      "04:00: 24.79 °F (-4.01 °C).\n",
      "05:00: 24.91 °F (-3.94 °C).\n",
      "06:00: 26.29 °F (-3.17 °C).\n",
      "07:00: 26.29 °F (-3.17 °C).\n",
      "08:00: 29.97 °F (-1.13 °C).\n",
      "09:00: 32.87 °F (0.48 °C).\n",
      "10:00: 40.11 °F (4.51 °C).\n",
      "11:00: 45.62 °F (7.57 °C).\n",
      "12:00: 49.63 °F (9.79 °C).\n",
      "13:00: 49.01 °F (9.45 °C).\n",
      "14:00: 49.46 °F (9.7 °C).\n",
      "15:00: 46.07 °F (7.82 °C).\n",
      "16:00: 45.73 °F (7.63 °C).\n",
      "17:00: 45.23 °F (7.35 °C).\n",
      "18:00: 45.01 °F (7.23 °C).\n",
      "19:00: 53.31 °F (11.84 °C).\n",
      "20:00: 41.94 °F (5.52 °C).\n",
      "21:00: 41.94 °F (5.52 °C).\n",
      "22:00: 42.93 °F (6.07 °C).\n",
      "23:00: 42.89 °F (6.05 °C).\n"
     ]
    }
   ],
   "source": [
    "lat_centralpark = \"40.7821\"\n",
    "lon_centralpark = \"-73.9682\"\n",
    "exactdate = \"2000-01-01T12:00:00-0400\"\n",
    "response = requests.get('https://api.forecast.io/forecast/cb31c6739ae1c7377aa0c3bbc1aa9b30/' + lat_centralpark + ',' + lon_centralpark + ',' + exactdate)\n",
    "data_ny = response.json()\n",
    "\n",
    "ny_2000 = data_ny['hourly']['data']\n",
    "\n",
    "counter = 0\n",
    "print(\"The temperature on January 1, 1980 in Central Park, New York:\\n\")\n",
    "for i in ny_2000:\n",
    "    readable_hour = datetime.datetime.fromtimestamp(int(ny_2000[counter]['time'])).strftime('%H:%M')\n",
    "    print(str(readable_hour) + \":\", str(ny_2000[counter]['temperature']), \"°F\",  \"(\" + str(round((ny_2000[counter]['temperature'] - 32) * 5 / 9,2)), \"°C).\")\n",
    "    counter = counter + 1"
   ]
  },
  {
   "cell_type": "code",
   "execution_count": null,
   "metadata": {
    "collapsed": true
   },
   "outputs": [],
   "source": []
  }
 ],
 "metadata": {
  "kernelspec": {
   "display_name": "Python 3",
   "language": "python",
   "name": "python3"
  },
  "language_info": {
   "codemirror_mode": {
    "name": "ipython",
    "version": 3
   },
   "file_extension": ".py",
   "mimetype": "text/x-python",
   "name": "python",
   "nbconvert_exporter": "python",
   "pygments_lexer": "ipython3",
   "version": "3.5.1+"
  }
 },
 "nbformat": 4,
 "nbformat_minor": 0
}
