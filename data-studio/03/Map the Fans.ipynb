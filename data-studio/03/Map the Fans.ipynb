{
 "cells": [
  {
   "cell_type": "markdown",
   "metadata": {},
   "source": [
    "# Season cards at Bern's major sport klubs"
   ]
  },
  {
   "cell_type": "code",
   "execution_count": 7,
   "metadata": {
    "collapsed": false
   },
   "outputs": [],
   "source": [
    "import pandas as pd\n",
    "import numpy as np\n",
    "import matplotlib.pyplot as plt\n",
    "%matplotlib inline\n",
    "plt.style.use('fivethirtyeight')"
   ]
  },
  {
   "cell_type": "markdown",
   "metadata": {},
   "source": [
    "## Importing and cleaning the data."
   ]
  },
  {
   "cell_type": "markdown",
   "metadata": {},
   "source": [
    "### Data for YB (Football)"
   ]
  },
  {
   "cell_type": "code",
   "execution_count": 8,
   "metadata": {
    "collapsed": false
   },
   "outputs": [
    {
     "data": {
      "text/html": [
       "<div>\n",
       "<table border=\"1\" class=\"dataframe\">\n",
       "  <thead>\n",
       "    <tr style=\"text-align: right;\">\n",
       "      <th></th>\n",
       "      <th>PLZ</th>\n",
       "      <th>YB</th>\n",
       "    </tr>\n",
       "  </thead>\n",
       "  <tbody>\n",
       "    <tr>\n",
       "      <th>0</th>\n",
       "      <td>1066</td>\n",
       "      <td>2</td>\n",
       "    </tr>\n",
       "    <tr>\n",
       "      <th>1</th>\n",
       "      <td>1110</td>\n",
       "      <td>1</td>\n",
       "    </tr>\n",
       "    <tr>\n",
       "      <th>2</th>\n",
       "      <td>1242</td>\n",
       "      <td>34</td>\n",
       "    </tr>\n",
       "    <tr>\n",
       "      <th>3</th>\n",
       "      <td>1260</td>\n",
       "      <td>1</td>\n",
       "    </tr>\n",
       "    <tr>\n",
       "      <th>4</th>\n",
       "      <td>1510</td>\n",
       "      <td>1</td>\n",
       "    </tr>\n",
       "  </tbody>\n",
       "</table>\n",
       "</div>"
      ],
      "text/plain": [
       "    PLZ  YB\n",
       "0  1066   2\n",
       "1  1110   1\n",
       "2  1242  34\n",
       "3  1260   1\n",
       "4  1510   1"
      ]
     },
     "execution_count": 8,
     "metadata": {},
     "output_type": "execute_result"
    }
   ],
   "source": [
    "# Import the data for YB (football). \n",
    "df_yb = pd.read_csv('data/original_yb.csv')\n",
    "df_yb.head()"
   ]
  },
  {
   "cell_type": "markdown",
   "metadata": {},
   "source": [
    "### Data for SCB"
   ]
  },
  {
   "cell_type": "code",
   "execution_count": 9,
   "metadata": {
    "collapsed": false
   },
   "outputs": [
    {
     "data": {
      "text/html": [
       "<div>\n",
       "<table border=\"1\" class=\"dataframe\">\n",
       "  <thead>\n",
       "    <tr style=\"text-align: right;\">\n",
       "      <th></th>\n",
       "      <th>PLZ</th>\n",
       "      <th>SCB</th>\n",
       "    </tr>\n",
       "  </thead>\n",
       "  <tbody>\n",
       "    <tr>\n",
       "      <th>0</th>\n",
       "      <td>1003</td>\n",
       "      <td>1</td>\n",
       "    </tr>\n",
       "    <tr>\n",
       "      <th>1</th>\n",
       "      <td>1004</td>\n",
       "      <td>1</td>\n",
       "    </tr>\n",
       "    <tr>\n",
       "      <th>2</th>\n",
       "      <td>1005</td>\n",
       "      <td>2</td>\n",
       "    </tr>\n",
       "    <tr>\n",
       "      <th>3</th>\n",
       "      <td>1023</td>\n",
       "      <td>1</td>\n",
       "    </tr>\n",
       "    <tr>\n",
       "      <th>4</th>\n",
       "      <td>1024</td>\n",
       "      <td>1</td>\n",
       "    </tr>\n",
       "  </tbody>\n",
       "</table>\n",
       "</div>"
      ],
      "text/plain": [
       "    PLZ  SCB\n",
       "0  1003    1\n",
       "1  1004    1\n",
       "2  1005    2\n",
       "3  1023    1\n",
       "4  1024    1"
      ]
     },
     "execution_count": 9,
     "metadata": {},
     "output_type": "execute_result"
    }
   ],
   "source": [
    "# Import the data for SCB (ice hockey)\n",
    "df_scb = pd.read_csv('data/original_scb.csv')\n",
    "df_scb = df_scb[['PLZ','SCB']] # Getting rid of the columns 'Gemeinde' and 'Land' to avoid problems while merging (multiple values for Gemeinde with the same PLZ)\n",
    "df_scb.head()"
   ]
  },
  {
   "cell_type": "code",
   "execution_count": 10,
   "metadata": {
    "collapsed": false
   },
   "outputs": [
    {
     "data": {
      "text/html": [
       "<div>\n",
       "<table border=\"1\" class=\"dataframe\">\n",
       "  <thead>\n",
       "    <tr style=\"text-align: right;\">\n",
       "      <th></th>\n",
       "      <th>PLZ</th>\n",
       "      <th>SCB</th>\n",
       "    </tr>\n",
       "  </thead>\n",
       "  <tbody>\n",
       "    <tr>\n",
       "      <th>259</th>\n",
       "      <td>3053</td>\n",
       "      <td>135</td>\n",
       "    </tr>\n",
       "    <tr>\n",
       "      <th>260</th>\n",
       "      <td>3053</td>\n",
       "      <td>14</td>\n",
       "    </tr>\n",
       "    <tr>\n",
       "      <th>261</th>\n",
       "      <td>3053</td>\n",
       "      <td>1</td>\n",
       "    </tr>\n",
       "    <tr>\n",
       "      <th>262</th>\n",
       "      <td>3053</td>\n",
       "      <td>1</td>\n",
       "    </tr>\n",
       "    <tr>\n",
       "      <th>263</th>\n",
       "      <td>3053</td>\n",
       "      <td>4</td>\n",
       "    </tr>\n",
       "    <tr>\n",
       "      <th>264</th>\n",
       "      <td>3053</td>\n",
       "      <td>2</td>\n",
       "    </tr>\n",
       "  </tbody>\n",
       "</table>\n",
       "</div>"
      ],
      "text/plain": [
       "      PLZ  SCB\n",
       "259  3053  135\n",
       "260  3053   14\n",
       "261  3053    1\n",
       "262  3053    1\n",
       "263  3053    4\n",
       "264  3053    2"
      ]
     },
     "execution_count": 10,
     "metadata": {},
     "output_type": "execute_result"
    }
   ],
   "source": [
    "df_scb[df_scb['PLZ'] == 3053]"
   ]
  },
  {
   "cell_type": "code",
   "execution_count": 11,
   "metadata": {
    "collapsed": false
   },
   "outputs": [
    {
     "data": {
      "text/html": [
       "<div>\n",
       "<table border=\"1\" class=\"dataframe\">\n",
       "  <thead>\n",
       "    <tr style=\"text-align: right;\">\n",
       "      <th></th>\n",
       "      <th>PLZ</th>\n",
       "      <th>SCB</th>\n",
       "    </tr>\n",
       "  </thead>\n",
       "  <tbody>\n",
       "    <tr>\n",
       "      <th>1150</th>\n",
       "      <td>10405</td>\n",
       "      <td>1</td>\n",
       "    </tr>\n",
       "    <tr>\n",
       "      <th>1151</th>\n",
       "      <td>63599</td>\n",
       "      <td>1</td>\n",
       "    </tr>\n",
       "    <tr>\n",
       "      <th>1152</th>\n",
       "      <td>72514</td>\n",
       "      <td>1</td>\n",
       "    </tr>\n",
       "    <tr>\n",
       "      <th>1153</th>\n",
       "      <td>74100</td>\n",
       "      <td>1</td>\n",
       "    </tr>\n",
       "    <tr>\n",
       "      <th>1154</th>\n",
       "      <td>79774</td>\n",
       "      <td>1</td>\n",
       "    </tr>\n",
       "  </tbody>\n",
       "</table>\n",
       "</div>"
      ],
      "text/plain": [
       "        PLZ  SCB\n",
       "1150  10405    1\n",
       "1151  63599    1\n",
       "1152  72514    1\n",
       "1153  74100    1\n",
       "1154  79774    1"
      ]
     },
     "execution_count": 11,
     "metadata": {},
     "output_type": "execute_result"
    }
   ],
   "source": [
    "# The dataset contains some ZIP codes with more than four digits. These are foreign ZIP codes.\n",
    "df_scb[df_scb['PLZ'] > 9999]"
   ]
  },
  {
   "cell_type": "code",
   "execution_count": 12,
   "metadata": {
    "collapsed": false
   },
   "outputs": [
    {
     "data": {
      "text/html": [
       "<div>\n",
       "<table border=\"1\" class=\"dataframe\">\n",
       "  <thead>\n",
       "    <tr style=\"text-align: right;\">\n",
       "      <th></th>\n",
       "      <th>PLZ</th>\n",
       "      <th>SCB</th>\n",
       "    </tr>\n",
       "  </thead>\n",
       "  <tbody>\n",
       "  </tbody>\n",
       "</table>\n",
       "</div>"
      ],
      "text/plain": [
       "Empty DataFrame\n",
       "Columns: [PLZ, SCB]\n",
       "Index: []"
      ]
     },
     "execution_count": 12,
     "metadata": {},
     "output_type": "execute_result"
    }
   ],
   "source": [
    "# Let's save them to an own dataframe... \n",
    "df_scb_foreign = df_scb[df_scb['PLZ'] > 9999]\n",
    "\n",
    "# ... and take them out of the original one. \n",
    "df_scb = df_scb[df_scb['PLZ'] < 9999]\n",
    "df_scb[df_scb['PLZ'] > 9999]"
   ]
  },
  {
   "cell_type": "code",
   "execution_count": 13,
   "metadata": {
    "collapsed": false
   },
   "outputs": [
    {
     "data": {
      "text/html": [
       "<div>\n",
       "<table border=\"1\" class=\"dataframe\">\n",
       "  <thead>\n",
       "    <tr style=\"text-align: right;\">\n",
       "      <th></th>\n",
       "      <th>PLZ</th>\n",
       "      <th>SCB</th>\n",
       "    </tr>\n",
       "  </thead>\n",
       "  <tbody>\n",
       "    <tr>\n",
       "      <th>259</th>\n",
       "      <td>3053</td>\n",
       "      <td>135</td>\n",
       "    </tr>\n",
       "    <tr>\n",
       "      <th>260</th>\n",
       "      <td>3053</td>\n",
       "      <td>14</td>\n",
       "    </tr>\n",
       "    <tr>\n",
       "      <th>261</th>\n",
       "      <td>3053</td>\n",
       "      <td>1</td>\n",
       "    </tr>\n",
       "    <tr>\n",
       "      <th>262</th>\n",
       "      <td>3053</td>\n",
       "      <td>1</td>\n",
       "    </tr>\n",
       "    <tr>\n",
       "      <th>263</th>\n",
       "      <td>3053</td>\n",
       "      <td>4</td>\n",
       "    </tr>\n",
       "    <tr>\n",
       "      <th>264</th>\n",
       "      <td>3053</td>\n",
       "      <td>2</td>\n",
       "    </tr>\n",
       "  </tbody>\n",
       "</table>\n",
       "</div>"
      ],
      "text/plain": [
       "      PLZ  SCB\n",
       "259  3053  135\n",
       "260  3053   14\n",
       "261  3053    1\n",
       "262  3053    1\n",
       "263  3053    4\n",
       "264  3053    2"
      ]
     },
     "execution_count": 13,
     "metadata": {},
     "output_type": "execute_result"
    }
   ],
   "source": [
    "# The data contains multiple entries for certain ZIP codes. For example for Münchenbuchsee. \n",
    "df_scb[df_scb['PLZ'] == 3053]"
   ]
  },
  {
   "cell_type": "code",
   "execution_count": 14,
   "metadata": {
    "collapsed": false
   },
   "outputs": [
    {
     "data": {
      "text/html": [
       "<div>\n",
       "<table border=\"1\" class=\"dataframe\">\n",
       "  <thead>\n",
       "    <tr style=\"text-align: right;\">\n",
       "      <th></th>\n",
       "      <th>PLZ</th>\n",
       "      <th>SCB</th>\n",
       "    </tr>\n",
       "  </thead>\n",
       "  <tbody>\n",
       "    <tr>\n",
       "      <th>226</th>\n",
       "      <td>3053</td>\n",
       "      <td>157</td>\n",
       "    </tr>\n",
       "  </tbody>\n",
       "</table>\n",
       "</div>"
      ],
      "text/plain": [
       "      PLZ  SCB\n",
       "226  3053  157"
      ]
     },
     "execution_count": 14,
     "metadata": {},
     "output_type": "execute_result"
    }
   ],
   "source": [
    "# Let's take the duplicates out. \n",
    "df_scb = df_scb.groupby('PLZ')['SCB'].sum()\n",
    "df_scb = pd.DataFrame(df_scb)\n",
    "df_scb = df_scb.reset_index()\n",
    "df_scb[df_scb['PLZ'] == 3053]"
   ]
  },
  {
   "cell_type": "markdown",
   "metadata": {},
   "source": [
    "## Data about the ZIP code areas \n",
    "\n",
    "Quelle der Daten: Bundesamt für Statistik, statistisches Jahrbuch. Stand: 2014. ([Link zum Excel-Dokument](http://www.bfs.admin.ch/bfs/portal/de/index/themen/01/02/blank/key/raeumliche_verteilung/agglomerationen.Document.154450.xls))\n",
    "\n",
    "Die Darstellung wird in der Tabellenverarbeitung vereinfacht. Mit Regex in \"Atom\" werden die Trennzeichen bei Tausenderwerten gelöscht: ```(\\d+) (\\d{3})``` suchen und durch ```$1$2``` ersetzen. "
   ]
  },
  {
   "cell_type": "code",
   "execution_count": 15,
   "metadata": {
    "collapsed": false
   },
   "outputs": [
    {
     "data": {
      "text/html": [
       "<div>\n",
       "<table border=\"1\" class=\"dataframe\">\n",
       "  <thead>\n",
       "    <tr style=\"text-align: right;\">\n",
       "      <th></th>\n",
       "      <th>PLZ</th>\n",
       "      <th>Total</th>\n",
       "      <th>Schweiz</th>\n",
       "      <th>Ausland</th>\n",
       "      <th>Mann</th>\n",
       "      <th>Frau</th>\n",
       "      <th>0-4</th>\n",
       "      <th>5-9</th>\n",
       "      <th>10-14</th>\n",
       "      <th>15-19</th>\n",
       "      <th>...</th>\n",
       "      <th>80-84</th>\n",
       "      <th>85-89</th>\n",
       "      <th>90 und mehr</th>\n",
       "      <th>Ledig</th>\n",
       "      <th>Verheiratet</th>\n",
       "      <th>Verwitwet</th>\n",
       "      <th>Geschieden</th>\n",
       "      <th>Unverheiratet</th>\n",
       "      <th>In eingetrage-ner Partner-schaft</th>\n",
       "      <th>Aufgelöste Partnerschaft</th>\n",
       "    </tr>\n",
       "  </thead>\n",
       "  <tbody>\n",
       "    <tr>\n",
       "      <th>0</th>\n",
       "      <td>1000</td>\n",
       "      <td>2964</td>\n",
       "      <td>1799</td>\n",
       "      <td>1165</td>\n",
       "      <td>1479</td>\n",
       "      <td>1485</td>\n",
       "      <td>126</td>\n",
       "      <td>199</td>\n",
       "      <td>175</td>\n",
       "      <td>326</td>\n",
       "      <td>...</td>\n",
       "      <td>31</td>\n",
       "      <td>21</td>\n",
       "      <td>13</td>\n",
       "      <td>1614</td>\n",
       "      <td>1114</td>\n",
       "      <td>85</td>\n",
       "      <td>148</td>\n",
       "      <td>1</td>\n",
       "      <td>2</td>\n",
       "      <td>0</td>\n",
       "    </tr>\n",
       "    <tr>\n",
       "      <th>1</th>\n",
       "      <td>1003</td>\n",
       "      <td>8269</td>\n",
       "      <td>4546</td>\n",
       "      <td>3723</td>\n",
       "      <td>4143</td>\n",
       "      <td>4126</td>\n",
       "      <td>422</td>\n",
       "      <td>297</td>\n",
       "      <td>218</td>\n",
       "      <td>311</td>\n",
       "      <td>...</td>\n",
       "      <td>146</td>\n",
       "      <td>135</td>\n",
       "      <td>93</td>\n",
       "      <td>4743</td>\n",
       "      <td>2353</td>\n",
       "      <td>343</td>\n",
       "      <td>775</td>\n",
       "      <td>0</td>\n",
       "      <td>53</td>\n",
       "      <td>2</td>\n",
       "    </tr>\n",
       "    <tr>\n",
       "      <th>2</th>\n",
       "      <td>1004</td>\n",
       "      <td>28996</td>\n",
       "      <td>16624</td>\n",
       "      <td>12372</td>\n",
       "      <td>13983</td>\n",
       "      <td>15013</td>\n",
       "      <td>1435</td>\n",
       "      <td>1154</td>\n",
       "      <td>1110</td>\n",
       "      <td>1266</td>\n",
       "      <td>...</td>\n",
       "      <td>752</td>\n",
       "      <td>560</td>\n",
       "      <td>293</td>\n",
       "      <td>14913</td>\n",
       "      <td>9852</td>\n",
       "      <td>1352</td>\n",
       "      <td>2782</td>\n",
       "      <td>3</td>\n",
       "      <td>85</td>\n",
       "      <td>8</td>\n",
       "    </tr>\n",
       "    <tr>\n",
       "      <th>3</th>\n",
       "      <td>1005</td>\n",
       "      <td>11645</td>\n",
       "      <td>6765</td>\n",
       "      <td>4880</td>\n",
       "      <td>5578</td>\n",
       "      <td>6067</td>\n",
       "      <td>536</td>\n",
       "      <td>472</td>\n",
       "      <td>429</td>\n",
       "      <td>509</td>\n",
       "      <td>...</td>\n",
       "      <td>289</td>\n",
       "      <td>214</td>\n",
       "      <td>134</td>\n",
       "      <td>6462</td>\n",
       "      <td>3596</td>\n",
       "      <td>502</td>\n",
       "      <td>1031</td>\n",
       "      <td>2</td>\n",
       "      <td>41</td>\n",
       "      <td>7</td>\n",
       "    </tr>\n",
       "    <tr>\n",
       "      <th>4</th>\n",
       "      <td>1006</td>\n",
       "      <td>14638</td>\n",
       "      <td>8859</td>\n",
       "      <td>5779</td>\n",
       "      <td>6976</td>\n",
       "      <td>7662</td>\n",
       "      <td>745</td>\n",
       "      <td>647</td>\n",
       "      <td>476</td>\n",
       "      <td>592</td>\n",
       "      <td>...</td>\n",
       "      <td>402</td>\n",
       "      <td>289</td>\n",
       "      <td>191</td>\n",
       "      <td>7706</td>\n",
       "      <td>4794</td>\n",
       "      <td>680</td>\n",
       "      <td>1423</td>\n",
       "      <td>0</td>\n",
       "      <td>29</td>\n",
       "      <td>6</td>\n",
       "    </tr>\n",
       "  </tbody>\n",
       "</table>\n",
       "<p>5 rows × 32 columns</p>\n",
       "</div>"
      ],
      "text/plain": [
       "    PLZ  Total  Schweiz  Ausland   Mann   Frau   0-4   5-9  10-14  15-19  \\\n",
       "0  1000   2964     1799     1165   1479   1485   126   199    175    326   \n",
       "1  1003   8269     4546     3723   4143   4126   422   297    218    311   \n",
       "2  1004  28996    16624    12372  13983  15013  1435  1154   1110   1266   \n",
       "3  1005  11645     6765     4880   5578   6067   536   472    429    509   \n",
       "4  1006  14638     8859     5779   6976   7662   745   647    476    592   \n",
       "\n",
       "             ...             80-84  85-89  90 und mehr  Ledig  Verheiratet  \\\n",
       "0            ...                31     21           13   1614         1114   \n",
       "1            ...               146    135           93   4743         2353   \n",
       "2            ...               752    560          293  14913         9852   \n",
       "3            ...               289    214          134   6462         3596   \n",
       "4            ...               402    289          191   7706         4794   \n",
       "\n",
       "   Verwitwet  Geschieden  Unverheiratet  In eingetrage-ner Partner-schaft  \\\n",
       "0         85         148              1                                 2   \n",
       "1        343         775              0                                53   \n",
       "2       1352        2782              3                                85   \n",
       "3        502        1031              2                                41   \n",
       "4        680        1423              0                                29   \n",
       "\n",
       "   Aufgelöste Partnerschaft  \n",
       "0                         0  \n",
       "1                         2  \n",
       "2                         8  \n",
       "3                         7  \n",
       "4                         6  \n",
       "\n",
       "[5 rows x 32 columns]"
      ]
     },
     "execution_count": 15,
     "metadata": {},
     "output_type": "execute_result"
    }
   ],
   "source": [
    "# Import the data for the ZIP codes. \n",
    "df_plz = pd.read_csv('data/plz.csv')\n",
    "df_plz.head(5)"
   ]
  },
  {
   "cell_type": "code",
   "execution_count": 16,
   "metadata": {
    "collapsed": false
   },
   "outputs": [
    {
     "data": {
      "text/html": [
       "<div>\n",
       "<table border=\"1\" class=\"dataframe\">\n",
       "  <thead>\n",
       "    <tr style=\"text-align: right;\">\n",
       "      <th></th>\n",
       "      <th>PLZ</th>\n",
       "      <th>Total</th>\n",
       "      <th>Schweiz</th>\n",
       "      <th>Ausland</th>\n",
       "      <th>Mann</th>\n",
       "      <th>Frau</th>\n",
       "      <th>0-4</th>\n",
       "      <th>5-9</th>\n",
       "      <th>10-14</th>\n",
       "      <th>15-19</th>\n",
       "      <th>...</th>\n",
       "      <th>90 und mehr</th>\n",
       "      <th>Ledig</th>\n",
       "      <th>Verheiratet</th>\n",
       "      <th>Verwitwet</th>\n",
       "      <th>Geschieden</th>\n",
       "      <th>Unverheiratet</th>\n",
       "      <th>In eingetrage-ner Partner-schaft</th>\n",
       "      <th>Aufgelöste Partnerschaft</th>\n",
       "      <th>SCB</th>\n",
       "      <th>YB</th>\n",
       "    </tr>\n",
       "  </thead>\n",
       "  <tbody>\n",
       "    <tr>\n",
       "      <th>0</th>\n",
       "      <td>1000</td>\n",
       "      <td>2964</td>\n",
       "      <td>1799</td>\n",
       "      <td>1165</td>\n",
       "      <td>1479</td>\n",
       "      <td>1485</td>\n",
       "      <td>126</td>\n",
       "      <td>199</td>\n",
       "      <td>175</td>\n",
       "      <td>326</td>\n",
       "      <td>...</td>\n",
       "      <td>13</td>\n",
       "      <td>1614</td>\n",
       "      <td>1114</td>\n",
       "      <td>85</td>\n",
       "      <td>148</td>\n",
       "      <td>1</td>\n",
       "      <td>2</td>\n",
       "      <td>0</td>\n",
       "      <td>NaN</td>\n",
       "      <td>NaN</td>\n",
       "    </tr>\n",
       "    <tr>\n",
       "      <th>1</th>\n",
       "      <td>1003</td>\n",
       "      <td>8269</td>\n",
       "      <td>4546</td>\n",
       "      <td>3723</td>\n",
       "      <td>4143</td>\n",
       "      <td>4126</td>\n",
       "      <td>422</td>\n",
       "      <td>297</td>\n",
       "      <td>218</td>\n",
       "      <td>311</td>\n",
       "      <td>...</td>\n",
       "      <td>93</td>\n",
       "      <td>4743</td>\n",
       "      <td>2353</td>\n",
       "      <td>343</td>\n",
       "      <td>775</td>\n",
       "      <td>0</td>\n",
       "      <td>53</td>\n",
       "      <td>2</td>\n",
       "      <td>1.0</td>\n",
       "      <td>NaN</td>\n",
       "    </tr>\n",
       "    <tr>\n",
       "      <th>2</th>\n",
       "      <td>1004</td>\n",
       "      <td>28996</td>\n",
       "      <td>16624</td>\n",
       "      <td>12372</td>\n",
       "      <td>13983</td>\n",
       "      <td>15013</td>\n",
       "      <td>1435</td>\n",
       "      <td>1154</td>\n",
       "      <td>1110</td>\n",
       "      <td>1266</td>\n",
       "      <td>...</td>\n",
       "      <td>293</td>\n",
       "      <td>14913</td>\n",
       "      <td>9852</td>\n",
       "      <td>1352</td>\n",
       "      <td>2782</td>\n",
       "      <td>3</td>\n",
       "      <td>85</td>\n",
       "      <td>8</td>\n",
       "      <td>1.0</td>\n",
       "      <td>NaN</td>\n",
       "    </tr>\n",
       "    <tr>\n",
       "      <th>3</th>\n",
       "      <td>1005</td>\n",
       "      <td>11645</td>\n",
       "      <td>6765</td>\n",
       "      <td>4880</td>\n",
       "      <td>5578</td>\n",
       "      <td>6067</td>\n",
       "      <td>536</td>\n",
       "      <td>472</td>\n",
       "      <td>429</td>\n",
       "      <td>509</td>\n",
       "      <td>...</td>\n",
       "      <td>134</td>\n",
       "      <td>6462</td>\n",
       "      <td>3596</td>\n",
       "      <td>502</td>\n",
       "      <td>1031</td>\n",
       "      <td>2</td>\n",
       "      <td>41</td>\n",
       "      <td>7</td>\n",
       "      <td>2.0</td>\n",
       "      <td>NaN</td>\n",
       "    </tr>\n",
       "    <tr>\n",
       "      <th>4</th>\n",
       "      <td>1006</td>\n",
       "      <td>14638</td>\n",
       "      <td>8859</td>\n",
       "      <td>5779</td>\n",
       "      <td>6976</td>\n",
       "      <td>7662</td>\n",
       "      <td>745</td>\n",
       "      <td>647</td>\n",
       "      <td>476</td>\n",
       "      <td>592</td>\n",
       "      <td>...</td>\n",
       "      <td>191</td>\n",
       "      <td>7706</td>\n",
       "      <td>4794</td>\n",
       "      <td>680</td>\n",
       "      <td>1423</td>\n",
       "      <td>0</td>\n",
       "      <td>29</td>\n",
       "      <td>6</td>\n",
       "      <td>NaN</td>\n",
       "      <td>NaN</td>\n",
       "    </tr>\n",
       "  </tbody>\n",
       "</table>\n",
       "<p>5 rows × 34 columns</p>\n",
       "</div>"
      ],
      "text/plain": [
       "    PLZ  Total  Schweiz  Ausland   Mann   Frau   0-4   5-9  10-14  15-19 ...  \\\n",
       "0  1000   2964     1799     1165   1479   1485   126   199    175    326 ...   \n",
       "1  1003   8269     4546     3723   4143   4126   422   297    218    311 ...   \n",
       "2  1004  28996    16624    12372  13983  15013  1435  1154   1110   1266 ...   \n",
       "3  1005  11645     6765     4880   5578   6067   536   472    429    509 ...   \n",
       "4  1006  14638     8859     5779   6976   7662   745   647    476    592 ...   \n",
       "\n",
       "   90 und mehr  Ledig  Verheiratet  Verwitwet  Geschieden  Unverheiratet  \\\n",
       "0           13   1614         1114         85         148              1   \n",
       "1           93   4743         2353        343         775              0   \n",
       "2          293  14913         9852       1352        2782              3   \n",
       "3          134   6462         3596        502        1031              2   \n",
       "4          191   7706         4794        680        1423              0   \n",
       "\n",
       "   In eingetrage-ner Partner-schaft  Aufgelöste Partnerschaft  SCB  YB  \n",
       "0                                 2                         0  NaN NaN  \n",
       "1                                53                         2  1.0 NaN  \n",
       "2                                85                         8  1.0 NaN  \n",
       "3                                41                         7  2.0 NaN  \n",
       "4                                29                         6  NaN NaN  \n",
       "\n",
       "[5 rows x 34 columns]"
      ]
     },
     "execution_count": 16,
     "metadata": {},
     "output_type": "execute_result"
    }
   ],
   "source": [
    "# Merge the three data sets. \n",
    "df_temp = df_plz.merge(df_scb, on='PLZ', how='left')\n",
    "df = df_temp.merge(df_yb, on='PLZ', how='left')\n",
    "df.head()"
   ]
  },
  {
   "cell_type": "markdown",
   "metadata": {},
   "source": [
    "## Analyzing the data"
   ]
  },
  {
   "cell_type": "code",
   "execution_count": 17,
   "metadata": {
    "collapsed": false
   },
   "outputs": [
    {
     "data": {
      "text/plain": [
       "9815.0"
      ]
     },
     "execution_count": 17,
     "metadata": {},
     "output_type": "execute_result"
    }
   ],
   "source": [
    "# How many cards did YB sell? \n",
    "df['YB'].sum()"
   ]
  },
  {
   "cell_type": "code",
   "execution_count": 18,
   "metadata": {
    "collapsed": false
   },
   "outputs": [
    {
     "data": {
      "text/plain": [
       "9177.0"
      ]
     },
     "execution_count": 18,
     "metadata": {},
     "output_type": "execute_result"
    }
   ],
   "source": [
    "# How many cards did SCB sell?\n",
    "df['SCB'].sum()"
   ]
  },
  {
   "cell_type": "code",
   "execution_count": 19,
   "metadata": {
    "collapsed": false
   },
   "outputs": [
    {
     "data": {
      "text/plain": [
       "594"
      ]
     },
     "execution_count": 19,
     "metadata": {},
     "output_type": "execute_result"
    }
   ],
   "source": [
    "# How many entries are available for YB? \n",
    "df['YB'].count()"
   ]
  },
  {
   "cell_type": "code",
   "execution_count": 20,
   "metadata": {
    "collapsed": false
   },
   "outputs": [
    {
     "data": {
      "text/plain": [
       "941"
      ]
     },
     "execution_count": 20,
     "metadata": {},
     "output_type": "execute_result"
    }
   ],
   "source": [
    "# How many entries are available for SCB?\n",
    "df['SCB'].count()"
   ]
  },
  {
   "cell_type": "code",
   "execution_count": 21,
   "metadata": {
    "collapsed": false
   },
   "outputs": [
    {
     "data": {
      "text/html": [
       "<div>\n",
       "<table border=\"1\" class=\"dataframe\">\n",
       "  <thead>\n",
       "    <tr style=\"text-align: right;\">\n",
       "      <th></th>\n",
       "      <th>PLZ</th>\n",
       "      <th>YB</th>\n",
       "    </tr>\n",
       "  </thead>\n",
       "  <tbody>\n",
       "    <tr>\n",
       "      <th>861</th>\n",
       "      <td>3014</td>\n",
       "      <td>829.0</td>\n",
       "    </tr>\n",
       "    <tr>\n",
       "      <th>855</th>\n",
       "      <td>3007</td>\n",
       "      <td>394.0</td>\n",
       "    </tr>\n",
       "    <tr>\n",
       "      <th>860</th>\n",
       "      <td>3013</td>\n",
       "      <td>358.0</td>\n",
       "    </tr>\n",
       "    <tr>\n",
       "      <th>854</th>\n",
       "      <td>3006</td>\n",
       "      <td>323.0</td>\n",
       "    </tr>\n",
       "    <tr>\n",
       "      <th>890</th>\n",
       "      <td>3072</td>\n",
       "      <td>249.0</td>\n",
       "    </tr>\n",
       "    <tr>\n",
       "      <th>859</th>\n",
       "      <td>3012</td>\n",
       "      <td>233.0</td>\n",
       "    </tr>\n",
       "    <tr>\n",
       "      <th>851</th>\n",
       "      <td>3000</td>\n",
       "      <td>208.0</td>\n",
       "    </tr>\n",
       "    <tr>\n",
       "      <th>863</th>\n",
       "      <td>3018</td>\n",
       "      <td>188.0</td>\n",
       "    </tr>\n",
       "    <tr>\n",
       "      <th>882</th>\n",
       "      <td>3052</td>\n",
       "      <td>186.0</td>\n",
       "    </tr>\n",
       "    <tr>\n",
       "      <th>883</th>\n",
       "      <td>3053</td>\n",
       "      <td>185.0</td>\n",
       "    </tr>\n",
       "    <tr>\n",
       "      <th>885</th>\n",
       "      <td>3063</td>\n",
       "      <td>172.0</td>\n",
       "    </tr>\n",
       "    <tr>\n",
       "      <th>858</th>\n",
       "      <td>3011</td>\n",
       "      <td>161.0</td>\n",
       "    </tr>\n",
       "    <tr>\n",
       "      <th>906</th>\n",
       "      <td>3097</td>\n",
       "      <td>152.0</td>\n",
       "    </tr>\n",
       "    <tr>\n",
       "      <th>891</th>\n",
       "      <td>3073</td>\n",
       "      <td>149.0</td>\n",
       "    </tr>\n",
       "    <tr>\n",
       "      <th>856</th>\n",
       "      <td>3008</td>\n",
       "      <td>149.0</td>\n",
       "    </tr>\n",
       "    <tr>\n",
       "      <th>917</th>\n",
       "      <td>3123</td>\n",
       "      <td>147.0</td>\n",
       "    </tr>\n",
       "    <tr>\n",
       "      <th>909</th>\n",
       "      <td>3110</td>\n",
       "      <td>145.0</td>\n",
       "    </tr>\n",
       "    <tr>\n",
       "      <th>1016</th>\n",
       "      <td>3322</td>\n",
       "      <td>138.0</td>\n",
       "    </tr>\n",
       "    <tr>\n",
       "      <th>866</th>\n",
       "      <td>3027</td>\n",
       "      <td>137.0</td>\n",
       "    </tr>\n",
       "    <tr>\n",
       "      <th>899</th>\n",
       "      <td>3084</td>\n",
       "      <td>132.0</td>\n",
       "    </tr>\n",
       "  </tbody>\n",
       "</table>\n",
       "</div>"
      ],
      "text/plain": [
       "       PLZ     YB\n",
       "861   3014  829.0\n",
       "855   3007  394.0\n",
       "860   3013  358.0\n",
       "854   3006  323.0\n",
       "890   3072  249.0\n",
       "859   3012  233.0\n",
       "851   3000  208.0\n",
       "863   3018  188.0\n",
       "882   3052  186.0\n",
       "883   3053  185.0\n",
       "885   3063  172.0\n",
       "858   3011  161.0\n",
       "906   3097  152.0\n",
       "891   3073  149.0\n",
       "856   3008  149.0\n",
       "917   3123  147.0\n",
       "909   3110  145.0\n",
       "1016  3322  138.0\n",
       "866   3027  137.0\n",
       "899   3084  132.0"
      ]
     },
     "execution_count": 21,
     "metadata": {},
     "output_type": "execute_result"
    }
   ],
   "source": [
    "# What ZIP code has the highest number of YB cards?\n",
    "df[['PLZ','YB']].sort_values(by='YB', ascending=False).head(20)"
   ]
  },
  {
   "cell_type": "code",
   "execution_count": 22,
   "metadata": {
    "collapsed": false
   },
   "outputs": [
    {
     "data": {
      "text/html": [
       "<div>\n",
       "<table border=\"1\" class=\"dataframe\">\n",
       "  <thead>\n",
       "    <tr style=\"text-align: right;\">\n",
       "      <th></th>\n",
       "      <th>PLZ</th>\n",
       "      <th>SCB</th>\n",
       "    </tr>\n",
       "  </thead>\n",
       "  <tbody>\n",
       "    <tr>\n",
       "      <th>890</th>\n",
       "      <td>3072</td>\n",
       "      <td>249.0</td>\n",
       "    </tr>\n",
       "    <tr>\n",
       "      <th>917</th>\n",
       "      <td>3123</td>\n",
       "      <td>211.0</td>\n",
       "    </tr>\n",
       "    <tr>\n",
       "      <th>861</th>\n",
       "      <td>3014</td>\n",
       "      <td>191.0</td>\n",
       "    </tr>\n",
       "    <tr>\n",
       "      <th>863</th>\n",
       "      <td>3018</td>\n",
       "      <td>165.0</td>\n",
       "    </tr>\n",
       "    <tr>\n",
       "      <th>883</th>\n",
       "      <td>3053</td>\n",
       "      <td>157.0</td>\n",
       "    </tr>\n",
       "    <tr>\n",
       "      <th>854</th>\n",
       "      <td>3006</td>\n",
       "      <td>155.0</td>\n",
       "    </tr>\n",
       "    <tr>\n",
       "      <th>882</th>\n",
       "      <td>3052</td>\n",
       "      <td>146.0</td>\n",
       "    </tr>\n",
       "    <tr>\n",
       "      <th>885</th>\n",
       "      <td>3063</td>\n",
       "      <td>136.0</td>\n",
       "    </tr>\n",
       "    <tr>\n",
       "      <th>907</th>\n",
       "      <td>3098</td>\n",
       "      <td>132.0</td>\n",
       "    </tr>\n",
       "    <tr>\n",
       "      <th>855</th>\n",
       "      <td>3007</td>\n",
       "      <td>127.0</td>\n",
       "    </tr>\n",
       "    <tr>\n",
       "      <th>909</th>\n",
       "      <td>3110</td>\n",
       "      <td>122.0</td>\n",
       "    </tr>\n",
       "    <tr>\n",
       "      <th>866</th>\n",
       "      <td>3027</td>\n",
       "      <td>117.0</td>\n",
       "    </tr>\n",
       "    <tr>\n",
       "      <th>891</th>\n",
       "      <td>3073</td>\n",
       "      <td>116.0</td>\n",
       "    </tr>\n",
       "    <tr>\n",
       "      <th>1016</th>\n",
       "      <td>3322</td>\n",
       "      <td>114.0</td>\n",
       "    </tr>\n",
       "    <tr>\n",
       "      <th>853</th>\n",
       "      <td>3005</td>\n",
       "      <td>98.0</td>\n",
       "    </tr>\n",
       "    <tr>\n",
       "      <th>1102</th>\n",
       "      <td>3604</td>\n",
       "      <td>96.0</td>\n",
       "    </tr>\n",
       "    <tr>\n",
       "      <th>972</th>\n",
       "      <td>3250</td>\n",
       "      <td>95.0</td>\n",
       "    </tr>\n",
       "    <tr>\n",
       "      <th>1005</th>\n",
       "      <td>3303</td>\n",
       "      <td>95.0</td>\n",
       "    </tr>\n",
       "    <tr>\n",
       "      <th>894</th>\n",
       "      <td>3076</td>\n",
       "      <td>91.0</td>\n",
       "    </tr>\n",
       "    <tr>\n",
       "      <th>856</th>\n",
       "      <td>3008</td>\n",
       "      <td>89.0</td>\n",
       "    </tr>\n",
       "  </tbody>\n",
       "</table>\n",
       "</div>"
      ],
      "text/plain": [
       "       PLZ    SCB\n",
       "890   3072  249.0\n",
       "917   3123  211.0\n",
       "861   3014  191.0\n",
       "863   3018  165.0\n",
       "883   3053  157.0\n",
       "854   3006  155.0\n",
       "882   3052  146.0\n",
       "885   3063  136.0\n",
       "907   3098  132.0\n",
       "855   3007  127.0\n",
       "909   3110  122.0\n",
       "866   3027  117.0\n",
       "891   3073  116.0\n",
       "1016  3322  114.0\n",
       "853   3005   98.0\n",
       "1102  3604   96.0\n",
       "972   3250   95.0\n",
       "1005  3303   95.0\n",
       "894   3076   91.0\n",
       "856   3008   89.0"
      ]
     },
     "execution_count": 22,
     "metadata": {},
     "output_type": "execute_result"
    }
   ],
   "source": [
    "# What ZIP code have the highest numbers of SCB cards?\n",
    "df[['PLZ','SCB']].sort_values(by='SCB', ascending=False).head(20)"
   ]
  },
  {
   "cell_type": "code",
   "execution_count": 23,
   "metadata": {
    "collapsed": false
   },
   "outputs": [
    {
     "data": {
      "text/html": [
       "<div>\n",
       "<table border=\"1\" class=\"dataframe\">\n",
       "  <thead>\n",
       "    <tr style=\"text-align: right;\">\n",
       "      <th></th>\n",
       "      <th>PLZ</th>\n",
       "      <th>YB_relativ</th>\n",
       "    </tr>\n",
       "  </thead>\n",
       "  <tbody>\n",
       "    <tr>\n",
       "      <th>851</th>\n",
       "      <td>3000</td>\n",
       "      <td>0.319508</td>\n",
       "    </tr>\n",
       "    <tr>\n",
       "      <th>861</th>\n",
       "      <td>3014</td>\n",
       "      <td>0.060773</td>\n",
       "    </tr>\n",
       "    <tr>\n",
       "      <th>858</th>\n",
       "      <td>3011</td>\n",
       "      <td>0.034856</td>\n",
       "    </tr>\n",
       "    <tr>\n",
       "      <th>860</th>\n",
       "      <td>3013</td>\n",
       "      <td>0.034849</td>\n",
       "    </tr>\n",
       "    <tr>\n",
       "      <th>950</th>\n",
       "      <td>3202</td>\n",
       "      <td>0.031250</td>\n",
       "    </tr>\n",
       "    <tr>\n",
       "      <th>1012</th>\n",
       "      <td>3313</td>\n",
       "      <td>0.027897</td>\n",
       "    </tr>\n",
       "    <tr>\n",
       "      <th>1008</th>\n",
       "      <td>3307</td>\n",
       "      <td>0.026455</td>\n",
       "    </tr>\n",
       "    <tr>\n",
       "      <th>855</th>\n",
       "      <td>3007</td>\n",
       "      <td>0.025775</td>\n",
       "    </tr>\n",
       "    <tr>\n",
       "      <th>980</th>\n",
       "      <td>3262</td>\n",
       "      <td>0.024806</td>\n",
       "    </tr>\n",
       "    <tr>\n",
       "      <th>1009</th>\n",
       "      <td>3308</td>\n",
       "      <td>0.023810</td>\n",
       "    </tr>\n",
       "    <tr>\n",
       "      <th>857</th>\n",
       "      <td>3010</td>\n",
       "      <td>0.023256</td>\n",
       "    </tr>\n",
       "    <tr>\n",
       "      <th>953</th>\n",
       "      <td>3205</td>\n",
       "      <td>0.023188</td>\n",
       "    </tr>\n",
       "    <tr>\n",
       "      <th>985</th>\n",
       "      <td>3268</td>\n",
       "      <td>0.022495</td>\n",
       "    </tr>\n",
       "    <tr>\n",
       "      <th>852</th>\n",
       "      <td>3004</td>\n",
       "      <td>0.022042</td>\n",
       "    </tr>\n",
       "    <tr>\n",
       "      <th>891</th>\n",
       "      <td>3073</td>\n",
       "      <td>0.021976</td>\n",
       "    </tr>\n",
       "    <tr>\n",
       "      <th>956</th>\n",
       "      <td>3208</td>\n",
       "      <td>0.020833</td>\n",
       "    </tr>\n",
       "    <tr>\n",
       "      <th>1016</th>\n",
       "      <td>3322</td>\n",
       "      <td>0.020420</td>\n",
       "    </tr>\n",
       "    <tr>\n",
       "      <th>880</th>\n",
       "      <td>3048</td>\n",
       "      <td>0.020420</td>\n",
       "    </tr>\n",
       "    <tr>\n",
       "      <th>853</th>\n",
       "      <td>3005</td>\n",
       "      <td>0.019939</td>\n",
       "    </tr>\n",
       "    <tr>\n",
       "      <th>887</th>\n",
       "      <td>3066</td>\n",
       "      <td>0.019291</td>\n",
       "    </tr>\n",
       "  </tbody>\n",
       "</table>\n",
       "</div>"
      ],
      "text/plain": [
       "       PLZ  YB_relativ\n",
       "851   3000    0.319508\n",
       "861   3014    0.060773\n",
       "858   3011    0.034856\n",
       "860   3013    0.034849\n",
       "950   3202    0.031250\n",
       "1012  3313    0.027897\n",
       "1008  3307    0.026455\n",
       "855   3007    0.025775\n",
       "980   3262    0.024806\n",
       "1009  3308    0.023810\n",
       "857   3010    0.023256\n",
       "953   3205    0.023188\n",
       "985   3268    0.022495\n",
       "852   3004    0.022042\n",
       "891   3073    0.021976\n",
       "956   3208    0.020833\n",
       "1016  3322    0.020420\n",
       "880   3048    0.020420\n",
       "853   3005    0.019939\n",
       "887   3066    0.019291"
      ]
     },
     "execution_count": 23,
     "metadata": {},
     "output_type": "execute_result"
    }
   ],
   "source": [
    "# What ZIP code has the highest number of YB cards per capita?\n",
    "df['YB_relativ'] = df['YB'] / df['Total']\n",
    "df[['PLZ', 'YB_relativ']].sort_values(by='YB_relativ', ascending=False).head(20)"
   ]
  },
  {
   "cell_type": "code",
   "execution_count": 24,
   "metadata": {
    "collapsed": false
   },
   "outputs": [
    {
     "name": "stderr",
     "output_type": "stream",
     "text": [
      "/usr/local/lib/python3.5/dist-packages/ipykernel/__main__.py:2: FutureWarning: sort(columns=....) is deprecated, use sort_values(by=.....)\n",
      "  from ipykernel import kernelapp as app\n"
     ]
    },
    {
     "data": {
      "image/png": "[encoded data removed]",
      "text/plain": [
       "<matplotlib.figure.Figure at 0x7f4b455b6828>"
      ]
     },
     "metadata": {},
     "output_type": "display_data"
    }
   ],
   "source": [
    "# Let's take out the ZIP code 3000 since these are probably mainly postboxes and companies. \n",
    "df[df['PLZ'] != 3000][['PLZ', 'YB_relativ']].sort_values(by='YB_relativ', ascending=False).head(20).sort('YB_relativ', ascending=True).plot(kind='barh', x='PLZ', y='YB_relativ', title='PLZ-Gebiete mit den meisten YB-Saisonkarten pro Bevölkerung', legend=False, figsize = [10,5])\n",
    "plt.savefig('output/YB_PLZ.svg')"
   ]
  },
  {
   "cell_type": "code",
   "execution_count": 36,
   "metadata": {
    "collapsed": false
   },
   "outputs": [
    {
     "data": {
      "text/html": [
       "<div>\n",
       "<table border=\"1\" class=\"dataframe\">\n",
       "  <thead>\n",
       "    <tr style=\"text-align: right;\">\n",
       "      <th></th>\n",
       "      <th>PLZ</th>\n",
       "      <th>Total</th>\n",
       "      <th>SCB</th>\n",
       "      <th>SCB_relativ</th>\n",
       "      <th>YB</th>\n",
       "      <th>YB_relativ</th>\n",
       "    </tr>\n",
       "  </thead>\n",
       "  <tbody>\n",
       "    <tr>\n",
       "      <th>861</th>\n",
       "      <td>3014</td>\n",
       "      <td>13641</td>\n",
       "      <td>191.0</td>\n",
       "      <td>0.014002</td>\n",
       "      <td>829.0</td>\n",
       "      <td>0.060773</td>\n",
       "    </tr>\n",
       "  </tbody>\n",
       "</table>\n",
       "</div>"
      ],
      "text/plain": [
       "      PLZ  Total    SCB  SCB_relativ     YB  YB_relativ\n",
       "861  3014  13641  191.0     0.014002  829.0    0.060773"
      ]
     },
     "execution_count": 36,
     "metadata": {},
     "output_type": "execute_result"
    }
   ],
   "source": [
    "# Data for 3014:\n",
    "df[df['PLZ'] == 3014][['PLZ', 'Total', 'SCB', 'SCB_relativ', 'YB', 'YB_relativ']]"
   ]
  },
  {
   "cell_type": "code",
   "execution_count": 25,
   "metadata": {
    "collapsed": false
   },
   "outputs": [
    {
     "data": {
      "text/html": [
       "<div>\n",
       "<table border=\"1\" class=\"dataframe\">\n",
       "  <thead>\n",
       "    <tr style=\"text-align: right;\">\n",
       "      <th></th>\n",
       "      <th>PLZ</th>\n",
       "      <th>SCB_relativ</th>\n",
       "    </tr>\n",
       "  </thead>\n",
       "  <tbody>\n",
       "    <tr>\n",
       "      <th>1008</th>\n",
       "      <td>3307</td>\n",
       "      <td>0.052910</td>\n",
       "    </tr>\n",
       "    <tr>\n",
       "      <th>956</th>\n",
       "      <td>3208</td>\n",
       "      <td>0.037500</td>\n",
       "    </tr>\n",
       "    <tr>\n",
       "      <th>769</th>\n",
       "      <td>2723</td>\n",
       "      <td>0.033333</td>\n",
       "    </tr>\n",
       "    <tr>\n",
       "      <th>944</th>\n",
       "      <td>3179</td>\n",
       "      <td>0.030093</td>\n",
       "    </tr>\n",
       "    <tr>\n",
       "      <th>881</th>\n",
       "      <td>3049</td>\n",
       "      <td>0.027451</td>\n",
       "    </tr>\n",
       "    <tr>\n",
       "      <th>869</th>\n",
       "      <td>3034</td>\n",
       "      <td>0.026820</td>\n",
       "    </tr>\n",
       "    <tr>\n",
       "      <th>977</th>\n",
       "      <td>3255</td>\n",
       "      <td>0.023381</td>\n",
       "    </tr>\n",
       "    <tr>\n",
       "      <th>857</th>\n",
       "      <td>3010</td>\n",
       "      <td>0.023256</td>\n",
       "    </tr>\n",
       "    <tr>\n",
       "      <th>884</th>\n",
       "      <td>3054</td>\n",
       "      <td>0.023199</td>\n",
       "    </tr>\n",
       "    <tr>\n",
       "      <th>876</th>\n",
       "      <td>3044</td>\n",
       "      <td>0.023112</td>\n",
       "    </tr>\n",
       "    <tr>\n",
       "      <th>901</th>\n",
       "      <td>3087</td>\n",
       "      <td>0.022857</td>\n",
       "    </tr>\n",
       "    <tr>\n",
       "      <th>905</th>\n",
       "      <td>3096</td>\n",
       "      <td>0.022548</td>\n",
       "    </tr>\n",
       "    <tr>\n",
       "      <th>978</th>\n",
       "      <td>3256</td>\n",
       "      <td>0.022222</td>\n",
       "    </tr>\n",
       "    <tr>\n",
       "      <th>853</th>\n",
       "      <td>3005</td>\n",
       "      <td>0.021472</td>\n",
       "    </tr>\n",
       "    <tr>\n",
       "      <th>1010</th>\n",
       "      <td>3309</td>\n",
       "      <td>0.021277</td>\n",
       "    </tr>\n",
       "    <tr>\n",
       "      <th>1004</th>\n",
       "      <td>3302</td>\n",
       "      <td>0.020637</td>\n",
       "    </tr>\n",
       "    <tr>\n",
       "      <th>792</th>\n",
       "      <td>2814</td>\n",
       "      <td>0.020339</td>\n",
       "    </tr>\n",
       "    <tr>\n",
       "      <th>896</th>\n",
       "      <td>3078</td>\n",
       "      <td>0.019950</td>\n",
       "    </tr>\n",
       "    <tr>\n",
       "      <th>938</th>\n",
       "      <td>3173</td>\n",
       "      <td>0.019581</td>\n",
       "    </tr>\n",
       "    <tr>\n",
       "      <th>953</th>\n",
       "      <td>3205</td>\n",
       "      <td>0.019324</td>\n",
       "    </tr>\n",
       "  </tbody>\n",
       "</table>\n",
       "</div>"
      ],
      "text/plain": [
       "       PLZ  SCB_relativ\n",
       "1008  3307     0.052910\n",
       "956   3208     0.037500\n",
       "769   2723     0.033333\n",
       "944   3179     0.030093\n",
       "881   3049     0.027451\n",
       "869   3034     0.026820\n",
       "977   3255     0.023381\n",
       "857   3010     0.023256\n",
       "884   3054     0.023199\n",
       "876   3044     0.023112\n",
       "901   3087     0.022857\n",
       "905   3096     0.022548\n",
       "978   3256     0.022222\n",
       "853   3005     0.021472\n",
       "1010  3309     0.021277\n",
       "1004  3302     0.020637\n",
       "792   2814     0.020339\n",
       "896   3078     0.019950\n",
       "938   3173     0.019581\n",
       "953   3205     0.019324"
      ]
     },
     "execution_count": 25,
     "metadata": {},
     "output_type": "execute_result"
    }
   ],
   "source": [
    "# What ZIP code has the highest number of SCB cards per capita?\n",
    "df['SCB_relativ'] = df['SCB'] / df['Total']\n",
    "df[['PLZ', 'SCB_relativ']].sort_values(by='SCB_relativ', ascending=False).head(20)"
   ]
  },
  {
   "cell_type": "code",
   "execution_count": 26,
   "metadata": {
    "collapsed": false
   },
   "outputs": [
    {
     "name": "stderr",
     "output_type": "stream",
     "text": [
      "/usr/local/lib/python3.5/dist-packages/ipykernel/__main__.py:2: FutureWarning: sort(columns=....) is deprecated, use sort_values(by=.....)\n",
      "  from ipykernel import kernelapp as app\n"
     ]
    },
    {
     "data": {
      "image/png": "[encoded data removed]",
      "text/plain": [
       "<matplotlib.figure.Figure at 0x7f4b39219ac8>"
      ]
     },
     "metadata": {},
     "output_type": "display_data"
    }
   ],
   "source": [
    "# Let's plot it \n",
    "df[['PLZ', 'SCB_relativ']].sort_values(by='SCB_relativ', ascending=False).head(20).sort('SCB_relativ', ascending=True).plot(kind='barh', x='PLZ', y='SCB_relativ', title='PLZ-Gebiete mit den meisten SCB-Saisonkarten pro Bevölkerung', legend=False, figsize = [10,5])\n",
    "plt.savefig('output/SCB_PLZ.svg')"
   ]
  },
  {
   "cell_type": "code",
   "execution_count": 35,
   "metadata": {
    "collapsed": false
   },
   "outputs": [
    {
     "data": {
      "text/html": [
       "<div>\n",
       "<table border=\"1\" class=\"dataframe\">\n",
       "  <thead>\n",
       "    <tr style=\"text-align: right;\">\n",
       "      <th></th>\n",
       "      <th>PLZ</th>\n",
       "      <th>Total</th>\n",
       "      <th>SCB</th>\n",
       "      <th>SCB_relativ</th>\n",
       "      <th>YB</th>\n",
       "      <th>YB_relativ</th>\n",
       "    </tr>\n",
       "  </thead>\n",
       "  <tbody>\n",
       "    <tr>\n",
       "      <th>1008</th>\n",
       "      <td>3307</td>\n",
       "      <td>189</td>\n",
       "      <td>10.0</td>\n",
       "      <td>0.05291</td>\n",
       "      <td>5.0</td>\n",
       "      <td>0.026455</td>\n",
       "    </tr>\n",
       "  </tbody>\n",
       "</table>\n",
       "</div>"
      ],
      "text/plain": [
       "       PLZ  Total   SCB  SCB_relativ   YB  YB_relativ\n",
       "1008  3307    189  10.0      0.05291  5.0    0.026455"
      ]
     },
     "execution_count": 35,
     "metadata": {},
     "output_type": "execute_result"
    }
   ],
   "source": [
    "# Data for 3307 (Brunnenthal, SO):\n",
    "df[df['PLZ'] == 3307][['PLZ', 'Total', 'SCB', 'SCB_relativ', 'YB', 'YB_relativ']]"
   ]
  },
  {
   "cell_type": "code",
   "execution_count": 39,
   "metadata": {
    "collapsed": false
   },
   "outputs": [
    {
     "name": "stderr",
     "output_type": "stream",
     "text": [
      "/usr/local/lib/python3.5/dist-packages/ipykernel/__main__.py:2: FutureWarning: sort(columns=....) is deprecated, use sort_values(by=.....)\n",
      "  from ipykernel import kernelapp as app\n"
     ]
    },
    {
     "data": {
      "image/png": "[encoded data removed]",
      "text/plain": [
       "<matplotlib.figure.Figure at 0x7f4b38e28c18>"
      ]
     },
     "metadata": {},
     "output_type": "display_data"
    }
   ],
   "source": [
    "# In the previous example, there are some communities with little inhabitants. Let's take them out.\n",
    "# This are the PLZ with at leas 1000 inhabitants. \n",
    "df[df['Total'] > 1000][['PLZ', 'SCB_relativ']].sort_values(by='SCB_relativ', ascending=False).head(20).sort('SCB_relativ', ascending=True).plot(kind='barh', x='PLZ', y='SCB_relativ', title='PLZ-Gebiete mit den meisten SCB-Saisonkarten pro Bevölkerung', legend=False, figsize = [10,5])\n",
    "plt.savefig('output/SCB_PLZ_grosse.svg')"
   ]
  },
  {
   "cell_type": "code",
   "execution_count": 40,
   "metadata": {
    "collapsed": false
   },
   "outputs": [
    {
     "data": {
      "text/html": [
       "<div>\n",
       "<table border=\"1\" class=\"dataframe\">\n",
       "  <thead>\n",
       "    <tr style=\"text-align: right;\">\n",
       "      <th></th>\n",
       "      <th>PLZ</th>\n",
       "      <th>Total</th>\n",
       "      <th>SCB</th>\n",
       "      <th>SCB_relativ</th>\n",
       "      <th>YB</th>\n",
       "      <th>YB_relativ</th>\n",
       "    </tr>\n",
       "  </thead>\n",
       "  <tbody>\n",
       "    <tr>\n",
       "      <th>977</th>\n",
       "      <td>3255</td>\n",
       "      <td>1112</td>\n",
       "      <td>26.0</td>\n",
       "      <td>0.023381</td>\n",
       "      <td>12.0</td>\n",
       "      <td>0.010791</td>\n",
       "    </tr>\n",
       "  </tbody>\n",
       "</table>\n",
       "</div>"
      ],
      "text/plain": [
       "      PLZ  Total   SCB  SCB_relativ    YB  YB_relativ\n",
       "977  3255   1112  26.0     0.023381  12.0    0.010791"
      ]
     },
     "execution_count": 40,
     "metadata": {},
     "output_type": "execute_result"
    }
   ],
   "source": [
    "# Some information about 3255 (Rapperswil BE):\n",
    "df[df['PLZ'] == 3255][['PLZ', 'Total', 'SCB', 'SCB_relativ', 'YB', 'YB_relativ']]"
   ]
  },
  {
   "cell_type": "code",
   "execution_count": 28,
   "metadata": {
    "collapsed": false
   },
   "outputs": [
    {
     "data": {
      "text/html": [
       "<div>\n",
       "<table border=\"1\" class=\"dataframe\">\n",
       "  <thead>\n",
       "    <tr style=\"text-align: right;\">\n",
       "      <th></th>\n",
       "      <th>PLZ</th>\n",
       "      <th>YB</th>\n",
       "      <th>SCB</th>\n",
       "    </tr>\n",
       "  </thead>\n",
       "  <tbody>\n",
       "    <tr>\n",
       "      <th>890</th>\n",
       "      <td>3072</td>\n",
       "      <td>249.0</td>\n",
       "      <td>249.0</td>\n",
       "    </tr>\n",
       "    <tr>\n",
       "      <th>912</th>\n",
       "      <td>3113</td>\n",
       "      <td>39.0</td>\n",
       "      <td>39.0</td>\n",
       "    </tr>\n",
       "    <tr>\n",
       "      <th>939</th>\n",
       "      <td>3174</td>\n",
       "      <td>30.0</td>\n",
       "      <td>30.0</td>\n",
       "    </tr>\n",
       "    <tr>\n",
       "      <th>952</th>\n",
       "      <td>3204</td>\n",
       "      <td>17.0</td>\n",
       "      <td>17.0</td>\n",
       "    </tr>\n",
       "    <tr>\n",
       "      <th>1053</th>\n",
       "      <td>3432</td>\n",
       "      <td>12.0</td>\n",
       "      <td>12.0</td>\n",
       "    </tr>\n",
       "  </tbody>\n",
       "</table>\n",
       "</div>"
      ],
      "text/plain": [
       "       PLZ     YB    SCB\n",
       "890   3072  249.0  249.0\n",
       "912   3113   39.0   39.0\n",
       "939   3174   30.0   30.0\n",
       "952   3204   17.0   17.0\n",
       "1053  3432   12.0   12.0"
      ]
     },
     "execution_count": 28,
     "metadata": {},
     "output_type": "execute_result"
    }
   ],
   "source": [
    "# In what ZIP code they sold the same amount of SCB as YB cards?\n",
    "df.loc[(df[\"YB\"] == df[\"SCB\"])].sort_values(by='SCB', ascending=False)[['PLZ', 'YB', 'SCB']].head(5)"
   ]
  },
  {
   "cell_type": "markdown",
   "metadata": {},
   "source": [
    "## Export the necessary data for the map.\n",
    "We will use [Carto](http://carto.com) to put the data on a map. Since Carto doesn't have the Shapefiles for the Swiss ZIP areas integrated, we need to download them from [Cadastre.ch](http://www.cadastre.ch/internet/kataster/de/home/services/service/plz.html) and simplify it with [Ogr2ogr](http://www.gdal.org/ogr2ogr.html). "
   ]
  },
  {
   "cell_type": "code",
   "execution_count": 310,
   "metadata": {
    "collapsed": true
   },
   "outputs": [],
   "source": [
    "# Generate the CSV file for the import to 'Carto'.\n",
    "df[['PLZ','YB','YB_relativ','SCB','SCB_relativ']].to_csv('output/fanmap_final.csv')"
   ]
  },
  {
   "cell_type": "code",
   "execution_count": null,
   "metadata": {
    "collapsed": true
   },
   "outputs": [],
   "source": []
  }
 ],
 "metadata": {
  "kernelspec": {
   "display_name": "Python 3",
   "language": "python",
   "name": "python3"
  },
  "language_info": {
   "codemirror_mode": {
    "name": "ipython",
    "version": 3
   },
   "file_extension": ".py",
   "mimetype": "text/x-python",
   "name": "python",
   "nbconvert_exporter": "python",
   "pygments_lexer": "ipython3",
   "version": "3.5.2"
  }
 },
 "nbformat": 4,
 "nbformat_minor": 0
}
