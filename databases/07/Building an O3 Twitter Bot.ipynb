{
 "cells": [
  {
   "cell_type": "markdown",
   "metadata": {},
   "source": [
    "# O3 Twitter Bot\n",
    "I will build a Twitter Bot that notifies its followers if the O3 values in my hometown Bern are climbing to dangerous heights. If the values are over 100 µg/m3 it should tweet a warning. If the values are over the limit of 120 µg/m3 it will issue a stronger wording will be applied. \n",
    "\n",
    "### Possible data sources\n",
    "- [Canton of Bern](http://www.vol.be.ch/vol/de/index/luft/luftmesswerte/messwerte_ab_2003.html): Own values from the city center. Unfortunately no API. Advanced scraping would be necessary.\n",
    "- [Swiss federal department Bafu](http://www.bafu.admin.ch/luft/luftbelastung/aktuell/tabelle/index.html?lang=de): Better accessible version of the same data. Simple scraping is necessary. \n",
    "\n",
    "I will use the second data source for this project. \n",
    "\n",
    "### Values\n",
    "Here's [the definition](http://www.bafu.admin.ch/chemikalien/prtr/07159/16050/index.html?lang=de) for the upper limit for O3 in Switzerland: \n",
    "\n",
    "> - 100 µg/m3: 98 % der 1/2-h-Mittelwerte eines Monats kleiner oder gleich 100 µg/m3\n",
    "> - 120 µg/m3: 1-h-Mittelwert; darf höchstens einmal pro Jahr überschritten werden\n",
    "\n",
    "## Cron job\n",
    "A cronjob runs the script every 30 minutes. (The values itself should be updated every hour.) The cronjob: ```0,30 * * * * python3 ohhh3.py```. \n",
    "\n",
    "## Deployment\n",
    "The twitter bot is deployed on my server at Digital Ocean. [You will find it here](https://twitter.com/testthisss). I will probably move it to my Raspberry Pi micro server (and to a seperate Twitter account) later. "
   ]
  },
  {
   "cell_type": "markdown",
   "metadata": {},
   "source": [
    "## Scraping the data"
   ]
  },
  {
   "cell_type": "code",
   "execution_count": 135,
   "metadata": {
    "collapsed": true
   },
   "outputs": [],
   "source": [
    "# Importing the libraries\n",
    "\n",
    "import requests\n",
    "from bs4 import BeautifulSoup\n",
    "import twython\n",
    "import random\n",
    "from datetime import datetime\n",
    "import csv"
   ]
  },
  {
   "cell_type": "code",
   "execution_count": 131,
   "metadata": {
    "collapsed": false
   },
   "outputs": [],
   "source": [
    "# Setting up Twitter\n",
    "\n",
    "api_key = 'XXXXX'\n",
    "api_secret = 'XXXXX'\n",
    "access_token = 'XXXXX'\n",
    "token_secret = 'XXXXX'\n",
    "\n",
    "twitter = twython.Twython(api_key, api_secret, access_token, token_secret)"
   ]
  },
  {
   "cell_type": "code",
   "execution_count": 132,
   "metadata": {
    "collapsed": false
   },
   "outputs": [],
   "source": [
    "# Scraping the data. \n",
    "\n",
    "response = requests.get(\"http://www.bafu.admin.ch/luft/luftbelastung/aktuell/tabelle/index.html?lang=de\")\n",
    "soup = BeautifulSoup(response.text, 'html.parser')\n",
    "o3_bollwerk = int(soup.find_all(\"td\")[2].string)"
   ]
  },
  {
   "cell_type": "code",
   "execution_count": 138,
   "metadata": {
    "collapsed": false
   },
   "outputs": [],
   "source": [
    "# Save the data to a file\n",
    "\n",
    "timestamp = datetime.now()\n",
    "fields=[timestamp,o3_bollwerk]\n",
    "with open(r'o3.csv', 'a') as f:\n",
    "                writer = csv.writer(f)\n",
    "                writer.writerow(fields)"
   ]
  },
  {
   "cell_type": "code",
   "execution_count": 133,
   "metadata": {
    "collapsed": false
   },
   "outputs": [],
   "source": [
    "# Writing the text of the tweet, adding the image\n",
    "\n",
    "warning1 = 'Die aktuelle Ozonbelastung liegt bei {} µg/m3.'\n",
    "warning2 = 'Die aktuelle Ozonbelastung am Bollwerk liegt bei {} µg/m3. Das ist kritisch hoch.'\n",
    "flavor1 = ['Bitte aufpassen.', 'Vorsicht ist angesagt.', 'Besser baden als joggen.', 'Streng dich nicht an:', 'Warte auf frischen Wind:']\n",
    "flavor2 = ['Achtung!', 'Halte den Atem an:', 'Oje:', 'Bleibe besser drinnen:', 'Kein Jogging heute:', 'Da bleibt einem glatt die Luft weg:', 'Jetzt wirds ungemütlich.', 'Bloss nicht inhalieren:']\n",
    "source =  '(Quelle: Bafu)'\n",
    "hashtag = '#O3 #BE'\n",
    "\n",
    "if o3_bollwerk > 120:\n",
    "    warning = random.choice(flavor2) + ' ' + warning2.format(str(o3_bollwerk)) + ' ' + source + ' ' + hashtag\n",
    "    ampel = open('ampel_rot.png', 'rb')\n",
    "elif o3_bollwerk > 100:\n",
    "    warning = random.choice(flavor1) + ' ' + warning1.format(str(o3_bollwerk)) + ' ' + source + ' ' + hashtag\n",
    "    ampel = open('ampel_orange.png', 'rb')\n",
    "# elif o3_bollwerk > 80:\n",
    "#    warning = \"Die Ozonbelastung ist nur leicht erhöht. Der aktuelle Messert: {} µg/m3.\".format(str(o3_bollwerk))\n",
    "#    ampel = open('ampel_gruen.png', 'rb')\n",
    "elif o3_bollwerk == '': \n",
    "    warning = 'Leider kriegen wir keine Messwerte. Probier es später nochmals.'\n",
    "    ampel = open('ampel_rot.png', 'rb')"
   ]
  },
  {
   "cell_type": "code",
   "execution_count": 134,
   "metadata": {
    "collapsed": false
   },
   "outputs": [],
   "source": [
    "if o3_bollwerk > 100:\n",
    "    photo = twitter.upload_media(media=ampel)\n",
    "    twitter.update_status(status=warning, media_ids=[photo['media_id']])"
   ]
  }
 ],
 "metadata": {
  "kernelspec": {
   "display_name": "Python 3",
   "language": "python",
   "name": "python3"
  },
  "language_info": {
   "codemirror_mode": {
    "name": "ipython",
    "version": 3
   },
   "file_extension": ".py",
   "mimetype": "text/x-python",
   "name": "python",
   "nbconvert_exporter": "python",
   "pygments_lexer": "ipython3",
   "version": "3.5.1+"
  }
 },
 "nbformat": 4,
 "nbformat_minor": 0
}
