{
 "cells": [
  {
   "cell_type": "markdown",
   "metadata": {},
   "source": [
    "Graded = 7/10\n",
    "\n",
    "# Homework 6: Web Applications\n",
    "\n",
    "For this homework, you're going to write a web API for the lake data in the MONDIAL database. (Make sure you've imported the data as originally outlined in [our week 1 tutorial](https://github.com/ledeprogram/data-and-databases/blob/master/SQL_notes.md).)\n",
    "\n",
    "The API should perform the following tasks:\n",
    "\n",
    "* A request to `/lakes` should return a JSON list of dictionaries, with the information from the `name`, `elevation`, `area` and `type` fields from the `lake` table in MONDIAL.\n",
    "* The API should recognize the query string parameter `sort`. When left blank or set to `name`, the results should be sorted by the name of the lake (in alphabetical order). When set to `area` or `elevation`, the results should be sorted by the requested field, in *descending* order.\n",
    "* The API should recognize the query string parameter `type`. When specified, the results should *only* include rows that have the specified value in the `type` field.\n",
    "* You should be able to use *both* the `sort` and `type` parameters in any request.\n",
    "\n",
    "This notebook contains only *test requests to your API*. Write the API as a standalone Python program, start the program and then run the code in the cells below to ensure that your API produces the expected output. When you're done, paste the source code in the final cell (so we can check your work, if needed).\n",
    "\n",
    "Hints when writing your API code:\n",
    "\n",
    "* You'll need to construct the SQL query as a string, piece by piece. This will likely involve a somewhat messy tangle of `if` statements. Lean into the messy tangle.\n",
    "* Make sure to use parameter placeholders (%s) in the query.\n",
    "* If you're getting SQL errors, print out your SQL statement in the request handler function so you can debug it. (When you use `print()` in Flask, the results will display in your terminal window.)\n",
    "* When in doubt, return to the test code. Examine it carefully and make sure you know exactly what it's trying to do.\n",
    "\n",
    "## Problem set #1: A list of lakes\n",
    "\n",
    "Your API should return a JSON list of dictionaries (objects). Use the code below to determine what the keys of the dictionaries should be. (For brevity, this example only prints out the first ten records, but of course your API should return all of them.)\n",
    "\n",
    "Expected output:\n",
    "\n",
    "    143 lakes\n",
    "    Ammersee - elevation: 533 m / area: 46 km^2 / type: None\n",
    "    Arresoe - elevation: None m / area: 40 km^2 / type: None\n",
    "    Atlin Lake - elevation: 668 m / area: 798 km^2 / type: None\n",
    "    Balaton - elevation: 104 m / area: 594 km^2 / type: None\n",
    "    Barrage de Mbakaou - elevation: None m / area: None km^2 / type: dam\n",
    "    Bodensee - elevation: 395 m / area: 538 km^2 / type: None\n",
    "    Brienzersee - elevation: 564 m / area: 29 km^2 / type: None\n",
    "    Caspian Sea - elevation: -28 m / area: 386400 km^2 / type: salt\n",
    "    Chad Lake - elevation: 250 m / area: 23000 km^2 / type: salt\n",
    "    Chew Bahir - elevation: 520 m / area: 800 km^2 / type: salt"
   ]
  },
  {
   "cell_type": "code",
   "execution_count": 1,
   "metadata": {
    "collapsed": false
   },
   "outputs": [
    {
     "name": "stdout",
     "output_type": "stream",
     "text": [
      "143 lakes\n",
      "Ammersee - elevation: 533 m / area: 46 km^2 / type: None\n",
      "Arresoe - elevation: None m / area: 40 km^2 / type: None\n",
      "Atlin Lake - elevation: 668 m / area: 798 km^2 / type: None\n",
      "Balaton - elevation: 104 m / area: 594 km^2 / type: None\n",
      "Barrage de Mbakaou - elevation: None m / area: None km^2 / type: dam\n",
      "Bodensee - elevation: 395 m / area: 538 km^2 / type: None\n",
      "Brienzersee - elevation: 564 m / area: 29 km^2 / type: None\n",
      "Caspian Sea - elevation: -28 m / area: 386400 km^2 / type: salt\n",
      "Chad Lake - elevation: 250 m / area: 23000 km^2 / type: salt\n",
      "Chew Bahir - elevation: 520 m / area: 800 km^2 / type: salt\n"
     ]
    }
   ],
   "source": [
    "import requests\n",
    "data = requests.get('http://localhost:5000/lakes').json()\n",
    "print(len(data), \"lakes\")\n",
    "for item in data[:10]:\n",
    "    print(item['name'], \"- elevation:\", item['elevation'], \"m / area:\", item['area'], \"km^2 / type:\", item['type'])"
   ]
  },
  {
   "cell_type": "markdown",
   "metadata": {},
   "source": [
    "## Problem set #2: Lakes of a certain type\n",
    "\n",
    "The following code fetches all lakes of type `salt` and finds their average area and elevation.\n",
    "\n",
    "Expected output:\n",
    "\n",
    "    average area: 18880\n",
    "    average elevation: 970"
   ]
  },
  {
   "cell_type": "code",
   "execution_count": 2,
   "metadata": {
    "collapsed": false
   },
   "outputs": [
    {
     "name": "stdout",
     "output_type": "stream",
     "text": [
      "average area: 18880\n",
      "average elevation: 970\n"
     ]
    }
   ],
   "source": [
    "import requests\n",
    "data = requests.get('http://localhost:5000/lakes?type=salt').json()\n",
    "avg_area = sum([x['area'] for x in data if x['area'] is not None]) / len(data)\n",
    "avg_elev = sum([x['elevation'] for x in data if x['elevation'] is not None]) / len(data)\n",
    "print(\"average area:\", int(avg_area))\n",
    "print(\"average elevation:\", int(avg_elev))"
   ]
  },
  {
   "cell_type": "markdown",
   "metadata": {},
   "source": [
    "## Problem set #3: Lakes in order\n",
    "\n",
    "The following code fetches lakes in reverse order by their elevation and prints out the name of the first fifteen, excluding lakes with an empty elevation field.\n",
    "\n",
    "Expected output:\n",
    "\n",
    "    * Licancabur Crater Lake\n",
    "    * Nam Co\n",
    "    * Lago Junin\n",
    "    * Lake Titicaca\n",
    "    * Poopo\n",
    "    * Salar de Uyuni\n",
    "    * Koli Sarez\n",
    "    * Lake Irazu\n",
    "    * Qinghai Lake\n",
    "    * Segara Anak\n",
    "    * Lake Tahoe\n",
    "    * Crater Lake\n",
    "    * Lake Tana\n",
    "    * Lake Van\n",
    "    * Issyk-Kul"
   ]
  },
  {
   "cell_type": "code",
   "execution_count": 3,
   "metadata": {
    "collapsed": false
   },
   "outputs": [
    {
     "name": "stdout",
     "output_type": "stream",
     "text": [
      "* Licancabur Crater Lake\n",
      "* Nam Co\n",
      "* Lago Junin\n",
      "* Lake Titicaca\n",
      "* Poopo\n",
      "* Salar de Uyuni\n",
      "* Koli Sarez\n",
      "* Lake Irazu\n",
      "* Qinghai Lake\n",
      "* Segara Anak\n",
      "* Lake Tahoe\n",
      "* Crater Lake\n",
      "* Lake Tana\n",
      "* Lake Van\n",
      "* Issyk-Kul\n"
     ]
    }
   ],
   "source": [
    "import requests\n",
    "data = requests.get('http://localhost:5000/lakes?sort=elevation').json()\n",
    "for item in [x['name'] for x in data if x['elevation'] is not None][:15]:\n",
    "    print(\"*\", item)"
   ]
  },
  {
   "cell_type": "markdown",
   "metadata": {},
   "source": [
    "## Problem set #4: Order and type\n",
    "\n",
    "The following code prints the names of the largest caldera lakes, ordered in reverse order by area.\n",
    "\n",
    "Expected output:\n",
    "\n",
    "    * Lake Nyos\n",
    "    * Lake Toba\n",
    "    * Lago Trasimeno\n",
    "    * Lago di Bolsena\n",
    "    * Lago di Bracciano\n",
    "    * Crater Lake\n",
    "    * Segara Anak\n",
    "    * Laacher Maar"
   ]
  },
  {
   "cell_type": "code",
   "execution_count": 4,
   "metadata": {
    "collapsed": false
   },
   "outputs": [
    {
     "name": "stdout",
     "output_type": "stream",
     "text": [
      "* Lake Nyos\n",
      "* Lake Toba\n",
      "* Lago Trasimeno\n",
      "* Lago di Bolsena\n",
      "* Lago di Bracciano\n",
      "* Crater Lake\n",
      "* Segara Anak\n",
      "* Laacher Maar\n"
     ]
    }
   ],
   "source": [
    "import requests\n",
    "data = requests.get('http://localhost:5000/lakes?sort=area&type=caldera').json()\n",
    "for item in data:\n",
    "    print(\"*\", item['name'])"
   ]
  },
  {
   "cell_type": "markdown",
   "metadata": {},
   "source": [
    "## Problem set #5: Error handling\n",
    "\n",
    "Your API should work fine even when faced with potential error-causing inputs. For example, the expected output for this statement is an empty list (`[]`), *not* every row in the table."
   ]
  },
  {
   "cell_type": "code",
   "execution_count": 5,
   "metadata": {
    "collapsed": false
   },
   "outputs": [
    {
     "data": {
      "text/plain": [
       "[{'area': 1040, 'elevation': 119, 'name': 'Inari', 'type': 'None'},\n",
       " {'area': 928, 'elevation': 123, 'name': 'Oulujaervi', 'type': 'None'},\n",
       " {'area': 472, 'elevation': None, 'name': 'Kallavesi', 'type': 'None'},\n",
       " {'area': 4370, 'elevation': 76, 'name': 'Saimaa', 'type': 'None'},\n",
       " {'area': 1118, 'elevation': 78, 'name': 'Paeijaenne', 'type': 'None'},\n",
       " {'area': 368, 'elevation': 123, 'name': 'Mjoesa-See', 'type': 'None'},\n",
       " {'area': 173, 'elevation': 419, 'name': 'Storuman', 'type': 'None'},\n",
       " {'area': 290, 'elevation': 161, 'name': 'Siljan', 'type': 'impact'},\n",
       " {'area': 1140, 'elevation': 0, 'name': 'Maelaren', 'type': 'None'},\n",
       " {'area': 5648, 'elevation': 44, 'name': 'Vaenern', 'type': 'None'},\n",
       " {'area': 1900, 'elevation': 88, 'name': 'Vaettern', 'type': 'None'},\n",
       " {'area': 40, 'elevation': None, 'name': 'Arresoe', 'type': 'None'},\n",
       " {'area': 56, 'elevation': 16, 'name': 'Loch Ness', 'type': 'None'},\n",
       " {'area': 71, 'elevation': 7, 'name': 'Loch Lomond', 'type': 'None'},\n",
       " {'area': 538, 'elevation': 395, 'name': 'Bodensee', 'type': 'None'},\n",
       " {'area': 80, 'elevation': 518, 'name': 'Chiemsee', 'type': 'None'},\n",
       " {'area': 56, 'elevation': 584, 'name': 'Starnberger See', 'type': 'None'},\n",
       " {'area': 46, 'elevation': 533, 'name': 'Ammersee', 'type': 'None'},\n",
       " {'area': 3, 'elevation': 275, 'name': 'Laacher Maar', 'type': 'caldera'},\n",
       " {'area': 581, 'elevation': 372, 'name': 'Lac Leman', 'type': 'None'},\n",
       " {'area': 88, 'elevation': 406, 'name': 'Zurichsee', 'type': 'None'},\n",
       " {'area': 48, 'elevation': 558, 'name': 'Thunersee', 'type': 'None'},\n",
       " {'area': 29, 'elevation': 564, 'name': 'Brienzersee', 'type': 'None'},\n",
       " {'area': 113, 'elevation': 434, 'name': 'Vierwaldstattersee', 'type': 'None'},\n",
       " {'area': 216, 'elevation': 193, 'name': 'Lago Maggiore', 'type': 'None'},\n",
       " {'area': 146, 'elevation': 197, 'name': 'Lago di Como', 'type': 'None'},\n",
       " {'area': 370, 'elevation': 65, 'name': 'Lago di Garda', 'type': 'None'},\n",
       " {'area': 128, 'elevation': 259, 'name': 'Lago Trasimeno', 'type': 'caldera'},\n",
       " {'area': 114, 'elevation': 335, 'name': 'Lago di Bolsena', 'type': 'caldera'},\n",
       " {'area': 57,\n",
       "  'elevation': 164,\n",
       "  'name': 'Lago di Bracciano',\n",
       "  'type': 'caldera'},\n",
       " {'area': 14,\n",
       "  'elevation': 995,\n",
       "  'name': 'Laguna de Gallocanta',\n",
       "  'type': 'None'},\n",
       " {'area': 320, 'elevation': 115, 'name': 'Neusiedlersee', 'type': 'None'},\n",
       " {'area': 594, 'elevation': 104, 'name': 'Balaton', 'type': 'None'},\n",
       " {'area': 368, 'elevation': 7, 'name': 'Lake Skutari', 'type': 'None'},\n",
       " {'area': 273, 'elevation': 849, 'name': 'Lake Prespa', 'type': 'None'},\n",
       " {'area': 367, 'elevation': 695, 'name': 'Lake Ohrid', 'type': 'None'},\n",
       " {'area': 922, 'elevation': None, 'name': 'Kiev Reservoir', 'type': 'dam'},\n",
       " {'area': 2155, 'elevation': 44, 'name': 'Kakhovka Reservoir', 'type': 'dam'},\n",
       " {'area': 2252,\n",
       "  'elevation': 44,\n",
       "  'name': 'Kremenchuk Reservoir',\n",
       "  'type': 'dam'},\n",
       " {'area': 6450, 'elevation': 53, 'name': 'Kuybyshev Reservoir', 'type': 'dam'},\n",
       " {'area': 18400, 'elevation': 4, 'name': 'Ozero Ladoga', 'type': 'None'},\n",
       " {'area': 9616, 'elevation': 33, 'name': 'Ozero Onega', 'type': 'None'},\n",
       " {'area': 3555, 'elevation': 30, 'name': 'Ozero Pskovskoje', 'type': 'None'},\n",
       " {'area': 31492, 'elevation': 455, 'name': 'Ozero Baikal', 'type': 'None'},\n",
       " {'area': 4560, 'elevation': 5, 'name': 'Ozero Taimyr', 'type': 'None'},\n",
       " {'area': 4400, 'elevation': None, 'name': 'Ozero Chanka', 'type': 'None'},\n",
       " {'area': 2500, 'elevation': 10, 'name': 'Ozero Tschany', 'type': 'None'},\n",
       " {'area': 41650, 'elevation': -422, 'name': 'Dead Sea', 'type': 'salt'},\n",
       " {'area': 165, 'elevation': -212, 'name': 'Lake Genezareth', 'type': 'None'},\n",
       " {'area': 3740, 'elevation': 1719, 'name': 'Lake Van', 'type': 'salt'},\n",
       " {'area': 675, 'elevation': None, 'name': 'Lake Keban', 'type': 'None'},\n",
       " {'area': 5470, 'elevation': 1280, 'name': 'Lake Urmia', 'type': 'salt'},\n",
       " {'area': 1800,\n",
       "  'elevation': 790,\n",
       "  'name': 'Daryacheh ye Namak',\n",
       "  'type': 'salt'},\n",
       " {'area': 1600,\n",
       "  'elevation': 500,\n",
       "  'name': 'Hamun e Jaz Murian',\n",
       "  'type': 'salt'},\n",
       " {'area': 386400, 'elevation': -28, 'name': 'Caspian Sea', 'type': 'salt'},\n",
       " {'area': 17160, 'elevation': 31, 'name': 'Ozero Aral', 'type': 'salt'},\n",
       " {'area': 18428, 'elevation': 342, 'name': 'Ozero Balchash', 'type': 'salt'},\n",
       " {'area': 6236, 'elevation': 1609, 'name': 'Issyk-Kul', 'type': 'salt'},\n",
       " {'area': 80, 'elevation': 3250, 'name': 'Koli Sarez', 'type': 'naturaldam'},\n",
       " {'area': 5000, 'elevation': 780, 'name': 'Lop Nor', 'type': 'salt'},\n",
       " {'area': 911, 'elevation': None, 'name': 'Laguna de Bay', 'type': 'None'},\n",
       " {'area': 1103, 'elevation': 905, 'name': 'Lake Toba', 'type': 'caldera'},\n",
       " {'area': 11, 'elevation': 2008, 'name': 'Segara Anak', 'type': 'caldera'},\n",
       " {'area': 4583, 'elevation': 3195, 'name': 'Qinghai Lake', 'type': 'salt'},\n",
       " {'area': 1855, 'elevation': 4718, 'name': 'Nam Co', 'type': 'salt'},\n",
       " {'area': 5250, 'elevation': 183, 'name': 'Lake Nasser', 'type': 'dam'},\n",
       " {'area': 8502, 'elevation': None, 'name': 'Lake Volta', 'type': 'dam'},\n",
       " {'area': 49, 'elevation': 107, 'name': 'Lake Bosumtwi', 'type': 'impact'},\n",
       " {'area': 1243, 'elevation': None, 'name': 'Lake Kainji', 'type': 'dam'},\n",
       " {'area': 23000, 'elevation': 250, 'name': 'Chad Lake', 'type': 'salt'},\n",
       " {'area': None,\n",
       "  'elevation': None,\n",
       "  'name': 'Barrage de Mbakaou',\n",
       "  'type': 'dam'},\n",
       " {'area': None, 'elevation': None, 'name': 'Lake Nyos', 'type': 'caldera'},\n",
       " {'area': 54, 'elevation': -155, 'name': 'Lac Assal', 'type': 'salt'},\n",
       " {'area': 320, 'elevation': 243, 'name': 'Lake Abbe', 'type': 'salt'},\n",
       " {'area': 1285, 'elevation': 619, 'name': 'Lake Abaya', 'type': 'salt'},\n",
       " {'area': 800, 'elevation': 520, 'name': 'Chew Bahir', 'type': 'salt'},\n",
       " {'area': 6405, 'elevation': 375, 'name': 'Lake Turkana', 'type': 'salt'},\n",
       " {'area': 3000, 'elevation': 1830, 'name': 'Lake Tana', 'type': 'None'},\n",
       " {'area': 5347,\n",
       "  'elevation': 619,\n",
       "  'name': 'Lake Sese Seko/Albertsee',\n",
       "  'type': 'None'},\n",
       " {'area': 2325,\n",
       "  'elevation': 920,\n",
       "  'name': 'Rutanzige/Eduardsee',\n",
       "  'type': 'None'},\n",
       " {'area': 1720, 'elevation': 914, 'name': 'Lake Kioga', 'type': 'None'},\n",
       " {'area': 68870, 'elevation': 1134, 'name': 'Lake Victoria', 'type': 'None'},\n",
       " {'area': 2650, 'elevation': 1462, 'name': 'Lake Kivu', 'type': 'None'},\n",
       " {'area': 32893, 'elevation': 782, 'name': 'Lake Tanganjika', 'type': 'None'},\n",
       " {'area': 5120, 'elevation': 931, 'name': 'Lake Mweru', 'type': 'None'},\n",
       " {'area': 10000, 'elevation': 1140, 'name': 'Lake Bangweulu', 'type': 'None'},\n",
       " {'area': 5760, 'elevation': 800, 'name': 'Lake Rukwa', 'type': 'salt'},\n",
       " {'area': 1050, 'elevation': 1030, 'name': 'Lake Eyasi', 'type': 'salt'},\n",
       " {'area': 1040, 'elevation': 600, 'name': 'Lake Natron', 'type': 'salt'},\n",
       " {'area': 29600, 'elevation': 474, 'name': 'Lake Malawi', 'type': 'None'},\n",
       " {'area': 687, 'elevation': 474, 'name': 'Lake Chilwa', 'type': 'salt'},\n",
       " {'area': 8200, 'elevation': 300, 'name': 'Lake Mai Ndombe', 'type': 'None'},\n",
       " {'area': 500, 'elevation': 272, 'name': 'Malebo Pool', 'type': 'None'},\n",
       " {'area': 2800, 'elevation': 326, 'name': 'Lake Cabora-Bassa', 'type': 'dam'},\n",
       " {'area': 5580, 'elevation': None, 'name': 'Lake Kariba', 'type': 'dam'},\n",
       " {'area': 770, 'elevation': None, 'name': 'Lake Ngami', 'type': 'salt'},\n",
       " {'area': 6133, 'elevation': 1000, 'name': 'Etoscha Salt Pan', 'type': 'salt'},\n",
       " {'area': 12000,\n",
       "  'elevation': None,\n",
       "  'name': 'Makarikari Salt Pan',\n",
       "  'type': 'salt'},\n",
       " {'area': 31792, 'elevation': 156, 'name': 'Great Bear Lake', 'type': 'None'},\n",
       " {'area': 28568, 'elevation': 156, 'name': 'Great Slave Lake', 'type': 'None'},\n",
       " {'area': 798, 'elevation': 668, 'name': 'Atlin Lake', 'type': 'None'},\n",
       " {'area': 24420, 'elevation': 218, 'name': 'Lake Winnipeg', 'type': 'None'},\n",
       " {'area': 4848, 'elevation': 260, 'name': 'Lake Nipigon', 'type': 'None'},\n",
       " {'area': 1942,\n",
       "  'elevation': 350,\n",
       "  'name': 'Lake Manicouagan',\n",
       "  'type': 'impact'},\n",
       " {'area': 18960, 'elevation': 75, 'name': 'Lake Ontario', 'type': 'None'},\n",
       " {'area': 25745, 'elevation': 174, 'name': 'Lake Erie', 'type': 'None'},\n",
       " {'area': 59600, 'elevation': 176, 'name': 'Lake Huron', 'type': 'None'},\n",
       " {'area': 104, 'elevation': None, 'name': 'Lake Manitou', 'type': 'None'},\n",
       " {'area': 57800, 'elevation': 176, 'name': 'Lake Michigan', 'type': 'None'},\n",
       " {'area': 82103, 'elevation': 184, 'name': 'Lake Superior', 'type': 'None'},\n",
       " {'area': 1130, 'elevation': 30, 'name': 'Lake Champlain', 'type': 'None'},\n",
       " {'area': 186, 'elevation': 153, 'name': 'Lake Winnipesaukee', 'type': 'None'},\n",
       " {'area': 1890, 'elevation': None, 'name': 'Lake Okeechobee', 'type': 'None'},\n",
       " {'area': 648, 'elevation': None, 'name': 'Kentucky Lake', 'type': 'None'},\n",
       " {'area': 147, 'elevation': None, 'name': 'Chickamauga Lake', 'type': 'None'},\n",
       " {'area': 337,\n",
       "  'elevation': None,\n",
       "  'name': 'Franklin. D. Roosevelt Lake',\n",
       "  'type': 'dam'},\n",
       " {'area': 53, 'elevation': 1883, 'name': 'Crater Lake', 'type': 'caldera'},\n",
       " {'area': 4400, 'elevation': 1279, 'name': 'Great Salt Lake', 'type': 'salt'},\n",
       " {'area': 497, 'elevation': 1900, 'name': 'Lake Tahoe', 'type': 'None'},\n",
       " {'area': 487, 'elevation': 1155, 'name': 'Pyramid Lake', 'type': 'salt'},\n",
       " {'area': 645, 'elevation': 1127, 'name': 'Lake Powell', 'type': 'dam'},\n",
       " {'area': 640, 'elevation': 372, 'name': 'Lake Mead', 'type': 'dam'},\n",
       " {'area': 981, 'elevation': None, 'name': 'Fort Peck Lake', 'type': 'dam'},\n",
       " {'area': 1578, 'elevation': None, 'name': 'Lake Sakakawea', 'type': 'dam'},\n",
       " {'area': 1453, 'elevation': None, 'name': 'Lake Oahe', 'type': 'dam'},\n",
       " {'area': 1685, 'elevation': 1520, 'name': 'Lago de Chapala', 'type': 'None'},\n",
       " {'area': 8157, 'elevation': 31, 'name': 'Lake Nicaragua', 'type': 'None'},\n",
       " {'area': 1035, 'elevation': 39, 'name': 'Lake Managua', 'type': 'None'},\n",
       " {'area': 1, 'elevation': 3200, 'name': 'Lake Irazu', 'type': 'acid'},\n",
       " {'area': 0,\n",
       "  'elevation': None,\n",
       "  'name': 'La Brea Pitch Lake',\n",
       "  'type': 'asphalt'},\n",
       " {'area': 13000, 'elevation': 0, 'name': 'Lake Maracaibo', 'type': 'None'},\n",
       " {'area': 4214,\n",
       "  'elevation': None,\n",
       "  'name': 'Lago de Sobradinho',\n",
       "  'type': 'dam'},\n",
       " {'area': 175, 'elevation': 4082, 'name': 'Lago Junin', 'type': 'None'},\n",
       " {'area': 8372, 'elevation': 3812, 'name': 'Lake Titicaca', 'type': 'None'},\n",
       " {'area': 1340, 'elevation': 3686, 'name': 'Poopo', 'type': 'salt'},\n",
       " {'area': 10582, 'elevation': 3650, 'name': 'Salar de Uyuni', 'type': 'salt'},\n",
       " {'area': 0,\n",
       "  'elevation': 5600,\n",
       "  'name': 'Licancabur Crater Lake',\n",
       "  'type': 'crater'},\n",
       " {'area': 5770,\n",
       "  'elevation': 71,\n",
       "  'name': 'Laguna Mar Chiquita',\n",
       "  'type': 'salt'},\n",
       " {'area': 9500, 'elevation': -17, 'name': 'Lake Eyre', 'type': 'salt'},\n",
       " {'area': 6, 'elevation': 556, 'name': 'Lake Burley Griffin', 'type': 'dam'},\n",
       " {'area': 145, 'elevation': 1200, 'name': 'Lake Eucumbene', 'type': 'dam'},\n",
       " {'area': 30, 'elevation': 915, 'name': 'Lake Jindabyne', 'type': 'dam'},\n",
       " {'area': 202, 'elevation': None, 'name': 'Lake Hume', 'type': 'None'}]"
      ]
     },
     "execution_count": 5,
     "metadata": {},
     "output_type": "execute_result"
    }
   ],
   "source": [
    "import requests\n",
    "data = requests.get('http://localhost:5000/lakes', params={'type': \"' OR true; --\"}).json()\n",
    "data"
   ]
  },
  {
   "cell_type": "markdown",
   "metadata": {},
   "source": [
    "Specifying a field other than `name`, `area` or `elevation` for the `sort` parameter should fail silently, defaulting to sorting alphabetically. Expected output: `['Ammersee', 'Arresoe', 'Atlin Lake', 'Balaton', 'Barrage de Mbakaou']\n",
    "`"
   ]
  },
  {
   "cell_type": "code",
   "execution_count": 6,
   "metadata": {
    "collapsed": false
   },
   "outputs": [
    {
     "ename": "JSONDecodeError",
     "evalue": "Expecting value: line 1 column 1 (char 0)",
     "output_type": "error",
     "traceback": [
      "\u001b[0;31m---------------------------------------------------------------------------\u001b[0m",
      "\u001b[0;31mJSONDecodeError\u001b[0m                           Traceback (most recent call last)",
      "\u001b[0;32m<ipython-input-6-7c63d358f056>\u001b[0m in \u001b[0;36m<module>\u001b[0;34m()\u001b[0m\n\u001b[1;32m      1\u001b[0m \u001b[0;32mimport\u001b[0m \u001b[0mrequests\u001b[0m\u001b[0;34m\u001b[0m\u001b[0m\n\u001b[0;32m----> 2\u001b[0;31m \u001b[0mdata\u001b[0m \u001b[0;34m=\u001b[0m \u001b[0mrequests\u001b[0m\u001b[0;34m.\u001b[0m\u001b[0mget\u001b[0m\u001b[0;34m(\u001b[0m\u001b[0;34m'http://localhost:5000/lakes'\u001b[0m\u001b[0;34m,\u001b[0m \u001b[0mparams\u001b[0m\u001b[0;34m=\u001b[0m\u001b[0;34m{\u001b[0m\u001b[0;34m'sort'\u001b[0m\u001b[0;34m:\u001b[0m \u001b[0;34m\"florb\"\u001b[0m\u001b[0;34m}\u001b[0m\u001b[0;34m)\u001b[0m\u001b[0;34m.\u001b[0m\u001b[0mjson\u001b[0m\u001b[0;34m(\u001b[0m\u001b[0;34m)\u001b[0m\u001b[0;34m\u001b[0m\u001b[0m\n\u001b[0m\u001b[1;32m      3\u001b[0m \u001b[0;34m[\u001b[0m\u001b[0mx\u001b[0m\u001b[0;34m[\u001b[0m\u001b[0;34m'name'\u001b[0m\u001b[0;34m]\u001b[0m \u001b[0;32mfor\u001b[0m \u001b[0mx\u001b[0m \u001b[0;32min\u001b[0m \u001b[0mdata\u001b[0m\u001b[0;34m[\u001b[0m\u001b[0;34m:\u001b[0m\u001b[0;36m5\u001b[0m\u001b[0;34m]\u001b[0m\u001b[0;34m]\u001b[0m\u001b[0;34m\u001b[0m\u001b[0m\n",
      "\u001b[0;32m/Library/Frameworks/Python.framework/Versions/3.5/lib/python3.5/site-packages/requests/models.py\u001b[0m in \u001b[0;36mjson\u001b[0;34m(self, **kwargs)\u001b[0m\n\u001b[1;32m    810\u001b[0m                     \u001b[0;31m# used.\u001b[0m\u001b[0;34m\u001b[0m\u001b[0;34m\u001b[0m\u001b[0m\n\u001b[1;32m    811\u001b[0m                     \u001b[0;32mpass\u001b[0m\u001b[0;34m\u001b[0m\u001b[0m\n\u001b[0;32m--> 812\u001b[0;31m         \u001b[0;32mreturn\u001b[0m \u001b[0mcomplexjson\u001b[0m\u001b[0;34m.\u001b[0m\u001b[0mloads\u001b[0m\u001b[0;34m(\u001b[0m\u001b[0mself\u001b[0m\u001b[0;34m.\u001b[0m\u001b[0mtext\u001b[0m\u001b[0;34m,\u001b[0m \u001b[0;34m**\u001b[0m\u001b[0mkwargs\u001b[0m\u001b[0;34m)\u001b[0m\u001b[0;34m\u001b[0m\u001b[0m\n\u001b[0m\u001b[1;32m    813\u001b[0m \u001b[0;34m\u001b[0m\u001b[0m\n\u001b[1;32m    814\u001b[0m     \u001b[0;34m@\u001b[0m\u001b[0mproperty\u001b[0m\u001b[0;34m\u001b[0m\u001b[0m\n",
      "\u001b[0;32m/Library/Frameworks/Python.framework/Versions/3.5/lib/python3.5/json/__init__.py\u001b[0m in \u001b[0;36mloads\u001b[0;34m(s, encoding, cls, object_hook, parse_float, parse_int, parse_constant, object_pairs_hook, **kw)\u001b[0m\n\u001b[1;32m    317\u001b[0m             \u001b[0mparse_int\u001b[0m \u001b[0;32mis\u001b[0m \u001b[0;32mNone\u001b[0m \u001b[0;32mand\u001b[0m \u001b[0mparse_float\u001b[0m \u001b[0;32mis\u001b[0m \u001b[0;32mNone\u001b[0m \u001b[0;32mand\u001b[0m\u001b[0;34m\u001b[0m\u001b[0m\n\u001b[1;32m    318\u001b[0m             parse_constant is None and object_pairs_hook is None and not kw):\n\u001b[0;32m--> 319\u001b[0;31m         \u001b[0;32mreturn\u001b[0m \u001b[0m_default_decoder\u001b[0m\u001b[0;34m.\u001b[0m\u001b[0mdecode\u001b[0m\u001b[0;34m(\u001b[0m\u001b[0ms\u001b[0m\u001b[0;34m)\u001b[0m\u001b[0;34m\u001b[0m\u001b[0m\n\u001b[0m\u001b[1;32m    320\u001b[0m     \u001b[0;32mif\u001b[0m \u001b[0mcls\u001b[0m \u001b[0;32mis\u001b[0m \u001b[0;32mNone\u001b[0m\u001b[0;34m:\u001b[0m\u001b[0;34m\u001b[0m\u001b[0m\n\u001b[1;32m    321\u001b[0m         \u001b[0mcls\u001b[0m \u001b[0;34m=\u001b[0m \u001b[0mJSONDecoder\u001b[0m\u001b[0;34m\u001b[0m\u001b[0m\n",
      "\u001b[0;32m/Library/Frameworks/Python.framework/Versions/3.5/lib/python3.5/json/decoder.py\u001b[0m in \u001b[0;36mdecode\u001b[0;34m(self, s, _w)\u001b[0m\n\u001b[1;32m    337\u001b[0m \u001b[0;34m\u001b[0m\u001b[0m\n\u001b[1;32m    338\u001b[0m         \"\"\"\n\u001b[0;32m--> 339\u001b[0;31m         \u001b[0mobj\u001b[0m\u001b[0;34m,\u001b[0m \u001b[0mend\u001b[0m \u001b[0;34m=\u001b[0m \u001b[0mself\u001b[0m\u001b[0;34m.\u001b[0m\u001b[0mraw_decode\u001b[0m\u001b[0;34m(\u001b[0m\u001b[0ms\u001b[0m\u001b[0;34m,\u001b[0m \u001b[0midx\u001b[0m\u001b[0;34m=\u001b[0m\u001b[0m_w\u001b[0m\u001b[0;34m(\u001b[0m\u001b[0ms\u001b[0m\u001b[0;34m,\u001b[0m \u001b[0;36m0\u001b[0m\u001b[0;34m)\u001b[0m\u001b[0;34m.\u001b[0m\u001b[0mend\u001b[0m\u001b[0;34m(\u001b[0m\u001b[0;34m)\u001b[0m\u001b[0;34m)\u001b[0m\u001b[0;34m\u001b[0m\u001b[0m\n\u001b[0m\u001b[1;32m    340\u001b[0m         \u001b[0mend\u001b[0m \u001b[0;34m=\u001b[0m \u001b[0m_w\u001b[0m\u001b[0;34m(\u001b[0m\u001b[0ms\u001b[0m\u001b[0;34m,\u001b[0m \u001b[0mend\u001b[0m\u001b[0;34m)\u001b[0m\u001b[0;34m.\u001b[0m\u001b[0mend\u001b[0m\u001b[0;34m(\u001b[0m\u001b[0;34m)\u001b[0m\u001b[0;34m\u001b[0m\u001b[0m\n\u001b[1;32m    341\u001b[0m         \u001b[0;32mif\u001b[0m \u001b[0mend\u001b[0m \u001b[0;34m!=\u001b[0m \u001b[0mlen\u001b[0m\u001b[0;34m(\u001b[0m\u001b[0ms\u001b[0m\u001b[0;34m)\u001b[0m\u001b[0;34m:\u001b[0m\u001b[0;34m\u001b[0m\u001b[0m\n",
      "\u001b[0;32m/Library/Frameworks/Python.framework/Versions/3.5/lib/python3.5/json/decoder.py\u001b[0m in \u001b[0;36mraw_decode\u001b[0;34m(self, s, idx)\u001b[0m\n\u001b[1;32m    355\u001b[0m             \u001b[0mobj\u001b[0m\u001b[0;34m,\u001b[0m \u001b[0mend\u001b[0m \u001b[0;34m=\u001b[0m \u001b[0mself\u001b[0m\u001b[0;34m.\u001b[0m\u001b[0mscan_once\u001b[0m\u001b[0;34m(\u001b[0m\u001b[0ms\u001b[0m\u001b[0;34m,\u001b[0m \u001b[0midx\u001b[0m\u001b[0;34m)\u001b[0m\u001b[0;34m\u001b[0m\u001b[0m\n\u001b[1;32m    356\u001b[0m         \u001b[0;32mexcept\u001b[0m \u001b[0mStopIteration\u001b[0m \u001b[0;32mas\u001b[0m \u001b[0merr\u001b[0m\u001b[0;34m:\u001b[0m\u001b[0;34m\u001b[0m\u001b[0m\n\u001b[0;32m--> 357\u001b[0;31m             \u001b[0;32mraise\u001b[0m \u001b[0mJSONDecodeError\u001b[0m\u001b[0;34m(\u001b[0m\u001b[0;34m\"Expecting value\"\u001b[0m\u001b[0;34m,\u001b[0m \u001b[0ms\u001b[0m\u001b[0;34m,\u001b[0m \u001b[0merr\u001b[0m\u001b[0;34m.\u001b[0m\u001b[0mvalue\u001b[0m\u001b[0;34m)\u001b[0m \u001b[0;32mfrom\u001b[0m \u001b[0;32mNone\u001b[0m\u001b[0;34m\u001b[0m\u001b[0m\n\u001b[0m\u001b[1;32m    358\u001b[0m         \u001b[0;32mreturn\u001b[0m \u001b[0mobj\u001b[0m\u001b[0;34m,\u001b[0m \u001b[0mend\u001b[0m\u001b[0;34m\u001b[0m\u001b[0m\n",
      "\u001b[0;31mJSONDecodeError\u001b[0m: Expecting value: line 1 column 1 (char 0)"
     ]
    }
   ],
   "source": [
    "import requests\n",
    "data = requests.get('http://localhost:5000/lakes', params={'sort': \"florb\"}).json()\n",
    "[x['name'] for x in data[:5]]"
   ]
  },
  {
   "cell_type": "markdown",
   "metadata": {},
   "source": [
    "## Paste your code\n",
    "\n",
    "Please paste the code for your entire Flask application in the cell below, in case we want to take a look when grading or debugging your assignment."
   ]
  },
  {
   "cell_type": "code",
   "execution_count": 75,
   "metadata": {
    "collapsed": false
   },
   "outputs": [
    {
     "ename": "OSError",
     "evalue": "[Errno 98] Address already in use",
     "output_type": "error",
     "traceback": [
      "\u001b[1;31m---------------------------------------------------------------------------\u001b[0m",
      "\u001b[1;31mOSError\u001b[0m                                   Traceback (most recent call last)",
      "\u001b[1;32m<ipython-input-75-35fbe91ca37a>\u001b[0m in \u001b[0;36m<module>\u001b[1;34m()\u001b[0m\n\u001b[0;32m     83\u001b[0m         \u001b[1;32mreturn\u001b[0m \u001b[0moutput\u001b[0m\u001b[1;33m\u001b[0m\u001b[0m\n\u001b[0;32m     84\u001b[0m \u001b[1;33m\u001b[0m\u001b[0m\n\u001b[1;32m---> 85\u001b[1;33m \u001b[0mapp\u001b[0m\u001b[1;33m.\u001b[0m\u001b[0mrun\u001b[0m\u001b[1;33m(\u001b[0m\u001b[1;33m)\u001b[0m\u001b[1;33m\u001b[0m\u001b[0m\n\u001b[0m",
      "\u001b[1;32m/usr/local/lib/python3.5/dist-packages/flask/app.py\u001b[0m in \u001b[0;36mrun\u001b[1;34m(self, host, port, debug, **options)\u001b[0m\n\u001b[0;32m    841\u001b[0m         \u001b[0moptions\u001b[0m\u001b[1;33m.\u001b[0m\u001b[0msetdefault\u001b[0m\u001b[1;33m(\u001b[0m\u001b[1;34m'passthrough_errors'\u001b[0m\u001b[1;33m,\u001b[0m \u001b[1;32mTrue\u001b[0m\u001b[1;33m)\u001b[0m\u001b[1;33m\u001b[0m\u001b[0m\n\u001b[0;32m    842\u001b[0m         \u001b[1;32mtry\u001b[0m\u001b[1;33m:\u001b[0m\u001b[1;33m\u001b[0m\u001b[0m\n\u001b[1;32m--> 843\u001b[1;33m             \u001b[0mrun_simple\u001b[0m\u001b[1;33m(\u001b[0m\u001b[0mhost\u001b[0m\u001b[1;33m,\u001b[0m \u001b[0mport\u001b[0m\u001b[1;33m,\u001b[0m \u001b[0mself\u001b[0m\u001b[1;33m,\u001b[0m \u001b[1;33m**\u001b[0m\u001b[0moptions\u001b[0m\u001b[1;33m)\u001b[0m\u001b[1;33m\u001b[0m\u001b[0m\n\u001b[0m\u001b[0;32m    844\u001b[0m         \u001b[1;32mfinally\u001b[0m\u001b[1;33m:\u001b[0m\u001b[1;33m\u001b[0m\u001b[0m\n\u001b[0;32m    845\u001b[0m             \u001b[1;31m# reset the first request information if the development server\u001b[0m\u001b[1;33m\u001b[0m\u001b[1;33m\u001b[0m\u001b[0m\n",
      "\u001b[1;32m/usr/local/lib/python3.5/dist-packages/werkzeug/serving.py\u001b[0m in \u001b[0;36mrun_simple\u001b[1;34m(hostname, port, application, use_reloader, use_debugger, use_evalex, extra_files, reloader_interval, reloader_type, threaded, processes, request_handler, static_files, passthrough_errors, ssl_context)\u001b[0m\n\u001b[0;32m    692\u001b[0m                           reloader_type)\n\u001b[0;32m    693\u001b[0m     \u001b[1;32melse\u001b[0m\u001b[1;33m:\u001b[0m\u001b[1;33m\u001b[0m\u001b[0m\n\u001b[1;32m--> 694\u001b[1;33m         \u001b[0minner\u001b[0m\u001b[1;33m(\u001b[0m\u001b[1;33m)\u001b[0m\u001b[1;33m\u001b[0m\u001b[0m\n\u001b[0m\u001b[0;32m    695\u001b[0m \u001b[1;33m\u001b[0m\u001b[0m\n\u001b[0;32m    696\u001b[0m \u001b[1;33m\u001b[0m\u001b[0m\n",
      "\u001b[1;32m/usr/local/lib/python3.5/dist-packages/werkzeug/serving.py\u001b[0m in \u001b[0;36minner\u001b[1;34m()\u001b[0m\n\u001b[0;32m    654\u001b[0m                           \u001b[0mprocesses\u001b[0m\u001b[1;33m,\u001b[0m \u001b[0mrequest_handler\u001b[0m\u001b[1;33m,\u001b[0m\u001b[1;33m\u001b[0m\u001b[0m\n\u001b[0;32m    655\u001b[0m                           \u001b[0mpassthrough_errors\u001b[0m\u001b[1;33m,\u001b[0m \u001b[0mssl_context\u001b[0m\u001b[1;33m,\u001b[0m\u001b[1;33m\u001b[0m\u001b[0m\n\u001b[1;32m--> 656\u001b[1;33m                           fd=fd)\n\u001b[0m\u001b[0;32m    657\u001b[0m         \u001b[1;32mif\u001b[0m \u001b[0mfd\u001b[0m \u001b[1;32mis\u001b[0m \u001b[1;32mNone\u001b[0m\u001b[1;33m:\u001b[0m\u001b[1;33m\u001b[0m\u001b[0m\n\u001b[0;32m    658\u001b[0m             \u001b[0mlog_startup\u001b[0m\u001b[1;33m(\u001b[0m\u001b[0msrv\u001b[0m\u001b[1;33m.\u001b[0m\u001b[0msocket\u001b[0m\u001b[1;33m)\u001b[0m\u001b[1;33m\u001b[0m\u001b[0m\n",
      "\u001b[1;32m/usr/local/lib/python3.5/dist-packages/werkzeug/serving.py\u001b[0m in \u001b[0;36mmake_server\u001b[1;34m(host, port, app, threaded, processes, request_handler, passthrough_errors, ssl_context, fd)\u001b[0m\n\u001b[0;32m    548\u001b[0m     \u001b[1;32melse\u001b[0m\u001b[1;33m:\u001b[0m\u001b[1;33m\u001b[0m\u001b[0m\n\u001b[0;32m    549\u001b[0m         return BaseWSGIServer(host, port, app, request_handler,\n\u001b[1;32m--> 550\u001b[1;33m                               passthrough_errors, ssl_context, fd=fd)\n\u001b[0m\u001b[0;32m    551\u001b[0m \u001b[1;33m\u001b[0m\u001b[0m\n\u001b[0;32m    552\u001b[0m \u001b[1;33m\u001b[0m\u001b[0m\n",
      "\u001b[1;32m/usr/local/lib/python3.5/dist-packages/werkzeug/serving.py\u001b[0m in \u001b[0;36m__init__\u001b[1;34m(self, host, port, app, handler, passthrough_errors, ssl_context, fd)\u001b[0m\n\u001b[0;32m    462\u001b[0m                                       socket.SOCK_STREAM)\n\u001b[0;32m    463\u001b[0m             \u001b[0mport\u001b[0m \u001b[1;33m=\u001b[0m \u001b[1;36m0\u001b[0m\u001b[1;33m\u001b[0m\u001b[0m\n\u001b[1;32m--> 464\u001b[1;33m         \u001b[0mHTTPServer\u001b[0m\u001b[1;33m.\u001b[0m\u001b[0m__init__\u001b[0m\u001b[1;33m(\u001b[0m\u001b[0mself\u001b[0m\u001b[1;33m,\u001b[0m \u001b[1;33m(\u001b[0m\u001b[0mhost\u001b[0m\u001b[1;33m,\u001b[0m \u001b[0mint\u001b[0m\u001b[1;33m(\u001b[0m\u001b[0mport\u001b[0m\u001b[1;33m)\u001b[0m\u001b[1;33m)\u001b[0m\u001b[1;33m,\u001b[0m \u001b[0mhandler\u001b[0m\u001b[1;33m)\u001b[0m\u001b[1;33m\u001b[0m\u001b[0m\n\u001b[0m\u001b[0;32m    465\u001b[0m         \u001b[0mself\u001b[0m\u001b[1;33m.\u001b[0m\u001b[0mapp\u001b[0m \u001b[1;33m=\u001b[0m \u001b[0mapp\u001b[0m\u001b[1;33m\u001b[0m\u001b[0m\n\u001b[0;32m    466\u001b[0m         \u001b[0mself\u001b[0m\u001b[1;33m.\u001b[0m\u001b[0mpassthrough_errors\u001b[0m \u001b[1;33m=\u001b[0m \u001b[0mpassthrough_errors\u001b[0m\u001b[1;33m\u001b[0m\u001b[0m\n",
      "\u001b[1;32m/usr/lib/python3.5/socketserver.py\u001b[0m in \u001b[0;36m__init__\u001b[1;34m(self, server_address, RequestHandlerClass, bind_and_activate)\u001b[0m\n\u001b[0;32m    438\u001b[0m         \u001b[1;32mif\u001b[0m \u001b[0mbind_and_activate\u001b[0m\u001b[1;33m:\u001b[0m\u001b[1;33m\u001b[0m\u001b[0m\n\u001b[0;32m    439\u001b[0m             \u001b[1;32mtry\u001b[0m\u001b[1;33m:\u001b[0m\u001b[1;33m\u001b[0m\u001b[0m\n\u001b[1;32m--> 440\u001b[1;33m                 \u001b[0mself\u001b[0m\u001b[1;33m.\u001b[0m\u001b[0mserver_bind\u001b[0m\u001b[1;33m(\u001b[0m\u001b[1;33m)\u001b[0m\u001b[1;33m\u001b[0m\u001b[0m\n\u001b[0m\u001b[0;32m    441\u001b[0m                 \u001b[0mself\u001b[0m\u001b[1;33m.\u001b[0m\u001b[0mserver_activate\u001b[0m\u001b[1;33m(\u001b[0m\u001b[1;33m)\u001b[0m\u001b[1;33m\u001b[0m\u001b[0m\n\u001b[0;32m    442\u001b[0m             \u001b[1;32mexcept\u001b[0m\u001b[1;33m:\u001b[0m\u001b[1;33m\u001b[0m\u001b[0m\n",
      "\u001b[1;32m/usr/lib/python3.5/http/server.py\u001b[0m in \u001b[0;36mserver_bind\u001b[1;34m(self)\u001b[0m\n\u001b[0;32m    136\u001b[0m     \u001b[1;32mdef\u001b[0m \u001b[0mserver_bind\u001b[0m\u001b[1;33m(\u001b[0m\u001b[0mself\u001b[0m\u001b[1;33m)\u001b[0m\u001b[1;33m:\u001b[0m\u001b[1;33m\u001b[0m\u001b[0m\n\u001b[0;32m    137\u001b[0m         \u001b[1;34m\"\"\"Override server_bind to store the server name.\"\"\"\u001b[0m\u001b[1;33m\u001b[0m\u001b[0m\n\u001b[1;32m--> 138\u001b[1;33m         \u001b[0msocketserver\u001b[0m\u001b[1;33m.\u001b[0m\u001b[0mTCPServer\u001b[0m\u001b[1;33m.\u001b[0m\u001b[0mserver_bind\u001b[0m\u001b[1;33m(\u001b[0m\u001b[0mself\u001b[0m\u001b[1;33m)\u001b[0m\u001b[1;33m\u001b[0m\u001b[0m\n\u001b[0m\u001b[0;32m    139\u001b[0m         \u001b[0mhost\u001b[0m\u001b[1;33m,\u001b[0m \u001b[0mport\u001b[0m \u001b[1;33m=\u001b[0m \u001b[0mself\u001b[0m\u001b[1;33m.\u001b[0m\u001b[0msocket\u001b[0m\u001b[1;33m.\u001b[0m\u001b[0mgetsockname\u001b[0m\u001b[1;33m(\u001b[0m\u001b[1;33m)\u001b[0m\u001b[1;33m[\u001b[0m\u001b[1;33m:\u001b[0m\u001b[1;36m2\u001b[0m\u001b[1;33m]\u001b[0m\u001b[1;33m\u001b[0m\u001b[0m\n\u001b[0;32m    140\u001b[0m         \u001b[0mself\u001b[0m\u001b[1;33m.\u001b[0m\u001b[0mserver_name\u001b[0m \u001b[1;33m=\u001b[0m \u001b[0msocket\u001b[0m\u001b[1;33m.\u001b[0m\u001b[0mgetfqdn\u001b[0m\u001b[1;33m(\u001b[0m\u001b[0mhost\u001b[0m\u001b[1;33m)\u001b[0m\u001b[1;33m\u001b[0m\u001b[0m\n",
      "\u001b[1;32m/usr/lib/python3.5/socketserver.py\u001b[0m in \u001b[0;36mserver_bind\u001b[1;34m(self)\u001b[0m\n\u001b[0;32m    452\u001b[0m         \u001b[1;32mif\u001b[0m \u001b[0mself\u001b[0m\u001b[1;33m.\u001b[0m\u001b[0mallow_reuse_address\u001b[0m\u001b[1;33m:\u001b[0m\u001b[1;33m\u001b[0m\u001b[0m\n\u001b[0;32m    453\u001b[0m             \u001b[0mself\u001b[0m\u001b[1;33m.\u001b[0m\u001b[0msocket\u001b[0m\u001b[1;33m.\u001b[0m\u001b[0msetsockopt\u001b[0m\u001b[1;33m(\u001b[0m\u001b[0msocket\u001b[0m\u001b[1;33m.\u001b[0m\u001b[0mSOL_SOCKET\u001b[0m\u001b[1;33m,\u001b[0m \u001b[0msocket\u001b[0m\u001b[1;33m.\u001b[0m\u001b[0mSO_REUSEADDR\u001b[0m\u001b[1;33m,\u001b[0m \u001b[1;36m1\u001b[0m\u001b[1;33m)\u001b[0m\u001b[1;33m\u001b[0m\u001b[0m\n\u001b[1;32m--> 454\u001b[1;33m         \u001b[0mself\u001b[0m\u001b[1;33m.\u001b[0m\u001b[0msocket\u001b[0m\u001b[1;33m.\u001b[0m\u001b[0mbind\u001b[0m\u001b[1;33m(\u001b[0m\u001b[0mself\u001b[0m\u001b[1;33m.\u001b[0m\u001b[0mserver_address\u001b[0m\u001b[1;33m)\u001b[0m\u001b[1;33m\u001b[0m\u001b[0m\n\u001b[0m\u001b[0;32m    455\u001b[0m         \u001b[0mself\u001b[0m\u001b[1;33m.\u001b[0m\u001b[0mserver_address\u001b[0m \u001b[1;33m=\u001b[0m \u001b[0mself\u001b[0m\u001b[1;33m.\u001b[0m\u001b[0msocket\u001b[0m\u001b[1;33m.\u001b[0m\u001b[0mgetsockname\u001b[0m\u001b[1;33m(\u001b[0m\u001b[1;33m)\u001b[0m\u001b[1;33m\u001b[0m\u001b[0m\n\u001b[0;32m    456\u001b[0m \u001b[1;33m\u001b[0m\u001b[0m\n",
      "\u001b[1;31mOSError\u001b[0m: [Errno 98] Address already in use"
     ]
    }
   ],
   "source": [
    "from flask import Flask, jsonify, request\n",
    "import pg8000\n",
    "\n",
    "app = Flask(__name__)\n",
    "conn = pg8000.connect(database=\"mondial\", user='postgres', password='strongpassword')\n",
    "\n",
    "# Main function: Getting all the lakes.\n",
    "@app.route('/lakes')\n",
    "def get_lakes():\n",
    "    output = []\n",
    "    cursor = conn.cursor()\n",
    "    lake_type = request.args.get('type', '')\n",
    "    lake_sort = request.args.get('sort', '')\n",
    "    if lake_type !='' and lake_sort !='':\n",
    "        cursor.execute(\"SELECT name, elevation, area, type FROM lake WHERE type=\\'\" + lake_type + \"\\' ORDER BY \" + lake_sort + \" DESC\")\n",
    "#        cursor.execute(\"SELECT name, elevation, area, type FROM lake WHERE type={} ORDER BY {} DESC\".format(lake_type, lake_sort))\n",
    "    elif lake_type != '':\n",
    "        cursor.execute(\"SELECT name, elevation, area, type FROM lake WHERE type=\\'\" + lake_type + \"\\'\")\n",
    "#        cursor.execute(\"SELECT name, elevation, area, type FROM lake WHERE type={}\".format(lake_type))\n",
    "    elif lake_sort != '':\n",
    "        print(lake_sort)\n",
    "        cursor.execute(\"SELECT name, elevation, area, type FROM lake ORDER BY \" + lake_sort + \" DESC\")\n",
    "#        cursor.execute(\"SELECT name, elevation, area, type FROM lake ORDER BY {} DESC\".format(lake_sort))\n",
    "#        cursor.execute(\"SELECT name, elevation, area, type FROM lake ORDER BY \" + lake_sort + \" DESC\") #, [lake_sort])\n",
    "    else:\n",
    "        cursor.execute(\"SELECT name, elevation, area, type FROM lake ORDER BY name\")\n",
    "    for item in cursor.fetchall():\n",
    "        temp_lake = {}\n",
    "        temp_lake['name'] = item[0]\n",
    "        temp_lake['elevation'] = to_int(item[1])\n",
    "        temp_lake['area'] = to_int(item[2])\n",
    "        temp_lake['type'] = to_str(item[3])\n",
    "        output.append(temp_lake)\n",
    "    return jsonify(output)\n",
    "\n",
    "# Function to convert values from the database into integers.\n",
    "def to_int(number):\n",
    "    try:\n",
    "        return int(number)\n",
    "    except:\n",
    "        return None\n",
    "\n",
    "# Function to convert values from the database into strings.\n",
    "def to_str(string):\n",
    "    try:\n",
    "        return str(string)\n",
    "    except:\n",
    "        return None\n",
    "\n",
    "app.run()\n",
    "# cursor.execute(\"SELECT name, elevation, area, type FROM lake\")\n"
   ]
  },
  {
   "cell_type": "markdown",
   "metadata": {
    "collapsed": true
   },
   "source": [
    "# Textblog"
   ]
  },
  {
   "cell_type": "code",
   "execution_count": 1,
   "metadata": {
    "collapsed": true
   },
   "outputs": [],
   "source": [
    "from textblob import TextBlob"
   ]
  },
  {
   "cell_type": "code",
   "execution_count": 2,
   "metadata": {
    "collapsed": true
   },
   "outputs": [],
   "source": [
    "blob = TextBlob(\"He will not see me stopping here. I will talk. And I will not stop until everything is said.\")"
   ]
  },
  {
   "cell_type": "code",
   "execution_count": 3,
   "metadata": {
    "collapsed": false
   },
   "outputs": [
    {
     "name": "stdout",
     "output_type": "stream",
     "text": [
      "He will not see me stopping here.\n",
      "I will talk.\n",
      "And I will not stop until everything is said.\n"
     ]
    }
   ],
   "source": [
    "for item in blob.sentences:\n",
    "    print(item)"
   ]
  },
  {
   "cell_type": "code",
   "execution_count": 4,
   "metadata": {
    "collapsed": true
   },
   "outputs": [],
   "source": [
    "blob_de = TextBlob(\"Hier steht ein Text in deutscher Sprache. Ich versuche damit herauszufinden, ob Textblog auch mit nicht-englischen Sprachen zurecht kommt.\") "
   ]
  },
  {
   "cell_type": "code",
   "execution_count": 5,
   "metadata": {
    "collapsed": false
   },
   "outputs": [
    {
     "name": "stdout",
     "output_type": "stream",
     "text": [
      "Hier steht ein Text in deutscher Sprache.\n",
      "Ich versuche damit herauszufinden, ob Textblog auch mit nicht-englischen Sprachen zurecht kommt.\n"
     ]
    }
   ],
   "source": [
    "for item in blob_de.sentences:\n",
    "    print(item)"
   ]
  },
  {
   "cell_type": "code",
   "execution_count": 10,
   "metadata": {
    "collapsed": false
   },
   "outputs": [],
   "source": [
    "for item in blob.noun_phrases:\n",
    "    print(item)\n"
   ]
  },
  {
   "cell_type": "code",
   "execution_count": null,
   "metadata": {
    "collapsed": true
   },
   "outputs": [],
   "source": []
  }
 ],
 "metadata": {
  "kernelspec": {
   "display_name": "Python 3",
   "language": "python",
   "name": "python3"
  },
  "language_info": {
   "codemirror_mode": {
    "name": "ipython",
    "version": 3
   },
   "file_extension": ".py",
   "mimetype": "text/x-python",
   "name": "python",
   "nbconvert_exporter": "python",
   "pygments_lexer": "ipython3",
   "version": "3.5.1"
  }
 },
 "nbformat": 4,
 "nbformat_minor": 0
}
